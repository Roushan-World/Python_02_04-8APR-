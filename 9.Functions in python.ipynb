{
 "cells": [
  {
   "cell_type": "markdown",
   "id": "ab0e2ca1-8505-47ac-8a46-9cbf7599f273",
   "metadata": {},
   "source": [
    "# 9. Functions in python\n",
    "\n",
    " * __In python a function is a group of related statements that perform a specific task.__\n",
    " * __Functions help break our program into smaller and modular chunks. As our program grows larger and larger, functions make it more organized and manageable.__\n",
    " * __Furthermore, it avoids repetition and makes the code reusable.__\n",
    " * __There are two types of functions.__\n",
    " * __Pre-defined functions.__\n",
    " * __User-defined functions.__\n",
    " * __In python a function is defined using the def keyword followed by the function name and parentheses().__\n",
    " * __Keyword def that marks the start of the function header.__\n",
    " * __Function naming follows the same rule of writing identifers in Python.__\n",
    " * __Parameters(arguments) through which we pass value of the functions.But they are optional__\n",
    " * __A colon(:) to mark the end of the function header.__\n",
    " * __Optional documentation string(docstring) to describe what the function does.__\n",
    " * __One or more valid python statements that make up the function body.__\n",
    " * __Statements must have the same indentation level(which including 4 spaces or 1 Tab).__\n",
    " * __An optional return statement to return a value from the function.__"
   ]
  },
  {
   "cell_type": "code",
   "execution_count": 1,
   "id": "5d77966d-174a-4c44-9484-0635ccd1f560",
   "metadata": {},
   "outputs": [
    {
     "name": "stdout",
     "output_type": "stream",
     "text": [
      "3.12.2 (tags/v3.12.2:6abddd9, Feb  6 2024, 21:26:36) [MSC v.1937 64 bit (AMD64)]\n"
     ]
    }
   ],
   "source": [
    "import sys\n",
    "print(sys.version)"
   ]
  },
  {
   "cell_type": "code",
   "execution_count": 2,
   "id": "2dff0cc0-079e-40ff-b6a9-10ce39f32fed",
   "metadata": {},
   "outputs": [
    {
     "name": "stdout",
     "output_type": "stream",
     "text": [
      "Hello world\n"
     ]
    }
   ],
   "source": [
    "print('Hello world')"
   ]
  },
  {
   "cell_type": "code",
   "execution_count": 19,
   "id": "98c0c146-befc-48cd-a179-a4e1da03f62b",
   "metadata": {},
   "outputs": [
    {
     "ename": "TypeError",
     "evalue": "sum1() missing 1 required positional argument: 'y'",
     "output_type": "error",
     "traceback": [
      "\u001b[1;31m---------------------------------------------------------------------------\u001b[0m",
      "\u001b[1;31mTypeError\u001b[0m                                 Traceback (most recent call last)",
      "Cell \u001b[1;32mIn[19], line 7\u001b[0m\n\u001b[0;32m      4\u001b[0m     y3\u001b[38;5;241m=\u001b[39mx\u001b[38;5;241m+\u001b[39m\u001b[38;5;241m40\u001b[39m\n\u001b[0;32m      5\u001b[0m     \u001b[38;5;28;01mreturn\u001b[39;00m y1,y2,y3\n\u001b[1;32m----> 7\u001b[0m \u001b[43msum1\u001b[49m\u001b[43m(\u001b[49m\u001b[38;5;241;43m2\u001b[39;49m\u001b[43m)\u001b[49m\n",
      "\u001b[1;31mTypeError\u001b[0m: sum1() missing 1 required positional argument: 'y'"
     ]
    }
   ],
   "source": [
    "def sum1(x,y):\n",
    "    y1=x+10\n",
    "    y2=x+30\n",
    "    y3=x+40\n",
    "    return y1,y2,y3\n",
    "\n",
    "sum1(2)"
   ]
  },
  {
   "cell_type": "code",
   "execution_count": 8,
   "id": "f9682983-18ca-4ac1-938f-09022e826017",
   "metadata": {},
   "outputs": [
    {
     "data": {
      "text/plain": [
       "(30, 50, 60)"
      ]
     },
     "execution_count": 8,
     "metadata": {},
     "output_type": "execute_result"
    }
   ],
   "source": [
    "sum1(20)"
   ]
  },
  {
   "cell_type": "code",
   "execution_count": 10,
   "id": "56148a74-06b3-4df9-8bcb-e41216d441e2",
   "metadata": {},
   "outputs": [
    {
     "data": {
      "text/plain": [
       "(35, 55, 65)"
      ]
     },
     "execution_count": 10,
     "metadata": {},
     "output_type": "execute_result"
    }
   ],
   "source": [
    "sum1(25)"
   ]
  },
  {
   "cell_type": "code",
   "execution_count": 11,
   "id": "e10d795d-5839-482c-b7e6-fa8021ad06de",
   "metadata": {},
   "outputs": [
    {
     "name": "stdout",
     "output_type": "stream",
     "text": [
      "hello wold\n"
     ]
    }
   ],
   "source": [
    "print('hello world')"
   ]
  },
  {
   "cell_type": "code",
   "execution_count": 12,
   "id": "99d10f9d-c649-4511-acae-86feaf48cc8e",
   "metadata": {},
   "outputs": [
    {
     "name": "stdout",
     "output_type": "stream",
     "text": [
      "Hello wodld\n"
     ]
    }
   ],
   "source": [
    "print('Hello wodld')"
   ]
  },
  {
   "cell_type": "code",
   "execution_count": 13,
   "id": "09d0be74-1a22-40cd-b524-1bcad0fbb2f6",
   "metadata": {},
   "outputs": [
    {
     "data": {
      "text/plain": [
       "(50, 70, 80)"
      ]
     },
     "execution_count": 13,
     "metadata": {},
     "output_type": "execute_result"
    }
   ],
   "source": [
    "sum1(40)"
   ]
  },
  {
   "cell_type": "code",
   "execution_count": 14,
   "id": "21fe4d8c-533e-4816-b9bf-f2aa93808bcc",
   "metadata": {},
   "outputs": [
    {
     "name": "stdout",
     "output_type": "stream",
     "text": [
      "Help on function sum1 in module __main__:\n",
      "\n",
      "sum1(x)\n",
      "\n"
     ]
    }
   ],
   "source": [
    "help(sum1)"
   ]
  },
  {
   "cell_type": "code",
   "execution_count": 15,
   "id": "59c19afe-90c1-47e8-b73a-aff3fa29393d",
   "metadata": {},
   "outputs": [
    {
     "data": {
      "text/plain": [
       "(20, 40, 50)"
      ]
     },
     "execution_count": 15,
     "metadata": {},
     "output_type": "execute_result"
    }
   ],
   "source": [
    "sum1(10)"
   ]
  },
  {
   "cell_type": "code",
   "execution_count": 16,
   "id": "c3b5aa1b-a3df-40c2-89fb-448d01404dec",
   "metadata": {},
   "outputs": [
    {
     "ename": "NameError",
     "evalue": "name 'sum2' is not defined",
     "output_type": "error",
     "traceback": [
      "\u001b[1;31m---------------------------------------------------------------------------\u001b[0m",
      "\u001b[1;31mNameError\u001b[0m                                 Traceback (most recent call last)",
      "Cell \u001b[1;32mIn[16], line 1\u001b[0m\n\u001b[1;32m----> 1\u001b[0m \u001b[43msum2\u001b[49m()   \u001b[38;5;66;03m# shift+tab\u001b[39;00m\n",
      "\u001b[1;31mNameError\u001b[0m: name 'sum2' is not defined"
     ]
    }
   ],
   "source": [
    "sum2()   # shift+tab"
   ]
  },
  {
   "cell_type": "code",
   "execution_count": 17,
   "id": "d71a6e78-4e14-4f89-b4f0-1bdac539bf8b",
   "metadata": {},
   "outputs": [
    {
     "ename": "TypeError",
     "evalue": "sum1() missing 1 required positional argument: 'x'",
     "output_type": "error",
     "traceback": [
      "\u001b[1;31m---------------------------------------------------------------------------\u001b[0m",
      "\u001b[1;31mTypeError\u001b[0m                                 Traceback (most recent call last)",
      "Cell \u001b[1;32mIn[17], line 1\u001b[0m\n\u001b[1;32m----> 1\u001b[0m \u001b[43msum1\u001b[49m\u001b[43m(\u001b[49m\u001b[43m)\u001b[49m\n",
      "\u001b[1;31mTypeError\u001b[0m: sum1() missing 1 required positional argument: 'x'"
     ]
    }
   ],
   "source": [
    "sum1()"
   ]
  },
  {
   "cell_type": "code",
   "execution_count": 18,
   "id": "6f62445f-c1e5-4c59-869e-87eefeb14f66",
   "metadata": {},
   "outputs": [
    {
     "name": "stdout",
     "output_type": "stream",
     "text": [
      "\n"
     ]
    }
   ],
   "source": [
    "print()"
   ]
  },
  {
   "cell_type": "code",
   "execution_count": 23,
   "id": "42394e6f-43a6-4a90-9137-7ff6e0cb3bcd",
   "metadata": {},
   "outputs": [
    {
     "name": "stdout",
     "output_type": "stream",
     "text": [
      "55\n"
     ]
    }
   ],
   "source": [
    "# sum 10 using while loop function.\n",
    "\n",
    "\n",
    "def natural_num(x):\n",
    "    i=1\n",
    "    sum1=0\n",
    "    while i<=x:\n",
    "        sum1=sum1+i\n",
    "        \n",
    "        i+=1\n",
    "    print(sum1)    \n",
    "\n",
    "natural_num(10)"
   ]
  },
  {
   "cell_type": "code",
   "execution_count": 24,
   "id": "d7dec606-4d5c-4755-8a3d-cbedd3536a7d",
   "metadata": {},
   "outputs": [],
   "source": [
    "# -10,10   # positive and negative using function."
   ]
  },
  {
   "cell_type": "code",
   "execution_count": 27,
   "id": "f2c5ce56-9b4f-42c9-8e81-384dadf53ee9",
   "metadata": {},
   "outputs": [
    {
     "name": "stdout",
     "output_type": "stream",
     "text": [
      "55\n"
     ]
    }
   ],
   "source": [
    "i=1\n",
    "sum1=0\n",
    "while i<=10:\n",
    "    sum1=sum1+i\n",
    "    i+=1\n",
    "print(sum1)"
   ]
  },
  {
   "cell_type": "code",
   "execution_count": 28,
   "id": "507157da-ad60-4670-b439-03179c2c5efd",
   "metadata": {},
   "outputs": [
    {
     "name": "stdout",
     "output_type": "stream",
     "text": [
      "210\n"
     ]
    }
   ],
   "source": [
    "i=1\n",
    "sum1=0\n",
    "while i<=20:\n",
    "    sum1=sum1+i\n",
    "    i+=1\n",
    "print(sum1)"
   ]
  },
  {
   "cell_type": "code",
   "execution_count": 29,
   "id": "ec487f0f-ef1a-4763-9b66-e5899ecad282",
   "metadata": {},
   "outputs": [
    {
     "name": "stdout",
     "output_type": "stream",
     "text": [
      "210\n"
     ]
    }
   ],
   "source": [
    "natural_num(20)"
   ]
  },
  {
   "cell_type": "code",
   "execution_count": 30,
   "id": "10214373-98f2-4296-8760-c3d6b134a765",
   "metadata": {},
   "outputs": [
    {
     "name": "stdout",
     "output_type": "stream",
     "text": [
      "5050\n"
     ]
    }
   ],
   "source": [
    "natural_num(100)"
   ]
  },
  {
   "cell_type": "code",
   "execution_count": 43,
   "id": "055432b3-cbc8-4f01-b799-aef72da1a34b",
   "metadata": {},
   "outputs": [
    {
     "name": "stdin",
     "output_type": "stream",
     "text": [
      " 1\n",
      "Enter your name: Rupali\n"
     ]
    },
    {
     "name": "stdout",
     "output_type": "stream",
     "text": [
      "Welcome Rupali\n"
     ]
    }
   ],
   "source": [
    "# Writa a function to return name of the user from user input\n",
    "\n",
    "def user_name(x1=int(input())):\n",
    "    x1=input('Enter your name:')\n",
    "    print('Welcome '+x1)\n",
    "    \n",
    "\n",
    "user_name(x1)"
   ]
  },
  {
   "cell_type": "markdown",
   "id": "29825a4e-ade8-4744-bd39-c9dc9c601c47",
   "metadata": {},
   "source": [
    "# Variable:\n",
    " * __The input to a function is called a formal parameter.__\n",
    " * __A variable that is declared inside a function is called local variable.__\n",
    " * __The parameter only exists whithin the function (i.e the point where the funciton starts and stops.)__\n",
    " * __A variable that is declare outside a functiion is called global variable, and its value is accessible and modificalbe throughout the program.__"
   ]
  },
  {
   "cell_type": "code",
   "execution_count": 49,
   "id": "bc30236a-558d-406c-a527-625d935eca3c",
   "metadata": {},
   "outputs": [
    {
     "name": "stdout",
     "output_type": "stream",
     "text": [
      "positive numbers :  [0, 1, 2, 3, 4, 5, 6, 7, 8, 9, 10]\n",
      "Sum of positives is :  55\n",
      "\n",
      "\n",
      "negative numbers :  [-10, -9, -8, -7, -6, -5, -4, -3, -2, -1]\n",
      "Sum of negatives is :  -55\n"
     ]
    }
   ],
   "source": [
    "def check():\n",
    "    i = -10\n",
    "    pos = []\n",
    "    neg = []\n",
    "    while i<= 10:\n",
    "        # print(i)\n",
    "        if i < 0:\n",
    "           neg.append(i)\n",
    "        else:\n",
    "            pos.append(i)\n",
    "\n",
    "        i+=1\n",
    "    print(\"positive numbers : \",pos)\n",
    "    print(\"Sum of positives is : \",sum(pos))\n",
    "    print(\"\\n\")\n",
    "    print(\"negative numbers : \",neg)\n",
    "    print(\"Sum of negatives is : \",sum(neg))\n",
    "\n",
    "check()"
   ]
  },
  {
   "cell_type": "code",
   "execution_count": 6,
   "id": "f1d66c0c-cede-44f6-9463-325f71cd13a3",
   "metadata": {},
   "outputs": [
    {
     "data": {
      "text/plain": [
       "-4938"
      ]
     },
     "execution_count": 6,
     "metadata": {},
     "output_type": "execute_result"
    }
   ],
   "source": [
    "# define a function\n",
    "# x=5\n",
    "# y=3\n",
    "#z= 10*x+5-89*56-y*3\n",
    "\n",
    "# global variable\n",
    "val1=5\n",
    "val2=3\n",
    "\n",
    "def function(x,y):\n",
    "    z=10*x+5-89*56-y*3\n",
    "    return z\n",
    "function(val1,val2)"
   ]
  },
  {
   "cell_type": "code",
   "execution_count": 7,
   "id": "488100f0-0552-4f11-9399-903522e7d7d9",
   "metadata": {},
   "outputs": [
    {
     "data": {
      "text/plain": [
       "-4938"
      ]
     },
     "execution_count": 7,
     "metadata": {},
     "output_type": "execute_result"
    }
   ],
   "source": [
    "# local variable\n",
    "\n",
    "\n",
    "\n",
    "def function():\n",
    "    x=5\n",
    "    y=3\n",
    "    z=10*x+5-89*56-y*3\n",
    "    return z\n",
    "function()"
   ]
  },
  {
   "cell_type": "code",
   "execution_count": 9,
   "id": "2aa135dc-9585-400e-bfdf-d8860f322540",
   "metadata": {},
   "outputs": [
    {
     "data": {
      "text/plain": [
       "-4938"
      ]
     },
     "execution_count": 9,
     "metadata": {},
     "output_type": "execute_result"
    }
   ],
   "source": [
    "#formal variable\n",
    "def function(x,y):\n",
    "    \n",
    "    z=10*x+5-89*56-y*3\n",
    "    return z\n",
    "function(5,3)"
   ]
  },
  {
   "cell_type": "code",
   "execution_count": 14,
   "id": "8981bbee-7390-40b9-84d3-213d7790a03d",
   "metadata": {},
   "outputs": [
    {
     "data": {
      "text/plain": [
       "-4909"
      ]
     },
     "execution_count": 14,
     "metadata": {},
     "output_type": "execute_result"
    }
   ],
   "source": [
    "# Default\n",
    "def function(x=10,y=10):\n",
    "    \n",
    "    z=10*x+5-89*56-y*3\n",
    "    return z\n",
    "function()"
   ]
  },
  {
   "cell_type": "code",
   "execution_count": 16,
   "id": "a340c9c3-69c5-48de-9259-ac974133908f",
   "metadata": {},
   "outputs": [
    {
     "name": "stdout",
     "output_type": "stream",
     "text": [
      "Hello world\n",
      "Hello world2\n"
     ]
    }
   ],
   "source": [
    "# Define a function with and without return statement\n",
    "\n",
    "def hello1():\n",
    "    print('Hello world')\n",
    "\n",
    "def hello2():\n",
    "    print('Hello world2')\n",
    "    return None\n",
    "\n",
    "hello1()\n",
    "hello2()"
   ]
  },
  {
   "cell_type": "code",
   "execution_count": 18,
   "id": "51285b2f-1dd2-43a7-a233-cff415a378ea",
   "metadata": {},
   "outputs": [
    {
     "name": "stdout",
     "output_type": "stream",
     "text": [
      "Hello world\n",
      "None\n",
      "Hello world2\n",
      "None\n"
     ]
    }
   ],
   "source": [
    "print(hello1())\n",
    "print(hello2())"
   ]
  },
  {
   "cell_type": "code",
   "execution_count": 27,
   "id": "754e2fdc-ba00-4eaa-85cf-34303bee7435",
   "metadata": {},
   "outputs": [
    {
     "data": {
      "text/plain": [
       "'Abhishek vani'"
      ]
     },
     "execution_count": 27,
     "metadata": {},
     "output_type": "execute_result"
    }
   ],
   "source": [
    "# Concatenation occuring in function.\n",
    "\n",
    "def concat(x,y=\"vani\"):\n",
    "    return x+y\n",
    "first_name=\"Abhishek \"\n",
    "last_name=\"wani\"\n",
    "concat(first_name)"
   ]
  },
  {
   "cell_type": "code",
   "execution_count": 28,
   "id": "96dde902-2ee0-406d-892c-657bc230a424",
   "metadata": {},
   "outputs": [
    {
     "data": {
      "text/plain": [
       "30"
      ]
     },
     "execution_count": 28,
     "metadata": {},
     "output_type": "execute_result"
    }
   ],
   "source": [
    "concat(10,20)"
   ]
  },
  {
   "cell_type": "code",
   "execution_count": 32,
   "id": "1add79ba-f87f-4b60-b495-1e52d0f84ac3",
   "metadata": {},
   "outputs": [
    {
     "data": {
      "text/plain": [
       "'Hello Rupam'"
      ]
     },
     "execution_count": 32,
     "metadata": {},
     "output_type": "execute_result"
    }
   ],
   "source": [
    "x=2.789 \n",
    "y=3.147 \n",
    "equation=x*y+x+y-37-100\n",
    "\n",
    "if equation>0:\n",
    "    equation=\"Hello world\"\n",
    "else:equation=\"Hello Rupam\"\n",
    "\n",
    "equation"
   ]
  },
  {
   "cell_type": "code",
   "execution_count": 34,
   "id": "2d3b8bdb-f953-449a-b26a-e425b01e245e",
   "metadata": {},
   "outputs": [
    {
     "name": "stdout",
     "output_type": "stream",
     "text": [
      "Postive numbers from above list are :  [0.577, 2.718, 5.78, 6.45, 10, 200, 300]\n",
      "Negative numbers from above list are :  [-20, -45, -100]\n"
     ]
    }
   ],
   "source": [
    "# First display indivisually postive and negative numbers using function inside for and while loop.\n",
    "list_1=[0.577,2.718,5.78,6.45,10,-20,-45,-100,200,300]\n",
    "\n",
    "def check():\n",
    "    pos = []\n",
    "    neg = []\n",
    "    for i in list_1:\n",
    "        if i > 0:\n",
    "            pos.append(i)\n",
    "        else:\n",
    "            neg.append(i)\n",
    "    \n",
    "    print(\"Postive numbers from above list are : \",pos)\n",
    "    print(\"Negative numbers from above list are : \",neg)\n",
    "\n",
    "check()"
   ]
  },
  {
   "cell_type": "code",
   "execution_count": 43,
   "id": "92b936b8-47f5-4b30-89ff-a9a8de115745",
   "metadata": {},
   "outputs": [
    {
     "name": "stdout",
     "output_type": "stream",
     "text": [
      "Positive numbers: [0.577, 2.718, 5.78, 6.45, 10, 200, 300] = 525.525\n",
      "Negative numbers: [-20, -45, -100] = -165\n"
     ]
    }
   ],
   "source": [
    "# Negative Numbers\n",
    "list_1 = [0.577, 2.718, 5.78, 6.45, 10, -20, -45, -100, 200, 300]\n",
    "\n",
    "def check_1():\n",
    "    pos = []\n",
    "    neg = []\n",
    "    sum_p=0\n",
    "    sum_n=0\n",
    "    i = 0\n",
    "    while i < len(list_1):\n",
    "        if list_1[i] > 0:\n",
    "            pos.append(list_1[i])\n",
    "            sum_p=sum_p+list_1[i]\n",
    "        elif list_1[i] < 0:\n",
    "            neg.append(list_1[i])\n",
    "            sum_n=sum_n+list_1[i]\n",
    "            \n",
    "        i += 1\n",
    "    \n",
    "    print(\"Positive numbers:\", pos,\"=\",sum_p)\n",
    "    print(\"Negative numbers:\", neg,'=',sum_n)\n",
    "\n",
    "\n",
    "check_1()"
   ]
  },
  {
   "cell_type": "code",
   "execution_count": 46,
   "id": "563c9251-fd22-42fe-9e28-aa54fa47140e",
   "metadata": {},
   "outputs": [
    {
     "name": "stdout",
     "output_type": "stream",
     "text": [
      "Positive numbers: [0.577, 2.718, 5.78, 6.45, 10, 200, 300] = 525.525\n",
      "Negative numbers: [-20, -45, -100] = -165\n"
     ]
    }
   ],
   "source": [
    "# Negative Numbers\n",
    "list_1 = [0.577, 2.718, 5.78, 6.45, 10, -20, -45, -100, 200, 300]\n",
    "\n",
    "def check_1():\n",
    "    pos = []\n",
    "    neg = []\n",
    "    \n",
    "    i = 0\n",
    "    while i < len(list_1):\n",
    "        if list_1[i] > 0:\n",
    "            pos.append(list_1[i])\n",
    "           \n",
    "        elif list_1[i] < 0:\n",
    "            neg.append(list_1[i])\n",
    "           \n",
    "            \n",
    "        i += 1\n",
    "    \n",
    "    print(\"Positive numbers:\", pos,\"=\", sum(pos))\n",
    "    print(\"Negative numbers:\", neg,'=',sum(neg))\n",
    "\n",
    "\n",
    "check_1()"
   ]
  },
  {
   "cell_type": "code",
   "execution_count": 58,
   "id": "95597bee-56be-405c-9864-5d4715680540",
   "metadata": {},
   "outputs": [
    {
     "name": "stdin",
     "output_type": "stream",
     "text": [
      "Enter first number:  10\n",
      "Enter Second number:  20\n"
     ]
    },
    {
     "name": "stdout",
     "output_type": "stream",
     "text": [
      "Even Number is: [10, 12, 14, 16, 18, 20] = 90 Average: 15.0 \n",
      "Odd Number is: [11, 13, 15, 17, 19] = 75\n"
     ]
    }
   ],
   "source": [
    "# take input from user and starting and ending range filter even or odd number, perform opetions sum,count,average \n",
    "# using for and while loop\n",
    "\n",
    "def even_odd():\n",
    "    x=int(input('Enter first number: '))\n",
    "    y=int(input('Enter Second number: '))\n",
    "    even=[]\n",
    "    odd=[]\n",
    "    sum_even=0\n",
    "    odd_sum=0\n",
    "    avg=0\n",
    "    while x<=y:\n",
    "        if x%2==0:\n",
    "            even.append(x)\n",
    "            sum_even=sum_even+x\n",
    "            avg=sum_even/len(even)\n",
    "            \n",
    "        else:\n",
    "            odd.append(x)\n",
    "            odd_sum=odd_sum+x            \n",
    "        x+=1\n",
    "    print(\"Even Number is:\",even,'=',sum_even,\"Average:\",avg,\"\\nOdd Number is:\",odd,'=',odd_sum)\n",
    "\n",
    "\n",
    "even_odd()"
   ]
  },
  {
   "cell_type": "code",
   "execution_count": 60,
   "id": "8ad38ee5-fd50-4a78-ba14-4e2de26177cc",
   "metadata": {},
   "outputs": [
    {
     "name": "stdin",
     "output_type": "stream",
     "text": [
      "Enter starting range 10\n",
      "Enter ending range 20\n"
     ]
    },
    {
     "name": "stdout",
     "output_type": "stream",
     "text": [
      "Even numbers from given range :  [10, 12, 14, 16, 18, 20]\n",
      "Number of even numbers are: 6\n",
      "Average of even numbers are :  15.0\n",
      "\n",
      "\n",
      "---------------------------------------------\n",
      "\n",
      "\n",
      "Odd numbers from given range :  [11, 13, 15, 17, 19]\n",
      "Number of Odd numbers are: 5\n",
      "Average of Odd numbers are :  15.0\n"
     ]
    }
   ],
   "source": [
    "def even():\n",
    "    x = int(input(\"Enter starting range\"))\n",
    "    y = int(input(\"Enter ending range\"))\n",
    "    \n",
    "    even = []\n",
    "    Odd = []\n",
    "    while x<=y:\n",
    "        if x % 2 ==0:\n",
    "            even.append(x)\n",
    "        elif x % 2 != 0:\n",
    "            Odd.append(x)\n",
    "        x+=1\n",
    "    print(\"Even numbers from given range : \",even)\n",
    "    print(\"Number of even numbers are:\",len(even))\n",
    "    print(\"Average of even numbers are : \",sum(even)/len(even))\n",
    "    print(\"\\n\")\n",
    "    print(\"---------------------------------------------\")\n",
    "    print(\"\\n\")\n",
    "    print(\"Odd numbers from given range : \",Odd)\n",
    "    print(\"Number of Odd numbers are:\",len(Odd))\n",
    "    print(\"Average of Odd numbers are : \",sum(Odd)/len(Odd))\n",
    "\n",
    "even()   #while loop"
   ]
  },
  {
   "cell_type": "code",
   "execution_count": 59,
   "id": "9b4f8e31-284a-45c6-abaf-4d53d5d789bf",
   "metadata": {},
   "outputs": [
    {
     "name": "stdin",
     "output_type": "stream",
     "text": [
      "Enter starting range 10\n",
      "Enter ending range 20\n"
     ]
    },
    {
     "name": "stdout",
     "output_type": "stream",
     "text": [
      "Even numbers from given range :  [10, 12, 14, 16, 18, 20]\n",
      "Number of even numbers are: 6\n",
      "Average of even numbers are :  15.0\n",
      "\n",
      "\n",
      "---------------------------------------------\n",
      "\n",
      "\n",
      "Odd numbers from given range :  [11, 13, 15, 17, 19]\n",
      "Number of Odd numbers are: 5\n",
      "Average of Odd numbers are :  15.0\n"
     ]
    }
   ],
   "source": [
    "#TAke input from user starting and ending range,odd,even,sum,avg\n",
    "\n",
    "def even():\n",
    "    start = int(input(\"Enter starting range\"))\n",
    "    end = int(input(\"Enter ending range\"))\n",
    "    \n",
    "    \n",
    "    even = []\n",
    "    Odd = []\n",
    "    for i in range(start,end+1):\n",
    "        if i % 2 ==0:\n",
    "            even.append(i)\n",
    "        elif i % 2 != 0:\n",
    "            Odd.append(i)\n",
    "    \n",
    "    print(\"Even numbers from given range : \",even)\n",
    "    print(\"Number of even numbers are:\",len(even))\n",
    "    print(\"Average of even numbers are : \",sum(even)/len(even))\n",
    "    print(\"\\n\")\n",
    "    print(\"---------------------------------------------\")\n",
    "    print(\"\\n\")\n",
    "    print(\"Odd numbers from given range : \",Odd)\n",
    "    print(\"Number of Odd numbers are:\",len(Odd))\n",
    "    print(\"Average of Odd numbers are : \",sum(Odd)/len(Odd))\n",
    "\n",
    "even()"
   ]
  },
  {
   "cell_type": "code",
   "execution_count": 2,
   "id": "395e8f58-5b63-484d-bfd3-3d7f31f0a937",
   "metadata": {},
   "outputs": [
    {
     "name": "stdin",
     "output_type": "stream",
     "text": [
      "Enter any number: 108\n"
     ]
    },
    {
     "name": "stdout",
     "output_type": "stream",
     "text": [
      "['1', '0', '8']\n",
      "One Zero Eight "
     ]
    }
   ],
   "source": [
    "# 5. Write a program to display the number names of the digits of a number entered by the user, for example if the number \n",
    "# is 108 then the out is one zero and eight using functions. with while loop.\n",
    "\n",
    "\n",
    "def display_name():\n",
    "    user=input('Enter any number:')\n",
    "    \n",
    "    list_1=list(user)\n",
    "    print(list_1)\n",
    "    \n",
    "    dict_1={0:'Zero',1:'One',2:'Two',3:'Three',4:\"Four\",5:'Five',6:'Six',7:'Seven',8:'Eight',9:'Nine'}\n",
    "    i=0\n",
    "    while i<len(list_1):\n",
    "        print(dict_1[int(list_1[i])],end=' ')\n",
    "        i+=1\n",
    "display_name()\n"
   ]
  },
  {
   "cell_type": "code",
   "execution_count": 10,
   "id": "99fa87ba-15fd-4db1-91c8-a320c1ea24b0",
   "metadata": {},
   "outputs": [
    {
     "name": "stdin",
     "output_type": "stream",
     "text": [
      "Enter no 1 of 10 numbers 10\n",
      "Enter no 2 of 10 numbers 10\n",
      "Enter no 3 of 10 numbers 10\n",
      "Enter no 4 of 10 numbers 10\n",
      "Enter no 5 of 10 numbers 10\n",
      "Enter no 6 of 10 numbers 10\n",
      "Enter no 7 of 10 numbers 10\n",
      "Enter no 8 of 10 numbers 10\n",
      "Enter no 9 of 10 numbers 10\n",
      "Enter no 10 of 10 numbers 10\n"
     ]
    },
    {
     "name": "stdout",
     "output_type": "stream",
     "text": [
      "\n",
      " [10, 10, 10, 10, 10, 10, 10, 10, 10, 10] = 55 Average of given 10 numbers is : 5.5\n"
     ]
    }
   ],
   "source": [
    "# Write a program to accept 10 numbers from the user and dipslay it's average using while loop with functions.\n",
    "\n",
    "#WAP to accept 10 numbers from user find its avg using function and while loop:\n",
    "\n",
    "def average():\n",
    "    list_2 = []\n",
    "    sum1 = 0\n",
    "    i = 1\n",
    "    while i <= 10:\n",
    "        element=int(input(f\"Enter no {i} of 10 numbers\"))\n",
    "        list_2.append(element)\n",
    "        \n",
    "        sum1 = sum1 + i\n",
    "        length = len(list_2)\n",
    "        avg = sum1/length\n",
    "        i+=1\n",
    "        \n",
    "        \n",
    "    print(\"\\n\",list_2,\"=\",sum1,\"Average of given 10 numbers is :\",avg,)\n",
    "\n",
    "average()\n"
   ]
  },
  {
   "cell_type": "code",
   "execution_count": null,
   "id": "97aa4683-0603-49a4-946d-c5ec5de9bfe8",
   "metadata": {},
   "outputs": [],
   "source": []
  },
  {
   "cell_type": "code",
   "execution_count": null,
   "id": "0aa81f40-d167-4f47-837d-25999ace8eca",
   "metadata": {},
   "outputs": [],
   "source": []
  }
 ],
 "metadata": {
  "kernelspec": {
   "display_name": "Python 3 (ipykernel)",
   "language": "python",
   "name": "python3"
  },
  "language_info": {
   "codemirror_mode": {
    "name": "ipython",
    "version": 3
   },
   "file_extension": ".py",
   "mimetype": "text/x-python",
   "name": "python",
   "nbconvert_exporter": "python",
   "pygments_lexer": "ipython3",
   "version": "3.12.2"
  }
 },
 "nbformat": 4,
 "nbformat_minor": 5
}
