{
 "cells": [
  {
   "cell_type": "markdown",
   "id": "ab0e2ca1-8505-47ac-8a46-9cbf7599f273",
   "metadata": {},
   "source": [
    "# 9. Functions in python\n",
    "\n",
    " * __In python a function is a group of related statements that perform a specific task.__\n",
    " * __Functions help break our program into smaller and modular chunks. As our program grows larger and larger, functions make it more organized and manageable.__\n",
    " * __Furthermore, it avoids repetition and makes the code reusable.__\n",
    " * __There are two types of functions.__\n",
    " * __Pre-defined functions.__\n",
    " * __User-defined functions.__\n",
    " * __In python a function is defined using the def keyword followed by the function name and parentheses().__\n",
    " * __Keyword def that marks the start of the function header.__\n",
    " * __Function naming follows the same rule of writing identifers in Python.__\n",
    " * __Parameters(arguments) through which we pass value of the functions.But they are optional__\n",
    " * __A colon(:) to mark the end of the function header.__\n",
    " * __Optional documentation string(docstring) to describe what the function does.__\n",
    " * __One or more valid python statements that make up the function body.__\n",
    " * __Statements must have the same indentation level(which including 4 spaces or 1 Tab).__\n",
    " * __An optional return statement to return a value from the function.__"
   ]
  },
  {
   "cell_type": "code",
   "execution_count": 1,
   "id": "5d77966d-174a-4c44-9484-0635ccd1f560",
   "metadata": {},
   "outputs": [
    {
     "name": "stdout",
     "output_type": "stream",
     "text": [
      "3.12.2 (tags/v3.12.2:6abddd9, Feb  6 2024, 21:26:36) [MSC v.1937 64 bit (AMD64)]\n"
     ]
    }
   ],
   "source": [
    "import sys\n",
    "print(sys.version)"
   ]
  },
  {
   "cell_type": "code",
   "execution_count": 2,
   "id": "2dff0cc0-079e-40ff-b6a9-10ce39f32fed",
   "metadata": {},
   "outputs": [
    {
     "name": "stdout",
     "output_type": "stream",
     "text": [
      "Hello world\n"
     ]
    }
   ],
   "source": [
    "print('Hello world')"
   ]
  },
  {
   "cell_type": "code",
   "execution_count": 19,
   "id": "98c0c146-befc-48cd-a179-a4e1da03f62b",
   "metadata": {},
   "outputs": [
    {
     "ename": "TypeError",
     "evalue": "sum1() missing 1 required positional argument: 'y'",
     "output_type": "error",
     "traceback": [
      "\u001b[1;31m---------------------------------------------------------------------------\u001b[0m",
      "\u001b[1;31mTypeError\u001b[0m                                 Traceback (most recent call last)",
      "Cell \u001b[1;32mIn[19], line 7\u001b[0m\n\u001b[0;32m      4\u001b[0m     y3\u001b[38;5;241m=\u001b[39mx\u001b[38;5;241m+\u001b[39m\u001b[38;5;241m40\u001b[39m\n\u001b[0;32m      5\u001b[0m     \u001b[38;5;28;01mreturn\u001b[39;00m y1,y2,y3\n\u001b[1;32m----> 7\u001b[0m \u001b[43msum1\u001b[49m\u001b[43m(\u001b[49m\u001b[38;5;241;43m2\u001b[39;49m\u001b[43m)\u001b[49m\n",
      "\u001b[1;31mTypeError\u001b[0m: sum1() missing 1 required positional argument: 'y'"
     ]
    }
   ],
   "source": [
    "def sum1(x,y):\n",
    "    y1=x+10\n",
    "    y2=x+30\n",
    "    y3=x+40\n",
    "    return y1,y2,y3\n",
    "\n",
    "sum1(2)"
   ]
  },
  {
   "cell_type": "code",
   "execution_count": 8,
   "id": "f9682983-18ca-4ac1-938f-09022e826017",
   "metadata": {},
   "outputs": [
    {
     "data": {
      "text/plain": [
       "(30, 50, 60)"
      ]
     },
     "execution_count": 8,
     "metadata": {},
     "output_type": "execute_result"
    }
   ],
   "source": [
    "sum1(20)"
   ]
  },
  {
   "cell_type": "code",
   "execution_count": 10,
   "id": "56148a74-06b3-4df9-8bcb-e41216d441e2",
   "metadata": {},
   "outputs": [
    {
     "data": {
      "text/plain": [
       "(35, 55, 65)"
      ]
     },
     "execution_count": 10,
     "metadata": {},
     "output_type": "execute_result"
    }
   ],
   "source": [
    "sum1(25)"
   ]
  },
  {
   "cell_type": "code",
   "execution_count": 11,
   "id": "e10d795d-5839-482c-b7e6-fa8021ad06de",
   "metadata": {},
   "outputs": [
    {
     "name": "stdout",
     "output_type": "stream",
     "text": [
      "hello wold\n"
     ]
    }
   ],
   "source": [
    "print('hello world')"
   ]
  },
  {
   "cell_type": "code",
   "execution_count": 12,
   "id": "99d10f9d-c649-4511-acae-86feaf48cc8e",
   "metadata": {},
   "outputs": [
    {
     "name": "stdout",
     "output_type": "stream",
     "text": [
      "Hello wodld\n"
     ]
    }
   ],
   "source": [
    "print('Hello wodld')"
   ]
  },
  {
   "cell_type": "code",
   "execution_count": 13,
   "id": "09d0be74-1a22-40cd-b524-1bcad0fbb2f6",
   "metadata": {},
   "outputs": [
    {
     "data": {
      "text/plain": [
       "(50, 70, 80)"
      ]
     },
     "execution_count": 13,
     "metadata": {},
     "output_type": "execute_result"
    }
   ],
   "source": [
    "sum1(40)"
   ]
  },
  {
   "cell_type": "code",
   "execution_count": 14,
   "id": "21fe4d8c-533e-4816-b9bf-f2aa93808bcc",
   "metadata": {},
   "outputs": [
    {
     "name": "stdout",
     "output_type": "stream",
     "text": [
      "Help on function sum1 in module __main__:\n",
      "\n",
      "sum1(x)\n",
      "\n"
     ]
    }
   ],
   "source": [
    "help(sum1)"
   ]
  },
  {
   "cell_type": "code",
   "execution_count": 15,
   "id": "59c19afe-90c1-47e8-b73a-aff3fa29393d",
   "metadata": {},
   "outputs": [
    {
     "data": {
      "text/plain": [
       "(20, 40, 50)"
      ]
     },
     "execution_count": 15,
     "metadata": {},
     "output_type": "execute_result"
    }
   ],
   "source": [
    "sum1(10)"
   ]
  },
  {
   "cell_type": "code",
   "execution_count": 16,
   "id": "c3b5aa1b-a3df-40c2-89fb-448d01404dec",
   "metadata": {},
   "outputs": [
    {
     "ename": "NameError",
     "evalue": "name 'sum2' is not defined",
     "output_type": "error",
     "traceback": [
      "\u001b[1;31m---------------------------------------------------------------------------\u001b[0m",
      "\u001b[1;31mNameError\u001b[0m                                 Traceback (most recent call last)",
      "Cell \u001b[1;32mIn[16], line 1\u001b[0m\n\u001b[1;32m----> 1\u001b[0m \u001b[43msum2\u001b[49m()   \u001b[38;5;66;03m# shift+tab\u001b[39;00m\n",
      "\u001b[1;31mNameError\u001b[0m: name 'sum2' is not defined"
     ]
    }
   ],
   "source": [
    "sum2()   # shift+tab"
   ]
  },
  {
   "cell_type": "code",
   "execution_count": 17,
   "id": "d71a6e78-4e14-4f89-b4f0-1bdac539bf8b",
   "metadata": {},
   "outputs": [
    {
     "ename": "TypeError",
     "evalue": "sum1() missing 1 required positional argument: 'x'",
     "output_type": "error",
     "traceback": [
      "\u001b[1;31m---------------------------------------------------------------------------\u001b[0m",
      "\u001b[1;31mTypeError\u001b[0m                                 Traceback (most recent call last)",
      "Cell \u001b[1;32mIn[17], line 1\u001b[0m\n\u001b[1;32m----> 1\u001b[0m \u001b[43msum1\u001b[49m\u001b[43m(\u001b[49m\u001b[43m)\u001b[49m\n",
      "\u001b[1;31mTypeError\u001b[0m: sum1() missing 1 required positional argument: 'x'"
     ]
    }
   ],
   "source": [
    "sum1()"
   ]
  },
  {
   "cell_type": "code",
   "execution_count": 18,
   "id": "6f62445f-c1e5-4c59-869e-87eefeb14f66",
   "metadata": {},
   "outputs": [
    {
     "name": "stdout",
     "output_type": "stream",
     "text": [
      "\n"
     ]
    }
   ],
   "source": [
    "print()"
   ]
  },
  {
   "cell_type": "code",
   "execution_count": 23,
   "id": "42394e6f-43a6-4a90-9137-7ff6e0cb3bcd",
   "metadata": {},
   "outputs": [
    {
     "name": "stdout",
     "output_type": "stream",
     "text": [
      "55\n"
     ]
    }
   ],
   "source": [
    "# sum 10 using while loop function.\n",
    "\n",
    "\n",
    "def natural_num(x):\n",
    "    i=1\n",
    "    sum1=0\n",
    "    while i<=x:\n",
    "        sum1=sum1+i\n",
    "        \n",
    "        i+=1\n",
    "    print(sum1)    \n",
    "\n",
    "natural_num(10)"
   ]
  },
  {
   "cell_type": "code",
   "execution_count": 24,
   "id": "d7dec606-4d5c-4755-8a3d-cbedd3536a7d",
   "metadata": {},
   "outputs": [],
   "source": [
    "# -10,10   # positive and negative using function."
   ]
  },
  {
   "cell_type": "code",
   "execution_count": 27,
   "id": "f2c5ce56-9b4f-42c9-8e81-384dadf53ee9",
   "metadata": {},
   "outputs": [
    {
     "name": "stdout",
     "output_type": "stream",
     "text": [
      "55\n"
     ]
    }
   ],
   "source": [
    "i=1\n",
    "sum1=0\n",
    "while i<=10:\n",
    "    sum1=sum1+i\n",
    "    i+=1\n",
    "print(sum1)"
   ]
  },
  {
   "cell_type": "code",
   "execution_count": 28,
   "id": "507157da-ad60-4670-b439-03179c2c5efd",
   "metadata": {},
   "outputs": [
    {
     "name": "stdout",
     "output_type": "stream",
     "text": [
      "210\n"
     ]
    }
   ],
   "source": [
    "i=1\n",
    "sum1=0\n",
    "while i<=20:\n",
    "    sum1=sum1+i\n",
    "    i+=1\n",
    "print(sum1)"
   ]
  },
  {
   "cell_type": "code",
   "execution_count": 29,
   "id": "ec487f0f-ef1a-4763-9b66-e5899ecad282",
   "metadata": {},
   "outputs": [
    {
     "name": "stdout",
     "output_type": "stream",
     "text": [
      "210\n"
     ]
    }
   ],
   "source": [
    "natural_num(20)"
   ]
  },
  {
   "cell_type": "code",
   "execution_count": 30,
   "id": "10214373-98f2-4296-8760-c3d6b134a765",
   "metadata": {},
   "outputs": [
    {
     "name": "stdout",
     "output_type": "stream",
     "text": [
      "5050\n"
     ]
    }
   ],
   "source": [
    "natural_num(100)"
   ]
  },
  {
   "cell_type": "code",
   "execution_count": 43,
   "id": "055432b3-cbc8-4f01-b799-aef72da1a34b",
   "metadata": {},
   "outputs": [
    {
     "name": "stdin",
     "output_type": "stream",
     "text": [
      " 1\n",
      "Enter your name: Rupali\n"
     ]
    },
    {
     "name": "stdout",
     "output_type": "stream",
     "text": [
      "Welcome Rupali\n"
     ]
    }
   ],
   "source": [
    "# Writa a function to return name of the user from user input\n",
    "\n",
    "def user_name(x1=int(input())):\n",
    "    x1=input('Enter your name:')\n",
    "    print('Welcome '+x1)\n",
    "    \n",
    "\n",
    "user_name(x1)"
   ]
  },
  {
   "cell_type": "markdown",
   "id": "29825a4e-ade8-4744-bd39-c9dc9c601c47",
   "metadata": {},
   "source": [
    "# Variable:\n",
    " * __The input to a function is called a formal parameter.__\n",
    " * __A variable that is declared inside a function is called local variable.__\n",
    " * __The parameter only exists whithin the function (i.e the point where the funciton starts and stops.)__\n",
    " * __A variable that is declare outside a functiion is called global variable, and its value is accessible and modificalbe throughout the program.__"
   ]
  },
  {
   "cell_type": "code",
   "execution_count": null,
   "id": "bc30236a-558d-406c-a527-625d935eca3c",
   "metadata": {},
   "outputs": [],
   "source": []
  }
 ],
 "metadata": {
  "kernelspec": {
   "display_name": "Python 3 (ipykernel)",
   "language": "python",
   "name": "python3"
  },
  "language_info": {
   "codemirror_mode": {
    "name": "ipython",
    "version": 3
   },
   "file_extension": ".py",
   "mimetype": "text/x-python",
   "name": "python",
   "nbconvert_exporter": "python",
   "pygments_lexer": "ipython3",
   "version": "3.12.2"
  }
 },
 "nbformat": 4,
 "nbformat_minor": 5
}
