{
 "cells": [
  {
   "cell_type": "markdown",
   "id": "279dd482-7a91-4fac-ae96-aef4809cb06b",
   "metadata": {},
   "source": [
    "# 10. Exception Handling in Python\n",
    "\n",
    "* __An Exception is an event, which occurs during the execution of a program that disrupts the normal flow of the program's instructions.__\n",
    "* __In general, when a Python scrikpt encounters a situation thta it cannot cope with, it raises an exception.__\n",
    "* __An exception is a Python object that represents an error.__\n",
    "* __When a Python script raises an exception, it must either handle the exception immediately other it terminates and quits.__\n",
    "* __If you have some suspicious code that may an exception, you can defend your program by placing the suspicious code in try:block.__\n",
    "* __After the try:block, incldue an except:statement, followed by a block of code which handles the problem an elegantly as possible.__\n",
    "* __Common exceptions__\n",
    "* __ZeroDivision Error__\n",
    "* __NameError__\n",
    "* __ValueError__\n",
    "* __IOError__\n",
    "* __EOFError__\n",
    "* __IndentationError__"
   ]
  },
  {
   "cell_type": "code",
   "execution_count": 4,
   "id": "057dda79-cdbb-431c-9380-a9922df1dc91",
   "metadata": {},
   "outputs": [
    {
     "name": "stdout",
     "output_type": "stream",
     "text": [
      "You can not divide any value by zero.\n"
     ]
    }
   ],
   "source": [
    "try:\n",
    "    1/0\n",
    "except ZeroDivisionError:\n",
    "    print('You can not divide any value by zero.')"
   ]
  },
  {
   "cell_type": "code",
   "execution_count": 7,
   "id": "f4dd4e30-616d-44a3-aa36-d69c312b0bf1",
   "metadata": {},
   "outputs": [
    {
     "name": "stdin",
     "output_type": "stream",
     "text": [
      "Enter first number: 1\n",
      "Enter second number: 0\n"
     ]
    },
    {
     "name": "stdout",
     "output_type": "stream",
     "text": [
      "you can not divide any value by zero.\n"
     ]
    }
   ],
   "source": [
    "try:\n",
    "    x=int(input('Enter first number:'))\n",
    "    y=int(input('Enter second number:'))\n",
    "    z=x/y\n",
    "    print(z)\n",
    "except ZeroDivisionError:\n",
    "    print('you can not divide any value by zero.')"
   ]
  },
  {
   "cell_type": "code",
   "execution_count": 8,
   "id": "49fe61b1-18b7-48cb-9e91-6e24cb06b55a",
   "metadata": {},
   "outputs": [
    {
     "data": {
      "text/plain": [
       "ZeroDivisionError"
      ]
     },
     "execution_count": 8,
     "metadata": {},
     "output_type": "execute_result"
    }
   ],
   "source": [
    "ZeroDivisionError   "
   ]
  },
  {
   "cell_type": "code",
   "execution_count": 9,
   "id": "05ce100c-d01c-48d7-8832-b3a7cf3bad4e",
   "metadata": {},
   "outputs": [
    {
     "name": "stdin",
     "output_type": "stream",
     "text": [
      "Enter first number: 10\n",
      "Enter second number: 26\n"
     ]
    },
    {
     "name": "stdout",
     "output_type": "stream",
     "text": [
      "0.38461538461538464\n"
     ]
    }
   ],
   "source": [
    "try:\n",
    "    x=int(input('Enter first number:'))\n",
    "    y=int(input('Enter second number:'))\n",
    "    z=x/y\n",
    "    print(z)\n",
    "except ZeroDivisionError:\n",
    "    print('you can not divide any value by zero.')"
   ]
  },
  {
   "cell_type": "code",
   "execution_count": 12,
   "id": "f51bcde5-5492-44b6-8773-f159952d66b1",
   "metadata": {},
   "outputs": [
    {
     "name": "stdout",
     "output_type": "stream",
     "text": [
      "ZeroDivisionError\n",
      "hello world\n"
     ]
    }
   ],
   "source": [
    "try:\n",
    "    True/False\n",
    "except:\n",
    "    print('ZeroDivisionError')\n",
    "\n",
    "print('hello world')"
   ]
  },
  {
   "cell_type": "code",
   "execution_count": 16,
   "id": "98c18f95-7c2f-4596-b075-d13d59ab9f07",
   "metadata": {},
   "outputs": [
    {
     "ename": "ZeroDivisionError",
     "evalue": "division by zero",
     "output_type": "error",
     "traceback": [
      "\u001b[1;31m---------------------------------------------------------------------------\u001b[0m",
      "\u001b[1;31mZeroDivisionError\u001b[0m                         Traceback (most recent call last)",
      "Cell \u001b[1;32mIn[16], line 4\u001b[0m\n\u001b[0;32m      1\u001b[0m nlis\u001b[38;5;241m=\u001b[39m[]\n\u001b[0;32m      2\u001b[0m count\u001b[38;5;241m=\u001b[39m\u001b[38;5;241m1\u001b[39m\n\u001b[1;32m----> 4\u001b[0m \u001b[43mcount\u001b[49m\u001b[38;5;241;43m/\u001b[39;49m\u001b[38;5;28;43mlen\u001b[39;49m\u001b[43m(\u001b[49m\u001b[43mnlis\u001b[49m\u001b[43m)\u001b[49m\n",
      "\u001b[1;31mZeroDivisionError\u001b[0m: division by zero"
     ]
    }
   ],
   "source": [
    "nlis=[]\n",
    "count=1\n",
    "\n",
    "count/len(nlis)"
   ]
  },
  {
   "cell_type": "code",
   "execution_count": 17,
   "id": "ec648fe3-64c1-4677-9f61-9e46507b5e85",
   "metadata": {},
   "outputs": [
    {
     "name": "stdout",
     "output_type": "stream",
     "text": [
      "Cannot divide by zero\n"
     ]
    }
   ],
   "source": [
    "try:\n",
    "    nlis = []\n",
    "    count = 1\n",
    "    count / len(nlis)\n",
    "except ZeroDivisionError:\n",
    "    print('Cannot divide by zero')"
   ]
  },
  {
   "cell_type": "code",
   "execution_count": 27,
   "id": "669fffe2-dd63-4978-a284-01a5176ca951",
   "metadata": {},
   "outputs": [
    {
     "name": "stdout",
     "output_type": "stream",
     "text": [
      "NameError\n"
     ]
    }
   ],
   "source": [
    "try:\n",
    "    y=x1+5\n",
    "    print(y)\n",
    "except NameError:\n",
    "    print(\"NameError\")\n",
    "# except:\n",
    "#     print('Hello world')"
   ]
  },
  {
   "cell_type": "code",
   "execution_count": 31,
   "id": "78bccf25-482d-43f7-8da0-d19ce066fd87",
   "metadata": {},
   "outputs": [
    {
     "ename": "NameError",
     "evalue": "name 'add' is not defined",
     "output_type": "error",
     "traceback": [
      "\u001b[1;31m---------------------------------------------------------------------------\u001b[0m",
      "\u001b[1;31mNameError\u001b[0m                                 Traceback (most recent call last)",
      "Cell \u001b[1;32mIn[31], line 6\u001b[0m\n\u001b[0;32m      4\u001b[0m     z\u001b[38;5;241m=\u001b[39mx\u001b[38;5;241m+\u001b[39my\n\u001b[0;32m      5\u001b[0m     \u001b[38;5;28;01mreturn\u001b[39;00m z\n\u001b[1;32m----> 6\u001b[0m total\u001b[38;5;241m=\u001b[39m\u001b[43madd\u001b[49m(\u001b[38;5;241m2\u001b[39m,\u001b[38;5;241m3\u001b[39m)\n\u001b[0;32m      7\u001b[0m total\n",
      "\u001b[1;31mNameError\u001b[0m: name 'add' is not defined"
     ]
    }
   ],
   "source": [
    "# define a function giving a NameError.\n",
    "\n",
    "def addition(x,y):\n",
    "    z=x+y\n",
    "    return z\n",
    "total=add(2,3)\n",
    "total"
   ]
  },
  {
   "cell_type": "code",
   "execution_count": 34,
   "id": "7c98f57d-6c08-499e-8d52-d59b92ede477",
   "metadata": {},
   "outputs": [
    {
     "name": "stdout",
     "output_type": "stream",
     "text": [
      "NameError\n"
     ]
    }
   ],
   "source": [
    "try:\n",
    "    def addition(x,y):\n",
    "        z=x+y\n",
    "        return z\n",
    "    total=add(2,3)\n",
    "    total\n",
    "except:\n",
    "    print('NameError')"
   ]
  },
  {
   "cell_type": "code",
   "execution_count": 36,
   "id": "38239b26-ade9-465f-98ab-edceb6a0e9d8",
   "metadata": {},
   "outputs": [
    {
     "name": "stdout",
     "output_type": "stream",
     "text": [
      "This is name Name Error, Enter correct name\n"
     ]
    }
   ],
   "source": [
    "try:\n",
    "    def addition(x,y):\n",
    "        z=x+y\n",
    "        return z\n",
    "\n",
    "    add(10,20)\n",
    "except NameError:\n",
    "    print('This is name Name Error, Enter correct name')"
   ]
  },
  {
   "cell_type": "markdown",
   "id": "f2e1a5db-a54f-41dc-878d-8b8fcf3b565d",
   "metadata": {},
   "source": [
    "# Index Error"
   ]
  },
  {
   "cell_type": "code",
   "execution_count": 5,
   "id": "1322eeda-165f-4818-b7e3-719f76ecc789",
   "metadata": {},
   "outputs": [
    {
     "name": "stdout",
     "output_type": "stream",
     "text": [
      "10\n",
      "20\n",
      "30\n",
      "40\n"
     ]
    },
    {
     "ename": "IndexError",
     "evalue": "list index out of range",
     "output_type": "error",
     "traceback": [
      "\u001b[1;31m---------------------------------------------------------------------------\u001b[0m",
      "\u001b[1;31mIndexError\u001b[0m                                Traceback (most recent call last)",
      "Cell \u001b[1;32mIn[5], line 8\u001b[0m\n\u001b[0;32m      6\u001b[0m \u001b[38;5;28mprint\u001b[39m(list1[\u001b[38;5;241m2\u001b[39m])\n\u001b[0;32m      7\u001b[0m \u001b[38;5;28mprint\u001b[39m(list1[\u001b[38;5;241m3\u001b[39m])\n\u001b[1;32m----> 8\u001b[0m \u001b[38;5;28mprint\u001b[39m(\u001b[43mlist1\u001b[49m\u001b[43m[\u001b[49m\u001b[38;5;241;43m10\u001b[39;49m\u001b[43m]\u001b[49m)\n",
      "\u001b[1;31mIndexError\u001b[0m: list index out of range"
     ]
    }
   ],
   "source": [
    "# string,list,tuple,set---not index[random value], dict-not index[key:value]\n",
    "#-------------------------------------------------------------------\n",
    "list1=[10,20,30,40,50,60,70,80,90]\n",
    "print(list1[0])\n",
    "print(list1[1])\n",
    "print(list1[2])\n",
    "print(list1[3])\n",
    "print(list1[10])"
   ]
  },
  {
   "cell_type": "code",
   "execution_count": 11,
   "id": "ee2cfb36-df06-4f3d-a817-917bb0a118a2",
   "metadata": {},
   "outputs": [
    {
     "name": "stdout",
     "output_type": "stream",
     "text": [
      "<class 'list'>\n",
      "IndexValue Not Found\n"
     ]
    }
   ],
   "source": [
    "# Index Value Error in List\n",
    "try:\n",
    "    list1=[10,20,30,40,50,60,70,80,90]\n",
    "    print(type(list1))\n",
    "    print(list1[20])\n",
    "\n",
    "except IndexError:\n",
    "    print('IndexValue Not Found')"
   ]
  },
  {
   "cell_type": "code",
   "execution_count": 13,
   "id": "b8a288ec-5ba6-4df0-8639-78d9c8d63a57",
   "metadata": {},
   "outputs": [
    {
     "name": "stdout",
     "output_type": "stream",
     "text": [
      "<class 'tuple'>\n",
      "60\n"
     ]
    }
   ],
   "source": [
    "# Index Value Error in Tuple\n",
    "try:\n",
    "    tup1=(10,20,30,40,50,60,70,80,90)\n",
    "    print(type(tup1))\n",
    "    print(tup1[5])\n",
    "\n",
    "except IndexError:\n",
    "    print('IndexValue Not Found')"
   ]
  },
  {
   "cell_type": "code",
   "execution_count": 20,
   "id": "c5cfdc45-0afc-4710-a6fa-a1d362d239fd",
   "metadata": {},
   "outputs": [
    {
     "name": "stdout",
     "output_type": "stream",
     "text": [
      "IndexValue Not Found in string\n"
     ]
    }
   ],
   "source": [
    "# Index value error in string\n",
    "try:\n",
    "    str1=\"Hello World\"\n",
    "    print(str1[100])\n",
    "except IndexError:\n",
    "    print('IndexValue Not Found in string')"
   ]
  },
  {
   "cell_type": "code",
   "execution_count": 23,
   "id": "cedc68ba-dac1-41c2-90df-70abba22e611",
   "metadata": {},
   "outputs": [
    {
     "name": "stdin",
     "output_type": "stream",
     "text": [
      "Enter a number: u\n"
     ]
    },
    {
     "ename": "ValueError",
     "evalue": "could not convert string to float: 'u'",
     "output_type": "error",
     "traceback": [
      "\u001b[1;31m---------------------------------------------------------------------------\u001b[0m",
      "\u001b[1;31mValueError\u001b[0m                                Traceback (most recent call last)",
      "Cell \u001b[1;32mIn[23], line 1\u001b[0m\n\u001b[1;32m----> 1\u001b[0m num1\u001b[38;5;241m=\u001b[39m\u001b[38;5;28;43mfloat\u001b[39;49m\u001b[43m(\u001b[49m\u001b[38;5;28;43minput\u001b[39;49m\u001b[43m(\u001b[49m\u001b[38;5;124;43m'\u001b[39;49m\u001b[38;5;124;43mEnter a number:\u001b[39;49m\u001b[38;5;124;43m'\u001b[39;49m\u001b[43m)\u001b[49m\u001b[43m)\u001b[49m\n\u001b[0;32m      2\u001b[0m \u001b[38;5;66;03m# print('The entered value is:',num1)\u001b[39;00m\n\u001b[0;32m      3\u001b[0m \u001b[38;5;28;01mtry\u001b[39;00m:\n",
      "\u001b[1;31mValueError\u001b[0m: could not convert string to float: 'u'"
     ]
    }
   ],
   "source": [
    "num1=float(input('Enter a number:'))\n",
    "# print('The entered value is:',num1)\n",
    "try:\n",
    "    num2=float(input('Enter a number'))\n",
    "    # print('The entered value is:',num2)\n",
    "    value=num1/num2\n",
    "except ZeroDivisionError:\n",
    "    print(\"This function gives a ZeroDivisionError since a number cannot divide by 0.\")\n",
    "except ValueError:\n",
    "    print('You Should provide a valid number.')\n",
    "except:\n",
    "    print('Something Went wrong.')\n",
    "else:\n",
    "    print('The processed value is:',value)"
   ]
  },
  {
   "cell_type": "code",
   "execution_count": 30,
   "id": "70408c59-6885-48d8-b900-f8d3a0c215bc",
   "metadata": {},
   "outputs": [
    {
     "name": "stdin",
     "output_type": "stream",
     "text": [
      "Enter a number: u\n"
     ]
    },
    {
     "name": "stdout",
     "output_type": "stream",
     "text": [
      "You Should provide a valid number.\n"
     ]
    }
   ],
   "source": [
    "try:\n",
    "    num1=float(input('Enter a number:'))\n",
    "    # print('The entered value is:',num1)\n",
    "    num2=float(input('Enter a number'))\n",
    "    # print('The entered value is:',num2)\n",
    "    value=num1/num2\n",
    "except ZeroDivisionError:\n",
    "    print(\"This function gives a ZeroDivisionError since a number cannot divide by 0.\")\n",
    "except ValueError:\n",
    "    print('You Should provide a valid number.')\n",
    "except:\n",
    "    print('Something Went wrong.')\n",
    "else:\n",
    "    print('The processed value is:',value)"
   ]
  },
  {
   "cell_type": "code",
   "execution_count": 32,
   "id": "431ba44a-f80d-44d1-8de1-8847a6c63cde",
   "metadata": {},
   "outputs": [
    {
     "name": "stdin",
     "output_type": "stream",
     "text": [
      "Enter a number: u\n"
     ]
    },
    {
     "name": "stdout",
     "output_type": "stream",
     "text": [
      "You Should provide a valid number.\n",
      "Done!\n"
     ]
    }
   ],
   "source": [
    "try:\n",
    "    num1=float(input('Enter a number:'))\n",
    "    # print('The entered value is:',num1)\n",
    "    num2=float(input('Enter a number'))\n",
    "    # print('The entered value is:',num2)\n",
    "    value=num1/num2\n",
    "except ZeroDivisionError:\n",
    "    print(\"This function gives a ZeroDivisionError since a number cannot divide by 0.\")\n",
    "except ValueError:\n",
    "    print('You Should provide a valid number.')\n",
    "except:\n",
    "    print('Something Went wrong.')\n",
    "else:\n",
    "    print('The processed value is:',value)\n",
    "\n",
    "finally:\n",
    "    print(\"Done!\")"
   ]
  },
  {
   "cell_type": "code",
   "execution_count": 39,
   "id": "8b333260-f183-4087-a23f-f077ae9a0ca1",
   "metadata": {},
   "outputs": [
    {
     "name": "stdout",
     "output_type": "stream",
     "text": [
      "List1: [0, 1, 2, 3, 4, 5, 6, 7, 8, 9, 10] = 55\n"
     ]
    }
   ],
   "source": [
    "# sum of 10 natural number using while loop with try:except function.\n",
    "\n",
    "try:\n",
    "    i=0\n",
    "    sum1=0\n",
    "    list1=[]\n",
    "    while i<=10:\n",
    "        sum1=sum1+i\n",
    "        list1.append(i)\n",
    "        i+=1\n",
    "except ValueError:\n",
    "    print('ValueError')\n",
    "\n",
    "else:\n",
    "    print(\"List1:\",list1,\"=\",sum1)"
   ]
  },
  {
   "cell_type": "code",
   "execution_count": 42,
   "id": "c90b7e78-a190-45ee-8184-88091608e343",
   "metadata": {},
   "outputs": [
    {
     "name": "stdin",
     "output_type": "stream",
     "text": [
      "Enter Ending Range: u\n"
     ]
    },
    {
     "name": "stdout",
     "output_type": "stream",
     "text": [
      "ValueError\n"
     ]
    }
   ],
   "source": [
    "# sum of 10 natural number using while loop with try:except function.\n",
    "\n",
    "try:\n",
    "    y=int(input('Enter Ending Range:'))\n",
    "    i=0\n",
    "    sum1=0\n",
    "    list1=[]\n",
    "    while i<=y:\n",
    "        sum1=sum1+i\n",
    "        list1.append(i)\n",
    "        i+=1\n",
    "except ValueError:\n",
    "    print('ValueError')\n",
    "\n",
    "else:\n",
    "    print(\"List1:\",list1,\"=\",sum1)"
   ]
  },
  {
   "cell_type": "code",
   "execution_count": 48,
   "id": "9caac346-06a7-4909-8b79-1243cf7d77b9",
   "metadata": {},
   "outputs": [
    {
     "name": "stdin",
     "output_type": "stream",
     "text": [
      "Enter your Ending Range: 10\n"
     ]
    },
    {
     "name": "stdout",
     "output_type": "stream",
     "text": [
      "[0, 1, 2, 3, 4, 5, 6, 7, 8, 9, 10] = 55\n",
      "Your Code is Working SuccessFully!\n"
     ]
    }
   ],
   "source": [
    "# same query use with function and while loop inside the exception handling.\n",
    "\n",
    "\n",
    "# sum of 10 natural number using while loop with try:except function.\n",
    "\n",
    "try:\n",
    "    def sum_natural():\n",
    "        y=int(input('Enter your Ending Range:'))\n",
    "        sum1=0\n",
    "        i=0\n",
    "        list1=[]\n",
    "        while i<=y:\n",
    "            list1.append(i)\n",
    "            sum1=sum1+i\n",
    "            i+=1\n",
    "        print(list1,'=',sum1)\n",
    "    sum_natural()\n",
    "except ValueError:\n",
    "    print(\"ValueError\")\n",
    "except:\n",
    "    print('Invalid Input')\n",
    "finally:\n",
    "    print('Your Code is Working SuccessFully!')"
   ]
  },
  {
   "cell_type": "code",
   "execution_count": null,
   "id": "9cd63893-9288-4f4e-b9a5-550fc5085497",
   "metadata": {},
   "outputs": [],
   "source": []
  }
 ],
 "metadata": {
  "kernelspec": {
   "display_name": "Python 3 (ipykernel)",
   "language": "python",
   "name": "python3"
  },
  "language_info": {
   "codemirror_mode": {
    "name": "ipython",
    "version": 3
   },
   "file_extension": ".py",
   "mimetype": "text/x-python",
   "name": "python",
   "nbconvert_exporter": "python",
   "pygments_lexer": "ipython3",
   "version": "3.12.2"
  }
 },
 "nbformat": 4,
 "nbformat_minor": 5
}
