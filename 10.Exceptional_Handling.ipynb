{
 "cells": [
  {
   "cell_type": "markdown",
   "id": "279dd482-7a91-4fac-ae96-aef4809cb06b",
   "metadata": {},
   "source": [
    "# 10. Exception Handling in Python\n",
    "\n",
    "* __An Exception is an event, which occurs during the execution of a program that disrupts the normal flow of the program's instructions.__\n",
    "* __In general, when a Python scrikpt encounters a situation thta it cannot cope with, it raises an exception.__\n",
    "* __An exception is a Python object that represents an error.__\n",
    "* __When a Python script raises an exception, it must either handle the exception immediately other it terminates and quits.__\n",
    "* __If you have some suspicious code that may an exception, you can defend your program by placing the suspicious code in try:block.__\n",
    "* __After the try:block, incldue an except:statement, followed by a block of code which handles the problem an elegantly as possible.__\n",
    "* __Common exceptions__\n",
    "* __ZeroDivision Error__\n",
    "* __NameError__\n",
    "* __ValueError__\n",
    "* __IOError__\n",
    "* __EOFError__\n",
    "* __IndentationError__"
   ]
  },
  {
   "cell_type": "code",
   "execution_count": 4,
   "id": "057dda79-cdbb-431c-9380-a9922df1dc91",
   "metadata": {},
   "outputs": [
    {
     "name": "stdout",
     "output_type": "stream",
     "text": [
      "You can not divide any value by zero.\n"
     ]
    }
   ],
   "source": [
    "try:\n",
    "    1/0\n",
    "except ZeroDivisionError:\n",
    "    print('You can not divide any value by zero.')"
   ]
  },
  {
   "cell_type": "code",
   "execution_count": 7,
   "id": "f4dd4e30-616d-44a3-aa36-d69c312b0bf1",
   "metadata": {},
   "outputs": [
    {
     "name": "stdin",
     "output_type": "stream",
     "text": [
      "Enter first number: 1\n",
      "Enter second number: 0\n"
     ]
    },
    {
     "name": "stdout",
     "output_type": "stream",
     "text": [
      "you can not divide any value by zero.\n"
     ]
    }
   ],
   "source": [
    "try:\n",
    "    x=int(input('Enter first number:'))\n",
    "    y=int(input('Enter second number:'))\n",
    "    z=x/y\n",
    "    print(z)\n",
    "except ZeroDivisionError:\n",
    "    print('you can not divide any value by zero.')"
   ]
  },
  {
   "cell_type": "code",
   "execution_count": 8,
   "id": "49fe61b1-18b7-48cb-9e91-6e24cb06b55a",
   "metadata": {},
   "outputs": [
    {
     "data": {
      "text/plain": [
       "ZeroDivisionError"
      ]
     },
     "execution_count": 8,
     "metadata": {},
     "output_type": "execute_result"
    }
   ],
   "source": [
    "ZeroDivisionError   "
   ]
  },
  {
   "cell_type": "code",
   "execution_count": 9,
   "id": "05ce100c-d01c-48d7-8832-b3a7cf3bad4e",
   "metadata": {},
   "outputs": [
    {
     "name": "stdin",
     "output_type": "stream",
     "text": [
      "Enter first number: 10\n",
      "Enter second number: 26\n"
     ]
    },
    {
     "name": "stdout",
     "output_type": "stream",
     "text": [
      "0.38461538461538464\n"
     ]
    }
   ],
   "source": [
    "try:\n",
    "    x=int(input('Enter first number:'))\n",
    "    y=int(input('Enter second number:'))\n",
    "    z=x/y\n",
    "    print(z)\n",
    "except ZeroDivisionError:\n",
    "    print('you can not divide any value by zero.')"
   ]
  },
  {
   "cell_type": "code",
   "execution_count": 12,
   "id": "f51bcde5-5492-44b6-8773-f159952d66b1",
   "metadata": {},
   "outputs": [
    {
     "name": "stdout",
     "output_type": "stream",
     "text": [
      "ZeroDivisionError\n",
      "hello world\n"
     ]
    }
   ],
   "source": [
    "try:\n",
    "    True/False\n",
    "except:\n",
    "    print('ZeroDivisionError')\n",
    "\n",
    "print('hello world')"
   ]
  },
  {
   "cell_type": "code",
   "execution_count": 16,
   "id": "98c18f95-7c2f-4596-b075-d13d59ab9f07",
   "metadata": {},
   "outputs": [
    {
     "ename": "ZeroDivisionError",
     "evalue": "division by zero",
     "output_type": "error",
     "traceback": [
      "\u001b[1;31m---------------------------------------------------------------------------\u001b[0m",
      "\u001b[1;31mZeroDivisionError\u001b[0m                         Traceback (most recent call last)",
      "Cell \u001b[1;32mIn[16], line 4\u001b[0m\n\u001b[0;32m      1\u001b[0m nlis\u001b[38;5;241m=\u001b[39m[]\n\u001b[0;32m      2\u001b[0m count\u001b[38;5;241m=\u001b[39m\u001b[38;5;241m1\u001b[39m\n\u001b[1;32m----> 4\u001b[0m \u001b[43mcount\u001b[49m\u001b[38;5;241;43m/\u001b[39;49m\u001b[38;5;28;43mlen\u001b[39;49m\u001b[43m(\u001b[49m\u001b[43mnlis\u001b[49m\u001b[43m)\u001b[49m\n",
      "\u001b[1;31mZeroDivisionError\u001b[0m: division by zero"
     ]
    }
   ],
   "source": [
    "nlis=[]\n",
    "count=1\n",
    "\n",
    "count/len(nlis)"
   ]
  },
  {
   "cell_type": "code",
   "execution_count": 17,
   "id": "ec648fe3-64c1-4677-9f61-9e46507b5e85",
   "metadata": {},
   "outputs": [
    {
     "name": "stdout",
     "output_type": "stream",
     "text": [
      "Cannot divide by zero\n"
     ]
    }
   ],
   "source": [
    "try:\n",
    "    nlis = []\n",
    "    count = 1\n",
    "    count / len(nlis)\n",
    "except ZeroDivisionError:\n",
    "    print('Cannot divide by zero')"
   ]
  },
  {
   "cell_type": "code",
   "execution_count": 27,
   "id": "669fffe2-dd63-4978-a284-01a5176ca951",
   "metadata": {},
   "outputs": [
    {
     "name": "stdout",
     "output_type": "stream",
     "text": [
      "NameError\n"
     ]
    }
   ],
   "source": [
    "try:\n",
    "    y=x1+5\n",
    "    print(y)\n",
    "except NameError:\n",
    "    print(\"NameError\")\n",
    "# except:\n",
    "#     print('Hello world')"
   ]
  },
  {
   "cell_type": "code",
   "execution_count": 31,
   "id": "78bccf25-482d-43f7-8da0-d19ce066fd87",
   "metadata": {},
   "outputs": [
    {
     "ename": "NameError",
     "evalue": "name 'add' is not defined",
     "output_type": "error",
     "traceback": [
      "\u001b[1;31m---------------------------------------------------------------------------\u001b[0m",
      "\u001b[1;31mNameError\u001b[0m                                 Traceback (most recent call last)",
      "Cell \u001b[1;32mIn[31], line 6\u001b[0m\n\u001b[0;32m      4\u001b[0m     z\u001b[38;5;241m=\u001b[39mx\u001b[38;5;241m+\u001b[39my\n\u001b[0;32m      5\u001b[0m     \u001b[38;5;28;01mreturn\u001b[39;00m z\n\u001b[1;32m----> 6\u001b[0m total\u001b[38;5;241m=\u001b[39m\u001b[43madd\u001b[49m(\u001b[38;5;241m2\u001b[39m,\u001b[38;5;241m3\u001b[39m)\n\u001b[0;32m      7\u001b[0m total\n",
      "\u001b[1;31mNameError\u001b[0m: name 'add' is not defined"
     ]
    }
   ],
   "source": [
    "# define a function giving a NameError.\n",
    "\n",
    "def addition(x,y):\n",
    "    z=x+y\n",
    "    return z\n",
    "total=add(2,3)\n",
    "total"
   ]
  },
  {
   "cell_type": "code",
   "execution_count": 34,
   "id": "7c98f57d-6c08-499e-8d52-d59b92ede477",
   "metadata": {},
   "outputs": [
    {
     "name": "stdout",
     "output_type": "stream",
     "text": [
      "NameError\n"
     ]
    }
   ],
   "source": [
    "try:\n",
    "    def addition(x,y):\n",
    "        z=x+y\n",
    "        return z\n",
    "    total=add(2,3)\n",
    "    total\n",
    "except:\n",
    "    print('NameError')"
   ]
  },
  {
   "cell_type": "code",
   "execution_count": 36,
   "id": "38239b26-ade9-465f-98ab-edceb6a0e9d8",
   "metadata": {},
   "outputs": [
    {
     "name": "stdout",
     "output_type": "stream",
     "text": [
      "This is name Name Error, Enter correct name\n"
     ]
    }
   ],
   "source": [
    "try:\n",
    "    def addition(x,y):\n",
    "        z=x+y\n",
    "        return z\n",
    "\n",
    "    add(10,20)\n",
    "except NameError:\n",
    "    print('This is name Name Error, Enter correct name')"
   ]
  },
  {
   "cell_type": "code",
   "execution_count": null,
   "id": "1ed8675b-c384-4b91-82e6-9e429f4516c3",
   "metadata": {},
   "outputs": [],
   "source": []
  }
 ],
 "metadata": {
  "kernelspec": {
   "display_name": "Python 3 (ipykernel)",
   "language": "python",
   "name": "python3"
  },
  "language_info": {
   "codemirror_mode": {
    "name": "ipython",
    "version": 3
   },
   "file_extension": ".py",
   "mimetype": "text/x-python",
   "name": "python",
   "nbconvert_exporter": "python",
   "pygments_lexer": "ipython3",
   "version": "3.12.2"
  }
 },
 "nbformat": 4,
 "nbformat_minor": 5
}
