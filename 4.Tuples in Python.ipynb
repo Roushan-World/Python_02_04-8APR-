{
 "cells": [
  {
   "cell_type": "markdown",
   "id": "3b8288f4-1ef0-4a56-8783-a608a80569ff",
   "metadata": {},
   "source": [
    "# 4. Tuples in Python\n",
    "\n",
    " * __Tuples are immutable lists and cannot be changed in any way once it is created.__\n",
    " * __Tuples are definied in the same way as lists.__\n",
    " * __Tuples are ordered, indexed collections of data.__\n",
    " * __Similar to string indices, the first value in the tuple will have the index[0], the second value[1].__\n",
    " * __Negative indices are counted from the end of the tuple, just like lists.__\n",
    " * __Tuples also has the same structure where commas separate the value.__\n",
    " * __Tuples can store duplicates value.__\n",
    " * __Tuples allow you to store several data items inclduing string, integer, float in the on variables.__"
   ]
  },
  {
   "cell_type": "code",
   "execution_count": 2,
   "id": "83ba504b-cfc8-4c21-9876-5a833b7b90a1",
   "metadata": {},
   "outputs": [
    {
     "name": "stdout",
     "output_type": "stream",
     "text": [
      "('Hello world', 3.14, 2.718, True, False, [10, 20], {1, 2, 3}, {'a': 20, 'b': 30}, (0, 1))\n"
     ]
    }
   ],
   "source": [
    "# Take an example of tuples\n",
    "\n",
    "tuple_1=('Hello world',3.14,2.718,True,False,[10,20],{1,2,3},{'a':20,'b':30},(0,1))   # parentheses\n",
    "print(tuple_1)"
   ]
  },
  {
   "cell_type": "code",
   "execution_count": 3,
   "id": "65a2abf9-a462-49b0-98c5-09c6685e1308",
   "metadata": {},
   "outputs": [
    {
     "name": "stdout",
     "output_type": "stream",
     "text": [
      "<class 'tuple'>\n"
     ]
    }
   ],
   "source": [
    "print(type(tuple_1))"
   ]
  },
  {
   "cell_type": "code",
   "execution_count": 12,
   "id": "33d8c514-b7ed-47d7-9d84-d83c0356d638",
   "metadata": {},
   "outputs": [
    {
     "name": "stdout",
     "output_type": "stream",
     "text": [
      "('Hello world', 3.14, 2.718, True, False, [10, 20], {1, 2, 3}, {'a': 20, 'b': 30}, (0, 1))\n",
      "Hello world\n",
      "<class 'str'>\n",
      "3.14\n",
      "<class 'float'>\n",
      "2.718\n",
      "<class 'float'>\n",
      "True\n",
      "<class 'bool'>\n",
      "False\n",
      "<class 'bool'>\n",
      "[10, 20]\n",
      "<class 'list'>\n",
      "{1, 2, 3}\n",
      "<class 'set'>\n",
      "{'a': 20, 'b': 30}\n",
      "<class 'dict'>\n",
      "(0, 1)\n",
      "<class 'tuple'>\n"
     ]
    }
   ],
   "source": [
    "tuple_1=('Hello world',3.14,2.718,True,False,[10,20],{1,2,3},{'a':20,'b':30},(0,1))   # parentheses\n",
    "print(tuple_1)\n",
    "print(tuple_1[0])\n",
    "print(type(tuple_1[0]))\n",
    "print(tuple_1[1])\n",
    "print(type(tuple_1[1]))\n",
    "print(tuple_1[2])\n",
    "print(type(tuple_1[2]))\n",
    "print(tuple_1[3])\n",
    "print(type(tuple_1[3]))\n",
    "print(tuple_1[4])\n",
    "print(type(tuple_1[4]))\n",
    "print(tuple_1[5])\n",
    "print(type(tuple_1[5]))\n",
    "print(tuple_1[6])\n",
    "print(type(tuple_1[6]))\n",
    "print(tuple_1[7])\n",
    "print(type(tuple_1[7]))\n",
    "print(tuple_1[8])\n",
    "print(type(tuple_1[8]))\n"
   ]
  },
  {
   "cell_type": "code",
   "execution_count": 16,
   "id": "244810a4-d4c0-41a1-9e6e-bd6143f1c199",
   "metadata": {},
   "outputs": [
    {
     "name": "stdout",
     "output_type": "stream",
     "text": [
      "('Hello world', 3.14, 2.718, True, False, [10, 20], {1, 2, 3}, {'a': 20, 'b': 30}, (0, 1))\n"
     ]
    }
   ],
   "source": [
    "tuple_1=('Hello world',3.14,2.718,True,False,[10,20],{1,2,3},{'a':20,'b':30},(0,1))   # parentheses\n",
    "print(tuple_1)"
   ]
  },
  {
   "cell_type": "code",
   "execution_count": 17,
   "id": "a51079e5-4fd0-42f1-babf-9c127a41d2f9",
   "metadata": {},
   "outputs": [
    {
     "name": "stdout",
     "output_type": "stream",
     "text": [
      "10\n"
     ]
    }
   ],
   "source": [
    "print(tuple_1[5][0])"
   ]
  },
  {
   "cell_type": "code",
   "execution_count": 18,
   "id": "04d4f63b-e887-4cf0-a9cb-176ee367c310",
   "metadata": {},
   "outputs": [
    {
     "name": "stdout",
     "output_type": "stream",
     "text": [
      "1\n"
     ]
    }
   ],
   "source": [
    "print(tuple_1[8][1])"
   ]
  },
  {
   "cell_type": "code",
   "execution_count": 19,
   "id": "a4a512f7-faf1-4d06-bcfe-32f3abbd0f0f",
   "metadata": {},
   "outputs": [
    {
     "data": {
      "text/plain": [
       "'Abhishek Wani'"
      ]
     },
     "execution_count": 19,
     "metadata": {},
     "output_type": "execute_result"
    }
   ],
   "source": [
    "# Concatenation of tuple\n",
    "\n",
    "'Abhishek'+' Wani'"
   ]
  },
  {
   "cell_type": "code",
   "execution_count": 20,
   "id": "df5365f3-e6af-4456-bb5e-61ad9ba9025d",
   "metadata": {},
   "outputs": [
    {
     "data": {
      "text/plain": [
       "5"
      ]
     },
     "execution_count": 20,
     "metadata": {},
     "output_type": "execute_result"
    }
   ],
   "source": [
    "2 + 3"
   ]
  },
  {
   "cell_type": "code",
   "execution_count": 23,
   "id": "c2ad8ae5-bc1a-443b-a295-c768714f2cff",
   "metadata": {},
   "outputs": [
    {
     "name": "stdout",
     "output_type": "stream",
     "text": [
      "('Hello world', 3.14, 2.718, True, False, [10, 20], {1, 2, 3}, {'a': 20, 'b': 30}, (0, 1))\n"
     ]
    }
   ],
   "source": [
    "# Concatenation of tuple\n",
    "\n",
    "print(tuple_1)"
   ]
  },
  {
   "cell_type": "code",
   "execution_count": 24,
   "id": "764ab6c8-459e-4cd1-a729-253390008eb6",
   "metadata": {},
   "outputs": [
    {
     "name": "stdout",
     "output_type": "stream",
     "text": [
      "('Hello world', 'Mukul Jha', 'Python')\n",
      "<class 'tuple'>\n"
     ]
    }
   ],
   "source": [
    "tuple_2=('Hello world','Mukul Jha','Python')\n",
    "print(tuple_2)\n",
    "print(type(tuple_2))"
   ]
  },
  {
   "cell_type": "code",
   "execution_count": 26,
   "id": "9b0603b6-c6da-47b7-b010-b8485196fc59",
   "metadata": {},
   "outputs": [
    {
     "name": "stdout",
     "output_type": "stream",
     "text": [
      "('Hello world', 3.14, 2.718, True, False, [10, 20], {1, 2, 3}, {'a': 20, 'b': 30}, (0, 1), 'Hello world', 'Mukul Jha', 'Python')\n"
     ]
    }
   ],
   "source": [
    "x=tuple_1+tuple_2\n",
    "print(x)"
   ]
  },
  {
   "cell_type": "code",
   "execution_count": 27,
   "id": "83dba389-4904-436a-ba40-326369644bbc",
   "metadata": {},
   "outputs": [
    {
     "data": {
      "text/plain": [
       "6"
      ]
     },
     "execution_count": 27,
     "metadata": {},
     "output_type": "execute_result"
    }
   ],
   "source": [
    "# Repetation of number\n",
    "\n",
    "3*2"
   ]
  },
  {
   "cell_type": "code",
   "execution_count": 29,
   "id": "59eb20ed-cd34-4b22-bb75-04246ce7bce6",
   "metadata": {},
   "outputs": [
    {
     "data": {
      "text/plain": [
       "('Hello world', 'Mukul Jha', 'Python', 'Hello world', 'Mukul Jha', 'Python')"
      ]
     },
     "execution_count": 29,
     "metadata": {},
     "output_type": "execute_result"
    }
   ],
   "source": [
    "tuple_2*2"
   ]
  },
  {
   "cell_type": "code",
   "execution_count": 30,
   "id": "c54789d6-cf73-4a8e-9791-2589798ab5e8",
   "metadata": {},
   "outputs": [
    {
     "data": {
      "text/plain": [
       "'abhishekabhishek'"
      ]
     },
     "execution_count": 30,
     "metadata": {},
     "output_type": "execute_result"
    }
   ],
   "source": [
    "a='abhishek'*2\n",
    "a"
   ]
  },
  {
   "cell_type": "code",
   "execution_count": 31,
   "id": "8f714e01-f315-47ae-96d8-3c33f418bef0",
   "metadata": {},
   "outputs": [
    {
     "name": "stdout",
     "output_type": "stream",
     "text": [
      "(1, 2, 3, 4, 5, 6)\n"
     ]
    }
   ],
   "source": [
    "# membership\n",
    "\n",
    "tuple_1=(1,2,3,4,5,6)\n",
    "print(tuple_1)"
   ]
  },
  {
   "cell_type": "code",
   "execution_count": 32,
   "id": "17febc9b-b96a-49e9-af7a-38eec9a57f45",
   "metadata": {},
   "outputs": [
    {
     "name": "stdout",
     "output_type": "stream",
     "text": [
      "True\n"
     ]
    }
   ],
   "source": [
    "print(1 in tuple_1)"
   ]
  },
  {
   "cell_type": "code",
   "execution_count": 33,
   "id": "bb617d07-2412-4ab4-acc5-b1dd971934fd",
   "metadata": {},
   "outputs": [
    {
     "name": "stdout",
     "output_type": "stream",
     "text": [
      "False\n"
     ]
    }
   ],
   "source": [
    "print(1 not in tuple_1)"
   ]
  },
  {
   "cell_type": "code",
   "execution_count": 34,
   "id": "3da078da-9fd3-4ac1-b3b2-3221e8c4079b",
   "metadata": {},
   "outputs": [
    {
     "name": "stdout",
     "output_type": "stream",
     "text": [
      "False\n"
     ]
    }
   ],
   "source": [
    "print(10 in tuple_1)"
   ]
  },
  {
   "cell_type": "code",
   "execution_count": 35,
   "id": "76ea9f40-a73c-4883-a93c-0cb94b7dc807",
   "metadata": {},
   "outputs": [
    {
     "name": "stdout",
     "output_type": "stream",
     "text": [
      "False\n"
     ]
    }
   ],
   "source": [
    "print('abhishek' in tuple_1)"
   ]
  },
  {
   "cell_type": "code",
   "execution_count": 36,
   "id": "2e368b71-4f2b-4c11-863c-7f6ac78135c9",
   "metadata": {},
   "outputs": [
    {
     "name": "stdout",
     "output_type": "stream",
     "text": [
      "False\n"
     ]
    }
   ],
   "source": [
    "print(6 not in tuple_1)"
   ]
  },
  {
   "cell_type": "code",
   "execution_count": 38,
   "id": "835f5402-fdfe-4058-82a8-5424c171eb30",
   "metadata": {},
   "outputs": [
    {
     "name": "stdout",
     "output_type": "stream",
     "text": [
      "(1, 2, 3, 4, 5, 6)\n",
      "True\n",
      "False\n"
     ]
    }
   ],
   "source": [
    "\n",
    "tuple_1=(1,2,3,4,5,6)\n",
    "print(tuple_1)\n",
    "\n",
    "print(6 in tuple_1)\n",
    "print(6 not in tuple_1)"
   ]
  },
  {
   "cell_type": "code",
   "execution_count": 49,
   "id": "ad856e96-3c56-46c3-9afa-89b6b60237e6",
   "metadata": {},
   "outputs": [
    {
     "name": "stdout",
     "output_type": "stream",
     "text": [
      "10\n",
      "100\n",
      "550\n",
      "2\n",
      "9\n",
      "10\n",
      "55.0\n"
     ]
    }
   ],
   "source": [
    "# aggrigate works only on numerical value () function: perform calculations (min,max,sum,count,find,average)\n",
    "\n",
    "tup=(10,20,30,40,50,60,70,80,90,100)\n",
    "print(min(tup))   # minimum number of tuple\n",
    "print(max(tup)) # maximum number of tuple\n",
    "print(sum(tup))  # total sum of the tuple\n",
    "print(tup.index(30))\n",
    "print(tup.index(100))\n",
    "print(len(tup))   # total length of the tuple\n",
    "print(sum(tup)/len(tup))  # average of tuple"
   ]
  },
  {
   "cell_type": "code",
   "execution_count": 53,
   "id": "82fab2b2-9931-4609-9af4-a0080d10b010",
   "metadata": {},
   "outputs": [
    {
     "name": "stdout",
     "output_type": "stream",
     "text": [
      "(0, 3, 97, 4, 6, 2, 9, 8, 3, 1)\n",
      "<class 'tuple'>\n",
      "Sorted Data is: [0, 1, 2, 3, 3, 4, 6, 8, 9, 97]\n",
      "Sorted Data type is: <class 'list'>\n"
     ]
    }
   ],
   "source": [
    "# Sorting(Ascending or Descending order)   # sort --> mutable # sorted--> immutable\n",
    "\n",
    "tuple_3=(0,3,97,4,6,2,9,8,3,1)\n",
    "print(tuple_3)\n",
    "print(type(tuple_3))\n",
    "x=sorted(tuple_3)\n",
    "print('Sorted Data is:',x)\n",
    "print('Sorted Data type is:',type(x))"
   ]
  },
  {
   "cell_type": "code",
   "execution_count": 56,
   "id": "70e20961-6874-4481-958e-7a70032b1574",
   "metadata": {},
   "outputs": [
    {
     "ename": "AttributeError",
     "evalue": "'tuple' object has no attribute 'append'",
     "output_type": "error",
     "traceback": [
      "\u001b[1;31m---------------------------------------------------------------------------\u001b[0m",
      "\u001b[1;31mAttributeError\u001b[0m                            Traceback (most recent call last)",
      "Cell \u001b[1;32mIn[56], line 3\u001b[0m\n\u001b[0;32m      1\u001b[0m \u001b[38;5;66;03m# Why we can say tuple is immutable data type:\u001b[39;00m\n\u001b[1;32m----> 3\u001b[0m \u001b[43mtuple_3\u001b[49m\u001b[38;5;241;43m.\u001b[39;49m\u001b[43mappend\u001b[49m(\u001b[38;5;124m'\u001b[39m\u001b[38;5;124mAbhishek\u001b[39m\u001b[38;5;124m'\u001b[39m)\n\u001b[0;32m      4\u001b[0m \u001b[38;5;28mprint\u001b[39m(tuple_3)\n",
      "\u001b[1;31mAttributeError\u001b[0m: 'tuple' object has no attribute 'append'"
     ]
    }
   ],
   "source": [
    "# Why we can say tuple is immutable data type:\n",
    "\n",
    "tuple_3.append('Abhishek')\n",
    "print(tuple_3)"
   ]
  },
  {
   "cell_type": "code",
   "execution_count": 55,
   "id": "9a33f9b5-361f-498c-abb6-622dd0319bbb",
   "metadata": {},
   "outputs": [
    {
     "name": "stdout",
     "output_type": "stream",
     "text": [
      "[10, 'Abhishek']\n"
     ]
    }
   ],
   "source": [
    "list1=[10]\n",
    "\n",
    "list1.append('Abhishek')\n",
    "print(list1)"
   ]
  },
  {
   "cell_type": "code",
   "execution_count": 57,
   "id": "c0642a56-a4de-4537-a276-bd2aa2ab1d3e",
   "metadata": {},
   "outputs": [
    {
     "data": {
      "text/plain": [
       "(0, 3, 97, 4, 6, 2, 9, 8, 3, 1)"
      ]
     },
     "execution_count": 57,
     "metadata": {},
     "output_type": "execute_result"
    }
   ],
   "source": [
    "tuple_3"
   ]
  },
  {
   "cell_type": "code",
   "execution_count": 58,
   "id": "fcb4de7f-e5d7-4a8b-9a0b-86d28e6738c7",
   "metadata": {},
   "outputs": [
    {
     "name": "stdout",
     "output_type": "stream",
     "text": [
      "[10, 'Abhishek']\n"
     ]
    }
   ],
   "source": [
    "list1=[10]\n",
    "\n",
    "list1.append('Abhishek')\n",
    "print(list1)"
   ]
  },
  {
   "cell_type": "code",
   "execution_count": 60,
   "id": "59e6ce0c-05a4-4746-9774-2fd374269ac3",
   "metadata": {},
   "outputs": [
    {
     "name": "stdout",
     "output_type": "stream",
     "text": [
      "[100, 'Abhishek']\n"
     ]
    }
   ],
   "source": [
    "list1[0]=100\n",
    "print(list1)"
   ]
  },
  {
   "cell_type": "code",
   "execution_count": 61,
   "id": "d9a2ff3e-0a21-4ff7-852d-cdae06766150",
   "metadata": {},
   "outputs": [
    {
     "data": {
      "text/plain": [
       "(0, 3, 97, 4, 6, 2, 9, 8, 3, 1)"
      ]
     },
     "execution_count": 61,
     "metadata": {},
     "output_type": "execute_result"
    }
   ],
   "source": [
    "tuple_3"
   ]
  },
  {
   "cell_type": "code",
   "execution_count": 63,
   "id": "c059b09a-891a-4315-804d-d339e6bb724d",
   "metadata": {},
   "outputs": [
    {
     "ename": "TypeError",
     "evalue": "'tuple' object does not support item assignment",
     "output_type": "error",
     "traceback": [
      "\u001b[1;31m---------------------------------------------------------------------------\u001b[0m",
      "\u001b[1;31mTypeError\u001b[0m                                 Traceback (most recent call last)",
      "Cell \u001b[1;32mIn[63], line 1\u001b[0m\n\u001b[1;32m----> 1\u001b[0m \u001b[43mtuple_3\u001b[49m\u001b[43m[\u001b[49m\u001b[38;5;241;43m0\u001b[39;49m\u001b[43m]\u001b[49m \u001b[38;5;241m=\u001b[39m \u001b[38;5;241m100\u001b[39m\n\u001b[0;32m      2\u001b[0m \u001b[38;5;28mprint\u001b[39m(tuple_3)\n",
      "\u001b[1;31mTypeError\u001b[0m: 'tuple' object does not support item assignment"
     ]
    }
   ],
   "source": [
    "tuple_3[0] = 100\n",
    "print(tuple_3)"
   ]
  },
  {
   "cell_type": "code",
   "execution_count": 64,
   "id": "78c7080c-9f30-4059-b836-ab5f9cd0ab45",
   "metadata": {},
   "outputs": [
    {
     "name": "stdout",
     "output_type": "stream",
     "text": [
      "[100, 'Abhishek']\n"
     ]
    }
   ],
   "source": [
    "# remove\n",
    "\n",
    "list1[0]=100\n",
    "print(list1)"
   ]
  },
  {
   "cell_type": "code",
   "execution_count": 65,
   "id": "0738d0db-610a-4ac4-8f27-81f024ae2ffa",
   "metadata": {},
   "outputs": [
    {
     "name": "stdout",
     "output_type": "stream",
     "text": [
      "['Abhishek']\n"
     ]
    }
   ],
   "source": [
    "list1.remove(100)\n",
    "print(list1)"
   ]
  },
  {
   "cell_type": "code",
   "execution_count": 66,
   "id": "ec46ca41-5578-4d59-a70f-a158646184c6",
   "metadata": {},
   "outputs": [
    {
     "name": "stdout",
     "output_type": "stream",
     "text": [
      "(0, 3, 97, 4, 6, 2, 9, 8, 3, 1)\n"
     ]
    }
   ],
   "source": [
    "\n",
    "print(tuple_3)"
   ]
  },
  {
   "cell_type": "code",
   "execution_count": 67,
   "id": "1dd06119-f4bb-484e-a0ee-0c1c3410a2bb",
   "metadata": {},
   "outputs": [
    {
     "ename": "AttributeError",
     "evalue": "'tuple' object has no attribute 'remove'",
     "output_type": "error",
     "traceback": [
      "\u001b[1;31m---------------------------------------------------------------------------\u001b[0m",
      "\u001b[1;31mAttributeError\u001b[0m                            Traceback (most recent call last)",
      "Cell \u001b[1;32mIn[67], line 1\u001b[0m\n\u001b[1;32m----> 1\u001b[0m \u001b[43mtuple_3\u001b[49m\u001b[38;5;241;43m.\u001b[39;49m\u001b[43mremove\u001b[49m(\u001b[38;5;241m0\u001b[39m)\n\u001b[0;32m      2\u001b[0m \u001b[38;5;28mprint\u001b[39m(tuple_3)\n",
      "\u001b[1;31mAttributeError\u001b[0m: 'tuple' object has no attribute 'remove'"
     ]
    }
   ],
   "source": [
    "tuple_3.remove(0)\n",
    "print(tuple_3)"
   ]
  },
  {
   "cell_type": "code",
   "execution_count": 71,
   "id": "26217156-c6b4-4f69-b812-a623cbb0b1c4",
   "metadata": {},
   "outputs": [
    {
     "ename": "NameError",
     "evalue": "name 'tuple_3' is not defined",
     "output_type": "error",
     "traceback": [
      "\u001b[1;31m---------------------------------------------------------------------------\u001b[0m",
      "\u001b[1;31mNameError\u001b[0m                                 Traceback (most recent call last)",
      "Cell \u001b[1;32mIn[71], line 3\u001b[0m\n\u001b[0;32m      1\u001b[0m \u001b[38;5;66;03m# You can't change or modify the tuple element but you can delete the whole tuple\u001b[39;00m\n\u001b[1;32m----> 3\u001b[0m \u001b[43mtuple_3\u001b[49m\n",
      "\u001b[1;31mNameError\u001b[0m: name 'tuple_3' is not defined"
     ]
    }
   ],
   "source": [
    "# You can't change or modify the tuple element but you can delete the whole tuple\n",
    "\n",
    "tuple_3"
   ]
  },
  {
   "cell_type": "code",
   "execution_count": 72,
   "id": "d0eaae04-2e20-4215-af1a-c7bebd664903",
   "metadata": {},
   "outputs": [
    {
     "ename": "NameError",
     "evalue": "name 'tuple_3' is not defined",
     "output_type": "error",
     "traceback": [
      "\u001b[1;31m---------------------------------------------------------------------------\u001b[0m",
      "\u001b[1;31mNameError\u001b[0m                                 Traceback (most recent call last)",
      "Cell \u001b[1;32mIn[72], line 1\u001b[0m\n\u001b[1;32m----> 1\u001b[0m \u001b[38;5;28;01mdel\u001b[39;00m(\u001b[43mtuple_3\u001b[49m)\n",
      "\u001b[1;31mNameError\u001b[0m: name 'tuple_3' is not defined"
     ]
    }
   ],
   "source": [
    "del(tuple_3)"
   ]
  },
  {
   "cell_type": "code",
   "execution_count": 73,
   "id": "772e3313-b116-41db-99ec-898254f7f21a",
   "metadata": {},
   "outputs": [
    {
     "ename": "NameError",
     "evalue": "name 'tuple_3' is not defined",
     "output_type": "error",
     "traceback": [
      "\u001b[1;31m---------------------------------------------------------------------------\u001b[0m",
      "\u001b[1;31mNameError\u001b[0m                                 Traceback (most recent call last)",
      "Cell \u001b[1;32mIn[73], line 1\u001b[0m\n\u001b[1;32m----> 1\u001b[0m \u001b[38;5;28mprint\u001b[39m(\u001b[43mtuple_3\u001b[49m)\n",
      "\u001b[1;31mNameError\u001b[0m: name 'tuple_3' is not defined"
     ]
    }
   ],
   "source": [
    "print(tuple_3)"
   ]
  },
  {
   "cell_type": "code",
   "execution_count": 74,
   "id": "d71777fb-8784-496f-b194-3bfb2b3fec70",
   "metadata": {},
   "outputs": [
    {
     "name": "stdout",
     "output_type": "stream",
     "text": [
      "100\n",
      "<class 'int'>\n"
     ]
    }
   ],
   "source": [
    "# one element as a tuple \n",
    "\n",
    "tuple_4=(100)\n",
    "print(tuple_4)\n",
    "print(type(tuple_4))"
   ]
  },
  {
   "cell_type": "code",
   "execution_count": 77,
   "id": "b9b3b535-a116-4f1d-b516-3f49b20913f1",
   "metadata": {},
   "outputs": [
    {
     "name": "stdout",
     "output_type": "stream",
     "text": [
      "(100,)\n",
      "<class 'tuple'>\n"
     ]
    }
   ],
   "source": [
    "tuple_4=(100,)\n",
    "print(tuple_4)\n",
    "print(type(tuple_4))"
   ]
  },
  {
   "cell_type": "code",
   "execution_count": null,
   "id": "5f486ced-aef3-4426-ab60-502370fe5a87",
   "metadata": {},
   "outputs": [],
   "source": []
  }
 ],
 "metadata": {
  "kernelspec": {
   "display_name": "Python 3 (ipykernel)",
   "language": "python",
   "name": "python3"
  },
  "language_info": {
   "codemirror_mode": {
    "name": "ipython",
    "version": 3
   },
   "file_extension": ".py",
   "mimetype": "text/x-python",
   "name": "python",
   "nbconvert_exporter": "python",
   "pygments_lexer": "ipython3",
   "version": "3.12.2"
  }
 },
 "nbformat": 4,
 "nbformat_minor": 5
}
