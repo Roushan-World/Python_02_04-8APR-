{
 "cells": [
  {
   "cell_type": "markdown",
   "id": "341f4a94-98da-45b5-b49f-89cb18e93a1d",
   "metadata": {},
   "source": [
    "# 11. Classes and objects.\n",
    "\n",
    " * __Python is an object-oriented programming language.__\n",
    " * __Unlike procedure-oriented programming, where the main emphasis is on functions, object-oriented programming stressed on objects.__\n",
    " * __An object is simply a collection od data (variable) and methods (functions) that act on those data.__\n",
    " * __similarly, a class is a blueprint for that object.__\n",
    " * __Like function definitions begin with the def keyword in Python, class definitions begin with a class keyword.__\n",
    " * __The first string inside the class docstring and has a brief description of the class.__\n",
    " * __Although not mandatory, this is highly recommended.__"
   ]
  },
  {
   "cell_type": "code",
   "execution_count": 7,
   "id": "3827885f-5260-4e30-a452-227c12393dd7",
   "metadata": {},
   "outputs": [
    {
     "name": "stdout",
     "output_type": "stream",
     "text": [
      "<class '__main__.data'>\n"
     ]
    }
   ],
   "source": [
    "x=0 # x is the global variable beacuase the x is outside the function.\n",
    "class data:\n",
    "    num=3.14   # local variable: Because num is inside the function class.\n",
    "print(data)"
   ]
  },
  {
   "cell_type": "code",
   "execution_count": 9,
   "id": "9a7772f2-a821-4a0d-b9e6-0be2e0faeeb9",
   "metadata": {},
   "outputs": [
    {
     "data": {
      "text/plain": [
       "3.14"
      ]
     },
     "execution_count": 9,
     "metadata": {},
     "output_type": "execute_result"
    }
   ],
   "source": [
    "data.num"
   ]
  },
  {
   "cell_type": "code",
   "execution_count": 13,
   "id": "0334beac-f633-47b3-aef2-1ae1642a8d87",
   "metadata": {},
   "outputs": [
    {
     "name": "stdout",
     "output_type": "stream",
     "text": [
      "10\n",
      "20\n"
     ]
    }
   ],
   "source": [
    "class data:\n",
    "    num1=10\n",
    "    num2=20\n",
    "# calling an object.\n",
    "x=data\n",
    "print(x.num1)\n",
    "print(x.num2)"
   ]
  },
  {
   "cell_type": "markdown",
   "id": "a8c7a5db-91de-43a6-afce-1788c1b4948e",
   "metadata": {},
   "source": [
    "# Function init() [constructor]"
   ]
  },
  {
   "cell_type": "code",
   "execution_count": 17,
   "id": "7e93014e-6f44-4101-b8e3-281b69cf03ef",
   "metadata": {},
   "outputs": [
    {
     "name": "stdout",
     "output_type": "stream",
     "text": [
      "Abhishek\n",
      "20\n",
      "78\n",
      "abhishek26@gmail.com\n"
     ]
    }
   ],
   "source": [
    "class details:\n",
    "    def __init__(self,name,age,rollno,email):\n",
    "        self.name=name\n",
    "        self.age=age\n",
    "        self.rollno=rollno\n",
    "        self.email=email\n",
    "\n",
    "# Creating an object\n",
    "abhishek=details('Abhishek',20,78,'abhishek26@gmail.com')\n",
    "print(abhishek.name)\n",
    "print(abhishek.age)\n",
    "print(abhishek.rollno)\n",
    "print(abhishek.email)"
   ]
  },
  {
   "cell_type": "code",
   "execution_count": 22,
   "id": "f34361ce-c5fc-4917-83f3-0837fa9a289e",
   "metadata": {},
   "outputs": [
    {
     "name": "stdout",
     "output_type": "stream",
     "text": [
      "Sahil\n",
      "25\n",
      "100\n",
      "sahil@gmail.com\n"
     ]
    }
   ],
   "source": [
    "sahil=details(\"Sahil\",25,100,'sahil@gmail.com')\n",
    "print(sahil.name)\n",
    "print(sahil.age)\n",
    "print(sahil.rollno)\n",
    "print(sahil.email)"
   ]
  },
  {
   "cell_type": "markdown",
   "id": "2554bd85-c127-462e-a86f-719fecfb961c",
   "metadata": {},
   "source": [
    "# Self parameter\n",
    "\n",
    " * __The self parameter is a reference to the current instance of the class, and is used to access variable that belongs to the class.__\n",
    " * __It does not have to be named self, your can call it whatever you like, but it has to the the first parameter of any function in the class.__"
   ]
  },
  {
   "cell_type": "code",
   "execution_count": 24,
   "id": "9b53714a-d244-42c8-be84-aa39ca30946c",
   "metadata": {},
   "outputs": [
    {
     "name": "stdout",
     "output_type": "stream",
     "text": [
      "Shivam Kamble\n",
      "45\n",
      "male\n",
      "Bhusawal\n"
     ]
    }
   ],
   "source": [
    "class details_person:\n",
    "    def __init__(x,name,age,gender,address):\n",
    "        x.name=name\n",
    "        x.age=age\n",
    "        x.gender=gender\n",
    "        x.address=address\n",
    "\n",
    "\n",
    "shivam=details_person(\"Shivam Kamble\",45,\"male\",\"Bhusawal\")\n",
    "print(shivam.name)\n",
    "print(shivam.age)\n",
    "print(shivam.gender)\n",
    "print(shivam.address)"
   ]
  },
  {
   "cell_type": "code",
   "execution_count": 31,
   "id": "4d66c0eb-e75a-41ce-a830-e82f3bb8a210",
   "metadata": {},
   "outputs": [
    {
     "name": "stdout",
     "output_type": "stream",
     "text": [
      "Student name is: Shivam Kamble\n",
      "Student age is: 45\n",
      "Student sex is: Male\n",
      "Student address is: Bhusawal\n",
      "Student phone No is: 123456789\n"
     ]
    }
   ],
   "source": [
    "class student_details:\n",
    "    def __init__(self,name,age,sex,address,phoneno):\n",
    "        self.name=name\n",
    "        self.age=age\n",
    "        self.sex=sex\n",
    "        self.address=address\n",
    "        self.phoneno=phoneno\n",
    "        \n",
    "    def student_details_data(self):\n",
    "        print(f'Student name is: {self.name}')\n",
    "        print(f'Student age is: {self.age}')\n",
    "        print(f'Student sex is: {self.sex}')\n",
    "        print(f'Student address is: {self.address}')\n",
    "        print(f'Student phone No is: {self.phoneno}')\n",
    "        \n",
    "\n",
    "obj1=student_details(\"Shivam Kamble\",45,\"Male\",\"Bhusawal\",\"123456789\")\n",
    "# print(obj1.name)\n",
    "# print(obj1.age)\n",
    "# print(obj1.sex)\n",
    "# print(obj1.address)\n",
    "# print(obj1.phoneno)\n",
    "\n",
    "obj1.student_details_data()"
   ]
  },
  {
   "cell_type": "code",
   "execution_count": 32,
   "id": "56c194ba-3b76-4a2d-9f53-a8a3d33b4f28",
   "metadata": {},
   "outputs": [
    {
     "name": "stdout",
     "output_type": "stream",
     "text": [
      "Student name is: Abhishek\n",
      "Student age is: 12\n",
      "Student sex is: Male\n",
      "Student address is: Bhusawal\n",
      "Student phone No is: 123\n"
     ]
    }
   ],
   "source": [
    "obj2=student_details(\"Abhishek\",12,\"Male\",\"Bhusawal\",\"123\")\n",
    "obj2.student_details_data()"
   ]
  },
  {
   "cell_type": "code",
   "execution_count": 35,
   "id": "d942e7a4-2e34-42ac-8ba5-55ddd8958777",
   "metadata": {},
   "outputs": [
    {
     "name": "stdout",
     "output_type": "stream",
     "text": [
      "Student name is: Shivam Kamble \n",
      "Student age is 45\n",
      "Student gender is: Male\n",
      "Student address is: Bhusawal\n",
      "Student phone No is: 123456789\n"
     ]
    }
   ],
   "source": [
    "class student_details:\n",
    "    def __init__(self,name,age,sex,address,phoneno):\n",
    "        self.name=name\n",
    "        self.age=age\n",
    "        self.sex=sex\n",
    "        self.address=address\n",
    "        self.phoneno=phoneno\n",
    "        \n",
    "    def student_details_data(self):\n",
    "        y='Student'\n",
    "        print(f'{y} name is: {self.name} \\n{y} age is {self.age}\\n{y} gender is: {self.sex}\\n{y} address is: {self.address}\\n{y} phone No is: {self.phoneno}')\n",
    "        # print(f'Student age is: {self.age}')\n",
    "        # print(f'Student sex is: {self.sex}')\n",
    "        # print(f'Student address is: {self.address}')\n",
    "        # print(f'Student phone No is: {self.phoneno}')\n",
    "        \n",
    "\n",
    "obj1=student_details(\"Shivam Kamble\",45,\"Male\",\"Bhusawal\",\"123456789\")\n",
    "# print(obj1.name)\n",
    "# print(obj1.age)\n",
    "# print(obj1.sex)\n",
    "# print(obj1.address)\n",
    "# print(obj1.phoneno)\n",
    "\n",
    "obj1.student_details_data()"
   ]
  },
  {
   "cell_type": "code",
   "execution_count": 36,
   "id": "baa14027-b6a5-48ba-aed7-cbfaccb37b51",
   "metadata": {},
   "outputs": [
    {
     "name": "stdout",
     "output_type": "stream",
     "text": [
      "Student name is: Abhishek \n",
      "Student age is 12\n",
      "Student gender is: Male\n",
      "Student address is: Bhusawal\n",
      "Student phone No is: 123\n"
     ]
    }
   ],
   "source": [
    "obj2=student_details(\"Abhishek\",12,\"Male\",\"Bhusawal\",\"123\")\n",
    "obj2.student_details_data()"
   ]
  },
  {
   "cell_type": "code",
   "execution_count": 37,
   "id": "8aa1c43e-555f-4802-a6d9-4bb35958fde8",
   "metadata": {},
   "outputs": [
    {
     "data": {
      "text/plain": [
       "'Shivam Kamble'"
      ]
     },
     "execution_count": 37,
     "metadata": {},
     "output_type": "execute_result"
    }
   ],
   "source": [
    "obj1.name"
   ]
  },
  {
   "cell_type": "code",
   "execution_count": 38,
   "id": "d52c33dc-032d-4be9-88c2-7ac4cb62c837",
   "metadata": {},
   "outputs": [
    {
     "data": {
      "text/plain": [
       "'Abhishek'"
      ]
     },
     "execution_count": 38,
     "metadata": {},
     "output_type": "execute_result"
    }
   ],
   "source": [
    "obj2.name"
   ]
  },
  {
   "cell_type": "code",
   "execution_count": 39,
   "id": "10375ece-69be-4d9e-9d9b-88b016ae30e7",
   "metadata": {},
   "outputs": [
    {
     "data": {
      "text/plain": [
       "45"
      ]
     },
     "execution_count": 39,
     "metadata": {},
     "output_type": "execute_result"
    }
   ],
   "source": [
    "obj1.age"
   ]
  },
  {
   "cell_type": "code",
   "execution_count": 40,
   "id": "aea236e2-b62c-404f-ba23-b24e06f03145",
   "metadata": {},
   "outputs": [
    {
     "data": {
      "text/plain": [
       "12"
      ]
     },
     "execution_count": 40,
     "metadata": {},
     "output_type": "execute_result"
    }
   ],
   "source": [
    "obj2.age"
   ]
  },
  {
   "cell_type": "markdown",
   "id": "ef718638-44e2-4e82-b3c5-c294cc1b0dc9",
   "metadata": {},
   "source": [
    "# Access the object value form the user input function"
   ]
  },
  {
   "cell_type": "code",
   "execution_count": 41,
   "id": "9ee838a9-1a6f-4bb7-ac1a-1969f8a39f66",
   "metadata": {},
   "outputs": [
    {
     "name": "stdout",
     "output_type": "stream",
     "text": [
      "Student name is: Shivam Kamble \n",
      "Student age is 45\n",
      "Student gender is: Male\n",
      "Student address is: Bhusawal\n",
      "Student phone No is: 123456789\n"
     ]
    }
   ],
   "source": [
    "class student_details:\n",
    "    def __init__(self,name,age,sex,address,phoneno):\n",
    "        self.name=name\n",
    "        self.age=age\n",
    "        self.sex=sex\n",
    "        self.address=address\n",
    "        self.phoneno=phoneno\n",
    "        \n",
    "    def student_details_data(self):\n",
    "        y='Student'\n",
    "        print(f'{y} name is: {self.name} \\n{y} age is {self.age}\\n{y} gender is: {self.sex}\\n{y} address is: {self.address}\\n{y} phone No is: {self.phoneno}')\n",
    "        \n",
    "\n",
    "obj1=student_details(\"Shivam Kamble\",45,\"Male\",\"Bhusawal\",\"123456789\")\n",
    "obj1.student_details_data()"
   ]
  },
  {
   "cell_type": "code",
   "execution_count": 44,
   "id": "6789187f-3f32-4c0a-9838-1216f203bf1b",
   "metadata": {},
   "outputs": [
    {
     "name": "stdin",
     "output_type": "stream",
     "text": [
      "Enter your name here: shivam\n",
      "Enter your age: 12\n",
      "Enter your gender: male\n",
      "Enter your address: pune\n",
      "Enter your phone number: 123456\n"
     ]
    },
    {
     "name": "stdout",
     "output_type": "stream",
     "text": [
      "---------------------------------------------------------------------------\n",
      "Student name is: shivam \n",
      "Student age is 12\n",
      "Student gender is: male\n",
      "Student address is: pune\n",
      "Student phone No is: 123456\n"
     ]
    }
   ],
   "source": [
    "# from local variable otherwise global variabel\n",
    "#------------------------------------------------------------------------------\n",
    "# access variable form global\n",
    "\n",
    "class student_details:\n",
    "    def __init__(self,name,age,sex,address,phoneno):\n",
    "        self.name=name\n",
    "        self.age=age\n",
    "        self.sex=sex\n",
    "        self.address=address\n",
    "        self.phoneno=phoneno\n",
    "        \n",
    "    def student_details_data(self):\n",
    "        y='Student'\n",
    "        print('---------------------------------------------------------------------------')\n",
    "        print(f'{y} name is: {self.name} \\n{y} age is {self.age}\\n{y} gender is: {self.sex}\\n{y} address is: {self.address}\\n{y} phone No is: {self.phoneno}')\n",
    "\n",
    "#global variable     \n",
    "name=input('Enter your name here:')\n",
    "age=int(input('Enter your age:'))\n",
    "gender=input('Enter your gender:')\n",
    "address=input('Enter your address:')\n",
    "phone=input('Enter your phone number:')\n",
    "#----------------------------------------------\n",
    "\n",
    "obj1=student_details(name,age,gender,address,phone)\n",
    "obj1.student_details_data()"
   ]
  },
  {
   "cell_type": "code",
   "execution_count": 50,
   "id": "f8b15d7b-7cd8-4379-9cd6-4ded1a72102f",
   "metadata": {},
   "outputs": [
    {
     "name": "stdin",
     "output_type": "stream",
     "text": [
      "Enter your name here: abshik\n",
      "Enter your age: 12\n",
      "Enter your gender: 13\n",
      "Enter your address: 13\n",
      "Enter your phone number: 45\n"
     ]
    },
    {
     "name": "stdout",
     "output_type": "stream",
     "text": [
      "---------------------------------------------------------------------------\n",
      "Student name is: abshik \n",
      "Student age is 12\n",
      "Student gender is: 13\n",
      "Student address is: 13\n",
      "Student phone No is: 45\n"
     ]
    }
   ],
   "source": [
    "# from local variable otherwise global variabel\n",
    "#------------------------------------------------------------------------------\n",
    "# access variable form global\n",
    "\n",
    "class student_details:\n",
    "\n",
    "    def __init__(self,name,age,sex,address,phoneno):\n",
    "        self.name=name\n",
    "        self.age=age\n",
    "        self.sex=sex\n",
    "        self.address=address\n",
    "        self.phoneno=phoneno\n",
    "        \n",
    "    def student_details_data(self):\n",
    "        y='Student'\n",
    "        print('---------------------------------------------------------------------------')\n",
    "        print(f'{y} name is: {self.name} \\n{y} age is {self.age}\\n{y} gender is: {self.sex}\\n{y} address is: {self.address}\\n{y} phone No is: {self.phoneno}')\n",
    "\n",
    "#global variable     \n",
    "name=input('Enter your name here:')\n",
    "age=int(input('Enter your age:'))\n",
    "gender=input('Enter your gender:')\n",
    "address=input('Enter your address:')\n",
    "phone=input('Enter your phone number:')\n",
    "#----------------------------------------------\n",
    "\n",
    "obj1=student_details(name,age,gender,address,phone)\n",
    "obj1.student_details_data()"
   ]
  },
  {
   "cell_type": "code",
   "execution_count": 55,
   "id": "80cac59a-ff1f-43fc-808d-86b4641ef099",
   "metadata": {},
   "outputs": [
    {
     "data": {
      "text/plain": [
       "30"
      ]
     },
     "execution_count": 55,
     "metadata": {},
     "output_type": "execute_result"
    }
   ],
   "source": [
    "# accessing local variable\n",
    "\n",
    "class data:\n",
    "    def __init__(self):\n",
    "        x=10\n",
    "        y=20\n",
    "        self.x=x\n",
    "        self.y=y\n",
    "    def addition(self):\n",
    "        z=self.x+self.y\n",
    "        return z\n",
    "obj1=data()\n",
    "obj1.addition()"
   ]
  },
  {
   "cell_type": "code",
   "execution_count": null,
   "id": "31dadc12-8779-4796-97d3-1e9d85f8a6dc",
   "metadata": {},
   "outputs": [],
   "source": []
  }
 ],
 "metadata": {
  "kernelspec": {
   "display_name": "Python 3 (ipykernel)",
   "language": "python",
   "name": "python3"
  },
  "language_info": {
   "codemirror_mode": {
    "name": "ipython",
    "version": 3
   },
   "file_extension": ".py",
   "mimetype": "text/x-python",
   "name": "python",
   "nbconvert_exporter": "python",
   "pygments_lexer": "ipython3",
   "version": "3.12.2"
  }
 },
 "nbformat": 4,
 "nbformat_minor": 5
}
