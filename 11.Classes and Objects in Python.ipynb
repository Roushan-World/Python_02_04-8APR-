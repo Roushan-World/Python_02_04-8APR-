{
 "cells": [
  {
   "cell_type": "markdown",
   "id": "341f4a94-98da-45b5-b49f-89cb18e93a1d",
   "metadata": {},
   "source": [
    "# 11. Classes and objects.\n",
    "\n",
    " * __Python is an object-oriented programming language.__\n",
    " * __Unlike procedure-oriented programming, where the main emphasis is on functions, object-oriented programming stressed on objects.__\n",
    " * __An object is simply a collection od data (variable) and methods (functions) that act on those data.__\n",
    " * __similarly, a class is a blueprint for that object.__\n",
    " * __Like function definitions begin with the def keyword in Python, class definitions begin with a class keyword.__\n",
    " * __The first string inside the class docstring and has a brief description of the class.__\n",
    " * __Although not mandatory, this is highly recommended.__"
   ]
  },
  {
   "cell_type": "code",
   "execution_count": 7,
   "id": "3827885f-5260-4e30-a452-227c12393dd7",
   "metadata": {},
   "outputs": [
    {
     "name": "stdout",
     "output_type": "stream",
     "text": [
      "<class '__main__.data'>\n"
     ]
    }
   ],
   "source": [
    "x=0 # x is the global variable beacuase the x is outside the function.\n",
    "class data:\n",
    "    num=3.14   # local variable: Because num is inside the function class.\n",
    "print(data)"
   ]
  },
  {
   "cell_type": "code",
   "execution_count": 9,
   "id": "9a7772f2-a821-4a0d-b9e6-0be2e0faeeb9",
   "metadata": {},
   "outputs": [
    {
     "data": {
      "text/plain": [
       "3.14"
      ]
     },
     "execution_count": 9,
     "metadata": {},
     "output_type": "execute_result"
    }
   ],
   "source": [
    "data.num"
   ]
  },
  {
   "cell_type": "code",
   "execution_count": 13,
   "id": "0334beac-f633-47b3-aef2-1ae1642a8d87",
   "metadata": {},
   "outputs": [
    {
     "name": "stdout",
     "output_type": "stream",
     "text": [
      "10\n",
      "20\n"
     ]
    }
   ],
   "source": [
    "class data:\n",
    "    num1=10\n",
    "    num2=20\n",
    "# calling an object.\n",
    "x=data\n",
    "print(x.num1)\n",
    "print(x.num2)"
   ]
  },
  {
   "cell_type": "markdown",
   "id": "a8c7a5db-91de-43a6-afce-1788c1b4948e",
   "metadata": {},
   "source": [
    "# Function init() [constructor]"
   ]
  },
  {
   "cell_type": "code",
   "execution_count": 17,
   "id": "7e93014e-6f44-4101-b8e3-281b69cf03ef",
   "metadata": {},
   "outputs": [
    {
     "name": "stdout",
     "output_type": "stream",
     "text": [
      "Abhishek\n",
      "20\n",
      "78\n",
      "abhishek26@gmail.com\n"
     ]
    }
   ],
   "source": [
    "class details:\n",
    "    def __init__(self,name,age,rollno,email):\n",
    "        self.name=name\n",
    "        self.age=age\n",
    "        self.rollno=rollno\n",
    "        self.email=email\n",
    "\n",
    "# Creating an object\n",
    "abhishek=details('Abhishek',20,78,'abhishek26@gmail.com')\n",
    "print(abhishek.name)\n",
    "print(abhishek.age)\n",
    "print(abhishek.rollno)\n",
    "print(abhishek.email)"
   ]
  },
  {
   "cell_type": "code",
   "execution_count": 22,
   "id": "f34361ce-c5fc-4917-83f3-0837fa9a289e",
   "metadata": {},
   "outputs": [
    {
     "name": "stdout",
     "output_type": "stream",
     "text": [
      "Sahil\n",
      "25\n",
      "100\n",
      "sahil@gmail.com\n"
     ]
    }
   ],
   "source": [
    "sahil=details(\"Sahil\",25,100,'sahil@gmail.com')\n",
    "print(sahil.name)\n",
    "print(sahil.age)\n",
    "print(sahil.rollno)\n",
    "print(sahil.email)"
   ]
  },
  {
   "cell_type": "markdown",
   "id": "2554bd85-c127-462e-a86f-719fecfb961c",
   "metadata": {},
   "source": [
    "# Self parameter\n",
    "\n",
    " * __The self parameter is a reference to the current instance of the class, and is used to access variable that belongs to the class.__\n",
    " * __It does not have to be named self, your can call it whatever you like, but it has to the the first parameter of any function in the class.__"
   ]
  },
  {
   "cell_type": "code",
   "execution_count": 24,
   "id": "9b53714a-d244-42c8-be84-aa39ca30946c",
   "metadata": {},
   "outputs": [
    {
     "name": "stdout",
     "output_type": "stream",
     "text": [
      "Shivam Kamble\n",
      "45\n",
      "male\n",
      "Bhusawal\n"
     ]
    }
   ],
   "source": [
    "class details_person:\n",
    "    def __init__(x,name,age,gender,address):\n",
    "        x.name=name\n",
    "        x.age=age\n",
    "        x.gender=gender\n",
    "        x.address=address\n",
    "\n",
    "\n",
    "shivam=details_person(\"Shivam Kamble\",45,\"male\",\"Bhusawal\")\n",
    "print(shivam.name)\n",
    "print(shivam.age)\n",
    "print(shivam.gender)\n",
    "print(shivam.address)"
   ]
  },
  {
   "cell_type": "code",
   "execution_count": 31,
   "id": "4d66c0eb-e75a-41ce-a830-e82f3bb8a210",
   "metadata": {},
   "outputs": [
    {
     "name": "stdout",
     "output_type": "stream",
     "text": [
      "Student name is: Shivam Kamble\n",
      "Student age is: 45\n",
      "Student sex is: Male\n",
      "Student address is: Bhusawal\n",
      "Student phone No is: 123456789\n"
     ]
    }
   ],
   "source": [
    "class student_details:\n",
    "    def __init__(self,name,age,sex,address,phoneno):\n",
    "        self.name=name\n",
    "        self.age=age\n",
    "        self.sex=sex\n",
    "        self.address=address\n",
    "        self.phoneno=phoneno\n",
    "        \n",
    "    def student_details_data(self):\n",
    "        print(f'Student name is: {self.name}')\n",
    "        print(f'Student age is: {self.age}')\n",
    "        print(f'Student sex is: {self.sex}')\n",
    "        print(f'Student address is: {self.address}')\n",
    "        print(f'Student phone No is: {self.phoneno}')\n",
    "        \n",
    "\n",
    "obj1=student_details(\"Shivam Kamble\",45,\"Male\",\"Bhusawal\",\"123456789\")\n",
    "# print(obj1.name)\n",
    "# print(obj1.age)\n",
    "# print(obj1.sex)\n",
    "# print(obj1.address)\n",
    "# print(obj1.phoneno)\n",
    "\n",
    "obj1.student_details_data()"
   ]
  },
  {
   "cell_type": "code",
   "execution_count": 32,
   "id": "56c194ba-3b76-4a2d-9f53-a8a3d33b4f28",
   "metadata": {},
   "outputs": [
    {
     "name": "stdout",
     "output_type": "stream",
     "text": [
      "Student name is: Abhishek\n",
      "Student age is: 12\n",
      "Student sex is: Male\n",
      "Student address is: Bhusawal\n",
      "Student phone No is: 123\n"
     ]
    }
   ],
   "source": [
    "obj2=student_details(\"Abhishek\",12,\"Male\",\"Bhusawal\",\"123\")\n",
    "obj2.student_details_data()"
   ]
  },
  {
   "cell_type": "code",
   "execution_count": 35,
   "id": "d942e7a4-2e34-42ac-8ba5-55ddd8958777",
   "metadata": {},
   "outputs": [
    {
     "name": "stdout",
     "output_type": "stream",
     "text": [
      "Student name is: Shivam Kamble \n",
      "Student age is 45\n",
      "Student gender is: Male\n",
      "Student address is: Bhusawal\n",
      "Student phone No is: 123456789\n"
     ]
    }
   ],
   "source": [
    "class student_details:\n",
    "    def __init__(self,name,age,sex,address,phoneno):\n",
    "        self.name=name\n",
    "        self.age=age\n",
    "        self.sex=sex\n",
    "        self.address=address\n",
    "        self.phoneno=phoneno\n",
    "        \n",
    "    def student_details_data(self):\n",
    "        y='Student'\n",
    "        print(f'{y} name is: {self.name} \\n{y} age is {self.age}\\n{y} gender is: {self.sex}\\n{y} address is: {self.address}\\n{y} phone No is: {self.phoneno}')\n",
    "        # print(f'Student age is: {self.age}')\n",
    "        # print(f'Student sex is: {self.sex}')\n",
    "        # print(f'Student address is: {self.address}')\n",
    "        # print(f'Student phone No is: {self.phoneno}')\n",
    "        \n",
    "\n",
    "obj1=student_details(\"Shivam Kamble\",45,\"Male\",\"Bhusawal\",\"123456789\")\n",
    "# print(obj1.name)\n",
    "# print(obj1.age)\n",
    "# print(obj1.sex)\n",
    "# print(obj1.address)\n",
    "# print(obj1.phoneno)\n",
    "\n",
    "obj1.student_details_data()"
   ]
  },
  {
   "cell_type": "code",
   "execution_count": 36,
   "id": "baa14027-b6a5-48ba-aed7-cbfaccb37b51",
   "metadata": {},
   "outputs": [
    {
     "name": "stdout",
     "output_type": "stream",
     "text": [
      "Student name is: Abhishek \n",
      "Student age is 12\n",
      "Student gender is: Male\n",
      "Student address is: Bhusawal\n",
      "Student phone No is: 123\n"
     ]
    }
   ],
   "source": [
    "obj2=student_details(\"Abhishek\",12,\"Male\",\"Bhusawal\",\"123\")\n",
    "obj2.student_details_data()"
   ]
  },
  {
   "cell_type": "code",
   "execution_count": 37,
   "id": "8aa1c43e-555f-4802-a6d9-4bb35958fde8",
   "metadata": {},
   "outputs": [
    {
     "data": {
      "text/plain": [
       "'Shivam Kamble'"
      ]
     },
     "execution_count": 37,
     "metadata": {},
     "output_type": "execute_result"
    }
   ],
   "source": [
    "obj1.name"
   ]
  },
  {
   "cell_type": "code",
   "execution_count": 38,
   "id": "d52c33dc-032d-4be9-88c2-7ac4cb62c837",
   "metadata": {},
   "outputs": [
    {
     "data": {
      "text/plain": [
       "'Abhishek'"
      ]
     },
     "execution_count": 38,
     "metadata": {},
     "output_type": "execute_result"
    }
   ],
   "source": [
    "obj2.name"
   ]
  },
  {
   "cell_type": "code",
   "execution_count": 39,
   "id": "10375ece-69be-4d9e-9d9b-88b016ae30e7",
   "metadata": {},
   "outputs": [
    {
     "data": {
      "text/plain": [
       "45"
      ]
     },
     "execution_count": 39,
     "metadata": {},
     "output_type": "execute_result"
    }
   ],
   "source": [
    "obj1.age"
   ]
  },
  {
   "cell_type": "code",
   "execution_count": 40,
   "id": "aea236e2-b62c-404f-ba23-b24e06f03145",
   "metadata": {},
   "outputs": [
    {
     "data": {
      "text/plain": [
       "12"
      ]
     },
     "execution_count": 40,
     "metadata": {},
     "output_type": "execute_result"
    }
   ],
   "source": [
    "obj2.age"
   ]
  },
  {
   "cell_type": "markdown",
   "id": "ef718638-44e2-4e82-b3c5-c294cc1b0dc9",
   "metadata": {},
   "source": [
    "# Access the object value form the user input function"
   ]
  },
  {
   "cell_type": "code",
   "execution_count": 41,
   "id": "9ee838a9-1a6f-4bb7-ac1a-1969f8a39f66",
   "metadata": {},
   "outputs": [
    {
     "name": "stdout",
     "output_type": "stream",
     "text": [
      "Student name is: Shivam Kamble \n",
      "Student age is 45\n",
      "Student gender is: Male\n",
      "Student address is: Bhusawal\n",
      "Student phone No is: 123456789\n"
     ]
    }
   ],
   "source": [
    "class student_details:\n",
    "    def __init__(self,name,age,sex,address,phoneno):\n",
    "        self.name=name\n",
    "        self.age=age\n",
    "        self.sex=sex\n",
    "        self.address=address\n",
    "        self.phoneno=phoneno\n",
    "        \n",
    "    def student_details_data(self):\n",
    "        y='Student'\n",
    "        print(f'{y} name is: {self.name} \\n{y} age is {self.age}\\n{y} gender is: {self.sex}\\n{y} address is: {self.address}\\n{y} phone No is: {self.phoneno}')\n",
    "        \n",
    "\n",
    "obj1=student_details(\"Shivam Kamble\",45,\"Male\",\"Bhusawal\",\"123456789\")\n",
    "obj1.student_details_data()"
   ]
  },
  {
   "cell_type": "code",
   "execution_count": 44,
   "id": "6789187f-3f32-4c0a-9838-1216f203bf1b",
   "metadata": {},
   "outputs": [
    {
     "name": "stdin",
     "output_type": "stream",
     "text": [
      "Enter your name here: shivam\n",
      "Enter your age: 12\n",
      "Enter your gender: male\n",
      "Enter your address: pune\n",
      "Enter your phone number: 123456\n"
     ]
    },
    {
     "name": "stdout",
     "output_type": "stream",
     "text": [
      "---------------------------------------------------------------------------\n",
      "Student name is: shivam \n",
      "Student age is 12\n",
      "Student gender is: male\n",
      "Student address is: pune\n",
      "Student phone No is: 123456\n"
     ]
    }
   ],
   "source": [
    "# from local variable otherwise global variabel\n",
    "#------------------------------------------------------------------------------\n",
    "# access variable form global\n",
    "\n",
    "class student_details:\n",
    "    def __init__(self,name,age,sex,address,phoneno):\n",
    "        self.name=name\n",
    "        self.age=age\n",
    "        self.sex=sex\n",
    "        self.address=address\n",
    "        self.phoneno=phoneno\n",
    "        \n",
    "    def student_details_data(self):\n",
    "        y='Student'\n",
    "        print('---------------------------------------------------------------------------')\n",
    "        print(f'{y} name is: {self.name} \\n{y} age is {self.age}\\n{y} gender is: {self.sex}\\n{y} address is: {self.address}\\n{y} phone No is: {self.phoneno}')\n",
    "\n",
    "#global variable     \n",
    "name=input('Enter your name here:')\n",
    "age=int(input('Enter your age:'))\n",
    "gender=input('Enter your gender:')\n",
    "address=input('Enter your address:')\n",
    "phone=input('Enter your phone number:')\n",
    "#----------------------------------------------\n",
    "\n",
    "obj1=student_details(name,age,gender,address,phone)\n",
    "obj1.student_details_data()"
   ]
  },
  {
   "cell_type": "code",
   "execution_count": 50,
   "id": "f8b15d7b-7cd8-4379-9cd6-4ded1a72102f",
   "metadata": {},
   "outputs": [
    {
     "name": "stdin",
     "output_type": "stream",
     "text": [
      "Enter your name here: abshik\n",
      "Enter your age: 12\n",
      "Enter your gender: 13\n",
      "Enter your address: 13\n",
      "Enter your phone number: 45\n"
     ]
    },
    {
     "name": "stdout",
     "output_type": "stream",
     "text": [
      "---------------------------------------------------------------------------\n",
      "Student name is: abshik \n",
      "Student age is 12\n",
      "Student gender is: 13\n",
      "Student address is: 13\n",
      "Student phone No is: 45\n"
     ]
    }
   ],
   "source": [
    "# from local variable otherwise global variabel\n",
    "#------------------------------------------------------------------------------\n",
    "# access variable form global\n",
    "\n",
    "class student_details:\n",
    "\n",
    "    def __init__(self,name,age,sex,address,phoneno):\n",
    "        self.name=name\n",
    "        self.age=age\n",
    "        self.sex=sex\n",
    "        self.address=address\n",
    "        self.phoneno=phoneno\n",
    "        \n",
    "    def student_details_data(self):\n",
    "        y='Student'\n",
    "        print('---------------------------------------------------------------------------')\n",
    "        print(f'{y} name is: {self.name} \\n{y} age is {self.age}\\n{y} gender is: {self.sex}\\n{y} address is: {self.address}\\n{y} phone No is: {self.phoneno}')\n",
    "\n",
    "#global variable     \n",
    "name=input('Enter your name here:')\n",
    "age=int(input('Enter your age:'))\n",
    "gender=input('Enter your gender:')\n",
    "address=input('Enter your address:')\n",
    "phone=input('Enter your phone number:')\n",
    "#----------------------------------------------\n",
    "\n",
    "obj1=student_details(name,age,gender,address,phone)\n",
    "obj1.student_details_data()"
   ]
  },
  {
   "cell_type": "code",
   "execution_count": 55,
   "id": "80cac59a-ff1f-43fc-808d-86b4641ef099",
   "metadata": {},
   "outputs": [
    {
     "data": {
      "text/plain": [
       "30"
      ]
     },
     "execution_count": 55,
     "metadata": {},
     "output_type": "execute_result"
    }
   ],
   "source": [
    "# accessing local variable\n",
    "\n",
    "class data:\n",
    "    def __init__(self):\n",
    "        x=10\n",
    "        y=20\n",
    "        self.x=x\n",
    "        self.y=y\n",
    "    def addition(self):\n",
    "        z=self.x+self.y\n",
    "        return z\n",
    "obj1=data()\n",
    "obj1.addition()"
   ]
  },
  {
   "cell_type": "code",
   "execution_count": 11,
   "id": "31dadc12-8779-4796-97d3-1e9d85f8a6dc",
   "metadata": {},
   "outputs": [
    {
     "name": "stdout",
     "output_type": "stream",
     "text": [
      "Shivam Kamble\n",
      "25\n",
      "0147\n",
      "1234567890\n",
      "Bhusaval\n"
     ]
    }
   ],
   "source": [
    "class Student:\n",
    "    def __init__(self,name,age,rollno,mobileno,address):\n",
    "        self.name=name\n",
    "        self.age=age\n",
    "        self.rollno=rollno\n",
    "        self.mobileno=mobileno\n",
    "        self.address=address\n",
    "\n",
    "\n",
    "\n",
    "x=Student('Shivam Kamble',25,'0147','1234567890','Bhusaval')\n",
    "print(x.name)\n",
    "\n",
    "print(x.age)\n",
    "print(x.rollno)\n",
    "print(x.mobileno)\n",
    "print(x.address)"
   ]
  },
  {
   "cell_type": "code",
   "execution_count": 12,
   "id": "28798e09-2c63-4593-9716-4006c66652ec",
   "metadata": {},
   "outputs": [
    {
     "name": "stdout",
     "output_type": "stream",
     "text": [
      "Shivam Kamble\n",
      "25\n",
      "0147\n",
      "1234567890\n",
      "Bhusaval\n"
     ]
    }
   ],
   "source": [
    "class Student:\n",
    "    def __init__(self,name,age,rollno,mobileno,address):\n",
    "        self.name=name\n",
    "        self.age=age\n",
    "        self.rollno=rollno\n",
    "        self.mobileno=mobileno\n",
    "        self.address=address\n",
    "\n",
    "\n",
    "x=Student('Shivam Kamble',25,'0147','1234567890','Bhusaval')\n",
    "print(x.name)\n",
    "\n",
    "print(x.age)\n",
    "print(x.rollno)\n",
    "print(x.mobileno)\n",
    "print(x.address)"
   ]
  },
  {
   "cell_type": "code",
   "execution_count": 18,
   "id": "e66760ae-f8b6-457c-8780-822d64adad31",
   "metadata": {},
   "outputs": [
    {
     "name": "stdin",
     "output_type": "stream",
     "text": [
      "Enter the length of Rectangle: 78\n",
      "Enter the width of the Rectangle: 58\n"
     ]
    },
    {
     "name": "stdout",
     "output_type": "stream",
     "text": [
      "The area of Rectangle whose length is 78cm² and width 58cm² and it's calculated area is:4524 cm²\n"
     ]
    }
   ],
   "source": [
    "class Rectangle:\n",
    "    def __init__(self,length,width):\n",
    "        self.length=length\n",
    "        self.width=width\n",
    "        \n",
    "    def area_rectangle(self):\n",
    "        area=self.length*self.width\n",
    "        print(f\"The area of Rectangle whose length is {self.length}cm² and width {self.width}cm² and it's calculated area is:{area} cm²\")\n",
    "        \n",
    "x=int(input('Enter the length of Rectangle:'))\n",
    "y=int(input('Enter the width of the Rectangle:'))\n",
    "\n",
    "obj1=Rectangle(x,y)\n",
    "obj1.area_rectangle()"
   ]
  },
  {
   "cell_type": "code",
   "execution_count": 22,
   "id": "85f4091b-c338-4f1b-8671-ff017f8e168c",
   "metadata": {},
   "outputs": [
    {
     "name": "stdin",
     "output_type": "stream",
     "text": [
      "Enter the side of square: 45\n"
     ]
    },
    {
     "name": "stdout",
     "output_type": "stream",
     "text": [
      "The area of square whose side is 45 and its calcuated area is:2025cm²\n",
      "The perimeter of square whose side is 45 and it's calculated perimeter is:180cm.\n"
     ]
    }
   ],
   "source": [
    "# Area of square and it's perimeter using class and object.\n",
    "\n",
    "class square:\n",
    "    def __init__(self,side):\n",
    "        self.side=side\n",
    "    def square_details(self):\n",
    "        area=self.side*self.side\n",
    "        perimeter=4*self.side\n",
    "        print(f\"The area of square whose side is {self.side} and its calcuated area is:{area}cm²\")\n",
    "        print(f\"The perimeter of square whose side is {self.side} and it's calculated perimeter is:{perimeter}cm.\")\n",
    "\n",
    "x=int(input('Enter the side of square:'))\n",
    "obj2=square(x)\n",
    "obj2.square_details()"
   ]
  },
  {
   "cell_type": "code",
   "execution_count": 23,
   "id": "687e5f1f-1d83-4148-98f8-e4a30baa63f6",
   "metadata": {},
   "outputs": [
    {
     "name": "stdin",
     "output_type": "stream",
     "text": [
      "Enter Radius of the circle: 10\n"
     ]
    },
    {
     "name": "stdout",
     "output_type": "stream",
     "text": [
      "The area of circle whose radius is 10 and it's area is:314.0 cm²\n",
      "The circumference of circle whose radius is 10 and it's value is: 62.800000000000004 cm.\n"
     ]
    }
   ],
   "source": [
    "# write a program to find the area of circle and circumference of circle:\n",
    "#---------------------------------------------------------------------------\n",
    "# pi*r²\n",
    "# 2*pi*r\n",
    "#----------------------------------------------------------------------------------\n",
    "class circle:\n",
    "    def __init__(self,radius):\n",
    "        self.radius=radius\n",
    "    def circle_details(self):\n",
    "        area=3.14*self.radius*self.radius\n",
    "        circumference=2*3.14*self.radius\n",
    "        print(f\"The area of circle whose radius is {self.radius} and it's area is:{area} cm²\")\n",
    "        print(f\"The circumference of circle whose radius is {self.radius} and it's value is: {circumference} cm.\")\n",
    "\n",
    "x=int(input('Enter Radius of the circle:'))\n",
    "obj3=circle(x)\n",
    "obj3.circle_details()"
   ]
  },
  {
   "cell_type": "code",
   "execution_count": 27,
   "id": "317ecfc9-dc81-40ea-aaef-26dfe0a2e863",
   "metadata": {},
   "outputs": [
    {
     "name": "stdin",
     "output_type": "stream",
     "text": [
      "Enter Radius of the circle: 10\n"
     ]
    },
    {
     "name": "stdout",
     "output_type": "stream",
     "text": [
      "The area of circle whose radius is 10 and it's area is:314.1592653589793 cm²\n",
      "The circumference of circle whose radius is 10 and it's value is: 62.83185307179586 cm.\n"
     ]
    }
   ],
   "source": [
    "# write a program to find the area of circle and circumference of circle:\n",
    "#---------------------------------------------------------------------------\n",
    "# pi*r²\n",
    "# 2*pi*r\n",
    "#----------------------------------------------------------------------------------\n",
    "import math\n",
    "class circle:\n",
    "    def __init__(self,radius):\n",
    "        self.radius=radius\n",
    "    def circle_details(self):\n",
    "        area=math.pi*self.radius*self.radius\n",
    "        circumference=2*math.pi*self.radius\n",
    "        print(f\"The area of circle whose radius is {self.radius} and it's area is:{area} cm²\")\n",
    "        print(f\"The circumference of circle whose radius is {self.radius} and it's value is: {circumference} cm.\")\n",
    "\n",
    "x=int(input('Enter Radius of the circle:'))\n",
    "obj3=circle(x)\n",
    "obj3.circle_details()"
   ]
  },
  {
   "cell_type": "code",
   "execution_count": 30,
   "id": "b14c2fc7-6773-43df-81ca-85c86be93c4f",
   "metadata": {},
   "outputs": [
    {
     "name": "stdout",
     "output_type": "stream",
     "text": [
      "* Rat--->\n",
      "Scientific name of Rat is Rattus norvegicus.\n",
      "Kingdom of Rat is Animalia.\n",
      "Phylum of Rat is Chordata. \n",
      "Class of Rat is Mammalia.\n",
      "Order of Rat is Muridae.\n",
      "Family of Rat is Rodentia.\n",
      "Genus of Rat is Rattus.\n",
      "Species of Rat is Norvegicus.\n",
      "\n",
      "-----------------------------------------------------------------------------------------------\n",
      "\n"
     ]
    }
   ],
   "source": [
    "# write a short paragraph contains 7-10 lines about animal using class and object\n",
    "#--------------------------------------------------------------\n",
    "class Animal:\n",
    "    def __init__(self,name,sci_name,kingdom,phylum,class1,order,family,genus,species):\n",
    "        self.name=name\n",
    "        self.sci_name=sci_name\n",
    "        self.kingdom=kingdom\n",
    "        self.class1=class1\n",
    "        self.phylum=phylum\n",
    "        self.order=order\n",
    "        self.family=family\n",
    "        self.genus=genus\n",
    "        self.species=species\n",
    "        \n",
    "    def details_animal(self):\n",
    "        print(f'Scientific name of {self.name} is {self.sci_name}.')\n",
    "        print(f'Kingdom of {self.name} is {self.kingdom}.')\n",
    "        print(f'Phylum of {self.name} is {self.phylum}. ')\n",
    "        print(f'Class of {self.name} is {self.class1}.')\n",
    "        print(f'Order of {self.name} is {self.order}.')\n",
    "        print(f'Family of {self.name} is {self.family}.')\n",
    "        print(f'Genus of {self.name} is {self.genus}.')\n",
    "        print(f'Species of {self.name} is {self.species}.')\n",
    "        \n",
    "Rat=Animal('Rat',\"Rattus norvegicus\",'Animalia',\"Chordata\",\"Mammalia\",\"Muridae\",\"Rodentia\",\"Rattus\",\"Norvegicus\")\n",
    "print('* Rat--->')\n",
    "Rat.details_animal()\n",
    "print('\\n-----------------------------------------------------------------------------------------------\\n')\n"
   ]
  },
  {
   "cell_type": "markdown",
   "id": "c674bc09-f338-4083-8062-ac37aa6abc00",
   "metadata": {},
   "source": [
    "# Inheritance\n",
    "\n",
    " * __Simple(single) Inheritance(Parent class and Child Class)__\n",
    " * __Multilevel Inheritance(Parent/child-child)__\n",
    " * __Multiple Inheritance(Parent/class/Parent class-Child class)__\n",
    " * __Hierarchical Inheritance(Parent class-Child class/Child class/Child class)__"
   ]
  }
 ],
 "metadata": {
  "kernelspec": {
   "display_name": "Python 3 (ipykernel)",
   "language": "python",
   "name": "python3"
  },
  "language_info": {
   "codemirror_mode": {
    "name": "ipython",
    "version": 3
   },
   "file_extension": ".py",
   "mimetype": "text/x-python",
   "name": "python",
   "nbconvert_exporter": "python",
   "pygments_lexer": "ipython3",
   "version": "3.12.2"
  }
 },
 "nbformat": 4,
 "nbformat_minor": 5
}
