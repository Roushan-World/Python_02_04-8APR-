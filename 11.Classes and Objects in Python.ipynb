{
 "cells": [
  {
   "cell_type": "markdown",
   "id": "341f4a94-98da-45b5-b49f-89cb18e93a1d",
   "metadata": {},
   "source": [
    "# 11. Classes and objects.\n",
    "\n",
    " * __Python is an object-oriented programming language.__\n",
    " * __Unlike procedure-oriented programming, where the main emphasis is on functions, object-oriented programming stressed on objects.__\n",
    " * __An object is simply a collection od data (variable) and methods (functions) that act on those data.__\n",
    " * __similarly, a class is a blueprint for that object.__\n",
    " * __Like function definitions begin with the def keyword in Python, class definitions begin with a class keyword.__\n",
    " * __The first string inside the class docstring and has a brief description of the class.__\n",
    " * __Although not mandatory, this is highly recommended.__"
   ]
  },
  {
   "cell_type": "code",
   "execution_count": 7,
   "id": "3827885f-5260-4e30-a452-227c12393dd7",
   "metadata": {},
   "outputs": [
    {
     "name": "stdout",
     "output_type": "stream",
     "text": [
      "<class '__main__.data'>\n"
     ]
    }
   ],
   "source": [
    "x=0 # x is the global variable beacuase the x is outside the function.\n",
    "class data:\n",
    "    num=3.14   # local variable: Because num is inside the function class.\n",
    "print(data)"
   ]
  },
  {
   "cell_type": "code",
   "execution_count": 9,
   "id": "9a7772f2-a821-4a0d-b9e6-0be2e0faeeb9",
   "metadata": {},
   "outputs": [
    {
     "data": {
      "text/plain": [
       "3.14"
      ]
     },
     "execution_count": 9,
     "metadata": {},
     "output_type": "execute_result"
    }
   ],
   "source": [
    "data.num"
   ]
  },
  {
   "cell_type": "code",
   "execution_count": 13,
   "id": "0334beac-f633-47b3-aef2-1ae1642a8d87",
   "metadata": {},
   "outputs": [
    {
     "name": "stdout",
     "output_type": "stream",
     "text": [
      "10\n",
      "20\n"
     ]
    }
   ],
   "source": [
    "class data:\n",
    "    num1=10\n",
    "    num2=20\n",
    "# calling an object.\n",
    "x=data\n",
    "print(x.num1)\n",
    "print(x.num2)"
   ]
  },
  {
   "cell_type": "markdown",
   "id": "a8c7a5db-91de-43a6-afce-1788c1b4948e",
   "metadata": {},
   "source": [
    "# Function init() [constructor]"
   ]
  },
  {
   "cell_type": "code",
   "execution_count": 17,
   "id": "7e93014e-6f44-4101-b8e3-281b69cf03ef",
   "metadata": {},
   "outputs": [
    {
     "name": "stdout",
     "output_type": "stream",
     "text": [
      "Abhishek\n",
      "20\n",
      "78\n",
      "abhishek26@gmail.com\n"
     ]
    }
   ],
   "source": [
    "class details:\n",
    "    def __init__(self,name,age,rollno,email):\n",
    "        self.name=name\n",
    "        self.age=age\n",
    "        self.rollno=rollno\n",
    "        self.email=email\n",
    "\n",
    "# Creating an object\n",
    "abhishek=details('Abhishek',20,78,'abhishek26@gmail.com')\n",
    "print(abhishek.name)\n",
    "print(abhishek.age)\n",
    "print(abhishek.rollno)\n",
    "print(abhishek.email)"
   ]
  },
  {
   "cell_type": "code",
   "execution_count": 22,
   "id": "f34361ce-c5fc-4917-83f3-0837fa9a289e",
   "metadata": {},
   "outputs": [
    {
     "name": "stdout",
     "output_type": "stream",
     "text": [
      "Sahil\n",
      "25\n",
      "100\n",
      "sahil@gmail.com\n"
     ]
    }
   ],
   "source": [
    "sahil=details(\"Sahil\",25,100,'sahil@gmail.com')\n",
    "print(sahil.name)\n",
    "print(sahil.age)\n",
    "print(sahil.rollno)\n",
    "print(sahil.email)"
   ]
  },
  {
   "cell_type": "markdown",
   "id": "2554bd85-c127-462e-a86f-719fecfb961c",
   "metadata": {},
   "source": [
    "# Self parameter\n",
    "\n",
    " * __The self parameter is a reference to the current instance of the class, and is used to access variable that belongs to the class.__\n",
    " * __It does not have to be named self, your can call it whatever you like, but it has to the the first parameter of any function in the class.__"
   ]
  },
  {
   "cell_type": "code",
   "execution_count": 24,
   "id": "9b53714a-d244-42c8-be84-aa39ca30946c",
   "metadata": {},
   "outputs": [
    {
     "name": "stdout",
     "output_type": "stream",
     "text": [
      "Shivam Kamble\n",
      "45\n",
      "male\n",
      "Bhusawal\n"
     ]
    }
   ],
   "source": [
    "class details_person:\n",
    "    def __init__(x,name,age,gender,address):\n",
    "        x.name=name\n",
    "        x.age=age\n",
    "        x.gender=gender\n",
    "        x.address=address\n",
    "\n",
    "\n",
    "shivam=details_person(\"Shivam Kamble\",45,\"male\",\"Bhusawal\")\n",
    "print(shivam.name)\n",
    "print(shivam.age)\n",
    "print(shivam.gender)\n",
    "print(shivam.address)"
   ]
  },
  {
   "cell_type": "code",
   "execution_count": 31,
   "id": "4d66c0eb-e75a-41ce-a830-e82f3bb8a210",
   "metadata": {},
   "outputs": [
    {
     "name": "stdout",
     "output_type": "stream",
     "text": [
      "Student name is: Shivam Kamble\n",
      "Student age is: 45\n",
      "Student sex is: Male\n",
      "Student address is: Bhusawal\n",
      "Student phone No is: 123456789\n"
     ]
    }
   ],
   "source": [
    "class student_details:\n",
    "    def __init__(self,name,age,sex,address,phoneno):\n",
    "        self.name=name\n",
    "        self.age=age\n",
    "        self.sex=sex\n",
    "        self.address=address\n",
    "        self.phoneno=phoneno\n",
    "        \n",
    "    def student_details_data(self):\n",
    "        print(f'Student name is: {self.name}')\n",
    "        print(f'Student age is: {self.age}')\n",
    "        print(f'Student sex is: {self.sex}')\n",
    "        print(f'Student address is: {self.address}')\n",
    "        print(f'Student phone No is: {self.phoneno}')\n",
    "        \n",
    "\n",
    "obj1=student_details(\"Shivam Kamble\",45,\"Male\",\"Bhusawal\",\"123456789\")\n",
    "# print(obj1.name)\n",
    "# print(obj1.age)\n",
    "# print(obj1.sex)\n",
    "# print(obj1.address)\n",
    "# print(obj1.phoneno)\n",
    "\n",
    "obj1.student_details_data()"
   ]
  },
  {
   "cell_type": "code",
   "execution_count": 32,
   "id": "56c194ba-3b76-4a2d-9f53-a8a3d33b4f28",
   "metadata": {},
   "outputs": [
    {
     "name": "stdout",
     "output_type": "stream",
     "text": [
      "Student name is: Abhishek\n",
      "Student age is: 12\n",
      "Student sex is: Male\n",
      "Student address is: Bhusawal\n",
      "Student phone No is: 123\n"
     ]
    }
   ],
   "source": [
    "obj2=student_details(\"Abhishek\",12,\"Male\",\"Bhusawal\",\"123\")\n",
    "obj2.student_details_data()"
   ]
  },
  {
   "cell_type": "code",
   "execution_count": 35,
   "id": "d942e7a4-2e34-42ac-8ba5-55ddd8958777",
   "metadata": {},
   "outputs": [
    {
     "name": "stdout",
     "output_type": "stream",
     "text": [
      "Student name is: Shivam Kamble \n",
      "Student age is 45\n",
      "Student gender is: Male\n",
      "Student address is: Bhusawal\n",
      "Student phone No is: 123456789\n"
     ]
    }
   ],
   "source": [
    "class student_details:\n",
    "    def __init__(self,name,age,sex,address,phoneno):\n",
    "        self.name=name\n",
    "        self.age=age\n",
    "        self.sex=sex\n",
    "        self.address=address\n",
    "        self.phoneno=phoneno\n",
    "        \n",
    "    def student_details_data(self):\n",
    "        y='Student'\n",
    "        print(f'{y} name is: {self.name} \\n{y} age is {self.age}\\n{y} gender is: {self.sex}\\n{y} address is: {self.address}\\n{y} phone No is: {self.phoneno}')\n",
    "        # print(f'Student age is: {self.age}')\n",
    "        # print(f'Student sex is: {self.sex}')\n",
    "        # print(f'Student address is: {self.address}')\n",
    "        # print(f'Student phone No is: {self.phoneno}')\n",
    "        \n",
    "\n",
    "obj1=student_details(\"Shivam Kamble\",45,\"Male\",\"Bhusawal\",\"123456789\")\n",
    "# print(obj1.name)\n",
    "# print(obj1.age)\n",
    "# print(obj1.sex)\n",
    "# print(obj1.address)\n",
    "# print(obj1.phoneno)\n",
    "\n",
    "obj1.student_details_data()"
   ]
  },
  {
   "cell_type": "code",
   "execution_count": 36,
   "id": "baa14027-b6a5-48ba-aed7-cbfaccb37b51",
   "metadata": {},
   "outputs": [
    {
     "name": "stdout",
     "output_type": "stream",
     "text": [
      "Student name is: Abhishek \n",
      "Student age is 12\n",
      "Student gender is: Male\n",
      "Student address is: Bhusawal\n",
      "Student phone No is: 123\n"
     ]
    }
   ],
   "source": [
    "obj2=student_details(\"Abhishek\",12,\"Male\",\"Bhusawal\",\"123\")\n",
    "obj2.student_details_data()"
   ]
  },
  {
   "cell_type": "code",
   "execution_count": 37,
   "id": "8aa1c43e-555f-4802-a6d9-4bb35958fde8",
   "metadata": {},
   "outputs": [
    {
     "data": {
      "text/plain": [
       "'Shivam Kamble'"
      ]
     },
     "execution_count": 37,
     "metadata": {},
     "output_type": "execute_result"
    }
   ],
   "source": [
    "obj1.name"
   ]
  },
  {
   "cell_type": "code",
   "execution_count": 38,
   "id": "d52c33dc-032d-4be9-88c2-7ac4cb62c837",
   "metadata": {},
   "outputs": [
    {
     "data": {
      "text/plain": [
       "'Abhishek'"
      ]
     },
     "execution_count": 38,
     "metadata": {},
     "output_type": "execute_result"
    }
   ],
   "source": [
    "obj2.name"
   ]
  },
  {
   "cell_type": "code",
   "execution_count": 39,
   "id": "10375ece-69be-4d9e-9d9b-88b016ae30e7",
   "metadata": {},
   "outputs": [
    {
     "data": {
      "text/plain": [
       "45"
      ]
     },
     "execution_count": 39,
     "metadata": {},
     "output_type": "execute_result"
    }
   ],
   "source": [
    "obj1.age"
   ]
  },
  {
   "cell_type": "code",
   "execution_count": 40,
   "id": "aea236e2-b62c-404f-ba23-b24e06f03145",
   "metadata": {},
   "outputs": [
    {
     "data": {
      "text/plain": [
       "12"
      ]
     },
     "execution_count": 40,
     "metadata": {},
     "output_type": "execute_result"
    }
   ],
   "source": [
    "obj2.age"
   ]
  },
  {
   "cell_type": "markdown",
   "id": "ef718638-44e2-4e82-b3c5-c294cc1b0dc9",
   "metadata": {},
   "source": [
    "# Access the object value form the user input function"
   ]
  },
  {
   "cell_type": "code",
   "execution_count": 41,
   "id": "9ee838a9-1a6f-4bb7-ac1a-1969f8a39f66",
   "metadata": {},
   "outputs": [
    {
     "name": "stdout",
     "output_type": "stream",
     "text": [
      "Student name is: Shivam Kamble \n",
      "Student age is 45\n",
      "Student gender is: Male\n",
      "Student address is: Bhusawal\n",
      "Student phone No is: 123456789\n"
     ]
    }
   ],
   "source": [
    "class student_details:\n",
    "    def __init__(self,name,age,sex,address,phoneno):\n",
    "        self.name=name\n",
    "        self.age=age\n",
    "        self.sex=sex\n",
    "        self.address=address\n",
    "        self.phoneno=phoneno\n",
    "        \n",
    "    def student_details_data(self):\n",
    "        y='Student'\n",
    "        print(f'{y} name is: {self.name} \\n{y} age is {self.age}\\n{y} gender is: {self.sex}\\n{y} address is: {self.address}\\n{y} phone No is: {self.phoneno}')\n",
    "        \n",
    "\n",
    "obj1=student_details(\"Shivam Kamble\",45,\"Male\",\"Bhusawal\",\"123456789\")\n",
    "obj1.student_details_data()"
   ]
  },
  {
   "cell_type": "code",
   "execution_count": 44,
   "id": "6789187f-3f32-4c0a-9838-1216f203bf1b",
   "metadata": {},
   "outputs": [
    {
     "name": "stdin",
     "output_type": "stream",
     "text": [
      "Enter your name here: shivam\n",
      "Enter your age: 12\n",
      "Enter your gender: male\n",
      "Enter your address: pune\n",
      "Enter your phone number: 123456\n"
     ]
    },
    {
     "name": "stdout",
     "output_type": "stream",
     "text": [
      "---------------------------------------------------------------------------\n",
      "Student name is: shivam \n",
      "Student age is 12\n",
      "Student gender is: male\n",
      "Student address is: pune\n",
      "Student phone No is: 123456\n"
     ]
    }
   ],
   "source": [
    "# from local variable otherwise global variabel\n",
    "#------------------------------------------------------------------------------\n",
    "# access variable form global\n",
    "\n",
    "class student_details:\n",
    "    def __init__(self,name,age,sex,address,phoneno):\n",
    "        self.name=name\n",
    "        self.age=age\n",
    "        self.sex=sex\n",
    "        self.address=address\n",
    "        self.phoneno=phoneno\n",
    "        \n",
    "    def student_details_data(self):\n",
    "        y='Student'\n",
    "        print('---------------------------------------------------------------------------')\n",
    "        print(f'{y} name is: {self.name} \\n{y} age is {self.age}\\n{y} gender is: {self.sex}\\n{y} address is: {self.address}\\n{y} phone No is: {self.phoneno}')\n",
    "\n",
    "#global variable     \n",
    "name=input('Enter your name here:')\n",
    "age=int(input('Enter your age:'))\n",
    "gender=input('Enter your gender:')\n",
    "address=input('Enter your address:')\n",
    "phone=input('Enter your phone number:')\n",
    "#----------------------------------------------\n",
    "\n",
    "obj1=student_details(name,age,gender,address,phone)\n",
    "obj1.student_details_data()"
   ]
  },
  {
   "cell_type": "code",
   "execution_count": 50,
   "id": "f8b15d7b-7cd8-4379-9cd6-4ded1a72102f",
   "metadata": {},
   "outputs": [
    {
     "name": "stdin",
     "output_type": "stream",
     "text": [
      "Enter your name here: abshik\n",
      "Enter your age: 12\n",
      "Enter your gender: 13\n",
      "Enter your address: 13\n",
      "Enter your phone number: 45\n"
     ]
    },
    {
     "name": "stdout",
     "output_type": "stream",
     "text": [
      "---------------------------------------------------------------------------\n",
      "Student name is: abshik \n",
      "Student age is 12\n",
      "Student gender is: 13\n",
      "Student address is: 13\n",
      "Student phone No is: 45\n"
     ]
    }
   ],
   "source": [
    "# from local variable otherwise global variabel\n",
    "#------------------------------------------------------------------------------\n",
    "# access variable form global\n",
    "\n",
    "class student_details:\n",
    "\n",
    "    def __init__(self,name,age,sex,address,phoneno):\n",
    "        self.name=name\n",
    "        self.age=age\n",
    "        self.sex=sex\n",
    "        self.address=address\n",
    "        self.phoneno=phoneno\n",
    "        \n",
    "    def student_details_data(self):\n",
    "        y='Student'\n",
    "        print('---------------------------------------------------------------------------')\n",
    "        print(f'{y} name is: {self.name} \\n{y} age is {self.age}\\n{y} gender is: {self.sex}\\n{y} address is: {self.address}\\n{y} phone No is: {self.phoneno}')\n",
    "\n",
    "#global variable     \n",
    "name=input('Enter your name here:')\n",
    "age=int(input('Enter your age:'))\n",
    "gender=input('Enter your gender:')\n",
    "address=input('Enter your address:')\n",
    "phone=input('Enter your phone number:')\n",
    "#----------------------------------------------\n",
    "\n",
    "obj1=student_details(name,age,gender,address,phone)\n",
    "obj1.student_details_data()"
   ]
  },
  {
   "cell_type": "code",
   "execution_count": 55,
   "id": "80cac59a-ff1f-43fc-808d-86b4641ef099",
   "metadata": {},
   "outputs": [
    {
     "data": {
      "text/plain": [
       "30"
      ]
     },
     "execution_count": 55,
     "metadata": {},
     "output_type": "execute_result"
    }
   ],
   "source": [
    "# accessing local variable\n",
    "\n",
    "class data:\n",
    "    def __init__(self):\n",
    "        x=10\n",
    "        y=20\n",
    "        self.x=x\n",
    "        self.y=y\n",
    "    def addition(self):\n",
    "        z=self.x+self.y\n",
    "        return z\n",
    "obj1=data()\n",
    "obj1.addition()"
   ]
  },
  {
   "cell_type": "code",
   "execution_count": 11,
   "id": "31dadc12-8779-4796-97d3-1e9d85f8a6dc",
   "metadata": {},
   "outputs": [
    {
     "name": "stdout",
     "output_type": "stream",
     "text": [
      "Shivam Kamble\n",
      "25\n",
      "0147\n",
      "1234567890\n",
      "Bhusaval\n"
     ]
    }
   ],
   "source": [
    "class Student:\n",
    "    def __init__(self,name,age,rollno,mobileno,address):\n",
    "        self.name=name\n",
    "        self.age=age\n",
    "        self.rollno=rollno\n",
    "        self.mobileno=mobileno\n",
    "        self.address=address\n",
    "\n",
    "\n",
    "\n",
    "x=Student('Shivam Kamble',25,'0147','1234567890','Bhusaval')\n",
    "print(x.name)\n",
    "\n",
    "print(x.age)\n",
    "print(x.rollno)\n",
    "print(x.mobileno)\n",
    "print(x.address)"
   ]
  },
  {
   "cell_type": "code",
   "execution_count": 12,
   "id": "28798e09-2c63-4593-9716-4006c66652ec",
   "metadata": {},
   "outputs": [
    {
     "name": "stdout",
     "output_type": "stream",
     "text": [
      "Shivam Kamble\n",
      "25\n",
      "0147\n",
      "1234567890\n",
      "Bhusaval\n"
     ]
    }
   ],
   "source": [
    "class Student:\n",
    "    def __init__(self,name,age,rollno,mobileno,address):\n",
    "        self.name=name\n",
    "        self.age=age\n",
    "        self.rollno=rollno\n",
    "        self.mobileno=mobileno\n",
    "        self.address=address\n",
    "\n",
    "\n",
    "x=Student('Shivam Kamble',25,'0147','1234567890','Bhusaval')\n",
    "print(x.name)\n",
    "\n",
    "print(x.age)\n",
    "print(x.rollno)\n",
    "print(x.mobileno)\n",
    "print(x.address)"
   ]
  },
  {
   "cell_type": "code",
   "execution_count": 18,
   "id": "e66760ae-f8b6-457c-8780-822d64adad31",
   "metadata": {},
   "outputs": [
    {
     "name": "stdin",
     "output_type": "stream",
     "text": [
      "Enter the length of Rectangle: 78\n",
      "Enter the width of the Rectangle: 58\n"
     ]
    },
    {
     "name": "stdout",
     "output_type": "stream",
     "text": [
      "The area of Rectangle whose length is 78cm² and width 58cm² and it's calculated area is:4524 cm²\n"
     ]
    }
   ],
   "source": [
    "class Rectangle:\n",
    "    def __init__(self,length,width):\n",
    "        self.length=length\n",
    "        self.width=width\n",
    "        \n",
    "    def area_rectangle(self):\n",
    "        area=self.length*self.width\n",
    "        print(f\"The area of Rectangle whose length is {self.length}cm² and width {self.width}cm² and it's calculated area is:{area} cm²\")\n",
    "        \n",
    "x=int(input('Enter the length of Rectangle:'))\n",
    "y=int(input('Enter the width of the Rectangle:'))\n",
    "\n",
    "obj1=Rectangle(x,y)\n",
    "obj1.area_rectangle()"
   ]
  },
  {
   "cell_type": "code",
   "execution_count": 22,
   "id": "85f4091b-c338-4f1b-8671-ff017f8e168c",
   "metadata": {},
   "outputs": [
    {
     "name": "stdin",
     "output_type": "stream",
     "text": [
      "Enter the side of square: 45\n"
     ]
    },
    {
     "name": "stdout",
     "output_type": "stream",
     "text": [
      "The area of square whose side is 45 and its calcuated area is:2025cm²\n",
      "The perimeter of square whose side is 45 and it's calculated perimeter is:180cm.\n"
     ]
    }
   ],
   "source": [
    "# Area of square and it's perimeter using class and object.\n",
    "\n",
    "class square:\n",
    "    def __init__(self,side):\n",
    "        self.side=side\n",
    "    def square_details(self):\n",
    "        area=self.side*self.side\n",
    "        perimeter=4*self.side\n",
    "        print(f\"The area of square whose side is {self.side} and its calcuated area is:{area}cm²\")\n",
    "        print(f\"The perimeter of square whose side is {self.side} and it's calculated perimeter is:{perimeter}cm.\")\n",
    "\n",
    "x=int(input('Enter the side of square:'))\n",
    "obj2=square(x)\n",
    "obj2.square_details()"
   ]
  },
  {
   "cell_type": "code",
   "execution_count": 23,
   "id": "687e5f1f-1d83-4148-98f8-e4a30baa63f6",
   "metadata": {},
   "outputs": [
    {
     "name": "stdin",
     "output_type": "stream",
     "text": [
      "Enter Radius of the circle: 10\n"
     ]
    },
    {
     "name": "stdout",
     "output_type": "stream",
     "text": [
      "The area of circle whose radius is 10 and it's area is:314.0 cm²\n",
      "The circumference of circle whose radius is 10 and it's value is: 62.800000000000004 cm.\n"
     ]
    }
   ],
   "source": [
    "# write a program to find the area of circle and circumference of circle:\n",
    "#---------------------------------------------------------------------------\n",
    "# pi*r²\n",
    "# 2*pi*r\n",
    "#----------------------------------------------------------------------------------\n",
    "class circle:\n",
    "    def __init__(self,radius):\n",
    "        self.radius=radius\n",
    "    def circle_details(self):\n",
    "        area=3.14*self.radius*self.radius\n",
    "        circumference=2*3.14*self.radius\n",
    "        print(f\"The area of circle whose radius is {self.radius} and it's area is:{area} cm²\")\n",
    "        print(f\"The circumference of circle whose radius is {self.radius} and it's value is: {circumference} cm.\")\n",
    "\n",
    "x=int(input('Enter Radius of the circle:'))\n",
    "obj3=circle(x)\n",
    "obj3.circle_details()"
   ]
  },
  {
   "cell_type": "code",
   "execution_count": 27,
   "id": "317ecfc9-dc81-40ea-aaef-26dfe0a2e863",
   "metadata": {},
   "outputs": [
    {
     "name": "stdin",
     "output_type": "stream",
     "text": [
      "Enter Radius of the circle: 10\n"
     ]
    },
    {
     "name": "stdout",
     "output_type": "stream",
     "text": [
      "The area of circle whose radius is 10 and it's area is:314.1592653589793 cm²\n",
      "The circumference of circle whose radius is 10 and it's value is: 62.83185307179586 cm.\n"
     ]
    }
   ],
   "source": [
    "# write a program to find the area of circle and circumference of circle:\n",
    "#---------------------------------------------------------------------------\n",
    "# pi*r²\n",
    "# 2*pi*r\n",
    "#----------------------------------------------------------------------------------\n",
    "import math\n",
    "class circle:\n",
    "    def __init__(self,radius):\n",
    "        self.radius=radius\n",
    "    def circle_details(self):\n",
    "        area=math.pi*self.radius*self.radius\n",
    "        circumference=2*math.pi*self.radius\n",
    "        print(f\"The area of circle whose radius is {self.radius} and it's area is:{area} cm²\")\n",
    "        print(f\"The circumference of circle whose radius is {self.radius} and it's value is: {circumference} cm.\")\n",
    "\n",
    "x=int(input('Enter Radius of the circle:'))\n",
    "obj3=circle(x)\n",
    "obj3.circle_details()"
   ]
  },
  {
   "cell_type": "code",
   "execution_count": 30,
   "id": "b14c2fc7-6773-43df-81ca-85c86be93c4f",
   "metadata": {},
   "outputs": [
    {
     "name": "stdout",
     "output_type": "stream",
     "text": [
      "* Rat--->\n",
      "Scientific name of Rat is Rattus norvegicus.\n",
      "Kingdom of Rat is Animalia.\n",
      "Phylum of Rat is Chordata. \n",
      "Class of Rat is Mammalia.\n",
      "Order of Rat is Muridae.\n",
      "Family of Rat is Rodentia.\n",
      "Genus of Rat is Rattus.\n",
      "Species of Rat is Norvegicus.\n",
      "\n",
      "-----------------------------------------------------------------------------------------------\n",
      "\n"
     ]
    }
   ],
   "source": [
    "# write a short paragraph contains 7-10 lines about animal using class and object\n",
    "#--------------------------------------------------------------\n",
    "class Animal:\n",
    "    def __init__(self,name,sci_name,kingdom,phylum,class1,order,family,genus,species):\n",
    "        self.name=name\n",
    "        self.sci_name=sci_name\n",
    "        self.kingdom=kingdom\n",
    "        self.class1=class1\n",
    "        self.phylum=phylum\n",
    "        self.order=order\n",
    "        self.family=family\n",
    "        self.genus=genus\n",
    "        self.species=species\n",
    "        \n",
    "    def details_animal(self):\n",
    "        print(f'Scientific name of {self.name} is {self.sci_name}.')\n",
    "        print(f'Kingdom of {self.name} is {self.kingdom}.')\n",
    "        print(f'Phylum of {self.name} is {self.phylum}. ')\n",
    "        print(f'Class of {self.name} is {self.class1}.')\n",
    "        print(f'Order of {self.name} is {self.order}.')\n",
    "        print(f'Family of {self.name} is {self.family}.')\n",
    "        print(f'Genus of {self.name} is {self.genus}.')\n",
    "        print(f'Species of {self.name} is {self.species}.')\n",
    "        \n",
    "Rat=Animal('Rat',\"Rattus norvegicus\",'Animalia',\"Chordata\",\"Mammalia\",\"Muridae\",\"Rodentia\",\"Rattus\",\"Norvegicus\")\n",
    "print('* Rat--->')\n",
    "Rat.details_animal()\n",
    "print('\\n-----------------------------------------------------------------------------------------------\\n')\n"
   ]
  },
  {
   "cell_type": "markdown",
   "id": "c674bc09-f338-4083-8062-ac37aa6abc00",
   "metadata": {},
   "source": [
    "# Inheritance\n",
    "\n",
    " * __Simple(single) Inheritance(Parent class and Child Class)__\n",
    " * __Multilevel Inheritance(Parent/child-child)__\n",
    " * __Multiple Inheritance(Parent/class/Parent class-Child class)__\n",
    " * __Hierarchical Inheritance(Parent class-Child class/Child class/Child class)__"
   ]
  },
  {
   "cell_type": "code",
   "execution_count": 9,
   "id": "fd5663ec-2248-4c42-bc5a-3aece46fb47f",
   "metadata": {},
   "outputs": [
    {
     "name": "stdout",
     "output_type": "stream",
     "text": [
      "Amazon is an Online Commerce Strore.\n",
      "Flipkart is an Online Commerce Strore.\n",
      "Myntra is an Online Commerce Strore.\n"
     ]
    }
   ],
   "source": [
    "# Single Inheritance \n",
    "\n",
    "class a:   # parent of b child\n",
    "    brand_name1=\"Amazon\"\n",
    "    brand_name2=\"Flipkart\"\n",
    "    brand_name3=\"Myntra\"\n",
    "class b(a):   # b is the child of a\n",
    "    prod_1=\"Online Commerce Strore.\"\n",
    "    prod_2=\"Online Store.\"\n",
    "    prod_3=\"E-Commerce Store.\"\n",
    "obj_1=b()\n",
    "print(obj_1.brand_name1+\" is an \"+obj_1.prod_1)\n",
    "print(obj_1.brand_name2+\" is an \"+obj_1.prod_1)\n",
    "print(obj_1.brand_name3+' is an '+obj_1.prod_1)"
   ]
  },
  {
   "cell_type": "code",
   "execution_count": 6,
   "id": "4e31e314-60af-4a99-a00c-af92570b9ff4",
   "metadata": {},
   "outputs": [
    {
     "data": {
      "text/plain": [
       "'Amazon'"
      ]
     },
     "execution_count": 6,
     "metadata": {},
     "output_type": "execute_result"
    }
   ],
   "source": [
    "b.brand_name1"
   ]
  },
  {
   "cell_type": "code",
   "execution_count": 16,
   "id": "8bbcf248-afd9-453e-a84a-2c50a282985c",
   "metadata": {},
   "outputs": [
    {
     "name": "stdout",
     "output_type": "stream",
     "text": [
      "Amazon is an Online Commerce Strore and it's popularity is 100\n",
      "Flipkart is an Online Store ans it's popularity is 500\n"
     ]
    }
   ],
   "source": [
    "# Multilevel Inheritance :\n",
    "\n",
    "\n",
    "# Single Inheritance \n",
    "\n",
    "class a:   # parent of b child   [parent]\n",
    "    brand_name1=\"Amazon\"\n",
    "    brand_name2=\"Flipkart\"\n",
    "    brand_name3=\"Myntra\"\n",
    "class b(a):   # b is the child of a  [chilld]\n",
    "    prod_1=\"Online Commerce Strore\"\n",
    "    prod_2=\"Online Store\"\n",
    "    prod_3=\"E-Commerce Store\"   \n",
    "class c(b):     # grandchild\n",
    "    popularity_1=\"100\"\n",
    "    popularity_2=\"500\"\n",
    "    popularity_3=\"1000\"\n",
    "\n",
    "obj_1=c()\n",
    "\n",
    "print(obj_1.brand_name1+\" is an \"+obj_1.prod_1+\" and it's popularity is \"+obj_1.popularity_1)\n",
    "print(obj_1.brand_name2+\" is an \"+obj_1.prod_2+\" ans it's popularity is \"+obj_1.popularity_2)"
   ]
  },
  {
   "cell_type": "code",
   "execution_count": 19,
   "id": "3a602f0d-f4e4-461f-a9ae-f9d408e8970f",
   "metadata": {},
   "outputs": [
    {
     "name": "stdout",
     "output_type": "stream",
     "text": [
      "Amazon is an Online Commerce Strore and it's populairyt is 100\n"
     ]
    }
   ],
   "source": [
    "# Multiple Inheritance [Parent/parent-child]\n",
    "\n",
    "# Single Inheritance \n",
    "\n",
    "class a:  \n",
    "    brand_name1=\"Amazon\"\n",
    "    brand_name2=\"Flipkart\"\n",
    "    brand_name3=\"Myntra\"\n",
    "    \n",
    "class b:   \n",
    "    prod_1=\"Online Commerce Strore\"\n",
    "    prod_2=\"Online Store\"\n",
    "    prod_3=\"E-Commerce Store\"\n",
    "\n",
    "class c(a,b):\n",
    "    popularity_1=\"100\"\n",
    "    popularity_2=\"200\"\n",
    "    popularity_3=\"300\"\n",
    "obj_2=c()\n",
    "print(obj_2.brand_name1+' is an '+obj_2.prod_1+\" and it's populairyt is \"+obj_2.popularity_1)"
   ]
  },
  {
   "cell_type": "code",
   "execution_count": 24,
   "id": "a7a2ed5b-3f02-4418-b1cf-d05c0f81b229",
   "metadata": {},
   "outputs": [
    {
     "name": "stdout",
     "output_type": "stream",
     "text": [
      "Amazon is an Online Commerce Strore and it's popularity is 100 and it's value is Best Value\n",
      "Flipkart is an Online Store and it's popularity is 200 and it's value is Good Value\n"
     ]
    }
   ],
   "source": [
    "# Hierarchical Inheritance:\n",
    "\n",
    "class a:  \n",
    "    brand_name1=\"Amazon\"\n",
    "    brand_name2=\"Flipkart\"\n",
    "    brand_name3=\"Myntra\"\n",
    "    \n",
    "class b(a):   \n",
    "    prod_1=\"Online Commerce Strore\"\n",
    "    prod_2=\"Online Store\"\n",
    "    prod_3=\"E-Commerce Store\"\n",
    "\n",
    "class c(a):\n",
    "    popularity_1=\"100\"\n",
    "    popularity_2=\"200\"\n",
    "    popularity_3=\"300\"\n",
    "\n",
    "class d(a):\n",
    "    prod_value_1=\"Best Value\"\n",
    "    prod_value_2=\"Good Value\"\n",
    "    prod_value_3=\"Better Value\"\n",
    "\n",
    "obj_1=b()\n",
    "obj_2=c()\n",
    "obj_3=d()\n",
    "print(obj_1.brand_name1+' is an '+obj_1.prod_1+\" and it's popularity is \"+obj_2.popularity_1+\" and it's value is \"+obj_3.prod_value_1)\n",
    "print(obj_1.brand_name2+' is an '+obj_1.prod_2+\" and it's popularity is \"+obj_2.popularity_2+\" and it's value is \"+obj_3.prod_value_2)"
   ]
  },
  {
   "cell_type": "code",
   "execution_count": 33,
   "id": "aea4c7a1-df74-405d-9ee3-9cb5ad842998",
   "metadata": {},
   "outputs": [
    {
     "name": "stdout",
     "output_type": "stream",
     "text": [
      "Hello world\n",
      "Hi\n",
      "class a and c\n",
      "class a,b c, and include also d property.\n"
     ]
    }
   ],
   "source": [
    "# Hybrid Inheritance\n",
    "class a:\n",
    "    def name_a(self):\n",
    "        return('Hello world')\n",
    "\n",
    "class b:\n",
    "    def name_b(self):\n",
    "        return('Hi')\n",
    "class c(a):\n",
    "    def name_c(self):\n",
    "        return('class a and c')\n",
    "class d(b,c):\n",
    "    def name_d(self):\n",
    "        return('class a,b c, and include also d property.')\n",
    "\n",
    "obj_4=d()\n",
    "print(obj_4.name_a())\n",
    "print(obj_4.name_b())\n",
    "print(obj_4.name_c())\n",
    "print(obj_4.name_d())"
   ]
  },
  {
   "cell_type": "markdown",
   "id": "54186a89-07b4-4efe-80a7-3a6be2c309d5",
   "metadata": {},
   "source": [
    "# 4 Methods of oops concept\n",
    "\n",
    " * __1.Inheritance__\n",
    " * __2.Polymorphism__\n",
    " * __3.Encapsulation__\n",
    " * __4.Data Abstraction__\n",
    "\n",
    " * __1. Inheritance (Mom and Daughter):- Some property of mom inherits by her daughter.__\n",
    " * __2. Polymorphism(child): In School behave like student, In home behave like son or daughter, in Bus behave like passenger, In shop behave like customer, in Hospital behave like patients.__\n",
    " * __3. Data_Abstraction: ATM,check balance,deposite cash, withdaraw cash, print statement,(Hiding or irrevalant data).__\n"
   ]
  },
  {
   "cell_type": "code",
   "execution_count": 34,
   "id": "5efff604-70e6-4702-bd5f-502fb519cfd3",
   "metadata": {},
   "outputs": [],
   "source": [
    "# 4 methods of ooops concept:\n",
    "# 1). Inheritance\n",
    "# 2). Polymorphism\n",
    "# 3). Encapsulation\n",
    "# 4). Data Abstraction"
   ]
  },
  {
   "cell_type": "code",
   "execution_count": 49,
   "id": "1bb8ec0e-47f6-4f3d-b1f7-a7579d140233",
   "metadata": {},
   "outputs": [
    {
     "name": "stdout",
     "output_type": "stream",
     "text": [
      "Shawn\n",
      "White\n",
      "Bark\n"
     ]
    }
   ],
   "source": [
    "# 1. Inheritance\n",
    "\n",
    "class Animal:\n",
    "    def __init__(self,name):\n",
    "        self.name=name\n",
    "\n",
    "class Dog(Animal):\n",
    "    def __init__(self,name):\n",
    "        super().__init__(name)\n",
    "    def speak(self):\n",
    "        return(\"Bark\")\n",
    "    def color(self):\n",
    "        return('White')\n",
    "\n",
    "\n",
    "dog=Dog('Shawn')\n",
    "print(dog.name)\n",
    "print(dog.color())\n",
    "print(dog.speak())\n"
   ]
  },
  {
   "cell_type": "code",
   "execution_count": 51,
   "id": "d690e230-f39f-4d9a-be65-d61fff714f6d",
   "metadata": {},
   "outputs": [
    {
     "name": "stdout",
     "output_type": "stream",
     "text": [
      "Bark\n",
      "Meow\n",
      "Talk\n"
     ]
    }
   ],
   "source": [
    "# polymorphism\n",
    "\n",
    "class Animal:\n",
    "    def speak(self):\n",
    "        print('Animal Speak')\n",
    "\n",
    "class Dog(Animal):\n",
    "    def speak(self):\n",
    "        print('Bark')\n",
    "\n",
    "class Cat(Animal):\n",
    "    def speak(self):\n",
    "        print('Meow')\n",
    "class Man(Animal):\n",
    "    def speak(self):\n",
    "        print(\"Talk\")\n",
    "animal=[Dog(),Cat(),Man()]\n",
    "\n",
    "for i in animal:\n",
    "    i.speak()"
   ]
  },
  {
   "cell_type": "code",
   "execution_count": 54,
   "id": "0c530418-1fc2-43c7-8675-3fe6a5ef830b",
   "metadata": {},
   "outputs": [
    {
     "data": {
      "text/plain": [
       "20"
      ]
     },
     "execution_count": 54,
     "metadata": {},
     "output_type": "execute_result"
    }
   ],
   "source": [
    "# Encapsulation\n",
    "\n",
    "class Encapsulation:\n",
    "    def __init__(self,value):\n",
    "        self.private_variable=value\n",
    "\n",
    "    def get_private_variable(self):\n",
    "        return self.private_variable\n",
    "\n",
    "    def update_value(self,new_value):\n",
    "        self.private_variable=new_value\n",
    "\n",
    "obj=Encapsulation(20)\n",
    "obj.get_private_variable()"
   ]
  },
  {
   "cell_type": "code",
   "execution_count": 55,
   "id": "4930ec6a-f801-44d6-88b2-d6ba39f89fa7",
   "metadata": {},
   "outputs": [
    {
     "data": {
      "text/plain": [
       "20"
      ]
     },
     "execution_count": 55,
     "metadata": {},
     "output_type": "execute_result"
    }
   ],
   "source": [
    "obj.get_private_variable()"
   ]
  },
  {
   "cell_type": "code",
   "execution_count": 56,
   "id": "788d4067-3636-4fa8-a93a-125c2a8e2703",
   "metadata": {},
   "outputs": [
    {
     "data": {
      "text/plain": [
       "20"
      ]
     },
     "execution_count": 56,
     "metadata": {},
     "output_type": "execute_result"
    }
   ],
   "source": [
    "obj.get_private_variable()"
   ]
  },
  {
   "cell_type": "code",
   "execution_count": 57,
   "id": "cb7645b9-bdfc-4759-8f08-adc998bfe35d",
   "metadata": {},
   "outputs": [
    {
     "data": {
      "text/plain": [
       "100"
      ]
     },
     "execution_count": 57,
     "metadata": {},
     "output_type": "execute_result"
    }
   ],
   "source": [
    "obj.update_value(100)\n",
    "obj.get_private_variable()"
   ]
  },
  {
   "cell_type": "code",
   "execution_count": 58,
   "id": "63524450-fa1b-464e-8fa5-2d8b77f74ee0",
   "metadata": {},
   "outputs": [
    {
     "data": {
      "text/plain": [
       "100"
      ]
     },
     "execution_count": 58,
     "metadata": {},
     "output_type": "execute_result"
    }
   ],
   "source": [
    "obj.get_private_variable()"
   ]
  },
  {
   "cell_type": "code",
   "execution_count": 59,
   "id": "f07ab060-7422-4623-aedd-d37cfb791508",
   "metadata": {},
   "outputs": [
    {
     "data": {
      "text/plain": [
       "500"
      ]
     },
     "execution_count": 59,
     "metadata": {},
     "output_type": "execute_result"
    }
   ],
   "source": [
    "obj.update_value(500)\n",
    "obj.get_private_variable()"
   ]
  },
  {
   "cell_type": "code",
   "execution_count": 60,
   "id": "fcf12de0-4145-47d1-9ca3-2f94decbab85",
   "metadata": {},
   "outputs": [
    {
     "data": {
      "text/plain": [
       "200"
      ]
     },
     "execution_count": 60,
     "metadata": {},
     "output_type": "execute_result"
    }
   ],
   "source": [
    "obj1=Encapsulation(200)\n",
    "obj1.get_private_variable()"
   ]
  },
  {
   "cell_type": "code",
   "execution_count": 61,
   "id": "7323b049-24a5-49f7-8d71-9d915481fe06",
   "metadata": {},
   "outputs": [
    {
     "data": {
      "text/plain": [
       "1000"
      ]
     },
     "execution_count": 61,
     "metadata": {},
     "output_type": "execute_result"
    }
   ],
   "source": [
    "Abhishek=Encapsulation(1000)\n",
    "Abhishek.get_private_variable()"
   ]
  },
  {
   "cell_type": "code",
   "execution_count": 62,
   "id": "22e070ec-2920-40a7-a72e-a0ba335b2b58",
   "metadata": {},
   "outputs": [
    {
     "data": {
      "text/plain": [
       "5000"
      ]
     },
     "execution_count": 62,
     "metadata": {},
     "output_type": "execute_result"
    }
   ],
   "source": [
    "Abhishek.update_value(5000)\n",
    "Abhishek.get_private_variable()"
   ]
  },
  {
   "cell_type": "code",
   "execution_count": 63,
   "id": "c5ead324-fdf6-4800-99e9-3b9cb99f1578",
   "metadata": {},
   "outputs": [
    {
     "data": {
      "text/plain": [
       "60000"
      ]
     },
     "execution_count": 63,
     "metadata": {},
     "output_type": "execute_result"
    }
   ],
   "source": [
    "sahil=Encapsulation(60000)\n",
    "sahil.get_private_variable()"
   ]
  },
  {
   "cell_type": "code",
   "execution_count": 64,
   "id": "f1e0cb98-df22-4b1e-a8c5-4c57102a988a",
   "metadata": {},
   "outputs": [
    {
     "data": {
      "text/plain": [
       "10000"
      ]
     },
     "execution_count": 64,
     "metadata": {},
     "output_type": "execute_result"
    }
   ],
   "source": [
    "sahil.update_value(10000)\n",
    "sahil.get_private_variable()"
   ]
  },
  {
   "cell_type": "code",
   "execution_count": 65,
   "id": "b1b43578-35ce-46b0-8732-720f0724e56e",
   "metadata": {},
   "outputs": [
    {
     "data": {
      "text/plain": [
       "5000"
      ]
     },
     "execution_count": 65,
     "metadata": {},
     "output_type": "execute_result"
    }
   ],
   "source": [
    "Abhishek.get_private_variable()"
   ]
  },
  {
   "cell_type": "code",
   "execution_count": 66,
   "id": "210dd6f5-53d7-412f-a093-085ba230f1ba",
   "metadata": {},
   "outputs": [
    {
     "data": {
      "text/plain": [
       "10000"
      ]
     },
     "execution_count": 66,
     "metadata": {},
     "output_type": "execute_result"
    }
   ],
   "source": [
    "sahil.get_private_variable()"
   ]
  },
  {
   "cell_type": "code",
   "execution_count": 75,
   "id": "5ba5169e-4447-4869-a298-bac4a953bdba",
   "metadata": {},
   "outputs": [],
   "source": [
    "from abc import ABC,abstractmethod\n",
    "# ABC Stands for-Abstract Base Classes\n",
    "# decorator: Decorator is nothing it is a function that takes another function as a argument.\n",
    "\n",
    "class bank(ABC):\n",
    "    def databases(self):\n",
    "        print('Connected to Dabase.')\n",
    "        \n",
    "    @abstractmethod    #decorator\n",
    "    def security(self):\n",
    "        pass\n",
    "    @abstractmethod\n",
    "    def display(self):\n",
    "        pass"
   ]
  },
  {
   "cell_type": "code",
   "execution_count": 76,
   "id": "acb002ab-30b1-4b5a-803b-38a0ed4173e8",
   "metadata": {},
   "outputs": [
    {
     "ename": "TypeError",
     "evalue": "Can't instantiate abstract class mob_bank without an implementation for abstract methods 'display', 'security'",
     "output_type": "error",
     "traceback": [
      "\u001b[1;31m---------------------------------------------------------------------------\u001b[0m",
      "\u001b[1;31mTypeError\u001b[0m                                 Traceback (most recent call last)",
      "Cell \u001b[1;32mIn[76], line 6\u001b[0m\n\u001b[0;32m      2\u001b[0m     \u001b[38;5;28;01mdef\u001b[39;00m \u001b[38;5;21mmob_log\u001b[39m(\u001b[38;5;28mself\u001b[39m):\n\u001b[0;32m      3\u001b[0m         \u001b[38;5;28mprint\u001b[39m(\u001b[38;5;124m'\u001b[39m\u001b[38;5;124mLogin Success\u001b[39m\u001b[38;5;124m'\u001b[39m)\n\u001b[1;32m----> 6\u001b[0m mob_1\u001b[38;5;241m=\u001b[39m\u001b[43mmob_bank\u001b[49m\u001b[43m(\u001b[49m\u001b[43m)\u001b[49m\n\u001b[0;32m      7\u001b[0m \u001b[38;5;28mprint\u001b[39m(mob_1\u001b[38;5;241m.\u001b[39mdatabases())\n",
      "\u001b[1;31mTypeError\u001b[0m: Can't instantiate abstract class mob_bank without an implementation for abstract methods 'display', 'security'"
     ]
    }
   ],
   "source": [
    "class mob_bank(bank):\n",
    "    def mob_log(self):\n",
    "        print('Login Success')\n",
    "   \n",
    "\n",
    "mob_1=mob_bank()\n",
    "print(mob_1.databases())"
   ]
  },
  {
   "cell_type": "code",
   "execution_count": 83,
   "id": "5e668982-72c3-425c-a67e-9c91aeaed8e2",
   "metadata": {},
   "outputs": [
    {
     "name": "stdout",
     "output_type": "stream",
     "text": [
      "Connected to Dabase.\n",
      "None\n"
     ]
    }
   ],
   "source": [
    "class mob_bank(bank):\n",
    "    def mob_log(self):\n",
    "        print('Login Success')\n",
    "\n",
    "    def security(self):\n",
    "        pass\n",
    "\n",
    "    def display(self):\n",
    "        pass\n",
    "   \n",
    "\n",
    "mob_1=mob_bank()\n",
    "\n",
    "print(mob_1.databases())"
   ]
  },
  {
   "cell_type": "code",
   "execution_count": 94,
   "id": "5ea4a04e-70c0-472f-baea-90868ee435b6",
   "metadata": {},
   "outputs": [],
   "source": [
    "from abc import ABC, abstractmethod\n",
    "class abhishek(ABC):\n",
    "    def name1(self):\n",
    "        print('My name is Abhishek Wani.\\nI live at Bhusawal.')\n",
    "    @abstractmethod\n",
    "    def age(self):\n",
    "        pass\n",
    "    @abstractmethod\n",
    "    def salary(self):\n",
    "        pass"
   ]
  },
  {
   "cell_type": "code",
   "execution_count": 97,
   "id": "3c3ad4eb-b160-47a4-b2fb-9c335f3bdb92",
   "metadata": {},
   "outputs": [
    {
     "name": "stdout",
     "output_type": "stream",
     "text": [
      "My name is shivam\n",
      "My name is Abhishek Wani.\n",
      "I live at Bhusawal.\n"
     ]
    }
   ],
   "source": [
    "class shivam(abhishek):\n",
    "    def name(self):\n",
    "        print('My name is shivam')\n",
    "\n",
    "    def age(self):\n",
    "        pass\n",
    "    def salary(self):\n",
    "        pass\n",
    "\n",
    "obj1=shivam()\n",
    "obj1.name()\n",
    "obj1.name1()"
   ]
  },
  {
   "cell_type": "code",
   "execution_count": 1,
   "id": "36c3dc87-363b-4105-a19d-c778de84cf37",
   "metadata": {},
   "outputs": [
    {
     "name": "stdin",
     "output_type": "stream",
     "text": [
      "Enter Your Name: Gurav\n",
      "Enter Your Account Number: 123\n",
      "Enter Your Pin: 123\n"
     ]
    }
   ],
   "source": [
    "#name,acc,pin,value   # init  ,detial \n",
    "\n",
    "class atm():\n",
    "    def __init__(self,name,acc,pin,balance=0):\n",
    "        self.name=name\n",
    "        self.acc=acc\n",
    "        self.pin=pin\n",
    "        self.balance=balance\n",
    "    def details(self):\n",
    "        print(f'\\nAccount Holder Name:{self.name}\\nAccount Number:{self.acc}\\nAccount PIN:****\\nAccount Balance:{self.balance}')\n",
    "    def depo(self,depo):\n",
    "        self.balance=self.balance+depo\n",
    "        print(f'\\nCurrent Account Balance:₹ {self.balance}')\n",
    "\n",
    "    def witt(self,witt):\n",
    "        if witt>self.balance:\n",
    "            print(f'Insufficient Funds, the amount of money your have is: {self.balance}')\n",
    "        else:\n",
    "            self.balance=self.balance-witt\n",
    "            print(f'Withdraw Successful with Remaining Balance is:{self.balance}')\n",
    "    def balance(self):\n",
    "        print(f'Available Balance is:{self.balance}')\n",
    "\n",
    "    def pinchange(self,oldpin,newpin=0):\n",
    "        if oldpin!=self.pin:\n",
    "            print('You Entered wrong PIN.')\n",
    "        else:\n",
    "            newpin=int(input('Enter New PIN.'))\n",
    "            self.pin=newpin\n",
    "            print(f'PIN has been Changed Successfully.')\n",
    "\n",
    "    def viewpin(self):\n",
    "        print(f'Your Current Pin is:{self.pin}')\n",
    "\n",
    "    def transaction(self):\n",
    "        print(\"\"\"\\nList of Options\\n1.Account Details\\n2.Check Balance\\n3.Deposite\\n4.Withdraw\\n5.Change PIN\\n6.View PIN\\n7.Exit\"\"\")\n",
    "        while True:\n",
    "            try:\n",
    "                option=int(input('Choose an Options:'))\n",
    "            except:\n",
    "                print('Error:Enter correct option.')\n",
    "            else:\n",
    "                if option==1:\n",
    "                    atm.details(self)\n",
    "                elif option==2:\n",
    "                    atm.balance(self)\n",
    "                elif option==3:\n",
    "                    depo=int(input('Enter Deposite Amount:'))\n",
    "                    atm.depo(self,depo)\n",
    "                elif option==4:\n",
    "                    witt=int(input('Enter Withdrawal Amount:'))\n",
    "                    atm.witt(self,witt)\n",
    "                elif option==5:\n",
    "                    oldpin=int(input('Enter your OLD PIN:'))\n",
    "                    atm.pinchange(self,oldpin)\n",
    "                elif option==6:\n",
    "                    atm.viewpin(self)\n",
    "                elif option==7:\n",
    "                    print('Thank You for Using this ATM.')\n",
    "                    break\n",
    "                else:\n",
    "                    print('Invalid Option. Please choose a valid option.')\n",
    "try:\n",
    "    \n",
    "    name=input(\"Enter Your Name:\")\n",
    "    acc=int(input('Enter Your Account Number:'))\n",
    "    pin=int(input('Enter Your Pin:'))\n",
    "    value=atm(name,acc,pin)\n",
    "    value.transaction()\n",
    "except:\n",
    "    print('ValueError.')"
   ]
  },
  {
   "cell_type": "code",
   "execution_count": null,
   "id": "426ad1e8-9c1d-4188-9f82-f90d3c63237c",
   "metadata": {},
   "outputs": [],
   "source": [
    "# Write a program to build a simple Student Management System using Python which can perorm the following operatins\n",
    "#1. Accept   [name,rollno,marks1,marks2]\n",
    "#2. Display  [Name,rollno,Marks1,Marks2]\n",
    "#3. Search   [rollno]\n",
    "#4. Delete   [object deleted]\n",
    "#5. Update   [updation perform]\n",
    "\n",
    "\n",
    "class\n",
    "    constructor\n",
    "\n",
    "    def accept\n",
    "\n",
    "    def display\n",
    "\n",
    "    def search[rollno.]\n",
    "\n",
    "\n",
    "    def delete\n",
    "\n",
    "    def update"
   ]
  },
  {
   "cell_type": "code",
   "execution_count": 24,
   "id": "3b802864-940f-4190-b57b-e5bbccf15650",
   "metadata": {},
   "outputs": [
    {
     "name": "stdin",
     "output_type": "stream",
     "text": [
      "Enter Name Rupam\n",
      "Enter Roll no 5\n",
      "Enter mark1 95\n",
      "Enter mark2 85\n"
     ]
    },
    {
     "name": "stdout",
     "output_type": "stream",
     "text": [
      "\n",
      "1.Accept Student details\n",
      "2.Display Student Details\n",
      "3.Search Details of a Student\n",
      "4.Delete Details of Student\n",
      "5.Update Student Details\n",
      "6.Exit\n"
     ]
    },
    {
     "name": "stdin",
     "output_type": "stream",
     "text": [
      "\n",
      "Choose an option: 5\n",
      "Enter new roll number :  10\n"
     ]
    },
    {
     "name": "stdout",
     "output_type": "stream",
     "text": [
      "0\n"
     ]
    },
    {
     "ename": "TypeError",
     "evalue": "list indices must be integers or slices, not NoneType",
     "output_type": "error",
     "traceback": [
      "\u001b[1;31m---------------------------------------------------------------------------\u001b[0m",
      "\u001b[1;31mTypeError\u001b[0m                                 Traceback (most recent call last)",
      "Cell \u001b[1;32mIn[24], line 81\u001b[0m\n\u001b[0;32m     79\u001b[0m list1 \u001b[38;5;241m=\u001b[39m []\n\u001b[0;32m     80\u001b[0m value \u001b[38;5;241m=\u001b[39m Student(name,roll,mark1,mark2)\n\u001b[1;32m---> 81\u001b[0m \u001b[43mvalue\u001b[49m\u001b[38;5;241;43m.\u001b[39;49m\u001b[43mview\u001b[49m\u001b[43m(\u001b[49m\u001b[43m)\u001b[49m\n",
      "Cell \u001b[1;32mIn[24], line 64\u001b[0m, in \u001b[0;36mStudent.view\u001b[1;34m(self)\u001b[0m\n\u001b[0;32m     62\u001b[0m newroll \u001b[38;5;241m=\u001b[39m \u001b[38;5;28mint\u001b[39m(\u001b[38;5;28minput\u001b[39m(\u001b[38;5;124m\"\u001b[39m\u001b[38;5;124mEnter new roll number : \u001b[39m\u001b[38;5;124m\"\u001b[39m))\n\u001b[0;32m     63\u001b[0m \u001b[38;5;28mprint\u001b[39m(\u001b[38;5;28mlen\u001b[39m(list1))\n\u001b[1;32m---> 64\u001b[0m \u001b[43mvalue\u001b[49m\u001b[38;5;241;43m.\u001b[39;49m\u001b[43mupdate\u001b[49m\u001b[43m(\u001b[49m\u001b[43mroll\u001b[49m\u001b[43m,\u001b[49m\u001b[43mnewroll\u001b[49m\u001b[43m)\u001b[49m\n\u001b[0;32m     65\u001b[0m \u001b[38;5;28mprint\u001b[39m(\u001b[38;5;124m\"\u001b[39m\u001b[38;5;124mAfter updating roll number\u001b[39m\u001b[38;5;124m\"\u001b[39m)\n\u001b[0;32m     66\u001b[0m \u001b[38;5;28;01mfor\u001b[39;00m i \u001b[38;5;129;01min\u001b[39;00m \u001b[38;5;28mrange\u001b[39m(\u001b[38;5;28mlen\u001b[39m(list1)):\n",
      "Cell \u001b[1;32mIn[24], line 31\u001b[0m, in \u001b[0;36mStudent.update\u001b[1;34m(self, roll, newroll)\u001b[0m\n\u001b[0;32m     29\u001b[0m i \u001b[38;5;241m=\u001b[39m value\u001b[38;5;241m.\u001b[39msearch(roll)\n\u001b[0;32m     30\u001b[0m num \u001b[38;5;241m=\u001b[39m newroll\n\u001b[1;32m---> 31\u001b[0m \u001b[43mlist1\u001b[49m\u001b[43m[\u001b[49m\u001b[43mi\u001b[49m\u001b[43m]\u001b[49m\u001b[38;5;241m.\u001b[39mroll \u001b[38;5;241m=\u001b[39m num\n",
      "\u001b[1;31mTypeError\u001b[0m: list indices must be integers or slices, not NoneType"
     ]
    }
   ],
   "source": [
    "class Student:\n",
    "    def __init__(self,name,roll,mark1,mark2):\n",
    "        self.name = name\n",
    "        self.roll = roll\n",
    "        self.mark1 = mark1\n",
    "        self.mark2 = mark2\n",
    "\n",
    "    def accept(self,name,roll,mark1,mark2):\n",
    "        object1 = Student(name,roll,mark1,mark2)\n",
    "        list1.append(object1)\n",
    "        print(\"Details of student are accepted\")\n",
    "\n",
    "   \n",
    "        \n",
    "\n",
    "    def display(self,object1):\n",
    "        print(f'Name is:{self.name}\\nRoll Number is : {self.roll}\\nMark1 is : {self.mark1}\\nMark2 is : {self.mark2}')\n",
    "\n",
    "    def search(self,rnum):\n",
    "        for i in range(len(list1)):\n",
    "            if(list1[i].roll == rnum):\n",
    "                return i\n",
    "\n",
    "    def delete(self,roll):\n",
    "        i = value.search(roll)\n",
    "        del(list1[i])\n",
    "\n",
    "    def update(self,roll,newroll):\n",
    "        i = value.search(roll)\n",
    "        num = newroll\n",
    "        list1[i].roll = num\n",
    "\n",
    "    def view(self):\n",
    "        print(\"\\n1.Accept Student details\\n2.Display Student Details\\n3.Search Details of a Student\\n4.Delete Details of Student\\n5.Update Student Details\\n6.Exit\")\n",
    "\n",
    "        while True:\n",
    "            try:\n",
    "                opt=int(input(\"\\nChoose an option:\"))\n",
    "            except:\n",
    "                print(\"Error: Enter a correct option.\\n\")\n",
    "                continue\n",
    "            else:\n",
    "                if opt==1:\n",
    "                    value.accept(name,roll,mark1,mark2)\n",
    "    \n",
    "                elif opt==2:\n",
    "                    print(\"List of Students is : \\n\")\n",
    "                    for i in range(list1.__len__()):\n",
    "                        value.display(list1[i])\n",
    "                            \n",
    "                elif opt==3:\n",
    "                    y = value.search(roll)\n",
    "                    value.display(list1[y])\n",
    "    \n",
    "                elif opt==4:\n",
    "                    value.delete(roll)\n",
    "                    print(\"List after deletion is :\")\n",
    "                    for i in range(len(list1)):\n",
    "                        value.display(list1[i])\n",
    "    \n",
    "                elif opt==5:\n",
    "                    newroll = int(input(\"Enter new roll number : \"))\n",
    "                    print(len(list1))\n",
    "                    value.update(roll,newroll)\n",
    "                    print(\"After updating roll number\")\n",
    "                    for i in range(len(list1)):\n",
    "                        value.display(list1[i])\n",
    "    \n",
    "                else:\n",
    "                    print(\"Thankyou for visiting\")\n",
    "                    break\n",
    "\n",
    "\n",
    "                    \n",
    "name=input(\"Enter Name\")\n",
    "roll=int(input(\"Enter Roll no\"))\n",
    "mark1=int(input(\"Enter mark1\"))\n",
    "mark2=int(input(\"Enter mark2\"))                    \n",
    "list1 = []\n",
    "value = Student(name,roll,mark1,mark2)\n",
    "value.view()"
   ]
  },
  {
   "cell_type": "code",
   "execution_count": 26,
   "id": "321f0fa0-63b5-42f7-87dc-0a0bed51b365",
   "metadata": {},
   "outputs": [
    {
     "name": "stdout",
     "output_type": "stream",
     "text": [
      "\n",
      "List of Options\n",
      "1. Accept Student\n",
      "2. Display Students\n",
      "3. Search Student\n",
      "4. Delete Student\n",
      "5. Update Student\n",
      "6. Exit\n"
     ]
    },
    {
     "name": "stdin",
     "output_type": "stream",
     "text": [
      "Choose an Option:  1\n",
      "Enter Name:  Rupam\n",
      "Enter Roll Number:  5\n",
      "Enter Marks1:  95\n",
      "Enter Marks2:  98\n"
     ]
    },
    {
     "name": "stdout",
     "output_type": "stream",
     "text": [
      "Student Rupam added successfully.\n"
     ]
    },
    {
     "name": "stdin",
     "output_type": "stream",
     "text": [
      "Choose an Option:  2\n"
     ]
    },
    {
     "name": "stdout",
     "output_type": "stream",
     "text": [
      "\n",
      "Name: Rupam\n",
      "Roll Number: 5\n",
      "Marks1: 95\n",
      "Marks2: 98\n"
     ]
    },
    {
     "name": "stdin",
     "output_type": "stream",
     "text": [
      "Choose an Option:  3\n",
      "Enter Roll Number:  5\n"
     ]
    },
    {
     "name": "stdout",
     "output_type": "stream",
     "text": [
      "\n",
      "Name: Rupam\n",
      "Roll Number: 5\n",
      "Marks1: 95\n",
      "Marks2: 98\n"
     ]
    },
    {
     "name": "stdin",
     "output_type": "stream",
     "text": [
      "Choose an Option:  3\n",
      "Enter Roll Number:  1\n"
     ]
    },
    {
     "name": "stdout",
     "output_type": "stream",
     "text": [
      "Student not found.\n"
     ]
    },
    {
     "name": "stdin",
     "output_type": "stream",
     "text": [
      "Choose an Option:  4\n",
      "Enter Roll Number to Delete:  5\n"
     ]
    },
    {
     "name": "stdout",
     "output_type": "stream",
     "text": [
      "Student with roll number 5 has been deleted.\n"
     ]
    },
    {
     "name": "stdin",
     "output_type": "stream",
     "text": [
      "Choose an Option:  1\n",
      "Enter Name:  Sahil\n",
      "Enter Roll Number:  10\n",
      "Enter Marks1:  98\n",
      "Enter Marks2:  95\n"
     ]
    },
    {
     "name": "stdout",
     "output_type": "stream",
     "text": [
      "Student Sahil added successfully.\n"
     ]
    },
    {
     "name": "stdin",
     "output_type": "stream",
     "text": [
      "Choose an Option:  5\n",
      "Enter Roll Number to Update:  10\n",
      "Enter New Name: Angel\n",
      "Enter New Marks1: 98\n",
      "Enter New Marks2: 98\n"
     ]
    },
    {
     "name": "stdout",
     "output_type": "stream",
     "text": [
      "Student with roll number 10 has been updated.\n"
     ]
    },
    {
     "name": "stdin",
     "output_type": "stream",
     "text": [
      "Choose an Option:  2\n"
     ]
    },
    {
     "name": "stdout",
     "output_type": "stream",
     "text": [
      "\n",
      "Name: Angel\n",
      "Roll Number: 10\n",
      "Marks1: 98\n",
      "Marks2: 98\n"
     ]
    },
    {
     "name": "stdin",
     "output_type": "stream",
     "text": [
      "Choose an Option:  6\n"
     ]
    },
    {
     "name": "stdout",
     "output_type": "stream",
     "text": [
      "Thank You for Using the Student Management System.\n"
     ]
    }
   ],
   "source": [
    "class StudentManagementSystem:\n",
    "    def __init__(self):\n",
    "        self.students = []\n",
    "\n",
    "    def accept(self, name, roll_num, marks1, marks2):\n",
    "        student = {\n",
    "            'name': name,\n",
    "            'roll_num': roll_num,\n",
    "            'marks1': marks1,\n",
    "            'marks2': marks2\n",
    "        }\n",
    "        self.students.append(student)\n",
    "        print(f\"Student {name} added successfully.\")\n",
    "\n",
    "    def display(self):\n",
    "        if not self.students:\n",
    "            print(\"No students to display.\")\n",
    "        for student in self.students:\n",
    "            print(f\"\\nName: {student['name']}\\nRoll Number: {student['roll_num']}\\nMarks1: {student['marks1']}\\nMarks2: {student['marks2']}\")\n",
    "\n",
    "    def search(self, roll_num):\n",
    "        for student in self.students:\n",
    "            if student['roll_num'] == roll_num:\n",
    "                return student\n",
    "\n",
    "    def delete(self, roll_num):\n",
    "        student = self.search(roll_num)\n",
    "        if student:\n",
    "            self.students.remove(student)\n",
    "            print(f\"Student with roll number {roll_num} has been deleted.\")\n",
    "        else:\n",
    "            print(f\" student not  found with roll number {roll_num}.\")\n",
    "\n",
    "    def update(self, roll_num, name, marks1, marks2):\n",
    "        student = self.search(roll_num)\n",
    "        if student:\n",
    "            if name:\n",
    "                student['name'] = name\n",
    "            if marks1:\n",
    "                student['marks1'] = marks1\n",
    "            if marks2:\n",
    "                student['marks2'] = marks2\n",
    "            print(f\"Student with roll number {roll_num} has been updated.\")\n",
    "        else:\n",
    "            print(f\" student not found{roll_num}.\")\n",
    "\n",
    "    def student_details(self):\n",
    "        print(\"\"\"\\nList of Options\n",
    "1. Accept Student\n",
    "2. Display Students\n",
    "3. Search Student\n",
    "4. Delete Student\n",
    "5. Update Student\n",
    "6. Exit\"\"\")\n",
    "        while True:\n",
    "            try:\n",
    "                option = int(input('Choose an Option: '))\n",
    "            except ValueError:\n",
    "                print('Error: Enter a correct option.')\n",
    "            else:\n",
    "                if option == 1:\n",
    "                    name = input(\"Enter Name: \")\n",
    "                    roll_num = input(\"Enter Roll Number: \")\n",
    "                    marks1 = int(input(\"Enter Marks1: \"))\n",
    "                    marks2 = int(input(\"Enter Marks2: \"))\n",
    "                    self.accept(name, roll_num, marks1, marks2)\n",
    "                elif option == 2:\n",
    "                    self.display()\n",
    "                elif option == 3:\n",
    "                    roll_num = input(\"Enter Roll Number: \")\n",
    "                    student = self.search(roll_num)\n",
    "                    if student:\n",
    "                        print(f\"\\nName: {student['name']}\\nRoll Number: {student['roll_num']}\\nMarks1: {student['marks1']}\\nMarks2: {student['marks2']}\")\n",
    "                    else:\n",
    "                        print(\"Student not found.\")\n",
    "                elif option == 4:\n",
    "                    roll_num = input(\"Enter Roll Number to Delete: \")\n",
    "                    self.delete(roll_num)\n",
    "                elif option == 5:\n",
    "                    roll_num = input(\"Enter Roll Number to Update: \")\n",
    "                    name = input(\"Enter New Name:\")\n",
    "                    marks1 = input(\"Enter New Marks1:\")\n",
    "                    marks2 = input(\"Enter New Marks2:\")\n",
    "                    self.update(roll_num, name, int(marks1),int(marks2) )\n",
    "                elif option == 6:\n",
    "                    print('Thank You for Using the Student Management System.')\n",
    "                    break\n",
    "                else:\n",
    "                    print('Please choose a valid option.')\n",
    "\n",
    "try:\n",
    "    StudentManagementSystem().student_details()\n",
    "    \n",
    "except:\n",
    "    print('Error')"
   ]
  },
  {
   "cell_type": "code",
   "execution_count": null,
   "id": "fb4212bb-333f-4adf-a076-cf58877867bc",
   "metadata": {},
   "outputs": [],
   "source": []
  },
  {
   "cell_type": "code",
   "execution_count": 38,
   "id": "f14f57e2-3d6f-4cb7-8aa4-1de9efab669d",
   "metadata": {},
   "outputs": [
    {
     "name": "stdout",
     "output_type": "stream",
     "text": [
      "True\n"
     ]
    }
   ],
   "source": [
    "print(x is x1)"
   ]
  },
  {
   "cell_type": "code",
   "execution_count": null,
   "id": "bc7d2066-3b34-44dc-825f-3fa5a9da34ee",
   "metadata": {},
   "outputs": [],
   "source": []
  },
  {
   "cell_type": "code",
   "execution_count": 40,
   "id": "b69a5b4f-bab4-43f6-9f96-0b98326a8bb2",
   "metadata": {},
   "outputs": [
    {
     "name": "stdout",
     "output_type": "stream",
     "text": [
      "True\n"
     ]
    }
   ],
   "source": [
    "a = 1\n",
    "b = a\n",
    "print(a is b)"
   ]
  },
  {
   "cell_type": "code",
   "execution_count": null,
   "id": "c4f456c6-f6fe-4a95-92dd-7b63847aa2bc",
   "metadata": {},
   "outputs": [],
   "source": []
  },
  {
   "cell_type": "code",
   "execution_count": 46,
   "id": "c09a09c5-3f44-44ff-ae2b-384eb13e5e36",
   "metadata": {},
   "outputs": [
    {
     "name": "stdout",
     "output_type": "stream",
     "text": [
      "True\n"
     ]
    }
   ],
   "source": [
    "p=10\n",
    "q=10\n",
    "\n",
    "print(p is q)"
   ]
  },
  {
   "cell_type": "code",
   "execution_count": 47,
   "id": "b0abaaab-4818-4775-b676-83802a2096ad",
   "metadata": {},
   "outputs": [
    {
     "name": "stdout",
     "output_type": "stream",
     "text": [
      "False\n"
     ]
    }
   ],
   "source": [
    "p=10\n",
    "p=20\n",
    "\n",
    "print(p is q)"
   ]
  },
  {
   "cell_type": "code",
   "execution_count": 1,
   "id": "da15d7e9-ec82-4e44-a9e6-b7181655e411",
   "metadata": {},
   "outputs": [
    {
     "name": "stdout",
     "output_type": "stream",
     "text": [
      "\n",
      "List of Options\n",
      "1. Accept Student\n",
      "2. Display Students\n",
      "3. Search Student\n",
      "4. Delete Student\n",
      "5. Update Student\n",
      "6. Exit\n"
     ]
    },
    {
     "name": "stdin",
     "output_type": "stream",
     "text": [
      "Choose an Option:  1\n",
      "Enter Name:  Abhishek Wani\n",
      "Enter Roll Number:  123\n",
      "Enter Marks1:  98\n",
      "Enter Marks2:  95\n"
     ]
    },
    {
     "name": "stdout",
     "output_type": "stream",
     "text": [
      "Student Abhishek Wani added successfully.\n"
     ]
    },
    {
     "name": "stdin",
     "output_type": "stream",
     "text": [
      "Choose an Option:  2\n"
     ]
    },
    {
     "name": "stdout",
     "output_type": "stream",
     "text": [
      "\n",
      "Name: Abhishek Wani\n",
      "Roll Number: 123\n",
      "Marks1: 98\n",
      "Marks2: 95\n"
     ]
    },
    {
     "name": "stdin",
     "output_type": "stream",
     "text": [
      "Choose an Option:  3\n",
      "Enter Roll Number:  123\n"
     ]
    },
    {
     "name": "stdout",
     "output_type": "stream",
     "text": [
      "\n",
      "Name: Abhishek Wani\n",
      "Roll Number: 123\n",
      "Marks1: 98\n",
      "Marks2: 95\n"
     ]
    },
    {
     "name": "stdin",
     "output_type": "stream",
     "text": [
      "Choose an Option:  5\n",
      "Enter Roll Number to Update:  123\n"
     ]
    },
    {
     "name": "stdout",
     "output_type": "stream",
     "text": [
      "What do you want to update?\n",
      "1. Name\n",
      "2. Roll Number\n",
      "3. Marks1\n",
      "4. Marks2\n"
     ]
    },
    {
     "name": "stdin",
     "output_type": "stream",
     "text": [
      "Enter your option whom want to update:  2\n",
      "Enter new roll number:  1234\n"
     ]
    },
    {
     "name": "stdout",
     "output_type": "stream",
     "text": [
      "Student with roll number 123 has been updated.\n"
     ]
    },
    {
     "name": "stdin",
     "output_type": "stream",
     "text": [
      "Choose an Option:  2\n"
     ]
    },
    {
     "name": "stdout",
     "output_type": "stream",
     "text": [
      "\n",
      "Name: Abhishek Wani\n",
      "Roll Number: 1234\n",
      "Marks1: 98\n",
      "Marks2: 95\n"
     ]
    },
    {
     "name": "stdin",
     "output_type": "stream",
     "text": [
      "Choose an Option:  6\n"
     ]
    },
    {
     "name": "stdout",
     "output_type": "stream",
     "text": [
      "Thank You for Using the Student Management System.\n"
     ]
    }
   ],
   "source": [
    "class StudentManagementSystem:\n",
    "    def __init__(self):\n",
    "        self.students = []\n",
    "\n",
    "    def accept(self, name, roll_num, marks1, marks2):\n",
    "        student = {\n",
    "            'name': name,\n",
    "            'roll_num': roll_num,\n",
    "            'marks1': marks1,\n",
    "            'marks2': marks2\n",
    "        }\n",
    "        self.students.append(student)\n",
    "        print(f\"Student {name} added successfully.\")\n",
    "\n",
    "    def display(self):\n",
    "        if not self.students:\n",
    "            print(\"No students to display.\")\n",
    "        for student in self.students:\n",
    "            print(f\"\\nName: {student['name']}\\nRoll Number: {student['roll_num']}\\nMarks1: {student['marks1']}\\nMarks2: {student['marks2']}\")\n",
    "\n",
    "    def search(self, roll_num):\n",
    "        for student in self.students:\n",
    "            if student['roll_num'] == roll_num:\n",
    "                return student\n",
    "\n",
    "    def delete(self, roll_num):\n",
    "        student = self.search(roll_num)\n",
    "        if student:\n",
    "            self.students.remove(student)\n",
    "            print(f\"Student with roll number {roll_num} has been deleted.\")\n",
    "        else:\n",
    "            print(f\"Student not found  {roll_num}.\")\n",
    "\n",
    "    def update(self, roll_num):\n",
    "        student = self.search(roll_num)\n",
    "        if student:\n",
    "            print(\"What do you want to update?\")\n",
    "            print(\"1. Name\")\n",
    "            print(\"2. Roll Number\")\n",
    "            print(\"3. Marks1\")\n",
    "            print(\"4. Marks2\")\n",
    "            option = int(input(\"Enter your option whom want to update: \"))\n",
    "            if option == 1:\n",
    "                new_name = input(\"Enter new name: \")\n",
    "                student['name'] = new_name\n",
    "            elif option == 2:\n",
    "                new_roll_num = input(\"Enter new roll number: \")\n",
    "                student['roll_num'] = new_roll_num\n",
    "            elif option == 3:\n",
    "                new_marks1 = int(input(\"Enter new marks1: \"))\n",
    "                student['marks1'] = new_marks1\n",
    "            elif option == 4:\n",
    "                new_marks2 = int(input(\"Enter new marks2: \"))\n",
    "                student['marks2'] = new_marks2\n",
    "            else:\n",
    "                print(\"Invalid option.\")\n",
    "            print(f\"Student with roll number {roll_num} has been updated.\")\n",
    "        else:\n",
    "            print(f\"Student not found  {roll_num}.\")\n",
    "\n",
    "    def student_details(self):\n",
    "        print(\"\"\"\\nList of Options\n",
    "1. Accept Student\n",
    "2. Display Students\n",
    "3. Search Student\n",
    "4. Delete Student\n",
    "5. Update Student\n",
    "6. Exit\"\"\")\n",
    "        while True:\n",
    "            try:\n",
    "                option = int(input('Choose an Option: '))\n",
    "            except ValueError:\n",
    "                print('Enter a correct option.')\n",
    "            else:\n",
    "                if option == 1:\n",
    "                    name = input(\"Enter Name: \")\n",
    "                    roll_num = input(\"Enter Roll Number: \")\n",
    "                    marks1 = int(input(\"Enter Marks1: \"))\n",
    "                    marks2 = int(input(\"Enter Marks2: \"))\n",
    "                    self.accept(name, roll_num, marks1, marks2)\n",
    "                elif option == 2:\n",
    "                    self.display()\n",
    "                elif option == 3:\n",
    "                    roll_num = input(\"Enter Roll Number: \")\n",
    "                    student = self.search(roll_num)\n",
    "                    if student:\n",
    "                        print(f\"\\nName: {student['name']}\\nRoll Number: {student['roll_num']}\\nMarks1: {student['marks1']}\\nMarks2: {student['marks2']}\")\n",
    "                    else:\n",
    "                        print(\"Student not found.\")\n",
    "                elif option == 4:\n",
    "                    roll_num = input(\"Enter Roll Number to Delete: \")\n",
    "                    self.delete(roll_num)\n",
    "                elif option == 5:\n",
    "                    roll_num = input(\"Enter Roll Number to Update: \")\n",
    "                    self.update(roll_num)\n",
    "                elif option == 6:\n",
    "                    print('Thank You for Using the Student Management System.')\n",
    "                    break\n",
    "                else:\n",
    "                    print('Please choose a valid option.')\n",
    "\n",
    "try:\n",
    "    StudentManagementSystem().student_details()\n",
    "except:\n",
    "    print('Error')"
   ]
  },
  {
   "cell_type": "code",
   "execution_count": 2,
   "id": "e8028d54-1852-405b-9b44-7db79d19b414",
   "metadata": {},
   "outputs": [],
   "source": [
    "# Word Gussing game\n",
    "# In this game, there is a list of words present, out of which our interpreter will chooose 1 random owrds.\n",
    "# The user first has to input thier names and then, will be asked to guess any alphabet. If the random words contains that alphabet,\n",
    "# it will be shown as the output(with corrent placement) else the program will ask you to guess another alphabet.\n",
    "# The user will be given 12 turns(which can be changed accordingly) to guess the complete word.\n",
    "\n",
    "# random"
   ]
  },
  {
   "cell_type": "code",
   "execution_count": 23,
   "id": "d4e9e323-3893-4eac-953f-0a92e4d6d518",
   "metadata": {},
   "outputs": [
    {
     "name": "stdin",
     "output_type": "stream",
     "text": [
      "Enter Your Name Here....: Rupam\n"
     ]
    },
    {
     "name": "stdout",
     "output_type": "stream",
     "text": [
      "Welcome! Rupam\n",
      "Your Gussed Characters:\n",
      "--\n",
      "--\n",
      "--\n",
      "--\n",
      "--\n",
      "--\n",
      "--\n",
      "--\n",
      "--\n",
      "--\n",
      "--\n",
      "--\n",
      "--\n",
      "--\n",
      "--\n",
      "--\n"
     ]
    },
    {
     "name": "stdin",
     "output_type": "stream",
     "text": [
      "Enter guess character: R\n"
     ]
    },
    {
     "name": "stdout",
     "output_type": "stream",
     "text": [
      "You Entered a wrong characters\n",
      "Your have 11 Guess another Characters\n",
      "--\n",
      "--\n",
      "--\n",
      "--\n",
      "--\n",
      "--\n",
      "--\n",
      "--\n",
      "--\n",
      "--\n",
      "--\n",
      "--\n",
      "--\n",
      "--\n",
      "--\n",
      "--\n"
     ]
    },
    {
     "name": "stdin",
     "output_type": "stream",
     "text": [
      "Enter guess character: u\n"
     ]
    },
    {
     "name": "stdout",
     "output_type": "stream",
     "text": [
      "--\n",
      "--\n",
      "--\n",
      "--\n",
      "u\n",
      "--\n",
      "--\n",
      "--\n",
      "--\n",
      "--\n",
      "--\n",
      "--\n",
      "--\n",
      "--\n",
      "--\n",
      "--\n"
     ]
    },
    {
     "name": "stdin",
     "output_type": "stream",
     "text": [
      "Enter guess character: p\n"
     ]
    },
    {
     "name": "stdout",
     "output_type": "stream",
     "text": [
      "--\n",
      "--\n",
      "--\n",
      "p\n",
      "u\n",
      "--\n",
      "--\n",
      "--\n",
      "--\n",
      "--\n",
      "--\n",
      "--\n",
      "--\n",
      "--\n",
      "--\n",
      "--\n"
     ]
    },
    {
     "name": "stdin",
     "output_type": "stream",
     "text": [
      "Enter guess character: a\n"
     ]
    },
    {
     "name": "stdout",
     "output_type": "stream",
     "text": [
      "You Entered a wrong characters\n",
      "Your have 10 Guess another Characters\n",
      "--\n",
      "--\n",
      "--\n",
      "p\n",
      "u\n",
      "--\n",
      "--\n",
      "--\n",
      "--\n",
      "--\n",
      "--\n",
      "--\n",
      "--\n",
      "--\n",
      "--\n",
      "--\n"
     ]
    },
    {
     "name": "stdin",
     "output_type": "stream",
     "text": [
      "Enter guess character: C\n"
     ]
    },
    {
     "name": "stdout",
     "output_type": "stream",
     "text": [
      "C\n",
      "--\n",
      "--\n",
      "p\n",
      "u\n",
      "--\n",
      "--\n",
      "--\n",
      "--\n",
      "--\n",
      "--\n",
      "--\n",
      "--\n",
      "--\n",
      "--\n",
      "--\n"
     ]
    },
    {
     "name": "stdin",
     "output_type": "stream",
     "text": [
      "Enter guess character: o\n"
     ]
    },
    {
     "name": "stdout",
     "output_type": "stream",
     "text": [
      "C\n",
      "o\n",
      "--\n",
      "p\n",
      "u\n",
      "--\n",
      "--\n",
      "--\n",
      "--\n",
      "--\n",
      "--\n",
      "--\n",
      "--\n",
      "--\n",
      "--\n",
      "--\n"
     ]
    },
    {
     "name": "stdin",
     "output_type": "stream",
     "text": [
      "Enter guess character: m\n"
     ]
    },
    {
     "name": "stdout",
     "output_type": "stream",
     "text": [
      "C\n",
      "o\n",
      "m\n",
      "p\n",
      "u\n",
      "--\n",
      "--\n",
      "--\n",
      "--\n",
      "--\n",
      "--\n",
      "--\n",
      "--\n",
      "--\n",
      "--\n",
      "--\n"
     ]
    },
    {
     "name": "stdin",
     "output_type": "stream",
     "text": [
      "Enter guess character: t\n"
     ]
    },
    {
     "name": "stdout",
     "output_type": "stream",
     "text": [
      "C\n",
      "o\n",
      "m\n",
      "p\n",
      "u\n",
      "t\n",
      "--\n",
      "--\n",
      "--\n",
      "--\n",
      "--\n",
      "--\n",
      "--\n",
      "--\n",
      "--\n",
      "--\n"
     ]
    },
    {
     "name": "stdin",
     "output_type": "stream",
     "text": [
      "Enter guess character: e\n"
     ]
    },
    {
     "name": "stdout",
     "output_type": "stream",
     "text": [
      "C\n",
      "o\n",
      "m\n",
      "p\n",
      "u\n",
      "t\n",
      "e\n",
      "--\n",
      "--\n",
      "--\n",
      "--\n",
      "--\n",
      "e\n",
      "--\n",
      "--\n",
      "e\n"
     ]
    },
    {
     "name": "stdin",
     "output_type": "stream",
     "text": [
      "Enter guess character: r\n"
     ]
    },
    {
     "name": "stdout",
     "output_type": "stream",
     "text": [
      "C\n",
      "o\n",
      "m\n",
      "p\n",
      "u\n",
      "t\n",
      "e\n",
      "r\n",
      "--\n",
      "--\n",
      "--\n",
      "--\n",
      "e\n",
      "--\n",
      "--\n",
      "e\n"
     ]
    },
    {
     "name": "stdin",
     "output_type": "stream",
     "text": [
      "Enter guess character: s\n"
     ]
    },
    {
     "name": "stdout",
     "output_type": "stream",
     "text": [
      "You Entered a wrong characters\n",
      "Your have 9 Guess another Characters\n",
      "C\n",
      "o\n",
      "m\n",
      "p\n",
      "u\n",
      "t\n",
      "e\n",
      "r\n",
      "--\n",
      "--\n",
      "--\n",
      "--\n",
      "e\n",
      "--\n",
      "--\n",
      "e\n"
     ]
    },
    {
     "name": "stdin",
     "output_type": "stream",
     "text": [
      "Enter guess character: r\n"
     ]
    },
    {
     "name": "stdout",
     "output_type": "stream",
     "text": [
      "C\n",
      "o\n",
      "m\n",
      "p\n",
      "u\n",
      "t\n",
      "e\n",
      "r\n",
      "--\n",
      "--\n",
      "--\n",
      "--\n",
      "e\n",
      "--\n",
      "--\n",
      "e\n"
     ]
    },
    {
     "name": "stdin",
     "output_type": "stream",
     "text": [
      "Enter guess character: s\n"
     ]
    },
    {
     "name": "stdout",
     "output_type": "stream",
     "text": [
      "You Entered a wrong characters\n",
      "Your have 8 Guess another Characters\n",
      "C\n",
      "o\n",
      "m\n",
      "p\n",
      "u\n",
      "t\n",
      "e\n",
      "r\n",
      "--\n",
      "--\n",
      "--\n",
      "--\n",
      "e\n",
      "--\n",
      "--\n",
      "e\n"
     ]
    },
    {
     "name": "stdin",
     "output_type": "stream",
     "text": [
      "Enter guess character: S\n"
     ]
    },
    {
     "name": "stdout",
     "output_type": "stream",
     "text": [
      "C\n",
      "o\n",
      "m\n",
      "p\n",
      "u\n",
      "t\n",
      "e\n",
      "r\n",
      "--\n",
      "S\n",
      "--\n",
      "--\n",
      "e\n",
      "--\n",
      "--\n",
      "e\n"
     ]
    },
    {
     "name": "stdin",
     "output_type": "stream",
     "text": [
      "Enter guess character:  \n"
     ]
    },
    {
     "name": "stdout",
     "output_type": "stream",
     "text": [
      "C\n",
      "o\n",
      "m\n",
      "p\n",
      "u\n",
      "t\n",
      "e\n",
      "r\n",
      " \n",
      "S\n",
      "--\n",
      "--\n",
      "e\n",
      "--\n",
      "--\n",
      "e\n"
     ]
    },
    {
     "name": "stdin",
     "output_type": "stream",
     "text": [
      "Enter guess character: c\n"
     ]
    },
    {
     "name": "stdout",
     "output_type": "stream",
     "text": [
      "C\n",
      "o\n",
      "m\n",
      "p\n",
      "u\n",
      "t\n",
      "e\n",
      "r\n",
      " \n",
      "S\n",
      "c\n",
      "--\n",
      "e\n",
      "--\n",
      "c\n",
      "e\n"
     ]
    },
    {
     "name": "stdin",
     "output_type": "stream",
     "text": [
      "Enter guess character: i\n"
     ]
    },
    {
     "name": "stdout",
     "output_type": "stream",
     "text": [
      "C\n",
      "o\n",
      "m\n",
      "p\n",
      "u\n",
      "t\n",
      "e\n",
      "r\n",
      " \n",
      "S\n",
      "c\n",
      "i\n",
      "e\n",
      "--\n",
      "c\n",
      "e\n"
     ]
    },
    {
     "name": "stdin",
     "output_type": "stream",
     "text": [
      "Enter guess character: n\n"
     ]
    },
    {
     "name": "stdout",
     "output_type": "stream",
     "text": [
      "C\n",
      "o\n",
      "m\n",
      "p\n",
      "u\n",
      "t\n",
      "e\n",
      "r\n",
      " \n",
      "S\n",
      "c\n",
      "i\n",
      "e\n",
      "n\n",
      "c\n",
      "e\n",
      "Done!\n",
      "Your Words is: Computer Science\n"
     ]
    }
   ],
   "source": [
    "import random\n",
    "name=input('Enter Your Name Here....:')\n",
    "\n",
    "print('Welcome!',name)\n",
    "\n",
    "list_words=['Python','Computer Science','Mathematics','Science','Biology','Chemestry','Physics','Air','Cloud','Rupam']\n",
    "words=random.choice(list_words)\n",
    "# print(words)\n",
    "print('Your Gussed Characters:')\n",
    "\n",
    "guessed= ''\n",
    "\n",
    "input_turns=12\n",
    "while input_turns>0:\n",
    "    failed=0\n",
    "    for i in words:\n",
    "        if i in guessed:\n",
    "            print(i)\n",
    "        else:\n",
    "            print('--')\n",
    "\n",
    "            failed+=1\n",
    "            \n",
    "    if failed ==0:\n",
    "        print('Done!')\n",
    "        print('Your Words is:',words)\n",
    "        break\n",
    "    guess= input('Enter guess character:')\n",
    "    guessed += guess\n",
    "    if guess not in words:\n",
    "        input_turns -=1\n",
    "        print('You Entered a wrong characters')\n",
    "        print('Your have',+ input_turns,'Guess another Characters')\n",
    "\n",
    "        if input_turns ==0:\n",
    "            print('You are Unable to Guess Correct Words.')"
   ]
  },
  {
   "cell_type": "code",
   "execution_count": 32,
   "id": "40ab0598-6fd3-4686-ae0d-d335795487c2",
   "metadata": {},
   "outputs": [
    {
     "name": "stdout",
     "output_type": "stream",
     "text": [
      "True\n"
     ]
    }
   ],
   "source": [
    "name='10'\n",
    "print(name.isnumeric())"
   ]
  },
  {
   "cell_type": "code",
   "execution_count": 53,
   "id": "7924a76f-72d5-41b5-96a2-2c45d9d189f1",
   "metadata": {},
   "outputs": [
    {
     "name": "stdin",
     "output_type": "stream",
     "text": [
      "number 2\n",
      "enter 12\n",
      "enter 12\n"
     ]
    },
    {
     "name": "stdout",
     "output_type": "stream",
     "text": [
      "[12, 12]\n"
     ]
    },
    {
     "ename": "TypeError",
     "evalue": "calculator.average() takes 0 positional arguments but 1 was given",
     "output_type": "error",
     "traceback": [
      "\u001b[1;31m---------------------------------------------------------------------------\u001b[0m",
      "\u001b[1;31mTypeError\u001b[0m                                 Traceback (most recent call last)",
      "Cell \u001b[1;32mIn[53], line 22\u001b[0m\n\u001b[0;32m     18\u001b[0m         \u001b[38;5;28;01mreturn\u001b[39;00m avg\n\u001b[0;32m     21\u001b[0m obj\u001b[38;5;241m=\u001b[39mcalculator()\n\u001b[1;32m---> 22\u001b[0m \u001b[43mobj\u001b[49m\u001b[38;5;241;43m.\u001b[39;49m\u001b[43maverage\u001b[49m\u001b[43m(\u001b[49m\u001b[43m)\u001b[49m\n",
      "\u001b[1;31mTypeError\u001b[0m: calculator.average() takes 0 positional arguments but 1 was given"
     ]
    }
   ],
   "source": [
    "# Create a calculator to perform sum,subtract,multiplication,division,average,remainder,modulus\n",
    "# Assignment\n"
   ]
  },
  {
   "cell_type": "code",
   "execution_count": 57,
   "id": "d8a65465-e00c-488c-965d-ac6c4cb6c26d",
   "metadata": {},
   "outputs": [
    {
     "name": "stdout",
     "output_type": "stream",
     "text": [
      "Please select what you want to perform -\n",
      "1. Add\n",
      "2. Subtract\n",
      "3. Multiply\n",
      "4. Divide\n",
      "\n"
     ]
    },
    {
     "name": "stdin",
     "output_type": "stream",
     "text": [
      "Select option: 1\n",
      "Enter first number:  12\n",
      "Enter second number:  12\n"
     ]
    },
    {
     "name": "stdout",
     "output_type": "stream",
     "text": [
      "12 + 12 = 24\n"
     ]
    }
   ],
   "source": [
    "class calculator:\n",
    "    def add(num1, num2):\n",
    "        return num1 + num2\n",
    "     \n",
    "    def subtract(num1, num2):\n",
    "        return num1 - num2\n",
    "     \n",
    "    def multiply(num1, num2):\n",
    "        return num1 * num2\n",
    "     \n",
    "    def divide(num1, num2):\n",
    "        return num1 / num2\n",
    "     \n",
    "    print(\"Please select what you want to perform -\\n\" \\\n",
    "            \"1. Add\\n\" \\\n",
    "            \"2. Subtract\\n\" \\\n",
    "            \"3. Multiply\\n\" \\\n",
    "            \"4. Divide\\n\")\n",
    "    select = int(input(\"Select option:\"))\n",
    "     \n",
    "    n1 = int(input(\"Enter first number: \"))\n",
    "    n2 = int(input(\"Enter second number: \"))\n",
    "     \n",
    "    if select == 1:\n",
    "        print(n1, \"+\", n2, \"=\", add(n1, n2))\n",
    "     \n",
    "    elif select == 2:\n",
    "        print(n1, \"-\", n2, \"=\", subtract(n1, n2))\n",
    "     \n",
    "    elif select == 3:\n",
    "        print(n1, \"*\", n2, \"=\", multiply(n1, n2))\n",
    "     \n",
    "    elif select == 4:\n",
    "        print(n1, \"/\", n2, \"=\", divide(n1, n2))\n",
    "    else:\n",
    "        print(\"Invalid input\")\n"
   ]
  },
  {
   "cell_type": "code",
   "execution_count": 58,
   "id": "d056fbdb-3a51-447d-afab-cd5b3f30c537",
   "metadata": {},
   "outputs": [
    {
     "name": "stdin",
     "output_type": "stream",
     "text": [
      "number 5\n",
      "enter 14\n",
      "enter 12\n",
      "enter 13\n",
      "enter 36\n",
      "enter 35\n"
     ]
    },
    {
     "name": "stdout",
     "output_type": "stream",
     "text": [
      "[14, 12, 13, 36, 35]\n",
      "22.0\n"
     ]
    }
   ],
   "source": [
    "class Calculator:\n",
    "    def avge():\n",
    "        list1 = []\n",
    "        ele = int(input(\"number\"))\n",
    "        for i in range(1,ele+1):\n",
    "            i = int(input(\"enter\"))\n",
    "            list1.append(i)\n",
    "        print(list1)\n",
    "        average = sum(list1)/len(list1)\n",
    "        print(average)\n",
    "\n",
    "obj = Calculator\n",
    "obj.avge()"
   ]
  },
  {
   "cell_type": "code",
   "execution_count": null,
   "id": "7d1a1f63-b574-4180-910c-398f5aec13d3",
   "metadata": {},
   "outputs": [],
   "source": []
  }
 ],
 "metadata": {
  "kernelspec": {
   "display_name": "Python 3 (ipykernel)",
   "language": "python",
   "name": "python3"
  },
  "language_info": {
   "codemirror_mode": {
    "name": "ipython",
    "version": 3
   },
   "file_extension": ".py",
   "mimetype": "text/x-python",
   "name": "python",
   "nbconvert_exporter": "python",
   "pygments_lexer": "ipython3",
   "version": "3.12.2"
  }
 },
 "nbformat": 4,
 "nbformat_minor": 5
}
