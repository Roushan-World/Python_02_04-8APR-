{
 "cells": [
  {
   "cell_type": "markdown",
   "id": "51e08515-a1c9-4dd9-a079-3979ce2248c2",
   "metadata": {},
   "source": [
    "# 7. Conditions in Python\n",
    "\n",
    " * __Comparison Operations compare some value or operands and based on a conditions, produce a Boolean. Python has six comparison operators as below:__\n",
    " * __Less than(<)__\n",
    " * __Less than or equal to(<=)__\n",
    " * __Greater then(>)__\n",
    " * __Greater than or equal to(>=)__\n",
    " * __Equal to (==)__\n",
    " * __Not equal to(!=)__"
   ]
  },
  {
   "cell_type": "code",
   "execution_count": 6,
   "id": "5ac733a1-3bf8-4cd3-b884-5dfa44dc44b2",
   "metadata": {},
   "outputs": [
    {
     "name": "stdout",
     "output_type": "stream",
     "text": [
      "False\n",
      "True\n",
      "False\n",
      "True\n",
      "False\n",
      "True\n"
     ]
    }
   ],
   "source": [
    "# Take a variable\n",
    "\n",
    "x=1.618\n",
    "\n",
    "print(x>2) \n",
    "print(x>=1.618)\n",
    "print(x<1)\n",
    "print(x<=1.618)\n",
    "print(x==10)\n",
    "print(x==1.618)"
   ]
  },
  {
   "cell_type": "markdown",
   "id": "d2cabeab-4d7c-4f5f-a9d9-b785cc0b3f5f",
   "metadata": {},
   "source": [
    "# Branching (if,elif,else)\n",
    "\n",
    " * __Decision making is required when we want to execute a code only if a certain condition is satisfied.__\n",
    " * __The if/elif/else statement is used to Python for decision making.__\n",
    " * __An else statement can be combined with an if statement.__\n",
    " * __An else statement contains the block of code that executes if the conditional expression in the if statement resolves to 0 or a False value.__\n",
    " * __The else statement is an optional statemne tand there could be at most only one else statement following if.__\n",
    " * __The elif statement allows you to check multiple expressions for True and execute a block of code as soon as one of the conditions evaluates to True.__\n",
    " * __Similar to the else, elif statement is an optional.__\n",
    " * __However, unlike else, for which there can be at most one statement, there can be an arbitrary number of elif statmenet following an if.__"
   ]
  },
  {
   "cell_type": "code",
   "execution_count": 8,
   "id": "23b53f59-a948-43b5-9772-8dc9adddd351",
   "metadata": {},
   "outputs": [
    {
     "name": "stdout",
     "output_type": "stream",
     "text": [
      "Your Driving licence is valid\n"
     ]
    }
   ],
   "source": [
    "x=18\n",
    "\n",
    "if x>=18:\n",
    "    print('Your Driving licence is valid')\n",
    "\n",
    "else:\n",
    "    print('Your DL is not valid.')"
   ]
  },
  {
   "cell_type": "code",
   "execution_count": 10,
   "id": "28533a62-0c3f-4464-a86c-242a671dd156",
   "metadata": {},
   "outputs": [
    {
     "name": "stdout",
     "output_type": "stream",
     "text": [
      "You should go to kindergarten.\n"
     ]
    }
   ],
   "source": [
    "age=5\n",
    "\n",
    "if age>6:\n",
    "    print('You can go to primary school.')\n",
    "elif age==5:\n",
    "    print('You should go to kindergarten.')\n",
    "else:\n",
    "    print('You are a baby.')"
   ]
  },
  {
   "cell_type": "code",
   "execution_count": 19,
   "id": "a30f66a8-516a-4262-adf9-b3a17ec3921e",
   "metadata": {},
   "outputs": [
    {
     "name": "stdin",
     "output_type": "stream",
     "text": [
      "Enter your rating number: 4.5\n"
     ]
    },
    {
     "name": "stdout",
     "output_type": "stream",
     "text": [
      "You can not watch this movie with rating value: 4.5\n"
     ]
    }
   ],
   "source": [
    "movie_rating=float(input('Enter your rating number:'))\n",
    "\n",
    "if movie_rating>8.5:\n",
    "    print('This movie is awasome(hit) You can go and watch this movie in the theater.',movie_rating)\n",
    "\n",
    "else:\n",
    "    print('You can not watch this movie with rating value:',movie_rating)"
   ]
  },
  {
   "cell_type": "code",
   "execution_count": 32,
   "id": "1148bbc7-7608-48a4-8dc4-b38706d00fb1",
   "metadata": {},
   "outputs": [
    {
     "name": "stdin",
     "output_type": "stream",
     "text": [
      "Enter any key: 6\n"
     ]
    },
    {
     "name": "stdout",
     "output_type": "stream",
     "text": [
      "Weekday name is Friday.\n"
     ]
    }
   ],
   "source": [
    "# weekdays name \n",
    "# 1= sunday\n",
    "# 2= Monday\n",
    "# 3= Tuesday\n",
    "# 4= wednesday\n",
    "\n",
    "weekday=int(input('Enter any key:'))\n",
    "\n",
    "if weekday==1:\n",
    "    print('Weekday name is Sunday.')\n",
    "\n",
    "elif weekday==2:\n",
    "    print('Weekday name is Monday.')\n",
    "\n",
    "elif weekday==3:\n",
    "    print('Weeday name is Tuesday.')\n",
    "\n",
    "elif weekday==4:\n",
    "    print('Weekday name is Wednesday.')\n",
    "\n",
    "\n",
    "elif weekday==5:\n",
    "    print('Weekday name is Thursday.')\n",
    "\n",
    "elif weekday==6:\n",
    "    print('Weekday name is Friday.')\n",
    "\n",
    "elif weekday==7:\n",
    "    print('Weekday name is Saturday.')\n",
    "else:\n",
    "    print('Invalid Input')"
   ]
  },
  {
   "cell_type": "code",
   "execution_count": 33,
   "id": "bb9629e9-bb6a-4c8a-87ab-fb47e97d8cea",
   "metadata": {},
   "outputs": [],
   "source": [
    "# month name  1==> January, 2==> February, 3==March, 4==> April"
   ]
  },
  {
   "cell_type": "code",
   "execution_count": 37,
   "id": "7c1d8316-ebad-48f8-8885-ff896bf68d12",
   "metadata": {},
   "outputs": [
    {
     "name": "stdin",
     "output_type": "stream",
     "text": [
      "Enter any key: 6\n"
     ]
    },
    {
     "name": "stdout",
     "output_type": "stream",
     "text": [
      "Month name is June\n"
     ]
    }
   ],
   "source": [
    "month=int(input('Enter any key:'))\n",
    "if month==1:\n",
    "    print('Month Name is January.')\n",
    "elif month==2:\n",
    "    print('Month name is February')\n",
    "elif month==3:\n",
    "    print('Month name is March')\n",
    "elif month==4:\n",
    "    print('Month name is April')\n",
    "elif month==5:\n",
    "    print('Month name is May')\n",
    "elif month==6:\n",
    "    print('Month name is June')\n",
    "elif month==7:\n",
    "    print('Month name is July')\n",
    "elif month==8:\n",
    "    print('Month name is August')\n",
    "elif month==9:\n",
    "    print('Month name is September')\n",
    "elif month==10:\n",
    "    print('Month name is october')\n",
    "elif month==11:\n",
    "    print('Month name is November')\n",
    "elif month==12:    \n",
    "    print('Month name is December')\n",
    "else:\n",
    "    print('Invalid Text')"
   ]
  },
  {
   "cell_type": "code",
   "execution_count": 4,
   "id": "a81992ff-9b8a-4d50-9cdc-28f396bba8ef",
   "metadata": {},
   "outputs": [
    {
     "name": "stdin",
     "output_type": "stream",
     "text": [
      "Enter any number: 654561654566536\n"
     ]
    },
    {
     "name": "stdout",
     "output_type": "stream",
     "text": [
      "Even number\n"
     ]
    }
   ],
   "source": [
    "# Write a program to find the even or odd numebr from user input number?\n",
    "\n",
    "user=int(input('Enter any number:'))\n",
    "\n",
    "if user%2==0:\n",
    "    print('Even number')\n",
    "\n",
    "else:\n",
    "    print('Odd number')"
   ]
  },
  {
   "cell_type": "code",
   "execution_count": 12,
   "id": "5d174b43-b083-4f8d-8e4b-842190ff0533",
   "metadata": {},
   "outputs": [
    {
     "name": "stdin",
     "output_type": "stream",
     "text": [
      "Enter any number: 19\n"
     ]
    },
    {
     "name": "stdout",
     "output_type": "stream",
     "text": [
      "19 is not divisible by both 2 and 3.\n"
     ]
    }
   ],
   "source": [
    "# Write a program to check divisiblity of 2,3 from user user input number.  8,16,15\n",
    "\n",
    "\n",
    "user=int(input('Enter any number:'))\n",
    "\n",
    "if user%2==0 and user%3==0:\n",
    "    print(f'{user} is divisible by 2 and 3 both.')   # f-string function()\n",
    "elif user%2==0 and user%3!=0:\n",
    "    print(f'{user} is divisible by 2 only not 3.')\n",
    "elif user%2!=0 and user%3==0:\n",
    "    print(f'{user} is divisible by 3 only not 2.')\n",
    "else:\n",
    "    print(f'{user} is not divisible by both 2 and 3.')"
   ]
  },
  {
   "cell_type": "code",
   "execution_count": 20,
   "id": "9d41be3c-a298-431b-b1f2-a9c2c52a3a14",
   "metadata": {},
   "outputs": [
    {
     "name": "stdin",
     "output_type": "stream",
     "text": [
      "Enter any number: 55\n"
     ]
    },
    {
     "name": "stdout",
     "output_type": "stream",
     "text": [
      "55 is divisible by 5 only not 3 and 7.\n"
     ]
    }
   ],
   "source": [
    "# Write a program to check the divisiblity of 3,5 and 7 from user input number.\n",
    "\n",
    "\n",
    "user1=int(input('Enter any number:'))\n",
    "\n",
    "\n",
    "if user1%3==0 and user1%5==0 and user1%7==0:\n",
    "    print(f'{user1} is divisible by 3,5 and 7')\n",
    "elif user1%3==0 and user1%5==0 and user1%7!=0:\n",
    "    print(f'{user1} is divisible by 3 and 5 only not 7.')\n",
    "elif user1%3==0 and user1%5!=0 and user1%7==0:\n",
    "    print(f'{user1} is divisibile by 3 and 7 only not 5.')\n",
    "elif user1%3!=0 and user1%5==0 and user1%7==0:\n",
    "    print(f'{user1} is divisible by 5 and 7 only not 3.')\n",
    "elif user1%3==0 and user1%5!=0 and user1%7!=0:\n",
    "    print(f'{user1} is divisible by 3 only not 5 and 7.')\n",
    "elif user1%3!=0 and user1%5==0 and user1%7!=0:\n",
    "    print(f'{user1} is divisible by 5 only not 3 and 7.')\n",
    "elif user1%3!=0 and user1%5!=0 and user1%7==0:\n",
    "    print(f'{user1} is divisibly by 7 only not 3 and 5.')\n",
    "else:\n",
    "    print(f'{user1} is not divisible by 3,5 and 7.')"
   ]
  },
  {
   "cell_type": "code",
   "execution_count": 28,
   "id": "f3019c6e-8959-4876-8a35-062da7fe51b1",
   "metadata": {},
   "outputs": [
    {
     "name": "stdin",
     "output_type": "stream",
     "text": [
      "Enter your Percentage: 62\n"
     ]
    },
    {
     "name": "stdout",
     "output_type": "stream",
     "text": [
      "Good\n"
     ]
    }
   ],
   "source": [
    "# Write a progrm to accetp the percentage from the user and display the Remark according to the percentage.\n",
    "\n",
    "# Percentage---------------------------> \"Remark\"\n",
    "# >=90 ---------------------------------> \"Excellent\"\n",
    "# >=80 and <90---------------------------> \"Very Good\"\n",
    "# >=60 and <80 --------------------------> \"Good\"\n",
    "# > Below 60 ----------------------------> \"Average\"\n",
    "\n",
    "\n",
    "percent=int(input('Enter your Percentage:'))\n",
    "\n",
    "if percent>=90 and percent<=100:\n",
    "    print('Excellent')\n",
    "elif percent>=80 and percent<90:\n",
    "    print('Very Good')\n",
    "elif percent>=60 and percent<80:\n",
    "    print('Good')\n",
    "\n",
    "elif percent<60:\n",
    "    print('Average')\n",
    "else:\n",
    "    print('Your percent should be below 100.')"
   ]
  },
  {
   "cell_type": "code",
   "execution_count": 32,
   "id": "eb6a91bf-a1dd-4119-b454-370eb190036c",
   "metadata": {},
   "outputs": [
    {
     "name": "stdin",
     "output_type": "stream",
     "text": [
      "Enter your Percentage: 85.56\n"
     ]
    },
    {
     "name": "stdout",
     "output_type": "stream",
     "text": [
      "Very Good\n"
     ]
    }
   ],
   "source": [
    "percent=float(input('Enter your Percentage:'))\n",
    "\n",
    "if percent>=90.0 and percent<=100.0:\n",
    "    print('Excellent')\n",
    "elif percent>=80.0 and percent<90.0:\n",
    "    print('Very Good')\n",
    "elif percent>=60.0 and percent<80.0:\n",
    "    print('Good')\n",
    "\n",
    "elif percent<60.0:\n",
    "    print('Average')\n",
    "else:\n",
    "    print('Your percent should be below 100.')"
   ]
  },
  {
   "cell_type": "code",
   "execution_count": 35,
   "id": "777ceacb-266a-4ab6-aced-0c95c999c279",
   "metadata": {},
   "outputs": [
    {
     "name": "stdout",
     "output_type": "stream",
     "text": [
      "Choose any one from the list:\n",
      " ['Delhi', 'Agra', 'Aydhoya', 'Jaipur', 'AmritSar', 'Madurai', 'Mumbai', 'Sanchi', 'Hydrabad', 'Pune', 'Aurangabad']\n"
     ]
    },
    {
     "name": "stdin",
     "output_type": "stream",
     "text": [
      "Enter your city name: Delhi\n"
     ]
    }
   ],
   "source": [
    "# Accept any city from the user and display monument of the city:\n",
    "\n",
    "# City ----------------------------------------> \"Monumnet\"\n",
    "# Delhi ---------------------------------------> \"RedFort\"\n",
    "# Agra ----------------------------------------> \"TajMahal\"\n",
    "# Ayodhya -------------------------------------> \"RamMandir\"\n",
    "# Jaipur --------------------------------------> \"Hawa Mahal, JalMahal\"\n",
    "# Amritsar ------------------------------------> \"Golden Temple\"\n",
    "# Madurai -------------------------------------> \"Meenakshi Temple\"\n",
    "# Mumabi --------------------------------------> \"Gatway of India\"\n",
    "# Sanchi --------------------------------------> \"Sanchi Stupa\"\n",
    "# Hydrabad ------------------------------------> \"CharMinar\"\n",
    "# Pune ----------------------------------------> \"Shaniwarwada\"\n",
    "# Aurangabad ----------------------------------> \"Ellora Caves,Ajanta Caves\"\n",
    "\n",
    "list1=['Delhi','Agra','Aydhoya','Jaipur','AmritSar','Madurai','Mumbai','Sanchi','Hydrabad','Pune','Aurangabad']\n",
    "print(\"Choose any one from the list:\\n\",list1)\n",
    "\n",
    "user_1=input('Enter your city name:')"
   ]
  },
  {
   "cell_type": "code",
   "execution_count": 3,
   "id": "e9279544-b9f2-42b7-8bbf-dc0a067c3853",
   "metadata": {},
   "outputs": [
    {
     "name": "stdout",
     "output_type": "stream",
     "text": [
      "Choose any one from the list:\n",
      " ('Delhi', 'Agra', 'Ayodhya', 'jaipur', 'Amritsar', 'Madurai', 'Mumbai', 'Sanchi', 'Hydrabad', 'Pune', 'Aurangabad')\n"
     ]
    },
    {
     "name": "stdin",
     "output_type": "stream",
     "text": [
      "Enter your city name  delHI\n"
     ]
    },
    {
     "name": "stdout",
     "output_type": "stream",
     "text": [
      "Redfort\n"
     ]
    }
   ],
   "source": [
    "# shail\n",
    "\n",
    "list1=('Delhi','Agra','Ayodhya','jaipur','Amritsar','Madurai','Mumbai','Sanchi','Hydrabad','Pune','Aurangabad',)\n",
    "print(\"Choose any one from the list:\\n\",list1)\n",
    "user1=input('Enter your city name '+'')\n",
    "user1=user1.casefold()\n",
    "if user1=='delhi':\n",
    "    print('Redfort')\n",
    "elif user1=='agra':\n",
    "    print('TajMahal')\n",
    "elif user1=='ayodhya':\n",
    "    print('Ram Mandir')\n",
    "elif user1=='jaipur':\n",
    "    print('Hawa Mahal')\n",
    "elif user1=='amritsar':\n",
    "    print('Golden Temple')\n",
    "elif user1=='madurai':\n",
    "    print('Meenakshi Temple')\n",
    "elif user1=='mumbai':\n",
    "    print('Gate Of India')\n",
    "elif user1=='sanchi':\n",
    "    print('Sanchi Stupa')\n",
    "elif user1=='hydrabad':\n",
    "    print('CharMinar')\n",
    "elif user1=='pune':\n",
    "    print('Shaniwarwada')\n",
    "elif user1=='aurangabad':\n",
    "    print('Ellora Caves,Ajanta Caves')\n",
    "else:\n",
    "    print('Monumnet is not found')"
   ]
  },
  {
   "cell_type": "code",
   "execution_count": 5,
   "id": "3b924882-98c9-4a88-9b75-2f150591052e",
   "metadata": {},
   "outputs": [
    {
     "name": "stdout",
     "output_type": "stream",
     "text": [
      "ABhishek\n",
      "abhishek\n"
     ]
    }
   ],
   "source": [
    "x=\"ABhishek\"\n",
    "print(x)\n",
    "y=x.casefold()\n",
    "print(y)"
   ]
  },
  {
   "cell_type": "code",
   "execution_count": 6,
   "id": "4c2d9235-37b7-430f-86e2-de48eafca378",
   "metadata": {},
   "outputs": [],
   "source": [
    "#1. Write a program to take input from the user and check it number is positive or negative number.\n",
    "\n",
    "# 2. Accept the marked price from the user and calculate the net amout as (marked price)\n",
    "# marked price ------------------------------> Discount\n",
    "# >20000 -------------------------------------> 30%\n",
    "# >15000 and <=20000--------------------------> 20%\n",
    "# <=10000-------------------------------------> 10%\n",
    "\n",
    "#3. Write a progrm that accept the bike price and find the total including tax and final bike price:\n",
    "# bike price----------------------------------> Including tax\n",
    "# >150000  and <=250000-----------------------> 25%\n",
    "# >100000 and <=150000 ------------------------> 20%\n",
    "# >80000 and <=100000--------------------------> 15%\n",
    "# >50000 and <=80000--------------------------> 10%\n",
    "\n",
    "\n",
    "#4. wap to calculate electric bill:\n",
    "\n",
    "# unit ----------------------------------> charges\n",
    "# 1-100 ---------------------------------> ₹ 1.5 per unit\n",
    "# 101 - 200 -----------------------------> ₹ 2.5 per unit\n",
    "# 201- 350 ------------------------------> ₹ 5 per unit\n",
    "# 351- 500 -----------------------------> ₹ 10 per unit\n",
    "\n",
    "\n",
    "# 5. A company decided to give the bounus to the employee according to the following criteria:\n",
    "\n",
    "# Time period and their services ----------------------------------> Bonus\n",
    "# More than 20 years old -----------------------------------------> 20 % of your salary\n",
    "# > 15 and below <= 20 years--------------------------------------> 15 % of your salary\n",
    "# >=10 years and below 15 years ----------------------------------> 10% of yoru salary\n",
    "# >= 5 years and below 10 years ----------------------------------> 5% of your salary\n",
    "# <5 years--------------------------------------------------------> 3% of your salary\n",
    "\n",
    "\n",
    "# 6. Write a program to find the senior citizen 40, adult 12-40, child 0-12\n",
    "# 7. Write a program to check the divisiblity from user input numebr 5,8,10.\n",
    "\n",
    "\n",
    "# 8. Accept the following from the user and calculate the percentage of the total class present of their student.\n",
    "# total number of working days\n",
    "# totl number of days absent.\n",
    "# After calculating show that if the percentage is below 75% then student can't sit in the exam.\n",
    "\n",
    "# 9. Write a program to chek the character is entered by the user is vowel or consonent.\n"
   ]
  },
  {
   "cell_type": "code",
   "execution_count": 19,
   "id": "dcadc23e-ba45-4411-b213-1ffe5f77203a",
   "metadata": {},
   "outputs": [
    {
     "name": "stdin",
     "output_type": "stream",
     "text": [
      "Enter your price: 23000\n"
     ]
    },
    {
     "name": "stdout",
     "output_type": "stream",
     "text": [
      "You get discount:30% \n",
      "Your Discount amount is: 6900.0 \n",
      "Net Payable amount is: 16100.0\n"
     ]
    }
   ],
   "source": [
    "# 2. Accept the marked price from the user and calculate the net amout as (marked price)\n",
    "# marked price ------------------------------> Discount\n",
    "# >20000 -------------------------------------> 30%\n",
    "# >15000 and <=20000--------------------------> 20%\n",
    "# <=10000-------------------------------------> 10%\n",
    "\n",
    "\n",
    "price=int(input('Enter your price:'))\n",
    "val=100\n",
    "if price>20000:\n",
    "    \n",
    "    dis=30\n",
    "    discount=price*dis/val\n",
    "    net_amount=price-discount\n",
    "    print(f'You get discount:{dis}%','\\nYour Discount amount is:',discount,'\\nNet Payable amount is:',net_amount)\n",
    "elif price>15000 and price<=20000:\n",
    "    dis=20\n",
    "    discount=price*dis/val\n",
    "    net_amount=price-discount\n",
    "    print(f'You get discount is:{dis}%','\\nYour Discount is:',discount,'\\nNet Payable amount is:',net_amount)\n",
    "else:\n",
    "    dis=10\n",
    "    discount=price*10/val\n",
    "    net_amount=price-discount\n",
    "    print(f'You get discount:{dis}%','\\nYour Discount is:',discount,'\\nNet Payable amount is:',net_amount)"
   ]
  },
  {
   "cell_type": "code",
   "execution_count": 12,
   "id": "99980307-8fce-431d-9309-1c7244da5e67",
   "metadata": {},
   "outputs": [
    {
     "name": "stdin",
     "output_type": "stream",
     "text": [
      "Enter your bike price:  150000\n"
     ]
    },
    {
     "name": "stdout",
     "output_type": "stream",
     "text": [
      "Your final bike price after tax is: 20% \n",
      "Your taxable amount is: 30000.0 \n",
      "Net payable amount is: 180000.0\n"
     ]
    }
   ],
   "source": [
    "#3. Write a progrm that accept the bike price and find the total including tax and final bike price:\n",
    "# bike price----------------------------------> Including tax\n",
    "# >150000  and <=250000-----------------------> 25%\n",
    "# >100000 and <=150000 ------------------------> 20%\n",
    "# >80000 and <=100000--------------------------> 15%\n",
    "# >50000 and <=80000--------------------------> 10%\n",
    "\n",
    "\n",
    "bike_price = int(input('Enter your bike price: '))\n",
    "val = 100\n",
    "\n",
    "if bike_price > 150000 and bike_price <= 250000:\n",
    "    tax = 25\n",
    "    including_tax = bike_price * tax / val\n",
    "    net_amount = bike_price + including_tax\n",
    "    print(f'Your final bike price after tax is: {tax}%', '\\nYour taxable amount is:', including_tax, '\\nNet payable amount is:', net_amount)\n",
    "elif bike_price > 100000 and bike_price <= 150000:\n",
    "    tax = 20\n",
    "    including_tax = bike_price * tax / val\n",
    "    net_amount = bike_price + including_tax\n",
    "    print(f'Your final bike price after tax is: {tax}%', '\\nYour taxable amount is:', including_tax, '\\nNet payable amount is:', net_amount)\n",
    "elif bike_price > 80000 and bike_price < 100000:\n",
    "    tax = 15\n",
    "    including_tax = bike_price * tax / val\n",
    "    net_amount = bike_price + including_tax\n",
    "    print(f'Your final bike price after tax is: {tax}%', '\\nYour taxable amount is:', including_tax, '\\nNet payable amount is:', net_amount)\n",
    "elif bike_price >=50000 and bike_price <= 80000:\n",
    "    tax = 10\n",
    "    including_tax = bike_price * tax / val\n",
    "    net_amount = bike_price + including_tax\n",
    "    print(f'Your final bike price after tax is: {tax}%', '\\nYour taxable amount is:', including_tax, '\\nNet payable amount is:', net_amount)\n",
    "else:\n",
    "    print(\"Invalid bike price entered.\")"
   ]
  },
  {
   "cell_type": "code",
   "execution_count": 16,
   "id": "ee1e3752-06ec-4e7c-b4a7-2f11c361d49c",
   "metadata": {},
   "outputs": [
    {
     "name": "stdin",
     "output_type": "stream",
     "text": [
      "Enter your bike Price: 160000\n"
     ]
    },
    {
     "name": "stdout",
     "output_type": "stream",
     "text": [
      "Applied Tax: 25% \n",
      "Total tax: 40000.0 \n",
      "Total Bike price on Road: 200000.0\n"
     ]
    }
   ],
   "source": [
    "#3. Write a progrm that accept the bike price and find the total including tax and final bike price:\n",
    "# bike price----------------------------------> Including tax\n",
    "# >150000  and <=250000-----------------------> 25%\n",
    "# >100000 and <=150000 ------------------------> 20%\n",
    "# >80000 and <=100000--------------------------> 15%\n",
    "# >50000 and <=80000--------------------------> 10%\n",
    "\n",
    "bike_price=int(input('Enter your bike Price:'))\n",
    "val=100\n",
    "\n",
    "if bike_price>150000 and bike_price<=250000:\n",
    "    tax_val='25%'\n",
    "    tax= 25/val*bike_price\n",
    "   \n",
    "elif bike_price>100000 and bike_price<=150000:\n",
    "    tax_val='20%'\n",
    "    tax= 20/val*bike_price\n",
    "    \n",
    "elif bike_price>=100000 and bike_price<150000:\n",
    "    tax_val='15%'\n",
    "    tax= 15/val*bike_price\n",
    "    \n",
    "\n",
    "elif bike_price>=50000 and bike_price<=80000:\n",
    "    tax_val='10%'\n",
    "    tax= 10/val*bike_price\n",
    "    \n",
    "\n",
    "else:\n",
    "    print('Invalid Bike Information')\n",
    "\n",
    "print('Applied Tax:',tax_val,'\\nTotal tax:',tax,'\\nTotal Bike price on Road:',bike_price+tax)"
   ]
  },
  {
   "cell_type": "code",
   "execution_count": 18,
   "id": "b48d43b9-fa2c-4988-9d7b-c7efa6764727",
   "metadata": {},
   "outputs": [
    {
     "name": "stdin",
     "output_type": "stream",
     "text": [
      "Enter any number: 78\n"
     ]
    },
    {
     "name": "stdout",
     "output_type": "stream",
     "text": [
      "Your number is Positive number 78\n"
     ]
    }
   ],
   "source": [
    "#1. Write a program to take input from the user and check it number is positive or negative number.\n",
    "\n",
    "\n",
    "num=int(input('Enter any number:'))\n",
    "\n",
    "if num>0:\n",
    "    print(f'Your number is Positive number {num}')   # f-string function\n",
    "\n",
    "else:\n",
    "    print(f'Your number is Negative number {num}')"
   ]
  },
  {
   "cell_type": "code",
   "execution_count": 42,
   "id": "5cddefb3-e405-4f2e-bf99-50c136658ae5",
   "metadata": {},
   "outputs": [
    {
     "name": "stdin",
     "output_type": "stream",
     "text": [
      "Enter Marked price of your Product: 29000\n"
     ]
    },
    {
     "name": "stdout",
     "output_type": "stream",
     "text": [
      "Total Discount percent you get: 30% \n",
      "Total Discounted Amount is: 8700.0 \n",
      "Total Amount to Pay: 20300.0\n"
     ]
    }
   ],
   "source": [
    "# 2. Accept the marked price from the user and calculate the net amout as (marked price)\n",
    "# marked price ------------------------------> Discount\n",
    "# >20000 -------------------------------------> 30%\n",
    "# >15000 and <=20000--------------------------> 20%\n",
    "# <=10000-------------------------------------> 10%\n",
    "\n",
    "\n",
    "marked_price=int(input('Enter Marked price of your Product:'))\n",
    "if marked_price<=30000:\n",
    "    \n",
    "    if marked_price>20000 and marked_price<30000:\n",
    "        discount='30%'\n",
    "        dis=marked_price*30/100\n",
    "        \n",
    "    \n",
    "    \n",
    "    elif marked_price>15000 and marked_price<=20000:\n",
    "        discount='20%'\n",
    "        dis=marked_price*20/100\n",
    "        \n",
    "    \n",
    "    \n",
    "    elif marked_price<=10000:\n",
    "        discount='10%'\n",
    "        dis=marked_price*10/100\n",
    "       \n",
    "    \n",
    "    \n",
    "    else:\n",
    "        print('Invalid Price Range.')\n",
    "\n",
    "    \n",
    "    print('Total Discount percent you get:',discount,'\\nTotal Discounted Amount is:',dis,'\\nTotal Amount to Pay:',marked_price-dis)\n",
    "\n",
    "else:\n",
    "    print('No Discount Available.')\n"
   ]
  },
  {
   "cell_type": "code",
   "execution_count": 55,
   "id": "a264cfc0-622e-4db9-98fd-b8ecee90862e",
   "metadata": {},
   "outputs": [
    {
     "name": "stdin",
     "output_type": "stream",
     "text": [
      "Enter your meter unit: 599\n"
     ]
    },
    {
     "name": "stdout",
     "output_type": "stream",
     "text": [
      "Meter Bill per unit: ₹ 10.0 \n",
      "Your Total Meter Bill Price: ₹ 5990\n"
     ]
    }
   ],
   "source": [
    "\n",
    "#4. wap to calculate electric bill:\n",
    "\n",
    "\n",
    "# unit ----------------------------------> charges\n",
    "# 1-100 ---------------------------------> ₹ 1.5 per unit\n",
    "# 101 - 200 -----------------------------> ₹ 2.5 per unit\n",
    "# 201- 350 ------------------------------> ₹ 5 per unit\n",
    "# 351- 500 -----------------------------> ₹ 10 per unit\n",
    "\n",
    "unit=int(input('Enter your meter unit:'))\n",
    "\n",
    "if unit<600:\n",
    "    if unit>0 and unit<=100:\n",
    "        rup='₹:1.5'\n",
    "        price=unit*1.5\n",
    "        print('Meter Bill per unit:',rup,'\\nYour Total Meter Bill Price: ₹',price,)\n",
    "        \n",
    "    \n",
    "    elif unit>101 and unit<=200:\n",
    "        rup='₹:2.5'\n",
    "        price=unit*2.5\n",
    "        print('Meter Bill per unit:',rup,'Your Total Meter Bill Price: ₹',price)\n",
    "        \n",
    "    \n",
    "    elif unit>201 and unit<=350:\n",
    "        rup=\"₹ 5.0\"\n",
    "        price=unit*5\n",
    "        print('Meter Bill per unit:',rup,'\\nYour Total Meter Bill Price: ₹',price)\n",
    "        \n",
    "    \n",
    "    else:\n",
    "        rup='₹ 10.0'\n",
    "        price=unit*10\n",
    "        print('Meter Bill per unit:',rup,'\\nYour Total Meter Bill Price: ₹',price)\n",
    "    \n",
    "else:\n",
    "    print('You Can contact Electricity Office')"
   ]
  },
  {
   "cell_type": "code",
   "execution_count": 9,
   "id": "7c872809-19cd-4d1c-acdb-f460758c631f",
   "metadata": {},
   "outputs": [
    {
     "name": "stdin",
     "output_type": "stream",
     "text": [
      "Enter any number: 20\n"
     ]
    },
    {
     "name": "stdout",
     "output_type": "stream",
     "text": [
      "20 is divisible by 5 and 10 only not 8.\n"
     ]
    }
   ],
   "source": [
    "# 7. Write a program to check the divisiblity from user input numebr 5,8,10.\n",
    "\n",
    "\n",
    "user_num=int(input('Enter any number:'))\n",
    "\n",
    "if user_num%5==0 and user_num%8==0 and user_num%10==0:\n",
    "    print(f'{user_num} is divisible by 5,8 and 10.')\n",
    "\n",
    "elif user_num%5==0 and user_num%8==0 and user_num%10!=0:\n",
    "    print(f'{user_num} is divisible by 5 and 8 only not 10')\n",
    "\n",
    "elif user_num%5==0 and user_num%8!=0 and user_num%10!=0:\n",
    "    print(f'{user_num} is divisible by 5 only not 8 and 10.')\n",
    "elif user_num%5!=0 and user_num%8==0 and user_num%10==0:\n",
    "    print(f'{user_num} is divisible by 8 and 10 only not 5.')\n",
    "elif user_num%5!=0 and user_num%8!=0 and user_num%10==0:\n",
    "    print(f'{user_num} is divisible by 10 only not 5 and 8.')\n",
    "elif user_num%5==0 and user_num%8!=0 and user_num%10==0:\n",
    "    print(f'{user_num} is divisible by 5 and 10 only not 8.')\n",
    "elif user_num%5!=0 and user_num%8==0 and user_num%10!=0:\n",
    "    print(f'{user_num} is divisible by 8 only not 5 and 10.')\n",
    "\n",
    "elif user_num%5!=0 and user_num%8!=0 and user_num%10!=0:\n",
    "    print(f'{user_num} is not divisible by 5,8 and 10.')\n",
    "else:\n",
    "    print(\"Invalid Syntax\")"
   ]
  },
  {
   "cell_type": "code",
   "execution_count": 13,
   "id": "91303059-05fa-474b-90a5-85ca6f32ed04",
   "metadata": {},
   "outputs": [
    {
     "name": "stdin",
     "output_type": "stream",
     "text": [
      "Enter your age: 78\n"
     ]
    },
    {
     "name": "stdout",
     "output_type": "stream",
     "text": [
      "78.0 is Senior Citizen.\n"
     ]
    }
   ],
   "source": [
    "# 6. Write a program to find the senior citizen 40, adult 12-40, child 0-12\n",
    "\n",
    "\n",
    "age=float(input('Enter your age:'))\n",
    "\n",
    "if age>=40:\n",
    "    print(f'{age} is Senior Citizen.')\n",
    "elif age>=12 and age<40:\n",
    "    print(f'{age} is Adult.')\n",
    "elif age<12:\n",
    "    print(f'{age} is Child.')"
   ]
  },
  {
   "cell_type": "code",
   "execution_count": 33,
   "id": "74d75033-816e-4caa-8ffc-beb720e55446",
   "metadata": {},
   "outputs": [
    {
     "name": "stdin",
     "output_type": "stream",
     "text": [
      "Enter your salary: 150000\n",
      "Enter time period of Service: 21\n"
     ]
    },
    {
     "name": "stdout",
     "output_type": "stream",
     "text": [
      "Your salary is=₹ 150000 \n",
      "Bonus Get=20% \n",
      "Total Bonus=₹30000.0 \n",
      "Total Salary is=₹180000.0\n"
     ]
    }
   ],
   "source": [
    "# 5. A company decided to give the bounus to the employee according to the following criteria:\n",
    "\n",
    "# Time period and their services ----------------------------------> Bonus\n",
    "# More than 20 years old -----------------------------------------> 20 % of your salary\n",
    "# > 15 and below <= 20 years--------------------------------------> 15 % of your salary\n",
    "# >=10 years and below 15 years ----------------------------------> 10% of yoru salary\n",
    "# >= 5 years and below 10 years ----------------------------------> 5% of your salary\n",
    "# <5 years--------------------------------------------------------> 3% of your salary\n",
    "\n",
    "salary=int(input('Enter your salary:'))\n",
    "year_of_service=int(input('Enter time period of Service:'))\n",
    "\n",
    "if salary>0:\n",
    "    if year_of_service>0:\n",
    "        \n",
    "        if year_of_service>20:\n",
    "            bonus_get='20%'\n",
    "            bonus=salary*20/100\n",
    "            \n",
    "        \n",
    "        elif year_of_service>15 and year_of_service<=20:\n",
    "            bonus_get='1000%'\n",
    "            bonus=salary*15/100\n",
    "            \n",
    "        \n",
    "        elif year_of_service>=10 and year_of_service<=15:\n",
    "            bounus_get='10%'\n",
    "            bonus=salary*10/100\n",
    "            \n",
    "            \n",
    "        elif year_of_service>=5 and year_of_service<10:\n",
    "            bonus_get='5%'\n",
    "            bonus=salary*5/100\n",
    "            \n",
    "            \n",
    "        elif year_of_service>0 and year_of_service<5:\n",
    "            bonus_get='3%'\n",
    "            bonus=salary*3/100\n",
    "            \n",
    "        \n",
    "        else:\n",
    "            print('Invalid Year of Services')\n",
    "        print(f'Your salary is=₹ {salary} \\nBonus Get={bonus_get} \\nTotal Bonus=₹{bonus} \\nTotal Salary is=₹{bonus+salary}')\n",
    "        \n",
    "    else:\n",
    "        print('Invalid Year of Service.')\n",
    "else:\n",
    "    print('Enter your Valid Salary. Your Salary Not be in Negative.')"
   ]
  },
  {
   "cell_type": "code",
   "execution_count": null,
   "id": "b604be55-5210-42b6-8175-01d2b023b3ea",
   "metadata": {},
   "outputs": [],
   "source": []
  }
 ],
 "metadata": {
  "kernelspec": {
   "display_name": "Python 3 (ipykernel)",
   "language": "python",
   "name": "python3"
  },
  "language_info": {
   "codemirror_mode": {
    "name": "ipython",
    "version": 3
   },
   "file_extension": ".py",
   "mimetype": "text/x-python",
   "name": "python",
   "nbconvert_exporter": "python",
   "pygments_lexer": "ipython3",
   "version": "3.12.2"
  }
 },
 "nbformat": 4,
 "nbformat_minor": 5
}
