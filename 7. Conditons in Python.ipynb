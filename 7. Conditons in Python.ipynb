{
 "cells": [
  {
   "cell_type": "markdown",
   "id": "51e08515-a1c9-4dd9-a079-3979ce2248c2",
   "metadata": {},
   "source": [
    "# 7. Conditions in Python\n",
    "\n",
    " * __Comparison Operations compare some value or operands and based on a conditions, produce a Boolean. Python has six comparison operators as below:__\n",
    " * __Less than(<)__\n",
    " * __Less than or equal to(<=)__\n",
    " * __Greater then(>)__\n",
    " * __Greater than or equal to(>=)__\n",
    " * __Equal to (==)__\n",
    " * __Not equal to(!=)__"
   ]
  },
  {
   "cell_type": "code",
   "execution_count": 6,
   "id": "5ac733a1-3bf8-4cd3-b884-5dfa44dc44b2",
   "metadata": {},
   "outputs": [
    {
     "name": "stdout",
     "output_type": "stream",
     "text": [
      "False\n",
      "True\n",
      "False\n",
      "True\n",
      "False\n",
      "True\n"
     ]
    }
   ],
   "source": [
    "# Take a variable\n",
    "\n",
    "x=1.618\n",
    "\n",
    "print(x>2) \n",
    "print(x>=1.618)\n",
    "print(x<1)\n",
    "print(x<=1.618)\n",
    "print(x==10)\n",
    "print(x==1.618)"
   ]
  },
  {
   "cell_type": "markdown",
   "id": "d2cabeab-4d7c-4f5f-a9d9-b785cc0b3f5f",
   "metadata": {},
   "source": [
    "# Branching (if,elif,else)\n",
    "\n",
    " * __Decision making is required when we want to execute a code only if a certain condition is satisfied.__\n",
    " * __The if/elif/else statement is used to Python for decision making.__\n",
    " * __An else statement can be combined with an if statement.__\n",
    " * __An else statement contains the block of code that executes if the conditional expression in the if statement resolves to 0 or a False value.__\n",
    " * __The else statement is an optional statemne tand there could be at most only one else statement following if.__\n",
    " * __The elif statement allows you to check multiple expressions for True and execute a block of code as soon as one of the conditions evaluates to True.__\n",
    " * __Similar to the else, elif statement is an optional.__\n",
    " * __However, unlike else, for which there can be at most one statement, there can be an arbitrary number of elif statmenet following an if.__"
   ]
  },
  {
   "cell_type": "code",
   "execution_count": 8,
   "id": "23b53f59-a948-43b5-9772-8dc9adddd351",
   "metadata": {},
   "outputs": [
    {
     "name": "stdout",
     "output_type": "stream",
     "text": [
      "Your Driving licence is valid\n"
     ]
    }
   ],
   "source": [
    "x=18\n",
    "\n",
    "if x>=18:\n",
    "    print('Your Driving licence is valid')\n",
    "\n",
    "else:\n",
    "    print('Your DL is not valid.')"
   ]
  },
  {
   "cell_type": "code",
   "execution_count": 10,
   "id": "28533a62-0c3f-4464-a86c-242a671dd156",
   "metadata": {},
   "outputs": [
    {
     "name": "stdout",
     "output_type": "stream",
     "text": [
      "You should go to kindergarten.\n"
     ]
    }
   ],
   "source": [
    "age=5\n",
    "\n",
    "if age>6:\n",
    "    print('You can go to primary school.')\n",
    "elif age==5:\n",
    "    print('You should go to kindergarten.')\n",
    "else:\n",
    "    print('You are a baby.')"
   ]
  },
  {
   "cell_type": "code",
   "execution_count": 19,
   "id": "a30f66a8-516a-4262-adf9-b3a17ec3921e",
   "metadata": {},
   "outputs": [
    {
     "name": "stdin",
     "output_type": "stream",
     "text": [
      "Enter your rating number: 4.5\n"
     ]
    },
    {
     "name": "stdout",
     "output_type": "stream",
     "text": [
      "You can not watch this movie with rating value: 4.5\n"
     ]
    }
   ],
   "source": [
    "movie_rating=float(input('Enter your rating number:'))\n",
    "\n",
    "if movie_rating>8.5:\n",
    "    print('This movie is awasome(hit) You can go and watch this movie in the theater.',movie_rating)\n",
    "\n",
    "else:\n",
    "    print('You can not watch this movie with rating value:',movie_rating)"
   ]
  },
  {
   "cell_type": "code",
   "execution_count": 32,
   "id": "1148bbc7-7608-48a4-8dc4-b38706d00fb1",
   "metadata": {},
   "outputs": [
    {
     "name": "stdin",
     "output_type": "stream",
     "text": [
      "Enter any key: 6\n"
     ]
    },
    {
     "name": "stdout",
     "output_type": "stream",
     "text": [
      "Weekday name is Friday.\n"
     ]
    }
   ],
   "source": [
    "# weekdays name \n",
    "# 1= sunday\n",
    "# 2= Monday\n",
    "# 3= Tuesday\n",
    "# 4= wednesday\n",
    "\n",
    "weekday=int(input('Enter any key:'))\n",
    "\n",
    "if weekday==1:\n",
    "    print('Weekday name is Sunday.')\n",
    "\n",
    "elif weekday==2:\n",
    "    print('Weekday name is Monday.')\n",
    "\n",
    "elif weekday==3:\n",
    "    print('Weeday name is Tuesday.')\n",
    "\n",
    "elif weekday==4:\n",
    "    print('Weekday name is Wednesday.')\n",
    "\n",
    "\n",
    "elif weekday==5:\n",
    "    print('Weekday name is Thursday.')\n",
    "\n",
    "elif weekday==6:\n",
    "    print('Weekday name is Friday.')\n",
    "\n",
    "elif weekday==7:\n",
    "    print('Weekday name is Saturday.')\n",
    "else:\n",
    "    print('Invalid Input')"
   ]
  },
  {
   "cell_type": "code",
   "execution_count": 33,
   "id": "bb9629e9-bb6a-4c8a-87ab-fb47e97d8cea",
   "metadata": {},
   "outputs": [],
   "source": [
    "# month name  1==> January, 2==> February, 3==March, 4==> April"
   ]
  },
  {
   "cell_type": "code",
   "execution_count": 37,
   "id": "7c1d8316-ebad-48f8-8885-ff896bf68d12",
   "metadata": {},
   "outputs": [
    {
     "name": "stdin",
     "output_type": "stream",
     "text": [
      "Enter any key: 6\n"
     ]
    },
    {
     "name": "stdout",
     "output_type": "stream",
     "text": [
      "Month name is June\n"
     ]
    }
   ],
   "source": [
    "month=int(input('Enter any key:'))\n",
    "if month==1:\n",
    "    print('Month Name is January.')\n",
    "elif month==2:\n",
    "    print('Month name is February')\n",
    "elif month==3:\n",
    "    print('Month name is March')\n",
    "elif month==4:\n",
    "    print('Month name is April')\n",
    "elif month==5:\n",
    "    print('Month name is May')\n",
    "elif month==6:\n",
    "    print('Month name is June')\n",
    "elif month==7:\n",
    "    print('Month name is July')\n",
    "elif month==8:\n",
    "    print('Month name is August')\n",
    "elif month==9:\n",
    "    print('Month name is September')\n",
    "elif month==10:\n",
    "    print('Month name is october')\n",
    "elif month==11:\n",
    "    print('Month name is November')\n",
    "elif month==12:    \n",
    "    print('Month name is December')\n",
    "else:\n",
    "    print('Invalid Text')"
   ]
  },
  {
   "cell_type": "code",
   "execution_count": 4,
   "id": "a81992ff-9b8a-4d50-9cdc-28f396bba8ef",
   "metadata": {},
   "outputs": [
    {
     "name": "stdin",
     "output_type": "stream",
     "text": [
      "Enter any number: 654561654566536\n"
     ]
    },
    {
     "name": "stdout",
     "output_type": "stream",
     "text": [
      "Even number\n"
     ]
    }
   ],
   "source": [
    "# Write a program to find the even or odd numebr from user input number?\n",
    "\n",
    "user=int(input('Enter any number:'))\n",
    "\n",
    "if user%2==0:\n",
    "    print('Even number')\n",
    "\n",
    "else:\n",
    "    print('Odd number')"
   ]
  },
  {
   "cell_type": "code",
   "execution_count": 12,
   "id": "5d174b43-b083-4f8d-8e4b-842190ff0533",
   "metadata": {},
   "outputs": [
    {
     "name": "stdin",
     "output_type": "stream",
     "text": [
      "Enter any number: 19\n"
     ]
    },
    {
     "name": "stdout",
     "output_type": "stream",
     "text": [
      "19 is not divisible by both 2 and 3.\n"
     ]
    }
   ],
   "source": [
    "# Write a program to check divisiblity of 2,3 from user user input number.  8,16,15\n",
    "\n",
    "\n",
    "user=int(input('Enter any number:'))\n",
    "\n",
    "if user%2==0 and user%3==0:\n",
    "    print(f'{user} is divisible by 2 and 3 both.')   # f-string function()\n",
    "elif user%2==0 and user%3!=0:\n",
    "    print(f'{user} is divisible by 2 only not 3.')\n",
    "elif user%2!=0 and user%3==0:\n",
    "    print(f'{user} is divisible by 3 only not 2.')\n",
    "else:\n",
    "    print(f'{user} is not divisible by both 2 and 3.')"
   ]
  },
  {
   "cell_type": "code",
   "execution_count": 20,
   "id": "9d41be3c-a298-431b-b1f2-a9c2c52a3a14",
   "metadata": {},
   "outputs": [
    {
     "name": "stdin",
     "output_type": "stream",
     "text": [
      "Enter any number: 55\n"
     ]
    },
    {
     "name": "stdout",
     "output_type": "stream",
     "text": [
      "55 is divisible by 5 only not 3 and 7.\n"
     ]
    }
   ],
   "source": [
    "# Write a program to check the divisiblity of 3,5 and 7 from user input number.\n",
    "\n",
    "\n",
    "user1=int(input('Enter any number:'))\n",
    "\n",
    "\n",
    "if user1%3==0 and user1%5==0 and user1%7==0:\n",
    "    print(f'{user1} is divisible by 3,5 and 7')\n",
    "elif user1%3==0 and user1%5==0 and user1%7!=0:\n",
    "    print(f'{user1} is divisible by 3 and 5 only not 7.')\n",
    "elif user1%3==0 and user1%5!=0 and user1%7==0:\n",
    "    print(f'{user1} is divisibile by 3 and 7 only not 5.')\n",
    "elif user1%3!=0 and user1%5==0 and user1%7==0:\n",
    "    print(f'{user1} is divisible by 5 and 7 only not 3.')\n",
    "elif user1%3==0 and user1%5!=0 and user1%7!=0:\n",
    "    print(f'{user1} is divisible by 3 only not 5 and 7.')\n",
    "elif user1%3!=0 and user1%5==0 and user1%7!=0:\n",
    "    print(f'{user1} is divisible by 5 only not 3 and 7.')\n",
    "elif user1%3!=0 and user1%5!=0 and user1%7==0:\n",
    "    print(f'{user1} is divisibly by 7 only not 3 and 5.')\n",
    "else:\n",
    "    print(f'{user1} is not divisible by 3,5 and 7.')"
   ]
  },
  {
   "cell_type": "code",
   "execution_count": 28,
   "id": "f3019c6e-8959-4876-8a35-062da7fe51b1",
   "metadata": {},
   "outputs": [
    {
     "name": "stdin",
     "output_type": "stream",
     "text": [
      "Enter your Percentage: 62\n"
     ]
    },
    {
     "name": "stdout",
     "output_type": "stream",
     "text": [
      "Good\n"
     ]
    }
   ],
   "source": [
    "# Write a progrm to accetp the percentage from the user and display the Remark according to the percentage.\n",
    "\n",
    "# Percentage---------------------------> \"Remark\"\n",
    "# >=90 ---------------------------------> \"Excellent\"\n",
    "# >=80 and <90---------------------------> \"Very Good\"\n",
    "# >=60 and <80 --------------------------> \"Good\"\n",
    "# > Below 60 ----------------------------> \"Average\"\n",
    "\n",
    "\n",
    "percent=int(input('Enter your Percentage:'))\n",
    "\n",
    "if percent>=90 and percent<=100:\n",
    "    print('Excellent')\n",
    "elif percent>=80 and percent<90:\n",
    "    print('Very Good')\n",
    "elif percent>=60 and percent<80:\n",
    "    print('Good')\n",
    "\n",
    "elif percent<60:\n",
    "    print('Average')\n",
    "else:\n",
    "    print('Your percent should be below 100.')"
   ]
  },
  {
   "cell_type": "code",
   "execution_count": 32,
   "id": "eb6a91bf-a1dd-4119-b454-370eb190036c",
   "metadata": {},
   "outputs": [
    {
     "name": "stdin",
     "output_type": "stream",
     "text": [
      "Enter your Percentage: 85.56\n"
     ]
    },
    {
     "name": "stdout",
     "output_type": "stream",
     "text": [
      "Very Good\n"
     ]
    }
   ],
   "source": [
    "percent=float(input('Enter your Percentage:'))\n",
    "\n",
    "if percent>=90.0 and percent<=100.0:\n",
    "    print('Excellent')\n",
    "elif percent>=80.0 and percent<90.0:\n",
    "    print('Very Good')\n",
    "elif percent>=60.0 and percent<80.0:\n",
    "    print('Good')\n",
    "\n",
    "elif percent<60.0:\n",
    "    print('Average')\n",
    "else:\n",
    "    print('Your percent should be below 100.')"
   ]
  },
  {
   "cell_type": "code",
   "execution_count": 35,
   "id": "777ceacb-266a-4ab6-aced-0c95c999c279",
   "metadata": {},
   "outputs": [
    {
     "name": "stdout",
     "output_type": "stream",
     "text": [
      "Choose any one from the list:\n",
      " ['Delhi', 'Agra', 'Aydhoya', 'Jaipur', 'AmritSar', 'Madurai', 'Mumbai', 'Sanchi', 'Hydrabad', 'Pune', 'Aurangabad']\n"
     ]
    },
    {
     "name": "stdin",
     "output_type": "stream",
     "text": [
      "Enter your city name: Delhi\n"
     ]
    }
   ],
   "source": [
    "# Accept any city from the user and display monument of the city:\n",
    "\n",
    "# City ----------------------------------------> \"Monumnet\"\n",
    "# Delhi ---------------------------------------> \"RedFort\"\n",
    "# Agra ----------------------------------------> \"TajMahal\"\n",
    "# Ayodhya -------------------------------------> \"RamMandir\"\n",
    "# Jaipur --------------------------------------> \"Hawa Mahal, JalMahal\"\n",
    "# Amritsar ------------------------------------> \"Golden Temple\"\n",
    "# Madurai -------------------------------------> \"Meenakshi Temple\"\n",
    "# Mumabi --------------------------------------> \"Gatway of India\"\n",
    "# Sanchi --------------------------------------> \"Sanchi Stupa\"\n",
    "# Hydrabad ------------------------------------> \"CharMinar\"\n",
    "# Pune ----------------------------------------> \"Shaniwarwada\"\n",
    "# Aurangabad ----------------------------------> \"Ellora Caves,Ajanta Caves\"\n",
    "\n",
    "list1=['Delhi','Agra','Aydhoya','Jaipur','AmritSar','Madurai','Mumbai','Sanchi','Hydrabad','Pune','Aurangabad']\n",
    "print(\"Choose any one from the list:\\n\",list1)\n",
    "\n",
    "user_1=input('Enter your city name:')"
   ]
  },
  {
   "cell_type": "code",
   "execution_count": null,
   "id": "e9279544-b9f2-42b7-8bbf-dc0a067c3853",
   "metadata": {},
   "outputs": [],
   "source": []
  }
 ],
 "metadata": {
  "kernelspec": {
   "display_name": "Python 3 (ipykernel)",
   "language": "python",
   "name": "python3"
  },
  "language_info": {
   "codemirror_mode": {
    "name": "ipython",
    "version": 3
   },
   "file_extension": ".py",
   "mimetype": "text/x-python",
   "name": "python",
   "nbconvert_exporter": "python",
   "pygments_lexer": "ipython3",
   "version": "3.12.2"
  }
 },
 "nbformat": 4,
 "nbformat_minor": 5
}
