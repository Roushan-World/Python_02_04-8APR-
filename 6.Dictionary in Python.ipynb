{
 "cells": [
  {
   "cell_type": "markdown",
   "id": "975ebcf4-6387-41ab-a0f5-c8e19b2aa9d5",
   "metadata": {},
   "source": [
    "# 6. Dictionary in Python\n",
    "\n",
    " * __Dicitonary are used to store data values in key:values pair.__\n",
    " * __A dictionary is a collections which is ordered, changeable or mutable and do not allow duplicates.__\n",
    " * __Dictionary items are presented in key:value pairs, and can be referred to by using key name.__\n",
    " * __Dictionary are changeable, meaning that we can change, add, or remove items after the dicitonary has been created.__\n",
    " * __Dictionaries cannot have two items with the same key.__\n",
    " * __A dictionary can nested and can contains antoher dictionary.__"
   ]
  },
  {
   "cell_type": "code",
   "execution_count": 14,
   "id": "7992ec17-e870-4537-86a0-d52d75ffb7c3",
   "metadata": {},
   "outputs": [
    {
     "data": {
      "text/plain": [
       "{'name': 'Mukul Jha',\n",
       " 'age': 26,\n",
       " 'email': 'mukul26@gmail.com',\n",
       " 'roll_no': 100,\n",
       " 25: 'xyz'}"
      ]
     },
     "execution_count": 14,
     "metadata": {},
     "output_type": "execute_result"
    }
   ],
   "source": [
    "dict1={'name':\"Mukul Jha\",\n",
    "     'age':26,\n",
    "     'email':'mukul26@gmail.com',\n",
    "     'roll_no':100,\n",
    "     25:'xyz'}\n",
    "dict1"
   ]
  },
  {
   "cell_type": "code",
   "execution_count": 15,
   "id": "f2a36afa-9663-4c23-a4be-dfd2cbae581c",
   "metadata": {},
   "outputs": [
    {
     "data": {
      "text/plain": [
       "dict"
      ]
     },
     "execution_count": 15,
     "metadata": {},
     "output_type": "execute_result"
    }
   ],
   "source": [
    "type(dict1)"
   ]
  },
  {
   "cell_type": "code",
   "execution_count": 16,
   "id": "971130b5-1404-4bd8-9db1-59fb6729edce",
   "metadata": {},
   "outputs": [
    {
     "data": {
      "text/plain": [
       "dict_keys(['name', 'age', 'email', 'roll_no', 25])"
      ]
     },
     "execution_count": 16,
     "metadata": {},
     "output_type": "execute_result"
    }
   ],
   "source": [
    "dict1.keys()"
   ]
  },
  {
   "cell_type": "code",
   "execution_count": 17,
   "id": "6c0d9ae0-4aa5-4553-96cf-236c81ecfe9f",
   "metadata": {},
   "outputs": [
    {
     "data": {
      "text/plain": [
       "dict_values(['Mukul Jha', 26, 'mukul26@gmail.com', 100, 'xyz'])"
      ]
     },
     "execution_count": 17,
     "metadata": {},
     "output_type": "execute_result"
    }
   ],
   "source": [
    "dict1.values()"
   ]
  },
  {
   "cell_type": "code",
   "execution_count": 18,
   "id": "6fcfb4c0-99bc-4a7d-9150-65c05443748d",
   "metadata": {},
   "outputs": [
    {
     "data": {
      "text/plain": [
       "{'name': 'Mukul Jha',\n",
       " 'age': 26,\n",
       " 'email': 'mukul26@gmail.com',\n",
       " 'roll_no': 100,\n",
       " 25: 'xyz'}"
      ]
     },
     "execution_count": 18,
     "metadata": {},
     "output_type": "execute_result"
    }
   ],
   "source": [
    "# Accessing key and value\n",
    "\n",
    "dict1"
   ]
  },
  {
   "cell_type": "code",
   "execution_count": 19,
   "id": "072efdfb-ad41-4bd5-8705-3bae8f031293",
   "metadata": {},
   "outputs": [
    {
     "data": {
      "text/plain": [
       "'Mukul Jha'"
      ]
     },
     "execution_count": 19,
     "metadata": {},
     "output_type": "execute_result"
    }
   ],
   "source": [
    "dict1['name']"
   ]
  },
  {
   "cell_type": "code",
   "execution_count": 20,
   "id": "2999d265-3dd1-4e12-9821-83edf363629d",
   "metadata": {},
   "outputs": [
    {
     "data": {
      "text/plain": [
       "26"
      ]
     },
     "execution_count": 20,
     "metadata": {},
     "output_type": "execute_result"
    }
   ],
   "source": [
    "dict1['age']"
   ]
  },
  {
   "cell_type": "code",
   "execution_count": 21,
   "id": "05b16103-c063-4890-8f85-b76703d2c0c9",
   "metadata": {},
   "outputs": [
    {
     "data": {
      "text/plain": [
       "'mukul26@gmail.com'"
      ]
     },
     "execution_count": 21,
     "metadata": {},
     "output_type": "execute_result"
    }
   ],
   "source": [
    "dict1['email']"
   ]
  },
  {
   "cell_type": "code",
   "execution_count": 23,
   "id": "f0ece7ca-cd6d-4aad-84b0-86709edcc8e2",
   "metadata": {},
   "outputs": [
    {
     "data": {
      "text/plain": [
       "100"
      ]
     },
     "execution_count": 23,
     "metadata": {},
     "output_type": "execute_result"
    }
   ],
   "source": [
    "dict1['roll_no']"
   ]
  },
  {
   "cell_type": "code",
   "execution_count": 24,
   "id": "341dfc63-7226-4245-b0cd-1089e0efa3d8",
   "metadata": {},
   "outputs": [
    {
     "data": {
      "text/plain": [
       "'xyz'"
      ]
     },
     "execution_count": 24,
     "metadata": {},
     "output_type": "execute_result"
    }
   ],
   "source": [
    "dict1[25]"
   ]
  },
  {
   "cell_type": "code",
   "execution_count": 25,
   "id": "46d8a097-edcc-4d2d-b031-3c43e4aa764d",
   "metadata": {},
   "outputs": [
    {
     "data": {
      "text/plain": [
       "{'name': 'Mukul Jha',\n",
       " 'age': 26,\n",
       " 'email': 'mukul26@gmail.com',\n",
       " 'roll_no': 100,\n",
       " 25: 'xyz'}"
      ]
     },
     "execution_count": 25,
     "metadata": {},
     "output_type": "execute_result"
    }
   ],
   "source": [
    "dict1"
   ]
  },
  {
   "cell_type": "markdown",
   "id": "3791e71d-fd56-41eb-979a-9c80c4472447",
   "metadata": {},
   "source": [
    "# Addition of new key:value pair in the dicitonary."
   ]
  },
  {
   "cell_type": "code",
   "execution_count": 27,
   "id": "5be7bb35-8381-4a9e-afdd-abbacced333d",
   "metadata": {},
   "outputs": [
    {
     "data": {
      "text/plain": [
       "{'name': 'Mukul Jha',\n",
       " 'age': 26,\n",
       " 'email': 'mukul26@gmail.com',\n",
       " 'roll_no': 100,\n",
       " 25: 'xyz',\n",
       " 'Phone_no': '7894561230'}"
      ]
     },
     "execution_count": 27,
     "metadata": {},
     "output_type": "execute_result"
    }
   ],
   "source": [
    "dict1['Phone_no']='7894561230'\n",
    "dict1"
   ]
  },
  {
   "cell_type": "markdown",
   "id": "7bc5b747-cde1-41f5-8435-9a6272188a53",
   "metadata": {},
   "source": [
    "# deletion of key and value in the dictionary"
   ]
  },
  {
   "cell_type": "code",
   "execution_count": 28,
   "id": "dd2e73a9-b022-4bde-8ac1-d45ed7c6d4f2",
   "metadata": {},
   "outputs": [],
   "source": [
    "del(dict1[25])"
   ]
  },
  {
   "cell_type": "code",
   "execution_count": 29,
   "id": "2daf81df-3bea-4087-80d3-b6d3b6d55ed7",
   "metadata": {},
   "outputs": [
    {
     "data": {
      "text/plain": [
       "{'name': 'Mukul Jha',\n",
       " 'age': 26,\n",
       " 'email': 'mukul26@gmail.com',\n",
       " 'roll_no': 100,\n",
       " 'Phone_no': '7894561230'}"
      ]
     },
     "execution_count": 29,
     "metadata": {},
     "output_type": "execute_result"
    }
   ],
   "source": [
    "dict1"
   ]
  },
  {
   "cell_type": "code",
   "execution_count": 30,
   "id": "361596e1-1134-4056-8f1b-65645f6e41ac",
   "metadata": {},
   "outputs": [
    {
     "data": {
      "text/plain": [
       "{'name': 'Mukul Jha',\n",
       " 'age': 26,\n",
       " 'email': 'mukul26@gmail.com',\n",
       " 'roll_no': 100,\n",
       " 'Phone_no': '7894561230'}"
      ]
     },
     "execution_count": 30,
     "metadata": {},
     "output_type": "execute_result"
    }
   ],
   "source": [
    "# updating dictionary\n",
    "dict1"
   ]
  },
  {
   "cell_type": "code",
   "execution_count": 31,
   "id": "dcf50fff-da5b-41db-85b3-3662f43d883c",
   "metadata": {},
   "outputs": [],
   "source": [
    "dict1['email']='mukuljha@gmail.com'"
   ]
  },
  {
   "cell_type": "code",
   "execution_count": 33,
   "id": "c441a3ae-c205-4b50-bf59-7e3d74ac4ca0",
   "metadata": {},
   "outputs": [
    {
     "data": {
      "text/plain": [
       "{'name': 'Mukul Jha',\n",
       " 'age': 26,\n",
       " 'email': 'mukuljha@gmail.com',\n",
       " 'roll_no': 100,\n",
       " 'Phone_no': '7894561230'}"
      ]
     },
     "execution_count": 33,
     "metadata": {},
     "output_type": "execute_result"
    }
   ],
   "source": [
    "dict1"
   ]
  },
  {
   "cell_type": "code",
   "execution_count": 35,
   "id": "40910ef1-ffe0-4a47-bfe0-fe8269463733",
   "metadata": {},
   "outputs": [
    {
     "data": {
      "text/plain": [
       "{'name': 'Mukul Jha',\n",
       " 'age': 26,\n",
       " 'email': 'mukuljha@gmail.com',\n",
       " 'roll_no': '001',\n",
       " 'Phone_no': '7894561230'}"
      ]
     },
     "execution_count": 35,
     "metadata": {},
     "output_type": "execute_result"
    }
   ],
   "source": [
    "dict1['roll_no']='001'\n",
    "dict1"
   ]
  },
  {
   "cell_type": "code",
   "execution_count": 39,
   "id": "c4b825c0-a2f4-4ad5-bb99-8fb391a6b015",
   "metadata": {},
   "outputs": [
    {
     "name": "stdout",
     "output_type": "stream",
     "text": [
      "True\n",
      "False\n",
      "False\n"
     ]
    }
   ],
   "source": [
    "# membership operator [in or not in]  # it returns true if key will be present. otherwise return false\n",
    "\n",
    "print('name' in dict1)\n",
    "print('x' in dict1)\n",
    "print('age' not in dict1)"
   ]
  },
  {
   "cell_type": "code",
   "execution_count": 40,
   "id": "95ddbfc2-7ca3-4899-a362-8216dc12849c",
   "metadata": {},
   "outputs": [
    {
     "data": {
      "text/plain": [
       "{'family': 'music', 'type': 'pop', 'year': 2025, 'name': 'happy new year'}"
      ]
     },
     "execution_count": 40,
     "metadata": {},
     "output_type": "execute_result"
    }
   ],
   "source": [
    "# dict() function\n",
    "\n",
    "dict_sample=dict(family='music',type='pop',year=2025,name='happy new year')\n",
    "dict_sample"
   ]
  },
  {
   "cell_type": "code",
   "execution_count": 41,
   "id": "c6be8832-27c2-4b24-b8f7-36155e0d6132",
   "metadata": {},
   "outputs": [
    {
     "data": {
      "text/plain": [
       "dict"
      ]
     },
     "execution_count": 41,
     "metadata": {},
     "output_type": "execute_result"
    }
   ],
   "source": [
    "type(dict_sample)"
   ]
  },
  {
   "cell_type": "code",
   "execution_count": 46,
   "id": "73629551-749d-4965-b8fd-3b262211570c",
   "metadata": {},
   "outputs": [
    {
     "name": "stdout",
     "output_type": "stream",
     "text": [
      "Original Dictionary: {'family': 'music', 'type': 'pop', 'year': 2025, 'name': 'happy new year'}\n",
      "Copied dictionary: {'family': 'music', 'type': 'pop', 'year': 2025, 'name': 'happy new year'}\n",
      "After Changing: {'family': 'music', 'type': 'pop', 'year': 2025, 'name': 'happy new year', 'P_Name': 'Abhishek'}\n",
      "{'family': 'music', 'type': 'pop', 'year': 2025, 'name': 'happy new year'}\n"
     ]
    }
   ],
   "source": [
    "# copy() function   # Deep copy and shallow copy()\n",
    "\n",
    "org_dict=dict(family='music',type='pop',year=2025,name='happy new year')\n",
    "sample_copy=org_dict.copy()     # shallow copy  # clone copy\n",
    "print('Original Dictionary:',org_dict)\n",
    "print('Copied dictionary:',sample_copy)\n",
    "\n",
    "org_dict['P_Name']='Abhishek'\n",
    "print('After Changing:',org_dict)\n",
    "\n",
    "print(sample_copy)"
   ]
  },
  {
   "cell_type": "code",
   "execution_count": 49,
   "id": "1d5d7655-1767-4651-b043-de2837448484",
   "metadata": {},
   "outputs": [
    {
     "name": "stdout",
     "output_type": "stream",
     "text": [
      "Original Dictionary: {'family': 'music', 'type': 'pop', 'year': 2025, 'name': 'happy new year'}\n",
      "Copied Dictionary: {'family': 'music', 'type': 'pop', 'year': 2025, 'name': 'happy new year'}\n",
      "After Changing: {'family': 'music', 'type': 'pop', 'year': 2025, 'name': 'happy new year', 'Name': 'Sahil'}\n",
      "{'family': 'music', 'type': 'pop', 'year': 2025, 'name': 'happy new year', 'Name': 'Sahil'}\n"
     ]
    }
   ],
   "source": [
    "x_org=dict(family='music',type='pop',year=2025,name='happy new year')\n",
    "x_copy=x_org   # Deep copy   # preview\n",
    "print('Original Dictionary:',x_org)\n",
    "print('Copied Dictionary:',x_copy)\n",
    "\n",
    "# adding new data in copy\n",
    "\n",
    "x_copy['Name']=\"Sahil\"\n",
    "print('After Changing:',x_copy)\n",
    "\n",
    "print(x_org)"
   ]
  },
  {
   "cell_type": "markdown",
   "id": "4e7b7892-d1c1-4e29-a5f2-784829a04fe6",
   "metadata": {},
   "source": [
    "# pop() function\n",
    "\n",
    " * __This function is used to remove specific items from the dictiobary.__"
   ]
  },
  {
   "cell_type": "code",
   "execution_count": 50,
   "id": "834f0733-e08b-4f2b-a950-f19884e36b08",
   "metadata": {},
   "outputs": [
    {
     "data": {
      "text/plain": [
       "{'family': 'music',\n",
       " 'type': 'pop',\n",
       " 'year': 2025,\n",
       " 'name': 'happy new year',\n",
       " 'P_Name': 'Abhishek'}"
      ]
     },
     "execution_count": 50,
     "metadata": {},
     "output_type": "execute_result"
    }
   ],
   "source": [
    "x={'family': 'music', 'type': 'pop', 'year': 2025, 'name': 'happy new year', 'P_Name': 'Abhishek'}\n",
    "x"
   ]
  },
  {
   "cell_type": "code",
   "execution_count": 51,
   "id": "a59f796c-79f5-4a92-84d7-348dd2ae0aaa",
   "metadata": {},
   "outputs": [
    {
     "data": {
      "text/plain": [
       "'Abhishek'"
      ]
     },
     "execution_count": 51,
     "metadata": {},
     "output_type": "execute_result"
    }
   ],
   "source": [
    "x.pop('P_Name')"
   ]
  },
  {
   "cell_type": "code",
   "execution_count": 52,
   "id": "92164c69-87c0-4471-b907-0a098ba348c0",
   "metadata": {},
   "outputs": [
    {
     "data": {
      "text/plain": [
       "{'family': 'music', 'type': 'pop', 'year': 2025, 'name': 'happy new year'}"
      ]
     },
     "execution_count": 52,
     "metadata": {},
     "output_type": "execute_result"
    }
   ],
   "source": [
    "x"
   ]
  },
  {
   "cell_type": "markdown",
   "id": "a4c7fe53-ce10-416d-8245-424154e13844",
   "metadata": {},
   "source": [
    "# popitem() function\n",
    "\n",
    " * __It is used to remove arbitrary items from the dictionary and returns tuple__"
   ]
  },
  {
   "cell_type": "code",
   "execution_count": 53,
   "id": "9b1c1cd5-0b7a-4a49-89c9-74da4db321c7",
   "metadata": {},
   "outputs": [
    {
     "data": {
      "text/plain": [
       "{'family': 'music',\n",
       " 'type': 'pop',\n",
       " 'year': 2025,\n",
       " 'name': 'happy new year',\n",
       " 'P_Name': 'Abhishek'}"
      ]
     },
     "execution_count": 53,
     "metadata": {},
     "output_type": "execute_result"
    }
   ],
   "source": [
    "x={'family': 'music', 'type': 'pop', 'year': 2025, 'name': 'happy new year', 'P_Name': 'Abhishek'}\n",
    "x"
   ]
  },
  {
   "cell_type": "code",
   "execution_count": 55,
   "id": "c50b1000-afa5-4239-987b-339a8f47e223",
   "metadata": {},
   "outputs": [
    {
     "data": {
      "text/plain": [
       "('P_Name', 'Abhishek')"
      ]
     },
     "execution_count": 55,
     "metadata": {},
     "output_type": "execute_result"
    }
   ],
   "source": [
    "x.popitem()"
   ]
  },
  {
   "cell_type": "code",
   "execution_count": 56,
   "id": "f5409052-3c2e-44ec-ae9e-410dbde6e714",
   "metadata": {},
   "outputs": [
    {
     "data": {
      "text/plain": [
       "{'family': 'music',\n",
       " 'type': 'pop',\n",
       " 'year': 2025,\n",
       " 'name': 'happy new year',\n",
       " 'P_Name': 'Abhishek'}"
      ]
     },
     "execution_count": 56,
     "metadata": {},
     "output_type": "execute_result"
    }
   ],
   "source": [
    "x={'family': 'music', 'type': 'pop', 'year': 2025, 'name': 'happy new year', 'P_Name': 'Abhishek'}\n",
    "x"
   ]
  },
  {
   "cell_type": "code",
   "execution_count": 57,
   "id": "b5b17beb-d2a2-4629-a803-299ad95b72d1",
   "metadata": {},
   "outputs": [
    {
     "data": {
      "text/plain": [
       "'music'"
      ]
     },
     "execution_count": 57,
     "metadata": {},
     "output_type": "execute_result"
    }
   ],
   "source": [
    "# get() function returns the of key.\n",
    "\n",
    "x.get('family')"
   ]
  },
  {
   "cell_type": "code",
   "execution_count": 59,
   "id": "86c22591-0477-4a95-98fa-fa9f8b61d5ea",
   "metadata": {},
   "outputs": [
    {
     "data": {
      "text/plain": [
       "'pop'"
      ]
     },
     "execution_count": 59,
     "metadata": {},
     "output_type": "execute_result"
    }
   ],
   "source": [
    "x.get('type')"
   ]
  },
  {
   "cell_type": "code",
   "execution_count": 60,
   "id": "c86818fd-ffd0-4a61-b39f-67d83d8e25cc",
   "metadata": {},
   "outputs": [
    {
     "data": {
      "text/plain": [
       "2025"
      ]
     },
     "execution_count": 60,
     "metadata": {},
     "output_type": "execute_result"
    }
   ],
   "source": [
    "x.get('year')"
   ]
  },
  {
   "cell_type": "code",
   "execution_count": 61,
   "id": "cf179434-30bf-474e-8982-e0103b6ac04e",
   "metadata": {},
   "outputs": [
    {
     "data": {
      "text/plain": [
       "'happy new year'"
      ]
     },
     "execution_count": 61,
     "metadata": {},
     "output_type": "execute_result"
    }
   ],
   "source": [
    "x.get('name')"
   ]
  },
  {
   "cell_type": "markdown",
   "id": "721776a5-03b1-4a39-ad62-a3d50ad36e3f",
   "metadata": {},
   "source": [
    "# fromkeys() functions\n",
    "\n",
    " * __it returns a new dictionary with certain sequence of the items as the key of the dictionary and the values are assigned with None.__"
   ]
  },
  {
   "cell_type": "code",
   "execution_count": 62,
   "id": "eabbcbc8-f72e-46e8-93e8-d70b410488df",
   "metadata": {},
   "outputs": [
    {
     "name": "stdout",
     "output_type": "stream",
     "text": [
      "{'a': None, 'c': None, 'b': None, 'd': None}\n"
     ]
    }
   ],
   "source": [
    "keys={'a','b','c','d'}\n",
    "sequence=dict.fromkeys(keys)\n",
    "print(sequence)"
   ]
  },
  {
   "cell_type": "code",
   "execution_count": 63,
   "id": "5696b60e-5ee4-45e2-938c-81598c978b4c",
   "metadata": {},
   "outputs": [
    {
     "data": {
      "text/plain": [
       "{'a': None, 'c': None, 'b': None, 'd': None}"
      ]
     },
     "execution_count": 63,
     "metadata": {},
     "output_type": "execute_result"
    }
   ],
   "source": [
    "sequence"
   ]
  },
  {
   "cell_type": "code",
   "execution_count": 64,
   "id": "1891bde5-ef82-4b25-ae0c-c0855b50aacd",
   "metadata": {},
   "outputs": [
    {
     "data": {
      "text/plain": [
       "{'a': 'Abhishek', 'c': None, 'b': None, 'd': None}"
      ]
     },
     "execution_count": 64,
     "metadata": {},
     "output_type": "execute_result"
    }
   ],
   "source": [
    "sequence['a']='Abhishek'\n",
    "sequence"
   ]
  },
  {
   "cell_type": "code",
   "execution_count": 69,
   "id": "7862d3e5-4c58-4495-bcc4-dd816091f70c",
   "metadata": {},
   "outputs": [
    {
     "data": {
      "text/plain": [
       "{'Name': 'Shahil',\n",
       " 'Age': '25',\n",
       " 'year': '2024',\n",
       " 'Phoneno': '7018039821',\n",
       " 'email': 'shahilthakr@gmail.com',\n",
       " 'city': 'mandi',\n",
       " 'state': 'Himachal Pradesh',\n",
       " 'Qualification': 'graduate',\n",
       " 'email1': 'shahilkumr66@gmail.com',\n",
       " 'Phoneno2': '9805050607'}"
      ]
     },
     "execution_count": 69,
     "metadata": {},
     "output_type": "execute_result"
    }
   ],
   "source": [
    "# write a dictionary abour yourself approxmately 10 keys and their values. method 1 and method2\n",
    "\n",
    "\n",
    "Dict = dict(Name= 'Shahil', Age= '25', year= '2024', Phoneno= '7018039821' , email= 'shahilthakr@gmail.com' , city= 'mandi' ,\n",
    "        state='Himachal Pradesh' , Qualification= 'graduate' ,email1= 'shahilkumr66@gmail.com' , Phoneno2='9805050607')\n",
    "\n",
    "Dict"
   ]
  },
  {
   "cell_type": "code",
   "execution_count": 70,
   "id": "7eca6de1-0a16-48a6-8e43-3b786d0748f8",
   "metadata": {},
   "outputs": [
    {
     "data": {
      "text/plain": [
       "{'Name': 'Shahil',\n",
       " 'Age': '25',\n",
       " 'year': '2024',\n",
       " 'Phoneno': '7018039821',\n",
       " 'email': 'shahilthakr@gmail.com',\n",
       " 'city': 'mandi',\n",
       " 'state': 'Himachal Pradesh',\n",
       " 'Qualification': 'graduate',\n",
       " 'email1': 'shahilkumr66@gmail.com',\n",
       " 'Phoneno2': '9805050607'}"
      ]
     },
     "execution_count": 70,
     "metadata": {},
     "output_type": "execute_result"
    }
   ],
   "source": [
    "Dict1 = {\"Name\": 'Shahil', \"Age\": '25', \"year\": '2024', \"Phoneno\": '7018039821' , \"email\": 'shahilthakr@gmail.com' , \"city\": 'mandi' ,\n",
    "        \"state\": 'Himachal Pradesh' , \"Qualification\": 'graduate' ,\"email1\": 'shahilkumr66@gmail.com' , \"Phoneno2\": '9805050607'}\n",
    "\n",
    "Dict1"
   ]
  },
  {
   "cell_type": "code",
   "execution_count": null,
   "id": "e51a3a2f-9544-4536-9dda-63fb5d1cb97a",
   "metadata": {},
   "outputs": [],
   "source": []
  }
 ],
 "metadata": {
  "kernelspec": {
   "display_name": "Python 3 (ipykernel)",
   "language": "python",
   "name": "python3"
  },
  "language_info": {
   "codemirror_mode": {
    "name": "ipython",
    "version": 3
   },
   "file_extension": ".py",
   "mimetype": "text/x-python",
   "name": "python",
   "nbconvert_exporter": "python",
   "pygments_lexer": "ipython3",
   "version": "3.12.2"
  }
 },
 "nbformat": 4,
 "nbformat_minor": 5
}
