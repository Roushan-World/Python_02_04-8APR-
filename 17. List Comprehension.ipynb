{
 "cells": [
  {
   "cell_type": "markdown",
   "id": "c5500d67-2f76-4dc2-bdc1-f06173fb5eed",
   "metadata": {},
   "source": [
    "# 17. List Comprehension in Python\n",
    "\n",
    " * __List Comprehension in Python is an easy and compact syntax for creating a list from a string or another list.__\n",
    " * __It is a very concise way to create a new list by performing an operations on each items in the existing list.__\n",
    " * __List Comprehension is considerably faster than processing a list using the for loop.__"
   ]
  },
  {
   "cell_type": "code",
   "execution_count": 2,
   "id": "9786272d-75ac-4a4f-9d25-c93d4910b194",
   "metadata": {},
   "outputs": [
    {
     "name": "stdin",
     "output_type": "stream",
     "text": [
      "Enter your range here.. 10\n"
     ]
    },
    {
     "name": "stdout",
     "output_type": "stream",
     "text": [
      "0\n",
      "1\n",
      "8\n",
      "27\n",
      "64\n",
      "125\n",
      "216\n",
      "343\n",
      "512\n",
      "729\n"
     ]
    }
   ],
   "source": [
    "# wap to find the cube of the number from user given range.\n",
    "n=int(input('Enter your range here..'))\n",
    "for i in range(n):\n",
    "    cube=i**3\n",
    "    print(cube)"
   ]
  },
  {
   "cell_type": "code",
   "execution_count": 3,
   "id": "687dfcc5-fb1e-4995-aaf0-05d06fb7be32",
   "metadata": {},
   "outputs": [
    {
     "name": "stdin",
     "output_type": "stream",
     "text": [
      "Enter your range here: 10\n"
     ]
    },
    {
     "name": "stdout",
     "output_type": "stream",
     "text": [
      "[0, 1, 8, 27, 64, 125, 216, 343, 512, 729]\n"
     ]
    }
   ],
   "source": [
    "n=int(input('Enter your range here:'))\n",
    "\n",
    "cubic_list=[]\n",
    "\n",
    "for i in range(n):\n",
    "    cube=i**3\n",
    "    cubic_list.append(cube)\n",
    "print(cubic_list)"
   ]
  },
  {
   "cell_type": "code",
   "execution_count": 7,
   "id": "bdac3d8b-e448-4d96-a49c-4386a64bd4ae",
   "metadata": {},
   "outputs": [
    {
     "name": "stdin",
     "output_type": "stream",
     "text": [
      "Enter any value 10\n"
     ]
    },
    {
     "name": "stdout",
     "output_type": "stream",
     "text": [
      "[1, 8, 27, 64, 125, 216, 343, 512, 729, 1000]\n",
      "<class 'list'>\n"
     ]
    }
   ],
   "source": [
    "n=int(input('Enter any value'))\n",
    "cubic_list=[i**3 for i in range(1,n+1)]\n",
    "print(cubic_list)\n",
    "print(type(cubic_list))"
   ]
  },
  {
   "cell_type": "code",
   "execution_count": 10,
   "id": "9539799d-bbb2-428e-95cb-95077243fb89",
   "metadata": {},
   "outputs": [
    {
     "name": "stdin",
     "output_type": "stream",
     "text": [
      "Enter your range here: 10\n"
     ]
    },
    {
     "name": "stdout",
     "output_type": "stream",
     "text": [
      "[2, 4, 6, 8, 10]\n"
     ]
    }
   ],
   "source": [
    "# wap to find the even number using for loop\n",
    "\n",
    "x=int(input('Enter your range here:'))\n",
    "list_even=[]\n",
    "for i in range(1,x+1):\n",
    "    if i%2==0:\n",
    "        list_even.append(i)\n",
    "\n",
    "\n",
    "print(list_even)"
   ]
  },
  {
   "cell_type": "code",
   "execution_count": 14,
   "id": "e7508eb9-05cb-4601-a87f-13b08269e37e",
   "metadata": {},
   "outputs": [
    {
     "name": "stdin",
     "output_type": "stream",
     "text": [
      "Enter your range: 10\n"
     ]
    },
    {
     "name": "stdout",
     "output_type": "stream",
     "text": [
      "[2, 4, 6, 8, 10]\n"
     ]
    }
   ],
   "source": [
    "y=int(input('Enter your range:'))\n",
    "\n",
    "list_even=[i for i in range(1,y+1) if i%2==0]\n",
    "print(list_even)"
   ]
  },
  {
   "cell_type": "code",
   "execution_count": 17,
   "id": "6449aba8-3438-4366-bb43-b6875590ef6b",
   "metadata": {},
   "outputs": [
    {
     "name": "stdin",
     "output_type": "stream",
     "text": [
      "Enter your range: 20\n"
     ]
    },
    {
     "name": "stdout",
     "output_type": "stream",
     "text": [
      "List of even number: [2, 4, 6, 8, 10, 12, 14, 16, 18, 20]\n"
     ]
    }
   ],
   "source": [
    "z=int(input('Enter your range:'))\n",
    "list_even=[y for y in range(1,z+1) if y%2==0]\n",
    "print('List of even number:',list_even)"
   ]
  },
  {
   "cell_type": "code",
   "execution_count": 3,
   "id": "d3c26203-0bd9-4fb4-80bc-18c3a60e29ef",
   "metadata": {},
   "outputs": [
    {
     "name": "stdin",
     "output_type": "stream",
     "text": [
      "Enter any number: 10\n"
     ]
    },
    {
     "name": "stdout",
     "output_type": "stream",
     "text": [
      "Cubic List is: [1, 8, 27, 64, 125, 216, 343, 512, 729, 1000]\n"
     ]
    }
   ],
   "source": [
    "# wap to find cube of the number from user input.\n",
    "\n",
    "n=int(input('Enter any number:'))\n",
    "list_cube=[]\n",
    "for i in range(1,n+1):\n",
    "    cube=i**3\n",
    "    list_cube.append(cube)\n",
    "\n",
    "\n",
    "print('Cubic List is:',list_cube)"
   ]
  },
  {
   "cell_type": "code",
   "execution_count": 4,
   "id": "e41bfdf7-e096-428b-aa30-39d8ab3a1e46",
   "metadata": {},
   "outputs": [
    {
     "name": "stdin",
     "output_type": "stream",
     "text": [
      "Enter your range: 10\n"
     ]
    },
    {
     "data": {
      "text/plain": [
       "[1, 8, 27, 64, 125, 216, 343, 512, 729, 1000]"
      ]
     },
     "execution_count": 4,
     "metadata": {},
     "output_type": "execute_result"
    }
   ],
   "source": [
    "# Using List Comprehension\n",
    "n=int(input('Enter your range:'))\n",
    "lst_cube=[i**3 for i in range(1,n+1)]\n",
    "lst_cube"
   ]
  },
  {
   "cell_type": "code",
   "execution_count": 7,
   "id": "595bc076-3eb7-4e9a-b3c9-80d73d617e67",
   "metadata": {},
   "outputs": [
    {
     "name": "stdin",
     "output_type": "stream",
     "text": [
      "Enter Your Range: 5\n"
     ]
    },
    {
     "data": {
      "text/plain": [
       "[1.0, 8.0, 27.0, 64.0, 125.0]"
      ]
     },
     "execution_count": 7,
     "metadata": {},
     "output_type": "execute_result"
    }
   ],
   "source": [
    "import math\n",
    "x=int(input('Enter Your Range:'))\n",
    "cube_list1=[math.pow(i,3) for i in range(1,x+1)]\n",
    "cube_list1"
   ]
  },
  {
   "cell_type": "code",
   "execution_count": 8,
   "id": "81cd2d01-2837-4ab6-a724-1c887fd49315",
   "metadata": {},
   "outputs": [
    {
     "name": "stdin",
     "output_type": "stream",
     "text": [
      "Enter the Rnage:  10\n"
     ]
    },
    {
     "name": "stdout",
     "output_type": "stream",
     "text": [
      "Even numbers using for loop: [2, 4, 6, 8, 10]\n",
      "Odd numbers using for loop: [1, 3, 5, 7, 9]\n"
     ]
    }
   ],
   "source": [
    "# take the range from the user and display even or odd using for loop and list comprehension.\n",
    "\n",
    "\n",
    "x = int(input(\"Enter the Rnage: \"))\n",
    "\n",
    "even_numbers = []\n",
    "odd_numbers = []\n",
    "\n",
    "for number in range(1,x+ 1):\n",
    "    if number % 2 == 0:\n",
    "        even_numbers.append(number)\n",
    "    else:\n",
    "        odd_numbers.append(number)\n",
    "\n",
    "print(\"Even numbers using for loop:\", even_numbers)\n",
    "print(\"Odd numbers using for loop:\", odd_numbers)"
   ]
  },
  {
   "cell_type": "code",
   "execution_count": 12,
   "id": "018470d4-1180-4e72-9163-979e715299a4",
   "metadata": {},
   "outputs": [
    {
     "name": "stdin",
     "output_type": "stream",
     "text": [
      "Enter the Range:  50\n"
     ]
    },
    {
     "name": "stdout",
     "output_type": "stream",
     "text": [
      "Even numbers using list comprehension: [2, 4, 6, 8, 10, 12, 14, 16, 18, 20, 22, 24, 26, 28, 30, 32, 34, 36, 38, 40, 42, 44, 46, 48, 50]\n",
      "Odd numbers using list comprehension: [1, 3, 5, 7, 9, 11, 13, 15, 17, 19, 21, 23, 25, 27, 29, 31, 33, 35, 37, 39, 41, 43, 45, 47, 49]\n"
     ]
    }
   ],
   "source": [
    "#using list comprehension method...\n",
    "\n",
    "x = int(input(\"Enter the Range: \"))\n",
    "\n",
    "even_numbers = [number for number in range(1, x + 1) if number % 2 == 0]\n",
    "odd_numbers = [y for y in range(1,x+1) if y%2!=0]\n",
    "print(\"Even numbers using list comprehension:\", even_numbers)\n",
    "print(\"Odd numbers using list comprehension:\", odd_numbers)"
   ]
  },
  {
   "cell_type": "code",
   "execution_count": 13,
   "id": "b54a166d-ae29-473b-a3de-bef86b4e6c7f",
   "metadata": {},
   "outputs": [
    {
     "name": "stdin",
     "output_type": "stream",
     "text": [
      "Enter your range:  10\n"
     ]
    },
    {
     "name": "stdout",
     "output_type": "stream",
     "text": [
      "Doubled numbers using for loop: [2, 4, 6, 8, 10, 12, 14, 16, 18, 20]\n"
     ]
    }
   ],
   "source": [
    "# wap to take range from input and double this number.\n",
    "\n",
    "# Shahil\n",
    "#using for loop....\n",
    "x=int(input(\"Enter your range: \"))\n",
    "\n",
    "double = []\n",
    "for y in range(1,x + 1):\n",
    "    double.append(y * 2)\n",
    "\n",
    "print(\"Doubled numbers using for loop:\", double)"
   ]
  },
  {
   "cell_type": "code",
   "execution_count": 14,
   "id": "3b82f5ea-edba-40ea-8eaf-f61da63abd8e",
   "metadata": {},
   "outputs": [
    {
     "name": "stdin",
     "output_type": "stream",
     "text": [
      "Enter your range:  10\n"
     ]
    },
    {
     "name": "stdout",
     "output_type": "stream",
     "text": [
      "Doubled numbers using list comprehension: [2, 4, 6, 8, 10, 12, 14, 16, 18, 20]\n"
     ]
    }
   ],
   "source": [
    "# Using list comprehension.....\n",
    "\n",
    "x = int(input('Enter your range: '))\n",
    "double = [y * 2 for y in range(1, x + 1)]\n",
    "\n",
    "print(\"Doubled numbers using list comprehension:\", double)"
   ]
  },
  {
   "cell_type": "code",
   "execution_count": 16,
   "id": "3d6826c5-11e1-42c9-b6bb-b7858d1df0d4",
   "metadata": {},
   "outputs": [
    {
     "name": "stdin",
     "output_type": "stream",
     "text": [
      "Enter any number 10\n"
     ]
    },
    {
     "name": "stdout",
     "output_type": "stream",
     "text": [
      "10 X 1 = 10\n",
      "10 X 2 = 20\n",
      "10 X 3 = 30\n",
      "10 X 4 = 40\n",
      "10 X 5 = 50\n",
      "10 X 6 = 60\n",
      "10 X 7 = 70\n",
      "10 X 8 = 80\n",
      "10 X 9 = 90\n",
      "10 X 10 = 100\n"
     ]
    }
   ],
   "source": [
    "# wap to print table using list comprehension.\n",
    "n=int(input('Enter any number'))\n",
    "\n",
    "for i in range(1,11):\n",
    "    print(n,'X',i,'=',n*i)"
   ]
  },
  {
   "cell_type": "code",
   "execution_count": 17,
   "id": "f80ff2d6-ce21-43d8-8f87-2a1d1226b1ec",
   "metadata": {},
   "outputs": [
    {
     "name": "stdin",
     "output_type": "stream",
     "text": [
      "Enter any number: 20\n"
     ]
    },
    {
     "name": "stdout",
     "output_type": "stream",
     "text": [
      "20x1=20\n",
      "20x2=40\n",
      "20x3=60\n",
      "20x4=80\n",
      "20x5=100\n",
      "20x6=120\n",
      "20x7=140\n",
      "20x8=160\n",
      "20x9=180\n",
      "20x10=200\n"
     ]
    }
   ],
   "source": [
    "n=int(input('Enter any number:'))\n",
    "for i in range(1,11):\n",
    "    print(f'{n}x{i}={n*i}')"
   ]
  },
  {
   "cell_type": "code",
   "execution_count": 18,
   "id": "a3ead411-d98c-4af4-ae86-1182a5a4ec0a",
   "metadata": {},
   "outputs": [
    {
     "name": "stdin",
     "output_type": "stream",
     "text": [
      "Enter any number: 20\n"
     ]
    },
    {
     "name": "stdout",
     "output_type": "stream",
     "text": [
      "20X1=20\n",
      "20X2=40\n",
      "20X3=60\n",
      "20X4=80\n",
      "20X5=100\n",
      "20X6=120\n",
      "20X7=140\n",
      "20X8=160\n",
      "20X9=180\n",
      "20X10=200\n"
     ]
    }
   ],
   "source": [
    "num=int(input('Enter any number:'))\n",
    "\n",
    "for i in range(1,11):\n",
    "    print('%dX%d=%d'%(num,i,num*i))"
   ]
  },
  {
   "cell_type": "code",
   "execution_count": 21,
   "id": "01ffbdf3-56cb-4a3e-9b6c-8a020d550800",
   "metadata": {},
   "outputs": [
    {
     "name": "stdin",
     "output_type": "stream",
     "text": [
      "Enter any number: 15\n"
     ]
    },
    {
     "name": "stdout",
     "output_type": "stream",
     "text": [
      "15X1=15\n",
      "15X2=30\n",
      "15X3=45\n",
      "15X4=60\n",
      "15X5=75\n",
      "15X6=90\n",
      "15X7=105\n",
      "15X8=120\n",
      "15X9=135\n",
      "15X10=150\n"
     ]
    }
   ],
   "source": [
    "num=int(input('Enter any number:'))\n",
    "\n",
    "i=1\n",
    "while (i<11):\n",
    "    print('%dX%d=%d'%(num,i,num*i))\n",
    "    i+=1"
   ]
  },
  {
   "cell_type": "code",
   "execution_count": 23,
   "id": "87e9cd6a-8f9a-4287-9f19-b7cb7d36c94a",
   "metadata": {},
   "outputs": [
    {
     "name": "stdin",
     "output_type": "stream",
     "text": [
      "Enter any value: 15\n"
     ]
    },
    {
     "data": {
      "text/plain": [
       "[15, 30, 45, 60, 75, 90, 105, 120, 135, 150]"
      ]
     },
     "execution_count": 23,
     "metadata": {},
     "output_type": "execute_result"
    }
   ],
   "source": [
    "# using list comprehension\n",
    "num=int(input('Enter any value:'))\n",
    "list_num=[num*i for i in range(1,11)]\n",
    "list_num"
   ]
  },
  {
   "cell_type": "code",
   "execution_count": 24,
   "id": "f16d8bbd-119e-4389-b211-296e3fd4c278",
   "metadata": {},
   "outputs": [],
   "source": [
    "import array as arr"
   ]
  },
  {
   "cell_type": "code",
   "execution_count": 38,
   "id": "1f571c13-df42-46b2-87c0-4796b00cd45e",
   "metadata": {},
   "outputs": [
    {
     "name": "stdout",
     "output_type": "stream",
     "text": [
      "array('f', [2.0, 4.0, 4.0, 5.0, 0.0, 40.0, 50.0, 60.0, 70.0, 4.5])\n",
      "<class 'array.array'>\n"
     ]
    },
    {
     "data": {
      "text/plain": [
       "40.0"
      ]
     },
     "execution_count": 38,
     "metadata": {},
     "output_type": "execute_result"
    }
   ],
   "source": [
    "array=arr.array('f',[2,4,4,5,00,40,50,60,70,4.5])\n",
    "print(array)\n",
    "print(type(array))\n",
    "\n",
    "array[5]"
   ]
  },
  {
   "cell_type": "code",
   "execution_count": 35,
   "id": "d5e9d273-790f-41c4-b0e2-78157e35381c",
   "metadata": {},
   "outputs": [
    {
     "name": "stdout",
     "output_type": "stream",
     "text": [
      "array('i', [10, 20, 30, 40])\n",
      "<class 'array.array'>\n"
     ]
    }
   ],
   "source": [
    "array1=arr.array('i',[10,20,30,40])\n",
    "print(array1)\n",
    "print(type(array1))"
   ]
  },
  {
   "cell_type": "code",
   "execution_count": null,
   "id": "dd01c55e-df28-4eaa-ad8a-1b735b551296",
   "metadata": {},
   "outputs": [],
   "source": []
  }
 ],
 "metadata": {
  "kernelspec": {
   "display_name": "Python 3 (ipykernel)",
   "language": "python",
   "name": "python3"
  },
  "language_info": {
   "codemirror_mode": {
    "name": "ipython",
    "version": 3
   },
   "file_extension": ".py",
   "mimetype": "text/x-python",
   "name": "python",
   "nbconvert_exporter": "python",
   "pygments_lexer": "ipython3",
   "version": "3.12.2"
  }
 },
 "nbformat": 4,
 "nbformat_minor": 5
}
