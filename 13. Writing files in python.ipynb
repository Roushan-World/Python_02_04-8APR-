{
 "cells": [
  {
   "cell_type": "markdown",
   "id": "5ea2d043-0066-4b5e-a4b1-323cd7b020ae",
   "metadata": {},
   "source": [
    "# 13. Writing Files in Python\n",
    "\n",
    " * __To write a text file in Python, you follow these steps:__\n",
    " * __First, open the text file for writing(or appending) using open() function.__\n",
    " * __Second, write to the text file using write() or writelines() method.__\n",
    " * __Third, close the file using close() method.__"
   ]
  },
  {
   "cell_type": "markdown",
   "id": "25ac6569-2f43-45f9-ac75-ba88af69a632",
   "metadata": {},
   "source": [
    " * __Character : Functions__\n",
    " * __r__ : __Open file for reading only. Starts reading from beginning of the file. This is default mode.__\n",
    " * __rb__: __Open a file for reading oney in binary format. Starts reading from the beginning of the file.__\n",
    " * __r+__: __Open file for reading and writing. File pointer placed at beginning of the file.__\n",
    " * __w__: __Open file for writing only. File pointer placed at beginning of the file. Overwrites existing file and creates a new one if does not exists.__\n",
    " * __wb__: __Same as w but open in binary mode.__\n",
    " * __w+__: __Same as w but also allows to read from the file.__\n",
    " * __a__: __Open a file for appending. Starts writing at the end of the file. Creates a new file if the does not exists.__\n",
    " * __ab__ : __Same as a but in binary format. Create a new file if file does not exists.__\n",
    " * __a+__:__Same as a but also open for reading.__\n",
    " * __ab+__:__Same as ab but also open for reading.__"
   ]
  },
  {
   "cell_type": "code",
   "execution_count": 1,
   "id": "62befcec-b596-47f7-a72e-9f75c45ddde4",
   "metadata": {},
   "outputs": [],
   "source": [
    "# How to Writes a file using python\n",
    "\n",
    "fname='abhishek.txt'\n",
    "with open(fname,'w') as f:\n",
    "    f.write('My name is Abhishek Wani.\\n')\n",
    "    f.write(\"I'm 20 years old.\\n\")\n",
    "    f.write(\"I belongs from Bhusawal.\")"
   ]
  },
  {
   "cell_type": "code",
   "execution_count": 2,
   "id": "236d7e96-1df9-4f9f-b03e-7496cfe989cb",
   "metadata": {},
   "outputs": [],
   "source": [
    "fname='abhishek.txt'\n",
    "with open(fname,'w') as f:\n",
    "    f.write('My name is Shivam Kamble.\\n')\n",
    "    f.write(\"I am 40 years old.\\n\")\n",
    "    f.write(\"I am also belongs from Bhusawal.\\n\")\n",
    "    f.write(\"I am Married.\\n\")\n",
    "    f.write(\"I've 2 Child.\")"
   ]
  },
  {
   "cell_type": "code",
   "execution_count": 3,
   "id": "8ee50d4f-fefd-4ee0-a572-4490f19e4faf",
   "metadata": {},
   "outputs": [
    {
     "name": "stdout",
     "output_type": "stream",
     "text": [
      "My name is Shivam Kamble.\n",
      "I am 40 years old.\n",
      "I am also belongs from Bhusawal.\n",
      "I am Married.\n",
      "I've 2 Child.\n"
     ]
    }
   ],
   "source": [
    "with open(fname,'r') as f:\n",
    "    print(f.read())"
   ]
  },
  {
   "cell_type": "code",
   "execution_count": 6,
   "id": "1f2151a4-f880-4807-853c-a286a5660f00",
   "metadata": {},
   "outputs": [
    {
     "name": "stdin",
     "output_type": "stream",
     "text": [
      "Enter your file name: abhishek\n"
     ]
    }
   ],
   "source": [
    "fname=input('Enter your file name:')\n",
    "fname=fname+'.txt'\n",
    "with open(fname,'w') as f:\n",
    "    f.write('My name is Shivam Kamble.\\n')\n",
    "    f.write(\"I am 40 years old.\\n\")\n",
    "    f.write(\"I am also belongs from Bhusawal.\\n\")\n",
    "    f.write(\"I am Married.\\n\")\n",
    "    f.write(\"I've 2 Child.\\n\")\n",
    "    f.write(\"I've a pet Lion.\")"
   ]
  },
  {
   "cell_type": "code",
   "execution_count": 13,
   "id": "5f045557-5852-498d-add5-7d8aedf57a48",
   "metadata": {},
   "outputs": [
    {
     "name": "stdin",
     "output_type": "stream",
     "text": [
      "Enter your file name here: abhishek\n",
      "Enter Number of lines: 2\n",
      "Enter your Text here: My name is Abhishek Wani\n",
      "Enter your Text here: I am 50 years old.\n"
     ]
    }
   ],
   "source": [
    "# write a program to ask to the user how many lines write after the input box opened. finally saved the file on \n",
    "# desired location in your pc.\n",
    "\n",
    "fname=input('Enter your file name here:')\n",
    "fname=fname+'.txt'\n",
    "x=int(input('Enter Number of lines:'))\n",
    "with open(fname,'w') as f:\n",
    "    \n",
    "    for i in range(1,x+1):\n",
    "        y=input('Enter your Text here:')\n",
    "        f.write(y)\n",
    "        f.write('\\n')"
   ]
  },
  {
   "cell_type": "code",
   "execution_count": 15,
   "id": "a5d74699-f1d6-42e7-a3fb-e2425073d44a",
   "metadata": {},
   "outputs": [
    {
     "name": "stdin",
     "output_type": "stream",
     "text": [
      "enter your file name :  rupali\n",
      "Enter number of lines :  2\n"
     ]
    },
    {
     "name": "stdout",
     "output_type": "stream",
     "text": [
      "\n",
      "-----------------------------------\n",
      "\n"
     ]
    },
    {
     "name": "stdin",
     "output_type": "stream",
     "text": [
      "Input your line no 1 :  Apple\n",
      "Input your line no 2 :  Ball\n"
     ]
    },
    {
     "name": "stdout",
     "output_type": "stream",
     "text": [
      "\n",
      "-----------------------------------\n",
      "\n",
      "Your file = ' C:\\Users\\Admin\\Downloads\\rupali.txt ' content is as follow : \n",
      " Apple\n",
      "Ball\n",
      "\n"
     ]
    }
   ],
   "source": [
    "name = input(\"enter your file name : \")\n",
    "file = \"C:\\\\Users\\\\Admin\\\\Downloads\\\\\"+name+'.txt' \n",
    "n = int(input(\"Enter number of lines : \"))\n",
    "print(\"\\n-----------------------------------\\n\")\n",
    "with open(file,'w') as f:\n",
    "    for i in range(1,n+1):\n",
    "        x = input(f\"Input your line no {i} : \")\n",
    "        f.write(x)\n",
    "        f.write('\\n')\n",
    "   \n",
    "with open(file,'r') as f:\n",
    "    reading = f.read()\n",
    "    print(\"\\n-----------------------------------\\n\")\n",
    "    print(f\"Your file = ' {file} ' content is as follow : \\n\",reading)"
   ]
  },
  {
   "cell_type": "code",
   "execution_count": 31,
   "id": "7fd6c12c-53d6-4688-b9e2-0bfa25aa3edc",
   "metadata": {},
   "outputs": [
    {
     "ename": "TypeError",
     "evalue": "fileaccess.hello() takes 0 positional arguments but 1 was given",
     "output_type": "error",
     "traceback": [
      "\u001b[1;31m---------------------------------------------------------------------------\u001b[0m",
      "\u001b[1;31mTypeError\u001b[0m                                 Traceback (most recent call last)",
      "Cell \u001b[1;32mIn[31], line 24\u001b[0m\n\u001b[0;32m     22\u001b[0m file\u001b[38;5;241m=\u001b[39mfileaccess()\n\u001b[0;32m     23\u001b[0m \u001b[38;5;66;03m# file.writefile()\u001b[39;00m\n\u001b[1;32m---> 24\u001b[0m \u001b[43mfile\u001b[49m\u001b[38;5;241;43m.\u001b[39;49m\u001b[43mhello\u001b[49m\u001b[43m(\u001b[49m\u001b[43m)\u001b[49m\n",
      "\u001b[1;31mTypeError\u001b[0m: fileaccess.hello() takes 0 positional arguments but 1 was given"
     ]
    }
   ],
   "source": [
    "# take input from the user as filename if file is found then open your file from class and object\n",
    "# choose your options.\n",
    "# button 1= take input from user as filename [file found or file not found]\n",
    "# button 2 = open your file. [return total content of file]\n",
    "# button 3= search file again [] = [file found or file not found]\n",
    "# button 4= exit.\n",
    "\n",
    "class fileaccess():\n",
    "    def __init__(self,filename):\n",
    "        self.filename=filename\n",
    "\n",
    "    # def writefile():\n",
    "    #     x=input('Enter Your File Name:')\n",
    "    #     x=x+'.txt'\n",
    "    #     y=int(input('Enter Number of Lines:'))\n",
    "    #     with open(x,'w') as f:\n",
    "    #         for i in range(1,y+1):\n",
    "    #             y1=input('Enter Your Text Here:')\n",
    "    #             f.write(y1)\n",
    "    #             f.write('\\n')\n",
    "            \n",
    "file=fileaccess()\n",
    "file.hello()"
   ]
  },
  {
   "cell_type": "code",
   "execution_count": 32,
   "id": "3a1414c7-2f91-4706-b526-df8b6c52b73e",
   "metadata": {},
   "outputs": [
    {
     "name": "stdout",
     "output_type": "stream",
     "text": [
      "Hello\n"
     ]
    }
   ],
   "source": [
    "print('Hello')"
   ]
  },
  {
   "cell_type": "code",
   "execution_count": 36,
   "id": "42507a23-a51a-4f00-8400-1d2a3d69668c",
   "metadata": {},
   "outputs": [
    {
     "data": {
      "text/plain": [
       "'Hello'"
      ]
     },
     "execution_count": 36,
     "metadata": {},
     "output_type": "execute_result"
    }
   ],
   "source": [
    "class fileaccess:\n",
    "    def __init__(self,x):\n",
    "        self.x=x\n",
    "    def hello(self):\n",
    "        return self.x\n",
    "\n",
    "\n",
    "obj=fileaccess('Hello')\n",
    "obj.hello()"
   ]
  },
  {
   "cell_type": "code",
   "execution_count": 41,
   "id": "796a36ba-b0c0-4f62-8772-639ccd0d8a4d",
   "metadata": {},
   "outputs": [
    {
     "name": "stdout",
     "output_type": "stream",
     "text": [
      "\n",
      "        \n",
      "-------------------------------------------\n",
      "        \n",
      "What do you want to perform:\n",
      "        1.Write in File\n",
      "        2.Exit\n",
      "        \n",
      "-------------------------------------------\n",
      "        \n",
      "[1.Write/2.Exit]\n",
      "\n",
      "\n"
     ]
    },
    {
     "name": "stdin",
     "output_type": "stream",
     "text": [
      "Choose any option from above list:  1\n"
     ]
    },
    {
     "name": "stdout",
     "output_type": "stream",
     "text": [
      "-----------------------------------------\n",
      "\n",
      "WriteFile\n"
     ]
    },
    {
     "name": "stdin",
     "output_type": "stream",
     "text": [
      "Enter the file name:  abhishek\n",
      "Enter the content to write to the file:  My name is abhishek\n"
     ]
    },
    {
     "name": "stdout",
     "output_type": "stream",
     "text": [
      "File written successfully!\n",
      "[1.Write/2.Exit]\n",
      "\n",
      "\n"
     ]
    },
    {
     "name": "stdin",
     "output_type": "stream",
     "text": [
      "Choose any option from above list:  2\n"
     ]
    },
    {
     "name": "stdout",
     "output_type": "stream",
     "text": [
      "------------Thanks----------------\n"
     ]
    }
   ],
   "source": [
    "# if file found then 1. Do you want to overwrite in this file.\n",
    "# other 2. read content of this file.\n",
    "# \n",
    "# if no then 3. Do you want to create New file.\n",
    "# file write in new file.\n",
    "class FileOpenCode:\n",
    "    def __init__(self):\n",
    "        self.drive = \"C:\\\\Users\\\\Admin\\\\Downloads\\\\\"\n",
    "        self.file_name = \"\"\n",
    "\n",
    "    def write_file(self):\n",
    "        x = input(\"Enter the file name: \")\n",
    "        x=x+'.txt'\n",
    "        self.file_name = self.drive + x\n",
    "        content = input(\"Enter the content to write to the file: \")\n",
    "        with open(self.file_name, \"w\") as file:\n",
    "            file.write(content)\n",
    "            print(\"File written successfully!\")\n",
    "\n",
    "\n",
    "    def details(self):\n",
    "        print(\"\"\"\n",
    "        \\n-------------------------------------------\n",
    "        \\nWhat do you want to perform:\n",
    "        1.Write in File\n",
    "        2.Exit\n",
    "        \\n-------------------------------------------\n",
    "        \"\"\")\n",
    "        while True:\n",
    "                try:\n",
    "                    print(\"[1.Write/2.Exit]\")\n",
    "                    print(\"\\n\")\n",
    "                    option = int(input('Choose any option from above list: '))\n",
    "                    \n",
    "                except ValueError:\n",
    "                    print('Error: Enter a correct option.')\n",
    "                    continue\n",
    "                else:\n",
    "                    if option == 1:\n",
    "                        print(\"-----------------------------------------\\n\")\n",
    "                        print(\"WriteFile\")\n",
    "                        self.write_file()\n",
    "                    elif option==2:\n",
    "                        print('------------Thanks----------------')\n",
    "                        break\n",
    "    \n",
    "FileOpenCode().details()"
   ]
  },
  {
   "cell_type": "code",
   "execution_count": null,
   "id": "b34a10ce-bb2a-416d-8940-35f22e9a0c4c",
   "metadata": {},
   "outputs": [],
   "source": []
  }
 ],
 "metadata": {
  "kernelspec": {
   "display_name": "Python 3 (ipykernel)",
   "language": "python",
   "name": "python3"
  },
  "language_info": {
   "codemirror_mode": {
    "name": "ipython",
    "version": 3
   },
   "file_extension": ".py",
   "mimetype": "text/x-python",
   "name": "python",
   "nbconvert_exporter": "python",
   "pygments_lexer": "ipython3",
   "version": "3.12.2"
  }
 },
 "nbformat": 4,
 "nbformat_minor": 5
}
