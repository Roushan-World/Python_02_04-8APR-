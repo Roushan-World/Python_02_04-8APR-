{
 "cells": [
  {
   "cell_type": "markdown",
   "id": "2e05b583-fb97-47a1-a103-2d97287139db",
   "metadata": {},
   "source": [
    "# 5. Sets in Python\n",
    "\n",
    " * __Set is one of the 4 built-in data types in Python used to store collections of data including List, Tuples, and Dictionary.__\n",
    " * __Sets are unordered, but you can remove items and add new items.__\n",
    " * __Set elements are unique. Duplicate elements are not allowed.__\n",
    " * __A set itself may be modified, but the elements  contained in the set must be an immutable data type.__\n",
    " * __Sets are used to store multiple items in a single variable.__\n",
    " * __You can denote a set with a pair of curly brackes.__"
   ]
  },
  {
   "cell_type": "code",
   "execution_count": 1,
   "id": "d6083a1b-9756-465a-ab8f-a718295e20cd",
   "metadata": {},
   "outputs": [
    {
     "name": "stdout",
     "output_type": "stream",
     "text": [
      "{}\n"
     ]
    }
   ],
   "source": [
    "x={}    # creating empty set\n",
    "\n",
    "print(x)"
   ]
  },
  {
   "cell_type": "code",
   "execution_count": 2,
   "id": "13303f38-94bf-4e0f-a50b-e6cc36b1fc8d",
   "metadata": {},
   "outputs": [
    {
     "name": "stdout",
     "output_type": "stream",
     "text": [
      "<class 'dict'>\n"
     ]
    }
   ],
   "source": [
    "print(type(x))"
   ]
  },
  {
   "cell_type": "code",
   "execution_count": 3,
   "id": "cdf398e1-1683-43e9-9f82-db613127c554",
   "metadata": {},
   "outputs": [
    {
     "name": "stdout",
     "output_type": "stream",
     "text": [
      "set()\n",
      "<class 'set'>\n"
     ]
    }
   ],
   "source": [
    "# empty set\n",
    "\n",
    "y=set()    #set function\n",
    "print(y)\n",
    "print(type(y))\n"
   ]
  },
  {
   "cell_type": "code",
   "execution_count": 4,
   "id": "eb70488d-af32-44d5-b5e3-b812afac88dd",
   "metadata": {},
   "outputs": [
    {
     "data": {
      "text/plain": [
       "{1.618, 2024, 3.14, False, 'Hello world', True}"
      ]
     },
     "execution_count": 4,
     "metadata": {},
     "output_type": "execute_result"
    }
   ],
   "source": [
    "set1={'Hello world',3.14,1.618,'Hello world',3.14,1.618,True,False,2024}\n",
    "set1"
   ]
  },
  {
   "cell_type": "code",
   "execution_count": 6,
   "id": "596f45df-6f94-424e-9759-755c13466a8c",
   "metadata": {},
   "outputs": [
    {
     "name": "stdout",
     "output_type": "stream",
     "text": [
      "['Hello world', 3.14, 1.618, 'Hello world', 3.14, 1.618, True, False, 2024]\n",
      "<class 'list'>\n",
      "{False, 1.618, True, 3.14, 2024, 'Hello world'}\n",
      "<class 'set'>\n"
     ]
    }
   ],
   "source": [
    "# union\n",
    "# converting list to set\n",
    "\n",
    "# A list can convert to a set easlily\n",
    "# take a list\n",
    "nlis=['Hello world',3.14,1.618,'Hello world',3.14,1.618,True,False,2024]\n",
    "print(nlis)\n",
    "print(type(nlis))\n",
    "\n",
    "\n",
    "# converting to a set\n",
    "set1=set(nlis)\n",
    "print(set1)\n",
    "print(type(set1))"
   ]
  },
  {
   "cell_type": "markdown",
   "id": "6f485cfe-2438-4a88-ba43-950f1f557468",
   "metadata": {},
   "source": [
    "# add() function\n",
    "\n",
    " * __To add an element into a set, we use the function add(). if the same element is added to the set, nothing will happend beacuase the set accepts no duplicates.__"
   ]
  },
  {
   "cell_type": "code",
   "execution_count": 11,
   "id": "3cf785d7-71de-44d1-aa96-b6cd7a004aa2",
   "metadata": {},
   "outputs": [
    {
     "name": "stdout",
     "output_type": "stream",
     "text": [
      "{False, 1.618, True, 3.14, 2024, 'Hello world'}\n",
      "{False, 1.618, True, 3.14, 2024, 'Sahil', 'Hello world'}\n",
      "{False, 1.618, True, 3.14, 2024, 'Mukul', 'Sahil', 'Hello world'}\n"
     ]
    }
   ],
   "source": [
    "# Addition of an element to the set.\n",
    "\n",
    "set3= set(['Hello world', 3.14, 1.618, 'Hello world', 3.14, 1.618, True, False, 2024])\n",
    "print(set3)\n",
    "\n",
    "set3.add('Sahil')\n",
    "print(set3)\n",
    "\n",
    "set3.add('Mukul')\n",
    "print(set3)"
   ]
  },
  {
   "cell_type": "markdown",
   "id": "c9226ab3-8892-4759-806d-efc732296feb",
   "metadata": {},
   "source": [
    "# Update() function\n",
    "\n",
    " * __To add multiple elements into the set__"
   ]
  },
  {
   "cell_type": "code",
   "execution_count": 12,
   "id": "809125aa-0bf0-4e3a-9d89-d48fba4afad5",
   "metadata": {},
   "outputs": [
    {
     "name": "stdout",
     "output_type": "stream",
     "text": [
      "{False, 1.618, True, 3.14, 2024, 'Mukul', 'Sahil', 'Hello world'}\n"
     ]
    }
   ],
   "source": [
    "x_set={6,7,8,9,10}\n",
    "print(set3)"
   ]
  },
  {
   "cell_type": "code",
   "execution_count": 13,
   "id": "9f9ec009-b08a-44fa-8ea8-82f8bc0454fd",
   "metadata": {},
   "outputs": [
    {
     "name": "stdout",
     "output_type": "stream",
     "text": [
      "{False, 1.618, True, 3.14, 6, 7, 2024, 'Mukul', 8, 9, 'Sahil', 10, 'Hello world'}\n"
     ]
    }
   ],
   "source": [
    "set3.update(x_set)\n",
    "print(set3)"
   ]
  },
  {
   "cell_type": "markdown",
   "id": "5bace40a-acec-4f63-b7dc-170603d3128c",
   "metadata": {},
   "source": [
    "# remove() functions\n",
    "\n",
    " * __To remove an element from the set__"
   ]
  },
  {
   "cell_type": "code",
   "execution_count": 15,
   "id": "3a4b35b5-5e9c-4a2b-a624-0f30a7e2a521",
   "metadata": {},
   "outputs": [],
   "source": [
    "set3.remove(10)"
   ]
  },
  {
   "cell_type": "code",
   "execution_count": 16,
   "id": "0b21879e-eddb-4666-a327-fe21d749302c",
   "metadata": {},
   "outputs": [
    {
     "data": {
      "text/plain": [
       "{1.618, 2024, 3.14, 6, 7, 8, 9, False, 'Hello world', 'Mukul', 'Sahil', True}"
      ]
     },
     "execution_count": 16,
     "metadata": {},
     "output_type": "execute_result"
    }
   ],
   "source": [
    "set3"
   ]
  },
  {
   "cell_type": "code",
   "execution_count": 17,
   "id": "3d09da8b-208d-422c-9ada-8bcef9305f4b",
   "metadata": {},
   "outputs": [
    {
     "data": {
      "text/plain": [
       "{1.618, 2024, 6, 7, 8, 9, False, 'Hello world', 'Mukul', 'Sahil', True}"
      ]
     },
     "execution_count": 17,
     "metadata": {},
     "output_type": "execute_result"
    }
   ],
   "source": [
    "set3.remove(3.14)\n",
    "set3"
   ]
  },
  {
   "cell_type": "code",
   "execution_count": 18,
   "id": "abc1d6ec-7586-4921-8b2a-f7dcff43e644",
   "metadata": {},
   "outputs": [
    {
     "ename": "KeyError",
     "evalue": "'Ram Navmi'",
     "output_type": "error",
     "traceback": [
      "\u001b[1;31m---------------------------------------------------------------------------\u001b[0m",
      "\u001b[1;31mKeyError\u001b[0m                                  Traceback (most recent call last)",
      "Cell \u001b[1;32mIn[18], line 1\u001b[0m\n\u001b[1;32m----> 1\u001b[0m \u001b[43mset3\u001b[49m\u001b[38;5;241;43m.\u001b[39;49m\u001b[43mremove\u001b[49m\u001b[43m(\u001b[49m\u001b[38;5;124;43m'\u001b[39;49m\u001b[38;5;124;43mRam Navmi\u001b[39;49m\u001b[38;5;124;43m'\u001b[39;49m\u001b[43m)\u001b[49m\n\u001b[0;32m      2\u001b[0m set3\n",
      "\u001b[1;31mKeyError\u001b[0m: 'Ram Navmi'"
     ]
    }
   ],
   "source": [
    "set3.remove('Ram Navmi')\n",
    "set3"
   ]
  },
  {
   "cell_type": "markdown",
   "id": "855a223b-a880-44e7-bb44-1664badfff23",
   "metadata": {},
   "source": [
    "# discard() function\n",
    "\n",
    " * __It leaves the set unchanged if the element to be deleted is not available in thet.__"
   ]
  },
  {
   "cell_type": "code",
   "execution_count": 20,
   "id": "93cd4ad5-2895-42cd-ac8e-e012be749f45",
   "metadata": {},
   "outputs": [
    {
     "data": {
      "text/plain": [
       "{1.618, 2024, 6, 7, 8, 9, False, 'Hello world', 'Mukul', 'Sahil', True}"
      ]
     },
     "execution_count": 20,
     "metadata": {},
     "output_type": "execute_result"
    }
   ],
   "source": [
    "set3.discard('Ram Navmi')\n",
    "set3"
   ]
  },
  {
   "cell_type": "code",
   "execution_count": 21,
   "id": "e4686374-e566-403f-ae2b-adfc402ec257",
   "metadata": {},
   "outputs": [
    {
     "data": {
      "text/plain": [
       "{1.618, 2024, 6, 7, 8, 9, False, 'Hello world', 'Mukul', 'Sahil', True}"
      ]
     },
     "execution_count": 21,
     "metadata": {},
     "output_type": "execute_result"
    }
   ],
   "source": [
    "set3.discard('Today')\n",
    "set3"
   ]
  },
  {
   "cell_type": "code",
   "execution_count": 22,
   "id": "94ad3e97-558c-40fa-83c2-d42170b44361",
   "metadata": {},
   "outputs": [
    {
     "data": {
      "text/plain": [
       "{1.618, 2024, 6, 7, 8, 9, False, 'Mukul', 'Sahil', True}"
      ]
     },
     "execution_count": 22,
     "metadata": {},
     "output_type": "execute_result"
    }
   ],
   "source": [
    "set3.discard('Hello world')\n",
    "set3"
   ]
  },
  {
   "cell_type": "code",
   "execution_count": 23,
   "id": "ae4cf41e-0128-41d7-966e-8019efc95e82",
   "metadata": {},
   "outputs": [
    {
     "name": "stdout",
     "output_type": "stream",
     "text": [
      "{1.618, 3.14, 'Hello Python', 'Hello world'} {False, 1.618, True, 3.14, 20, 10}\n"
     ]
    }
   ],
   "source": [
    "# Logic operations in set\n",
    "\n",
    "# Take two sets\n",
    "\n",
    "\n",
    "set4=set(['Hello Python',3.14,1.618,'Hello world'])  # with functions\n",
    "set5={3.14,1.618,10,20,True,False}   # without function \n",
    "\n",
    "print(set4,set5)\n",
    "\n"
   ]
  },
  {
   "cell_type": "code",
   "execution_count": 24,
   "id": "0b6986c7-5bda-4ec9-a4a8-80e8eb09a4f1",
   "metadata": {},
   "outputs": [
    {
     "name": "stdout",
     "output_type": "stream",
     "text": [
      "{1.618, 3.14, 'Hello Python', 'Hello world'}\n",
      "{False, 1.618, True, 3.14, 20, 10}\n"
     ]
    }
   ],
   "source": [
    "print(set4)\n",
    "print(set5)"
   ]
  },
  {
   "cell_type": "code",
   "execution_count": 25,
   "id": "4f1982de-c1cc-4d98-a09f-6af940d50e7f",
   "metadata": {},
   "outputs": [
    {
     "data": {
      "text/plain": [
       "{1.618, 10, 20, 3.14, False, 'Hello Python', 'Hello world', True}"
      ]
     },
     "execution_count": 25,
     "metadata": {},
     "output_type": "execute_result"
    }
   ],
   "source": [
    "set4.union(set5)"
   ]
  },
  {
   "cell_type": "markdown",
   "id": "e4ea6038-f0e0-4d1c-adf9-a35b094212a4",
   "metadata": {},
   "source": [
    "# To find the insect of two sets using & ampersend  (&)"
   ]
  },
  {
   "cell_type": "code",
   "execution_count": 27,
   "id": "5e1e5e37-ad44-48eb-98e3-7385216bc14c",
   "metadata": {},
   "outputs": [
    {
     "data": {
      "text/plain": [
       "{1.618, 3.14}"
      ]
     },
     "execution_count": 27,
     "metadata": {},
     "output_type": "execute_result"
    }
   ],
   "source": [
    "intersect=set4&set5\n",
    "intersect"
   ]
  },
  {
   "cell_type": "code",
   "execution_count": 29,
   "id": "8c62bd9a-6599-4049-9897-39f757a68b6c",
   "metadata": {},
   "outputs": [
    {
     "name": "stdout",
     "output_type": "stream",
     "text": [
      "{1.618, 3.14}\n"
     ]
    }
   ],
   "source": [
    "# another method to find intersection\n",
    "x=set4.intersection(set5)\n",
    "print(x)"
   ]
  },
  {
   "cell_type": "markdown",
   "id": "7ede1758-6573-47aa-994d-eafd165d99a7",
   "metadata": {},
   "source": [
    "# difference() functions\n",
    "\n",
    " * __To find the difference between two set__\n"
   ]
  },
  {
   "cell_type": "code",
   "execution_count": 31,
   "id": "371a6151-b900-4191-8ea4-8080a05976c1",
   "metadata": {},
   "outputs": [
    {
     "name": "stdout",
     "output_type": "stream",
     "text": [
      "{1.618, 3.14, 'Hello Python', 'Hello world'}\n",
      "{False, 1.618, True, 3.14, 20, 10}\n"
     ]
    }
   ],
   "source": [
    "print(set4) # it is set a\n",
    "print(set5)  # it is set b"
   ]
  },
  {
   "cell_type": "code",
   "execution_count": 34,
   "id": "4a8c7cbf-e472-45bb-9a16-f82fe749ce4d",
   "metadata": {},
   "outputs": [
    {
     "name": "stdout",
     "output_type": "stream",
     "text": [
      "{'Hello world', 'Hello Python'}\n",
      "{False, True, 10, 20}\n"
     ]
    }
   ],
   "source": [
    "# (A-B) (B-A)\n",
    "\n",
    "print(set4.difference(set5))   # a-b\n",
    "print(set5.difference(set4))"
   ]
  },
  {
   "cell_type": "code",
   "execution_count": 35,
   "id": "e2fa59bf-86b3-4d62-b95a-10f621126695",
   "metadata": {},
   "outputs": [
    {
     "name": "stdout",
     "output_type": "stream",
     "text": [
      "{1.618, 3.14, 'Hello Python', 'Hello world'}\n",
      "{False, 1.618, True, 3.14, 20, 10}\n"
     ]
    }
   ],
   "source": [
    "# Symettric Difference\n",
    "\n",
    "print(set4)\n",
    "print(set5)"
   ]
  },
  {
   "cell_type": "code",
   "execution_count": 36,
   "id": "d9d6926d-8824-4361-b0c5-ed093599e2ec",
   "metadata": {},
   "outputs": [
    {
     "data": {
      "text/plain": [
       "{10, 20, False, 'Hello Python', 'Hello world', True}"
      ]
     },
     "execution_count": 36,
     "metadata": {},
     "output_type": "execute_result"
    }
   ],
   "source": [
    "set4.symmetric_difference(set5)"
   ]
  },
  {
   "cell_type": "code",
   "execution_count": 40,
   "id": "96e7dbb2-981a-4edf-ade6-7698ec2b1814",
   "metadata": {},
   "outputs": [
    {
     "name": "stdout",
     "output_type": "stream",
     "text": [
      "60\n",
      "10\n",
      "Sum: 210\n",
      "Average: 35.0\n"
     ]
    }
   ],
   "source": [
    "# Aggrigate() function\n",
    "\n",
    "# min(),max(), sum(),average() functions\n",
    "\n",
    "set5={10,20,30,40,50,60}\n",
    "\n",
    "print(max(set5))\n",
    "print(min(set5))\n",
    "print('Sum:',sum(set5))\n",
    "print('Average:',sum(set5)/len(set5))"
   ]
  },
  {
   "cell_type": "markdown",
   "id": "1b3a94ea-06d8-41cf-ae1c-bf62faebc944",
   "metadata": {},
   "source": [
    "# No mutable sequence in a set\n",
    "\n",
    " * __A set can not have mutable elements such as list or diciton in it. If any, it returns an Error as follows:__\n"
   ]
  },
  {
   "cell_type": "code",
   "execution_count": 42,
   "id": "2a3269a5-7247-4c6c-aad2-c3906dda42ad",
   "metadata": {},
   "outputs": [
    {
     "ename": "TypeError",
     "evalue": "unhashable type: 'list'",
     "output_type": "error",
     "traceback": [
      "\u001b[1;31m---------------------------------------------------------------------------\u001b[0m",
      "\u001b[1;31mTypeError\u001b[0m                                 Traceback (most recent call last)",
      "Cell \u001b[1;32mIn[42], line 1\u001b[0m\n\u001b[1;32m----> 1\u001b[0m set6\u001b[38;5;241m=\u001b[39m{\u001b[38;5;124m'\u001b[39m\u001b[38;5;124mPython\u001b[39m\u001b[38;5;124m'\u001b[39m,\u001b[38;5;241m3.14\u001b[39m,[\u001b[38;5;241m10\u001b[39m,\u001b[38;5;241m20\u001b[39m]}\n\u001b[0;32m      2\u001b[0m set6\n",
      "\u001b[1;31mTypeError\u001b[0m: unhashable type: 'list'"
     ]
    }
   ],
   "source": [
    "set6={'Python',3.14,[10,20]}\n",
    "set6"
   ]
  },
  {
   "cell_type": "code",
   "execution_count": 43,
   "id": "2763a66a-3247-44ca-8112-fc7fc92382c2",
   "metadata": {},
   "outputs": [
    {
     "data": {
      "text/plain": [
       "{(10, 20), 3.14, 'Python'}"
      ]
     },
     "execution_count": 43,
     "metadata": {},
     "output_type": "execute_result"
    }
   ],
   "source": [
    "set6={'Python',3.14,(10,20)}\n",
    "set6"
   ]
  },
  {
   "cell_type": "markdown",
   "id": "83c1b606-550b-46a0-bcae-5a0332781ace",
   "metadata": {},
   "source": [
    "# Index() function\n",
    " * __This function does not work in set since the set is unordered collections.__"
   ]
  },
  {
   "cell_type": "code",
   "execution_count": 44,
   "id": "063f3bf6-0b86-42c2-a172-a1f497863c7d",
   "metadata": {},
   "outputs": [
    {
     "ename": "TypeError",
     "evalue": "'set' object is not subscriptable",
     "output_type": "error",
     "traceback": [
      "\u001b[1;31m---------------------------------------------------------------------------\u001b[0m",
      "\u001b[1;31mTypeError\u001b[0m                                 Traceback (most recent call last)",
      "Cell \u001b[1;32mIn[44], line 2\u001b[0m\n\u001b[0;32m      1\u001b[0m set7\u001b[38;5;241m=\u001b[39m{\u001b[38;5;241m1\u001b[39m,\u001b[38;5;241m2\u001b[39m,\u001b[38;5;241m3\u001b[39m,\u001b[38;5;241m4\u001b[39m}\n\u001b[1;32m----> 2\u001b[0m \u001b[43mset7\u001b[49m\u001b[43m[\u001b[49m\u001b[38;5;241;43m0\u001b[39;49m\u001b[43m]\u001b[49m\n",
      "\u001b[1;31mTypeError\u001b[0m: 'set' object is not subscriptable"
     ]
    }
   ],
   "source": [
    "set7={1,2,3,4}\n",
    "set7[0]"
   ]
  },
  {
   "cell_type": "code",
   "execution_count": 48,
   "id": "a7a227c3-6433-4cd0-89b3-f1851fd89ccb",
   "metadata": {},
   "outputs": [
    {
     "name": "stdout",
     "output_type": "stream",
     "text": [
      "Original Set: {50, 20, 10, 60, 30}\n",
      "Copied Set: {50, 20, 10, 60, 30}\n",
      "{50, 20, 'Mukul', 10, 60, 30}\n",
      "{50, 20, 'Mukul', 10, 60, 30}\n"
     ]
    }
   ],
   "source": [
    "# copy set\n",
    "\n",
    "# Deep copy() or swallow copy\n",
    "\n",
    "# Deep copy\n",
    "set8={10,20,30,50,60}\n",
    "print('Original Set:',set8)\n",
    "x_copy=set8\n",
    "print('Copied Set:',x_copy)\n",
    "\n",
    "# adding element into set\n",
    "x_copy.add('Mukul')\n",
    "print(x_copy)\n",
    "\n",
    "print(set8)"
   ]
  },
  {
   "cell_type": "code",
   "execution_count": 51,
   "id": "ede86a0c-5dea-4cab-9d24-69d73a222531",
   "metadata": {},
   "outputs": [
    {
     "name": "stdout",
     "output_type": "stream",
     "text": [
      "Original Set {1, 2, 3, 4}\n",
      "Copied Set: {1, 2, 3, 4}\n",
      "Added elemet: {1, 2, 3, 4, 'Sahil'}\n",
      "Original Set {1, 2, 3, 4}\n"
     ]
    }
   ],
   "source": [
    "# Swallow copy\n",
    "\n",
    "x_set={1,2,3,4}\n",
    "\n",
    "x_copied=x_set.copy()\n",
    "print('Original Set',x_set)\n",
    "print('Copied Set:',x_copied)\n",
    "\n",
    "# Adding element in x_copied\n",
    "\n",
    "x_copied.add('Sahil')\n",
    "print('Added elemet:',x_copied)\n",
    "\n",
    "print('Original Set',x_set)"
   ]
  },
  {
   "cell_type": "markdown",
   "id": "a399fe5a-c719-4e45-b78e-a35976749bfd",
   "metadata": {},
   "source": [
    "# clear() function\n",
    "\n",
    " * __It removes all elements in the set and then do the set empty.__"
   ]
  },
  {
   "cell_type": "code",
   "execution_count": 52,
   "id": "1da1b20e-f0e7-43f8-abc1-11e018e97fd9",
   "metadata": {},
   "outputs": [
    {
     "name": "stdout",
     "output_type": "stream",
     "text": [
      "{1, 2, 3, 4, 5}\n"
     ]
    }
   ],
   "source": [
    "x_set1={1,2,3,4,5}\n",
    "print(x_set1)"
   ]
  },
  {
   "cell_type": "code",
   "execution_count": 53,
   "id": "3d7370f7-d9ef-4f7c-b391-890591dfed33",
   "metadata": {},
   "outputs": [
    {
     "name": "stdout",
     "output_type": "stream",
     "text": [
      "set()\n"
     ]
    }
   ],
   "source": [
    "# clear set\n",
    "\n",
    "x_set1.clear()\n",
    "\n",
    "print(x_set1)"
   ]
  },
  {
   "cell_type": "markdown",
   "id": "86da6654-5d28-4d63-b846-80de9361b269",
   "metadata": {},
   "source": [
    "# pop() functions\n",
    "\n",
    " * __It removes and returns an arbitray set element.__"
   ]
  },
  {
   "cell_type": "code",
   "execution_count": 54,
   "id": "9a268085-16d1-4111-a1f8-a6b046a92a56",
   "metadata": {},
   "outputs": [
    {
     "name": "stdout",
     "output_type": "stream",
     "text": [
      "{0, 1, 2, 3, 4, 5, 6, 7, 8, 9}\n"
     ]
    }
   ],
   "source": [
    "x={0,1,2,3,4,5,6,7,8,9}\n",
    "print(x)"
   ]
  },
  {
   "cell_type": "code",
   "execution_count": 55,
   "id": "b4115ec6-7e8d-4e11-bb90-212004f516ae",
   "metadata": {},
   "outputs": [
    {
     "data": {
      "text/plain": [
       "0"
      ]
     },
     "execution_count": 55,
     "metadata": {},
     "output_type": "execute_result"
    }
   ],
   "source": [
    "x.pop()"
   ]
  },
  {
   "cell_type": "code",
   "execution_count": 56,
   "id": "121a052c-3c80-4b31-a483-55ae4fdae5c1",
   "metadata": {},
   "outputs": [
    {
     "data": {
      "text/plain": [
       "{1, 2, 3, 4, 5, 6, 7, 8, 9}"
      ]
     },
     "execution_count": 56,
     "metadata": {},
     "output_type": "execute_result"
    }
   ],
   "source": [
    "x"
   ]
  },
  {
   "cell_type": "code",
   "execution_count": null,
   "id": "0c1de6ec-539d-431c-95e2-34e0b1e08099",
   "metadata": {},
   "outputs": [],
   "source": []
  }
 ],
 "metadata": {
  "kernelspec": {
   "display_name": "Python 3 (ipykernel)",
   "language": "python",
   "name": "python3"
  },
  "language_info": {
   "codemirror_mode": {
    "name": "ipython",
    "version": 3
   },
   "file_extension": ".py",
   "mimetype": "text/x-python",
   "name": "python",
   "nbconvert_exporter": "python",
   "pygments_lexer": "ipython3",
   "version": "3.12.2"
  }
 },
 "nbformat": 4,
 "nbformat_minor": 5
}
