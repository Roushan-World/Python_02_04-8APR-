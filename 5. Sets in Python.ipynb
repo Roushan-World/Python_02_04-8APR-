{
 "cells": [
  {
   "cell_type": "markdown",
   "id": "2e05b583-fb97-47a1-a103-2d97287139db",
   "metadata": {},
   "source": [
    "# 5. Sets in Python\n",
    "\n",
    " * __Set is one of the 4 built-in data types in Python used to store collections of data including List, Tuples, and Dictionary.__\n",
    " * __Sets are unordered, but you can remove items and add new items.__\n",
    " * __Set elements are unique. Duplicate elements are not allowed.__\n",
    " * __A set itself may be modified, but the elements  contained in the set must be an immutable data type.__\n",
    " * __Sets are used to store multiple items in a single variable.__\n",
    " * __You can denote a set with a pair of curly brackes.__"
   ]
  },
  {
   "cell_type": "code",
   "execution_count": null,
   "id": "d6083a1b-9756-465a-ab8f-a718295e20cd",
   "metadata": {},
   "outputs": [],
   "source": []
  }
 ],
 "metadata": {
  "kernelspec": {
   "display_name": "Python 3 (ipykernel)",
   "language": "python",
   "name": "python3"
  },
  "language_info": {
   "codemirror_mode": {
    "name": "ipython",
    "version": 3
   },
   "file_extension": ".py",
   "mimetype": "text/x-python",
   "name": "python",
   "nbconvert_exporter": "python",
   "pygments_lexer": "ipython3",
   "version": "3.12.2"
  }
 },
 "nbformat": 4,
 "nbformat_minor": 5
}
