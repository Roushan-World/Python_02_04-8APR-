{
 "cells": [
  {
   "cell_type": "markdown",
   "id": "71212e00-ffb1-49f3-a327-1bd965a47abb",
   "metadata": {},
   "source": [
    "# 3. Lists in Python\n",
    "\n",
    " * __Lists are ordered.__\n",
    " * __Lists can contain any arbitrary objects.__\n",
    " * __Lists elements can be accessed by index.__\n",
    " * __Lists can be nested to any arbitray depth.__\n",
    " * __Lists are mutable.__\n",
    " * __Lists are dynamic.__"
   ]
  },
  {
   "cell_type": "code",
   "execution_count": 5,
   "id": "8d79d89d-cb3c-47af-adf7-248cf67b13f9",
   "metadata": {},
   "outputs": [
    {
     "name": "stdout",
     "output_type": "stream",
     "text": [
      "['Hello world', 100, 3.14, True, False]\n",
      "<class 'list'>\n"
     ]
    }
   ],
   "source": [
    "# mutable: anything which you want to add,delete and update.\n",
    "\n",
    "x=['Hello world',100,3.14,True,False]\n",
    "print(x)\n",
    "print(type(x))"
   ]
  },
  {
   "cell_type": "code",
   "execution_count": 6,
   "id": "a8cc9a1b-e7c4-422c-88e8-d6366e5607b8",
   "metadata": {},
   "outputs": [
    {
     "name": "stdout",
     "output_type": "stream",
     "text": [
      "Hello world\n"
     ]
    }
   ],
   "source": [
    "# index value \n",
    "\n",
    "print(x[0])"
   ]
  },
  {
   "cell_type": "code",
   "execution_count": 7,
   "id": "10b640c5-b2c2-411e-8011-fbe2d6b646d8",
   "metadata": {},
   "outputs": [
    {
     "name": "stdout",
     "output_type": "stream",
     "text": [
      "100\n"
     ]
    }
   ],
   "source": [
    "print(x[1])"
   ]
  },
  {
   "cell_type": "code",
   "execution_count": 8,
   "id": "f1b7999b-4bcc-4511-9cd4-a085f958acbc",
   "metadata": {},
   "outputs": [
    {
     "name": "stdout",
     "output_type": "stream",
     "text": [
      "3.14\n"
     ]
    }
   ],
   "source": [
    "print(x[2])"
   ]
  },
  {
   "cell_type": "code",
   "execution_count": 9,
   "id": "9585806d-4195-4630-9bb2-0acade709e29",
   "metadata": {},
   "outputs": [
    {
     "name": "stdout",
     "output_type": "stream",
     "text": [
      "True\n"
     ]
    }
   ],
   "source": [
    "print(x[3])"
   ]
  },
  {
   "cell_type": "code",
   "execution_count": 10,
   "id": "891c459e-1765-4f69-af07-ff61691fdb72",
   "metadata": {},
   "outputs": [
    {
     "name": "stdout",
     "output_type": "stream",
     "text": [
      "False\n"
     ]
    }
   ],
   "source": [
    "print(x[4])"
   ]
  },
  {
   "cell_type": "code",
   "execution_count": 11,
   "id": "7b1e4054-71b8-4e5b-a249-a68972b159a8",
   "metadata": {},
   "outputs": [
    {
     "ename": "IndexError",
     "evalue": "list index out of range",
     "output_type": "error",
     "traceback": [
      "\u001b[1;31m---------------------------------------------------------------------------\u001b[0m",
      "\u001b[1;31mIndexError\u001b[0m                                Traceback (most recent call last)",
      "Cell \u001b[1;32mIn[11], line 1\u001b[0m\n\u001b[1;32m----> 1\u001b[0m \u001b[38;5;28mprint\u001b[39m(\u001b[43mx\u001b[49m\u001b[43m[\u001b[49m\u001b[38;5;241;43m5\u001b[39;49m\u001b[43m]\u001b[49m)\n",
      "\u001b[1;31mIndexError\u001b[0m: list index out of range"
     ]
    }
   ],
   "source": [
    "print(x[5])"
   ]
  },
  {
   "cell_type": "code",
   "execution_count": 12,
   "id": "3d5cffc9-b852-4d8f-b100-3d771bf944b1",
   "metadata": {},
   "outputs": [
    {
     "name": "stdout",
     "output_type": "stream",
     "text": [
      "['Hello world', 100, 3.14, True, False]\n",
      "<class 'list'>\n"
     ]
    }
   ],
   "source": [
    "x=['Hello world',100,3.14,True,False]\n",
    "print(x)\n",
    "print(type(x))"
   ]
  },
  {
   "cell_type": "code",
   "execution_count": 14,
   "id": "b7bda982-82a8-422c-86a1-437e374d8655",
   "metadata": {},
   "outputs": [
    {
     "name": "stdout",
     "output_type": "stream",
     "text": [
      "[True, False]\n"
     ]
    }
   ],
   "source": [
    "# string slicing\n",
    "print(x[3:5])"
   ]
  },
  {
   "cell_type": "code",
   "execution_count": 16,
   "id": "e9e3838d-8956-4e47-b41d-c1dc4251d6eb",
   "metadata": {},
   "outputs": [
    {
     "name": "stdout",
     "output_type": "stream",
     "text": [
      "[100, 3.14]\n"
     ]
    }
   ],
   "source": [
    "print(x[1:3])"
   ]
  },
  {
   "cell_type": "code",
   "execution_count": 19,
   "id": "f53b2cd4-81ca-47d2-9b95-faa57d07b353",
   "metadata": {},
   "outputs": [
    {
     "name": "stdout",
     "output_type": "stream",
     "text": [
      "['Hello world', 3.14]\n"
     ]
    }
   ],
   "source": [
    "print(x[0:3:2])"
   ]
  },
  {
   "cell_type": "code",
   "execution_count": 20,
   "id": "e8b3f895-cfeb-450a-8623-9cfc94c63627",
   "metadata": {},
   "outputs": [
    {
     "name": "stdout",
     "output_type": "stream",
     "text": [
      "['Hello world', 100, 3.14, True, False]\n",
      "<class 'list'>\n"
     ]
    }
   ],
   "source": [
    "x=['Hello world',100,3.14,True,False]\n",
    "print(x)\n",
    "print(type(x))"
   ]
  },
  {
   "cell_type": "code",
   "execution_count": 23,
   "id": "b7f871b6-d464-4ede-ab39-03513abfceea",
   "metadata": {},
   "outputs": [
    {
     "name": "stdout",
     "output_type": "stream",
     "text": [
      "['Hello world', True]\n"
     ]
    }
   ],
   "source": [
    "print(x[0:5:3])"
   ]
  },
  {
   "cell_type": "code",
   "execution_count": 24,
   "id": "74c29e8a-9b8f-4980-a8d1-26d98dc437de",
   "metadata": {},
   "outputs": [
    {
     "data": {
      "text/plain": [
       "['Hello world', 100, 3.14, True, False]"
      ]
     },
     "execution_count": 24,
     "metadata": {},
     "output_type": "execute_result"
    }
   ],
   "source": [
    "x"
   ]
  },
  {
   "cell_type": "code",
   "execution_count": 25,
   "id": "dc01b597-da46-43ec-816d-da75a1d7b4b4",
   "metadata": {},
   "outputs": [
    {
     "name": "stdout",
     "output_type": "stream",
     "text": [
      "[False, True, 3.14, 100, 'Hello world']\n"
     ]
    }
   ],
   "source": [
    "# how to reverse string\n",
    "print(x[::-1])"
   ]
  },
  {
   "cell_type": "code",
   "execution_count": 26,
   "id": "066c054e-50d9-4080-8c82-e1eaeb9ec1f0",
   "metadata": {},
   "outputs": [
    {
     "name": "stdout",
     "output_type": "stream",
     "text": [
      "ilajnA\n"
     ]
    }
   ],
   "source": [
    "# \n",
    "name='Anjali'\n",
    "print(name[::-1])"
   ]
  },
  {
   "cell_type": "code",
   "execution_count": 28,
   "id": "e1fce3b8-2d47-4441-8dfa-8b1940c7610f",
   "metadata": {},
   "outputs": [
    {
     "data": {
      "text/plain": [
       "'ilajnA'"
      ]
     },
     "execution_count": 28,
     "metadata": {},
     "output_type": "execute_result"
    }
   ],
   "source": [
    "name[::-1]"
   ]
  },
  {
   "cell_type": "code",
   "execution_count": 33,
   "id": "72b2db9b-35c7-4fa4-987a-52237b7bdaeb",
   "metadata": {},
   "outputs": [
    {
     "name": "stdout",
     "output_type": "stream",
     "text": [
      "?htrae eht no gnivil era elpoep ynam woH dlrow olleH\n",
      "<class 'str'>\n"
     ]
    }
   ],
   "source": [
    "text='Hello world How many people are living on the earth?'\n",
    "print(text[::-1])\n",
    "print(type(text))"
   ]
  },
  {
   "cell_type": "code",
   "execution_count": 34,
   "id": "f5077f0c-9f4b-46b0-aa1c-a38a474326e2",
   "metadata": {},
   "outputs": [
    {
     "name": "stdout",
     "output_type": "stream",
     "text": [
      "['earth', 'the', 'on', 'living', 'are', 'people', 'many', 'How', 'world', 'Hello']\n",
      "<class 'list'>\n"
     ]
    }
   ],
   "source": [
    "lst=['Hello', 'world', 'How', 'many', 'people', 'are' ,'living' ,'on','the','earth']\n",
    "print(lst[::-1])\n",
    "print(type(lst))"
   ]
  },
  {
   "cell_type": "markdown",
   "id": "d19640d3-95c0-4c67-8174-b6ef7d73d0a4",
   "metadata": {},
   "source": [
    "# List method"
   ]
  },
  {
   "cell_type": "code",
   "execution_count": 1,
   "id": "2c4e334e-2111-4e43-9c8c-7ddb81834825",
   "metadata": {},
   "outputs": [
    {
     "data": {
      "text/plain": [
       "[10, 20, 30]"
      ]
     },
     "execution_count": 1,
     "metadata": {},
     "output_type": "execute_result"
    }
   ],
   "source": [
    "x=[10,20,30]\n",
    "x"
   ]
  },
  {
   "cell_type": "code",
   "execution_count": 2,
   "id": "3d94c099-fe8a-4f4a-8384-c08ca08e4bc2",
   "metadata": {},
   "outputs": [
    {
     "name": "stdout",
     "output_type": "stream",
     "text": [
      "<class 'list'>\n"
     ]
    }
   ],
   "source": [
    "print(type(x))"
   ]
  },
  {
   "cell_type": "code",
   "execution_count": 3,
   "id": "7e23d1a9-275e-4808-ba95-bf361bd8c2d9",
   "metadata": {},
   "outputs": [
    {
     "data": {
      "text/plain": [
       "[10, 20, 30]"
      ]
     },
     "execution_count": 3,
     "metadata": {},
     "output_type": "execute_result"
    }
   ],
   "source": [
    "# CRUD ---> C-Create, R-Read, U-update, D-Delete\n",
    "# --------------------------------------------------------------\n",
    "\n",
    "x"
   ]
  },
  {
   "cell_type": "code",
   "execution_count": 4,
   "id": "cb7b8324-db54-4ce7-8b92-d33e1678f554",
   "metadata": {},
   "outputs": [
    {
     "data": {
      "text/plain": [
       "[10, 20, 30]"
      ]
     },
     "execution_count": 4,
     "metadata": {},
     "output_type": "execute_result"
    }
   ],
   "source": [
    "# append -> Append means to add data one by one.\n",
    "x"
   ]
  },
  {
   "cell_type": "code",
   "execution_count": 5,
   "id": "861b21b9-ec5f-464b-96bd-3aaab3e1c2ee",
   "metadata": {},
   "outputs": [],
   "source": [
    "x.append(40)"
   ]
  },
  {
   "cell_type": "code",
   "execution_count": 6,
   "id": "3cbfd2a9-57ed-4cfd-a683-81a065478802",
   "metadata": {},
   "outputs": [
    {
     "data": {
      "text/plain": [
       "[10, 20, 30, 40]"
      ]
     },
     "execution_count": 6,
     "metadata": {},
     "output_type": "execute_result"
    }
   ],
   "source": [
    "x"
   ]
  },
  {
   "cell_type": "code",
   "execution_count": 7,
   "id": "1a934769-f176-4a91-83ee-7bb0e82f5d26",
   "metadata": {},
   "outputs": [],
   "source": [
    "x.append(100)"
   ]
  },
  {
   "cell_type": "code",
   "execution_count": 8,
   "id": "eeecd63b-88bc-4450-8858-bb6fef3ac5f3",
   "metadata": {},
   "outputs": [
    {
     "data": {
      "text/plain": [
       "[10, 20, 30, 40, 100]"
      ]
     },
     "execution_count": 8,
     "metadata": {},
     "output_type": "execute_result"
    }
   ],
   "source": [
    "x"
   ]
  },
  {
   "cell_type": "code",
   "execution_count": 10,
   "id": "0962336a-5a5e-4be9-a837-700cce3c28af",
   "metadata": {},
   "outputs": [],
   "source": [
    "x.append(20)"
   ]
  },
  {
   "cell_type": "code",
   "execution_count": 11,
   "id": "2a38392f-1e5d-423b-95c3-b08172a74525",
   "metadata": {},
   "outputs": [
    {
     "data": {
      "text/plain": [
       "[10, 20, 30, 40, 100, 20]"
      ]
     },
     "execution_count": 11,
     "metadata": {},
     "output_type": "execute_result"
    }
   ],
   "source": [
    "x"
   ]
  },
  {
   "cell_type": "code",
   "execution_count": 12,
   "id": "9b13d40c-a0e9-4917-af4f-bbc4f197c825",
   "metadata": {},
   "outputs": [
    {
     "data": {
      "text/plain": [
       "['Shivam', 'Abhishek']"
      ]
     },
     "execution_count": 12,
     "metadata": {},
     "output_type": "execute_result"
    }
   ],
   "source": [
    "# extend() method   # extend takes multiple arguments.\n",
    "\n",
    "x1=['Shivam','Abhishek']\n",
    "x1"
   ]
  },
  {
   "cell_type": "code",
   "execution_count": 13,
   "id": "33976532-254c-4df1-9639-ea5a92dbc83b",
   "metadata": {},
   "outputs": [
    {
     "name": "stdout",
     "output_type": "stream",
     "text": [
      "<class 'list'>\n"
     ]
    }
   ],
   "source": [
    "print(type(x1))"
   ]
  },
  {
   "cell_type": "code",
   "execution_count": 15,
   "id": "4780bae3-3751-4138-9c0b-f8e6a8b79c18",
   "metadata": {},
   "outputs": [
    {
     "data": {
      "text/plain": [
       "['Shivam', 'Abhishek', 100, 200]"
      ]
     },
     "execution_count": 15,
     "metadata": {},
     "output_type": "execute_result"
    }
   ],
   "source": [
    "x1.extend([100,200])\n",
    "x1"
   ]
  },
  {
   "cell_type": "code",
   "execution_count": 16,
   "id": "610c1149-53a0-4869-91cf-cdb39593a687",
   "metadata": {},
   "outputs": [
    {
     "data": {
      "text/plain": [
       "['Shivam', 'Abhishek', 100, 200, 'Ram', 'Shyam', 'Bharat']"
      ]
     },
     "execution_count": 16,
     "metadata": {},
     "output_type": "execute_result"
    }
   ],
   "source": [
    "x1.extend(['Ram','Shyam','Bharat'])\n",
    "x1"
   ]
  },
  {
   "cell_type": "code",
   "execution_count": 17,
   "id": "783a6d39-365d-4d02-9d8b-d463e03c6448",
   "metadata": {},
   "outputs": [
    {
     "data": {
      "text/plain": [
       "['Shivam', 'Abhishek', 100, 200, 'Ram', 'Shyam', 'Bharat']"
      ]
     },
     "execution_count": 17,
     "metadata": {},
     "output_type": "execute_result"
    }
   ],
   "source": [
    "# insert() insert data into the list.\n",
    "\n",
    "x1"
   ]
  },
  {
   "cell_type": "code",
   "execution_count": 18,
   "id": "0f0986c6-d148-425f-a57c-9ab616884a9c",
   "metadata": {},
   "outputs": [
    {
     "data": {
      "text/plain": [
       "'Shivam'"
      ]
     },
     "execution_count": 18,
     "metadata": {},
     "output_type": "execute_result"
    }
   ],
   "source": [
    "x1[0]"
   ]
  },
  {
   "cell_type": "code",
   "execution_count": 19,
   "id": "204ab241-8b78-47fa-8eb0-4813a07aa748",
   "metadata": {},
   "outputs": [
    {
     "data": {
      "text/plain": [
       "'Abhishek'"
      ]
     },
     "execution_count": 19,
     "metadata": {},
     "output_type": "execute_result"
    }
   ],
   "source": [
    "x1[1]"
   ]
  },
  {
   "cell_type": "code",
   "execution_count": 23,
   "id": "5f1f3c95-6f84-400e-a934-250631074924",
   "metadata": {},
   "outputs": [
    {
     "data": {
      "text/plain": [
       "[300, 300, 'Shivam', 'Abhishek', 100, 200, 'Ram', 'Shyam', 'Bharat']"
      ]
     },
     "execution_count": 23,
     "metadata": {},
     "output_type": "execute_result"
    }
   ],
   "source": [
    "# insert function takes 2 argument at one time(index value,data)\n",
    "\n",
    "x1.insert(0,300)\n",
    "x1"
   ]
  },
  {
   "cell_type": "code",
   "execution_count": 28,
   "id": "8320a374-6f5e-4959-b8c0-2d043e830dbb",
   "metadata": {},
   "outputs": [
    {
     "data": {
      "text/plain": [
       "2"
      ]
     },
     "execution_count": 28,
     "metadata": {},
     "output_type": "execute_result"
    }
   ],
   "source": [
    "x1.index('Shivam')"
   ]
  },
  {
   "cell_type": "code",
   "execution_count": 29,
   "id": "5b1d78b8-3101-44e5-bc45-687530e49c1b",
   "metadata": {},
   "outputs": [
    {
     "data": {
      "text/plain": [
       "3"
      ]
     },
     "execution_count": 29,
     "metadata": {},
     "output_type": "execute_result"
    }
   ],
   "source": [
    "x1.index('Abhishek')"
   ]
  },
  {
   "cell_type": "code",
   "execution_count": 30,
   "id": "7570feea-ad05-4142-b2d9-377e8bac6d89",
   "metadata": {},
   "outputs": [
    {
     "data": {
      "text/plain": [
       "0"
      ]
     },
     "execution_count": 30,
     "metadata": {},
     "output_type": "execute_result"
    }
   ],
   "source": [
    "x1.index(300)"
   ]
  },
  {
   "cell_type": "code",
   "execution_count": 32,
   "id": "3b78cc03-4b8d-45a6-bc06-a16c1f39fe5b",
   "metadata": {},
   "outputs": [
    {
     "data": {
      "text/plain": [
       "8"
      ]
     },
     "execution_count": 32,
     "metadata": {},
     "output_type": "execute_result"
    }
   ],
   "source": [
    "x1.index('Bharat')"
   ]
  },
  {
   "cell_type": "code",
   "execution_count": 33,
   "id": "f8ad6fa2-8c51-4abe-ba39-09b900cc84b5",
   "metadata": {},
   "outputs": [
    {
     "data": {
      "text/plain": [
       "['Abhishek', 'Shivam', 'Aditya']"
      ]
     },
     "execution_count": 33,
     "metadata": {},
     "output_type": "execute_result"
    }
   ],
   "source": [
    "# create: append(), extend(), insert()\n",
    "# update\n",
    "\n",
    "list1=['Abhishek','Shivam','Aditya']\n",
    "list1"
   ]
  },
  {
   "cell_type": "code",
   "execution_count": 36,
   "id": "620b643d-d0cb-4f3c-912f-34510331661e",
   "metadata": {},
   "outputs": [
    {
     "data": {
      "text/plain": [
       "['Abhishek wani', 'Shivam', 'Aditya']"
      ]
     },
     "execution_count": 36,
     "metadata": {},
     "output_type": "execute_result"
    }
   ],
   "source": [
    "# update() function\n",
    "\n",
    "list1[0]=\"Abhishek wani\"\n",
    "list1"
   ]
  },
  {
   "cell_type": "code",
   "execution_count": 39,
   "id": "eac62f5b-bb4d-4f94-b967-ab7f8bcd9b49",
   "metadata": {},
   "outputs": [
    {
     "name": "stdout",
     "output_type": "stream",
     "text": [
      "['Abhishek wani', 'Shivam Kamble', 'Aditya']\n",
      "['Abhishek wani', 'Shivam Kamble', 'Aditya waikar']\n"
     ]
    }
   ],
   "source": [
    "list1[1]=\"Shivam Kamble\"\n",
    "print(list1)\n",
    "list1[2]=\"Aditya waikar\"\n",
    "print(list1)"
   ]
  },
  {
   "cell_type": "code",
   "execution_count": 41,
   "id": "373d17bc-8515-45b7-bbaf-cf39cf134545",
   "metadata": {},
   "outputs": [
    {
     "data": {
      "text/plain": [
       "['Abhishek wani', 'Shivam Kamble']"
      ]
     },
     "execution_count": 41,
     "metadata": {},
     "output_type": "execute_result"
    }
   ],
   "source": [
    "# Remove data from the list\n",
    "\n",
    "list1.remove('Aditya waikar')\n",
    "list1"
   ]
  },
  {
   "cell_type": "code",
   "execution_count": 42,
   "id": "86a72b55-fc49-4965-9425-d5fb4d42494b",
   "metadata": {},
   "outputs": [
    {
     "data": {
      "text/plain": [
       "['Abhishek wani']"
      ]
     },
     "execution_count": 42,
     "metadata": {},
     "output_type": "execute_result"
    }
   ],
   "source": [
    "list1.remove('Shivam Kamble')\n",
    "list1"
   ]
  },
  {
   "cell_type": "code",
   "execution_count": 43,
   "id": "06eedb62-031d-48a5-9229-2b6687348c88",
   "metadata": {},
   "outputs": [
    {
     "data": {
      "text/plain": [
       "[]"
      ]
     },
     "execution_count": 43,
     "metadata": {},
     "output_type": "execute_result"
    }
   ],
   "source": [
    "list1.remove('Abhishek wani')\n",
    "list1"
   ]
  },
  {
   "cell_type": "code",
   "execution_count": 44,
   "id": "171e6afe-54eb-4228-9153-b75278f85873",
   "metadata": {},
   "outputs": [
    {
     "data": {
      "text/plain": [
       "[10, 20, 30]"
      ]
     },
     "execution_count": 44,
     "metadata": {},
     "output_type": "execute_result"
    }
   ],
   "source": [
    "# remove: It takes data as parameter\n",
    "\n",
    "# pop: It also remove data from the list.\n",
    "\n",
    "list1=[10,20,30]\n",
    "list1"
   ]
  },
  {
   "cell_type": "code",
   "execution_count": 45,
   "id": "0c77cf15-e82f-4214-8544-b24c0aaa6638",
   "metadata": {},
   "outputs": [
    {
     "data": {
      "text/plain": [
       "[10, 20]"
      ]
     },
     "execution_count": 45,
     "metadata": {},
     "output_type": "execute_result"
    }
   ],
   "source": [
    "list1.pop()\n",
    "list1"
   ]
  },
  {
   "cell_type": "code",
   "execution_count": 46,
   "id": "2eeefbd2-35b4-47bc-89be-cf71d5db07cd",
   "metadata": {},
   "outputs": [
    {
     "data": {
      "text/plain": [
       "[10]"
      ]
     },
     "execution_count": 46,
     "metadata": {},
     "output_type": "execute_result"
    }
   ],
   "source": [
    "list1.pop()\n",
    "list1"
   ]
  },
  {
   "cell_type": "code",
   "execution_count": 47,
   "id": "6271a9f6-5fa4-4372-ba0e-e918e0ad4765",
   "metadata": {},
   "outputs": [
    {
     "data": {
      "text/plain": [
       "['Abhishek', 'Shivam', 'Aditya']"
      ]
     },
     "execution_count": 47,
     "metadata": {},
     "output_type": "execute_result"
    }
   ],
   "source": [
    "# pop\n",
    "\n",
    "list1=['Abhishek','Shivam','Aditya']\n",
    "list1"
   ]
  },
  {
   "cell_type": "code",
   "execution_count": 48,
   "id": "f3c56736-e2d4-4039-925b-87ca022febfd",
   "metadata": {},
   "outputs": [
    {
     "data": {
      "text/plain": [
       "['Abhishek', 'Shivam', 'Aditya']"
      ]
     },
     "execution_count": 48,
     "metadata": {},
     "output_type": "execute_result"
    }
   ],
   "source": [
    "list1"
   ]
  },
  {
   "cell_type": "code",
   "execution_count": 49,
   "id": "eaae7a09-3c34-4df3-90cc-b24514a57f52",
   "metadata": {},
   "outputs": [
    {
     "data": {
      "text/plain": [
       "['Shivam', 'Aditya']"
      ]
     },
     "execution_count": 49,
     "metadata": {},
     "output_type": "execute_result"
    }
   ],
   "source": [
    "list1.pop(0)   # pop takes one argument as a parameter: 0 is the index value of your data.\n",
    "list1"
   ]
  },
  {
   "cell_type": "code",
   "execution_count": 50,
   "id": "faf2ee87-415e-4c78-bdff-b58c955375b3",
   "metadata": {},
   "outputs": [
    {
     "data": {
      "text/plain": [
       "['Python', 'Shivam', 'Java', 'JavaScript', 'Coding', 'Hello world']"
      ]
     },
     "execution_count": 50,
     "metadata": {},
     "output_type": "execute_result"
    }
   ],
   "source": [
    "list2=['Python','Shivam','Java','JavaScript','Coding','Hello world']\n",
    "list2"
   ]
  },
  {
   "cell_type": "code",
   "execution_count": 52,
   "id": "41d6051b-01eb-4b09-a59a-2cf7520e9ea5",
   "metadata": {},
   "outputs": [
    {
     "name": "stdout",
     "output_type": "stream",
     "text": [
      "<class 'list'>\n"
     ]
    }
   ],
   "source": [
    "print(type(list2))"
   ]
  },
  {
   "cell_type": "code",
   "execution_count": 53,
   "id": "08e24822-9920-4879-b20a-c96705377e1b",
   "metadata": {},
   "outputs": [
    {
     "data": {
      "text/plain": [
       "['Python', 'Shivam', 'Java', 'JavaScript', 'Coding', 'Hello world']"
      ]
     },
     "execution_count": 53,
     "metadata": {},
     "output_type": "execute_result"
    }
   ],
   "source": [
    "list2"
   ]
  },
  {
   "cell_type": "code",
   "execution_count": 54,
   "id": "e4a6906a-ea83-47cf-a56b-046fff1958fb",
   "metadata": {},
   "outputs": [
    {
     "name": "stdout",
     "output_type": "stream",
     "text": [
      "['Hello world', 'Coding', 'JavaScript', 'Java', 'Shivam', 'Python']\n"
     ]
    }
   ],
   "source": [
    "print(list2[::-1])   # with slicing reverse the list"
   ]
  },
  {
   "cell_type": "code",
   "execution_count": 58,
   "id": "6525b5d8-6ae5-41f8-8f26-b2179ddded7a",
   "metadata": {},
   "outputs": [],
   "source": [
    "list2.reverse()  # with the function reverse the list"
   ]
  },
  {
   "cell_type": "code",
   "execution_count": 59,
   "id": "9f287567-3dbc-404a-9a0e-a238ccb9a891",
   "metadata": {},
   "outputs": [
    {
     "data": {
      "text/plain": [
       "['Hello world', 'Coding', 'JavaScript', 'Java', 'Shivam', 'Python']"
      ]
     },
     "execution_count": 59,
     "metadata": {},
     "output_type": "execute_result"
    }
   ],
   "source": [
    "list2"
   ]
  },
  {
   "cell_type": "code",
   "execution_count": 60,
   "id": "dae61ac1-f503-4a45-b546-47c9d1df837b",
   "metadata": {},
   "outputs": [
    {
     "data": {
      "text/plain": [
       "[40, 20, 70, 80, 90, 60, 50, 12]"
      ]
     },
     "execution_count": 60,
     "metadata": {},
     "output_type": "execute_result"
    }
   ],
   "source": [
    "# sort() [40,20,70,80,90,60,50,12]  sort: ascending or descending order\n",
    "sort1= [40,20,70,80,90,60,50,12]\n",
    "sort1   "
   ]
  },
  {
   "cell_type": "code",
   "execution_count": 62,
   "id": "2aff0163-ccc2-4505-a709-51b88120925d",
   "metadata": {},
   "outputs": [],
   "source": [
    "# ascending order\n",
    "sort1.sort()"
   ]
  },
  {
   "cell_type": "code",
   "execution_count": 63,
   "id": "38d8b22c-bd32-4ac4-9267-1bde774fdfb3",
   "metadata": {},
   "outputs": [
    {
     "data": {
      "text/plain": [
       "[12, 20, 40, 50, 60, 70, 80, 90]"
      ]
     },
     "execution_count": 63,
     "metadata": {},
     "output_type": "execute_result"
    }
   ],
   "source": [
    "sort1"
   ]
  },
  {
   "cell_type": "code",
   "execution_count": 67,
   "id": "7e41f71c-256d-4fb3-ae25-a992b55fd707",
   "metadata": {},
   "outputs": [],
   "source": [
    "# there is no function for desceding order for the list.\n",
    "\n",
    "sort1.sort()"
   ]
  },
  {
   "cell_type": "code",
   "execution_count": 68,
   "id": "9bebccee-7af5-421a-9757-6fe58124774b",
   "metadata": {},
   "outputs": [
    {
     "data": {
      "text/plain": [
       "[12, 20, 40, 50, 60, 70, 80, 90]"
      ]
     },
     "execution_count": 68,
     "metadata": {},
     "output_type": "execute_result"
    }
   ],
   "source": [
    "sort1"
   ]
  },
  {
   "cell_type": "code",
   "execution_count": 69,
   "id": "ca7b4bc6-6066-49e5-b2a6-2f85e7b1918a",
   "metadata": {},
   "outputs": [],
   "source": [
    "# descending ordere\n",
    "\n",
    "sort1.reverse()"
   ]
  },
  {
   "cell_type": "code",
   "execution_count": 70,
   "id": "b2036e81-1723-4e7c-b333-35138529b41f",
   "metadata": {},
   "outputs": [
    {
     "data": {
      "text/plain": [
       "[90, 80, 70, 60, 50, 40, 20, 12]"
      ]
     },
     "execution_count": 70,
     "metadata": {},
     "output_type": "execute_result"
    }
   ],
   "source": [
    "sort1"
   ]
  },
  {
   "cell_type": "code",
   "execution_count": 71,
   "id": "9229c4bc-ccf1-49e8-833a-5ad37cc1c8ae",
   "metadata": {},
   "outputs": [],
   "source": [
    "# copy() function\n",
    "\n",
    "# 1. Deep copy()   # \n",
    "\n",
    "# 2. sallow copy()  # "
   ]
  },
  {
   "cell_type": "code",
   "execution_count": 77,
   "id": "8a53a315-6132-4ae7-9467-61afffda088a",
   "metadata": {},
   "outputs": [
    {
     "name": "stdout",
     "output_type": "stream",
     "text": [
      "Original Data: [10, 50, 60]\n",
      "Copied Data: [10, 50, 60]\n",
      "[10, 50, 60, 100]\n"
     ]
    }
   ],
   "source": [
    "# Deep copy\n",
    "\n",
    "list4=[10,50,60]\n",
    "print('Original Data:',list4)\n",
    "list5=list4    # Deep copy # preview \n",
    "print('Copied Data:',list5)\n",
    "\n",
    "list4.append(100)\n",
    "print(list4)"
   ]
  },
  {
   "cell_type": "code",
   "execution_count": 78,
   "id": "c2882a74-cf6d-4d1d-b838-a653c32320d8",
   "metadata": {},
   "outputs": [
    {
     "name": "stdout",
     "output_type": "stream",
     "text": [
      "[10, 50, 60, 100]\n"
     ]
    }
   ],
   "source": [
    "print(list5)"
   ]
  },
  {
   "cell_type": "code",
   "execution_count": 83,
   "id": "a9c0f0e8-0e3c-4a32-a033-8a6cd3278808",
   "metadata": {},
   "outputs": [
    {
     "name": "stdout",
     "output_type": "stream",
     "text": [
      "Original Data: [10, 50, 60, 70]\n",
      "Duplicate Data: [10, 50, 60, 70]\n",
      "[10, 50, 60, 70, 90]\n"
     ]
    }
   ],
   "source": [
    "# shallow copy()\n",
    "\n",
    "list6=[10,50,60,70]\n",
    "print('Original Data:',list6)\n",
    "\n",
    "list7=list6.copy()\n",
    "print('Duplicate Data:',list7)\n",
    "\n",
    "\n",
    "# append data in original list 90\n",
    "\n",
    "list6.append(90)\n",
    "print(list6)"
   ]
  },
  {
   "cell_type": "code",
   "execution_count": 84,
   "id": "59c1e4a2-bc40-4519-b863-07a269d77336",
   "metadata": {},
   "outputs": [
    {
     "name": "stdout",
     "output_type": "stream",
     "text": [
      "[10, 50, 60, 70]\n"
     ]
    }
   ],
   "source": [
    "print(list7)"
   ]
  },
  {
   "cell_type": "code",
   "execution_count": 85,
   "id": "bfb02919-9545-4b20-86e0-befd69b1e299",
   "metadata": {},
   "outputs": [
    {
     "name": "stdin",
     "output_type": "stream",
     "text": [
      "Enter your text: Abhishek\n"
     ]
    },
    {
     "name": "stdout",
     "output_type": "stream",
     "text": [
      "Abhishek\n"
     ]
    }
   ],
   "source": [
    "# input() function\n",
    "\n",
    "\n",
    "# It takes input data from user.\n",
    "\n",
    "text=input('Enter your text:')\n",
    "print(text)"
   ]
  },
  {
   "cell_type": "code",
   "execution_count": 87,
   "id": "87a4eedb-c82e-4e4c-ac7e-7a6c43b4b86d",
   "metadata": {},
   "outputs": [
    {
     "name": "stdin",
     "output_type": "stream",
     "text": [
      "Enter your text: Shivam\n"
     ]
    },
    {
     "name": "stdout",
     "output_type": "stream",
     "text": [
      "Shivam\n",
      "mavihS\n"
     ]
    }
   ],
   "source": [
    "\n",
    "text=input('Enter your text:')\n",
    "print(text)\n",
    "\n",
    "rev_string=text[::-1]\n",
    "print(rev_string)"
   ]
  },
  {
   "cell_type": "code",
   "execution_count": 88,
   "id": "8831f6a4-936b-499b-9916-576e3700a9cd",
   "metadata": {},
   "outputs": [
    {
     "name": "stdin",
     "output_type": "stream",
     "text": [
      "Enter any string shivam\n"
     ]
    },
    {
     "name": "stdout",
     "output_type": "stream",
     "text": [
      "shivam\n",
      "SHIVAM\n"
     ]
    }
   ],
   "source": [
    "# upper()   It convert all the string into capital\n",
    "\n",
    "txt=input('Enter any string')\n",
    "print(txt)\n",
    "\n",
    "upper=txt.upper()\n",
    "print(upper)"
   ]
  },
  {
   "cell_type": "code",
   "execution_count": 90,
   "id": "874d67b4-3340-4073-b679-f069d839607f",
   "metadata": {},
   "outputs": [
    {
     "name": "stdin",
     "output_type": "stream",
     "text": [
      "Enter any text: my name is shivam\n"
     ]
    },
    {
     "name": "stdout",
     "output_type": "stream",
     "text": [
      "Original Text: my name is shivam\n",
      "After Title: My Name Is Shivam\n"
     ]
    }
   ],
   "source": [
    "# title()   \n",
    "\n",
    "txt1=input('Enter any text:')\n",
    "print('Original Text:',txt1)\n",
    "\n",
    "title1=txt1.title()\n",
    "print('After Title:',title1)"
   ]
  },
  {
   "cell_type": "code",
   "execution_count": 94,
   "id": "8e5d9c47-e3b9-4ec9-8d11-50ef618a9618",
   "metadata": {},
   "outputs": [
    {
     "name": "stdin",
     "output_type": "stream",
     "text": [
      "Enter any string 100\n"
     ]
    },
    {
     "name": "stdout",
     "output_type": "stream",
     "text": [
      "10010\n",
      "<class 'str'>\n"
     ]
    }
   ],
   "source": [
    "x=input('Enter any string')   # data type is string by default\n",
    "\n",
    "print(x+'10')   # concatenation perform here.\n",
    "print(type(x))"
   ]
  },
  {
   "cell_type": "code",
   "execution_count": 97,
   "id": "54adc74f-c71d-4bb4-badf-4c1bdf34bc17",
   "metadata": {},
   "outputs": [
    {
     "name": "stdin",
     "output_type": "stream",
     "text": [
      "Enter any string 2000\n"
     ]
    },
    {
     "name": "stdout",
     "output_type": "stream",
     "text": [
      "2010\n",
      "<class 'int'>\n"
     ]
    }
   ],
   "source": [
    "x=int(input('Enter any string'))   # data type is integer given by user.\n",
    "\n",
    "print(x+10)   # Additing perform here.\n",
    "print(type(x))"
   ]
  },
  {
   "cell_type": "code",
   "execution_count": 100,
   "id": "c8ec0207-97cc-4c08-b219-f00df712a7ce",
   "metadata": {},
   "outputs": [
    {
     "name": "stdin",
     "output_type": "stream",
     "text": [
      "Enter first value: 10\n",
      "Enter second value: 20\n",
      "Enter third value: 50\n"
     ]
    },
    {
     "name": "stdout",
     "output_type": "stream",
     "text": [
      "Total value: 80\n"
     ]
    }
   ],
   "source": [
    "# calculator to perform addition\n",
    "x=int(input('Enter first value:'))\n",
    "y=int(input('Enter second value:'))\n",
    "a=int(input('Enter third value:'))\n",
    "z=x+y+a\n",
    "print('Total value:',z)"
   ]
  },
  {
   "cell_type": "code",
   "execution_count": 104,
   "id": "162e1265-6491-425b-a6fd-ec8aa142cb1b",
   "metadata": {},
   "outputs": [
    {
     "name": "stdin",
     "output_type": "stream",
     "text": [
      "Enter first value: 3\n"
     ]
    },
    {
     "name": "stdout",
     "output_type": "stream",
     "text": [
      "Square value is: 9\n"
     ]
    }
   ],
   "source": [
    "# base and power(exponenet)\n",
    "\n",
    "a1=int(input('Enter first value:'))\n",
    "# a2=int(input('Enter second value:'))\n",
    "expo=a1**2\n",
    "print('Square value is:',expo)"
   ]
  },
  {
   "cell_type": "code",
   "execution_count": 109,
   "id": "79aa6dbc-3b20-4171-b351-b9eb359113c3",
   "metadata": {},
   "outputs": [
    {
     "name": "stdin",
     "output_type": "stream",
     "text": [
      "Enter first value: 5\n"
     ]
    },
    {
     "name": "stdout",
     "output_type": "stream",
     "text": [
      "Cubic value is: 125\n"
     ]
    }
   ],
   "source": [
    "\n",
    "a1=int(input('Enter first value:'))\n",
    "# a2=int(input('Enter second value:'))\n",
    "expo=a1**3\n",
    "print('Cubic value is:',expo)"
   ]
  },
  {
   "cell_type": "code",
   "execution_count": 114,
   "id": "0b82511a-d3ec-4f48-8ea5-d3c7e1f93802",
   "metadata": {},
   "outputs": [
    {
     "name": "stdin",
     "output_type": "stream",
     "text": [
      "Enter first value: 45\n",
      "Enter second value: 12\n"
     ]
    },
    {
     "name": "stdout",
     "output_type": "stream",
     "text": [
      "57\n"
     ]
    }
   ],
   "source": [
    "# Calculator\n",
    "\n",
    "x=int(input('Enter first value:'))\n",
    "# y=input('Enter Operator:')\n",
    "z=int(input('Enter second value:'))\n",
    "a1=x+z\n",
    "print(a1)"
   ]
  },
  {
   "cell_type": "markdown",
   "id": "1342f3a4-6ee1-4123-a546-21a6ca79dda0",
   "metadata": {},
   "source": [
    "# comparison operator\n",
    " * __==__\n",
    " * __<__\n",
    " * __>__\n",
    " * __>=__\n",
    " * __<=__\n",
    " * __!=__"
   ]
  },
  {
   "cell_type": "markdown",
   "id": "011f4379-26e7-4f02-a84e-5516e0f92371",
   "metadata": {},
   "source": [
    "# Logical Operators\n",
    "\n",
    " * __and,or,not__"
   ]
  },
  {
   "cell_type": "markdown",
   "id": "ceb32059-430c-43d2-88ac-30f388327c67",
   "metadata": {},
   "source": [
    "# Assignment operator\n",
    "\n",
    " * __=,+=,-=,*=,/=,//=,**=,%=,&=,!=__"
   ]
  },
  {
   "cell_type": "code",
   "execution_count": 115,
   "id": "177f5f2e-b8f5-4ad4-9fff-b1922ffb2ab8",
   "metadata": {},
   "outputs": [
    {
     "data": {
      "text/plain": [
       "10"
      ]
     },
     "execution_count": 115,
     "metadata": {},
     "output_type": "execute_result"
    }
   ],
   "source": [
    "x=10\n",
    "x"
   ]
  },
  {
   "cell_type": "code",
   "execution_count": 117,
   "id": "370e57bf-3e57-4385-9e83-9eaa3de6e3cb",
   "metadata": {},
   "outputs": [
    {
     "data": {
      "text/plain": [
       "15"
      ]
     },
     "execution_count": 117,
     "metadata": {},
     "output_type": "execute_result"
    }
   ],
   "source": [
    "x=10\n",
    "x+=5\n",
    "x"
   ]
  },
  {
   "cell_type": "code",
   "execution_count": 118,
   "id": "bca1ca68-15a9-4be9-aaae-6506a94bc511",
   "metadata": {},
   "outputs": [
    {
     "data": {
      "text/plain": [
       "80"
      ]
     },
     "execution_count": 118,
     "metadata": {},
     "output_type": "execute_result"
    }
   ],
   "source": [
    "x=100\n",
    "x-=20\n",
    "x"
   ]
  },
  {
   "cell_type": "code",
   "execution_count": 120,
   "id": "03c14b2b-f313-4537-a73b-8013d2f896c0",
   "metadata": {},
   "outputs": [
    {
     "data": {
      "text/plain": [
       "500"
      ]
     },
     "execution_count": 120,
     "metadata": {},
     "output_type": "execute_result"
    }
   ],
   "source": [
    "x=100\n",
    "x*=5\n",
    "x"
   ]
  },
  {
   "cell_type": "code",
   "execution_count": 121,
   "id": "71f3bea5-bea0-4c0f-9385-f64c4c62a4d7",
   "metadata": {},
   "outputs": [
    {
     "data": {
      "text/plain": [
       "5.0"
      ]
     },
     "execution_count": 121,
     "metadata": {},
     "output_type": "execute_result"
    }
   ],
   "source": [
    "x=100\n",
    "x/=20\n",
    "x"
   ]
  },
  {
   "cell_type": "code",
   "execution_count": 123,
   "id": "bb3fad7c-49aa-4fb4-a67c-4b5277ab3731",
   "metadata": {},
   "outputs": [
    {
     "data": {
      "text/plain": [
       "5"
      ]
     },
     "execution_count": 123,
     "metadata": {},
     "output_type": "execute_result"
    }
   ],
   "source": [
    "x=100\n",
    "x//=20\n",
    "x"
   ]
  },
  {
   "cell_type": "code",
   "execution_count": 124,
   "id": "2073176d-992a-4f1b-ae29-39aa49ee9100",
   "metadata": {},
   "outputs": [
    {
     "data": {
      "text/plain": [
       "1.5"
      ]
     },
     "execution_count": 124,
     "metadata": {},
     "output_type": "execute_result"
    }
   ],
   "source": [
    "x=3\n",
    "x/=2\n",
    "x"
   ]
  },
  {
   "cell_type": "code",
   "execution_count": 125,
   "id": "a9b1c7bd-c805-4998-916c-4c5f0c94fadb",
   "metadata": {},
   "outputs": [
    {
     "data": {
      "text/plain": [
       "1"
      ]
     },
     "execution_count": 125,
     "metadata": {},
     "output_type": "execute_result"
    }
   ],
   "source": [
    "x=3\n",
    "x//=2\n",
    "x"
   ]
  },
  {
   "cell_type": "code",
   "execution_count": null,
   "id": "0942d515-039a-47b2-9960-105e57c70c6b",
   "metadata": {},
   "outputs": [],
   "source": []
  }
 ],
 "metadata": {
  "kernelspec": {
   "display_name": "Python 3 (ipykernel)",
   "language": "python",
   "name": "python3"
  },
  "language_info": {
   "codemirror_mode": {
    "name": "ipython",
    "version": 3
   },
   "file_extension": ".py",
   "mimetype": "text/x-python",
   "name": "python",
   "nbconvert_exporter": "python",
   "pygments_lexer": "ipython3",
   "version": "3.12.2"
  }
 },
 "nbformat": 4,
 "nbformat_minor": 5
}
