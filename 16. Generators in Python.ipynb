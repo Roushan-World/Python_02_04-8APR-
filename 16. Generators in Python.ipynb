{
 "cells": [
  {
   "cell_type": "markdown",
   "id": "ae5ae3ec-1e97-44eb-9d04-1203f433b67d",
   "metadata": {},
   "source": [
    "# 16. Generators in Python\n",
    "\n",
    " * __Python generators are the function that returns the transversal object and simple way of creating iterators.__\n",
    " * __It transverse the entire items at once.__\n",
    " * __The generators can also be an expression in which syntax is similary to the list compression in Python.__\n",
    " * __There is a lot of complexity in creating iteration in Python, It is required to implement iter() and next() methods to keep track of internal states.__\n",
    " * __It is a lenghty process to create iterators, it raises StopIterations exceptions.__\n",
    " * __It pauses the functions execution by saving all states and yielded to the caller.__\n",
    " * __Later it resumes execution when a successive function is called.__"
   ]
  },
  {
   "cell_type": "code",
   "execution_count": 3,
   "id": "f76149fc-7e59-4677-befe-43d7cf8da29a",
   "metadata": {},
   "outputs": [
    {
     "name": "stdout",
     "output_type": "stream",
     "text": [
      "[0, 1, 2, 3, 4, 5, 6, 7, 8, 9, 10, 11, 12, 13, 14, 15, 16, 17, 18, 19, 20, 21, 22, 23, 24]\n"
     ]
    }
   ],
   "source": [
    "def function():\n",
    "    for i in range(25):\n",
    "        yield i\n",
    "\n",
    "\n",
    "num_list=[]\n",
    "for i in function():\n",
    "    num_list.append(i)\n",
    "print(num_list)"
   ]
  },
  {
   "cell_type": "code",
   "execution_count": 5,
   "id": "013616a7-07e5-45aa-b7ad-4e4db003fe66",
   "metadata": {},
   "outputs": [
    {
     "name": "stdout",
     "output_type": "stream",
     "text": [
      "[0, 2, 4, 6, 8, 10, 12, 14, 16, 18, 20, 22, 24]\n"
     ]
    }
   ],
   "source": [
    "def function1():\n",
    "    for i in range(25):\n",
    "        if i%2==0:\n",
    "            yield (i)\n",
    "\n",
    "\n",
    "even_list=[]\n",
    "\n",
    "for x in function1():\n",
    "    even_list.append(x)\n",
    "\n",
    "print(even_list)"
   ]
  },
  {
   "cell_type": "code",
   "execution_count": 8,
   "id": "6d8c94be-4c8f-4f85-ae59-9c1ba6f40f71",
   "metadata": {},
   "outputs": [
    {
     "name": "stdout",
     "output_type": "stream",
     "text": [
      "Even List is: [0, 2, 4, 6, 8, 10, 12, 14, 16, 18, 20, 22, 24, 26, 28] \n",
      "Odd List is: [1, 3, 5, 7, 9, 11, 13, 15, 17, 19, 21, 23, 25, 27, 29]\n"
     ]
    }
   ],
   "source": [
    "def func():\n",
    "    for i in range(30):\n",
    "        yield (i)\n",
    "\n",
    "even_list=[]\n",
    "odd_list=[]\n",
    "for y in func():\n",
    "    if y%2==0:\n",
    "        even_list.append(y)\n",
    "    else:\n",
    "        odd_list.append(y)\n",
    "\n",
    "\n",
    "print('Even List is:',even_list,'\\nOdd List is:',odd_list)"
   ]
  },
  {
   "cell_type": "code",
   "execution_count": 13,
   "id": "af54f89a-5a10-43a7-b8d4-92af7d4e539a",
   "metadata": {},
   "outputs": [
    {
     "name": "stdin",
     "output_type": "stream",
     "text": [
      "Enter your Range here: 10\n"
     ]
    },
    {
     "name": "stdout",
     "output_type": "stream",
     "text": [
      "Even List is: [0, 2, 4, 6, 8, 10] \n",
      "Odd List is: [1, 3, 5, 7, 9]\n"
     ]
    }
   ],
   "source": [
    "def func():\n",
    "    n=int(input('Enter your Range here:'))\n",
    "    for i in range(n+1):\n",
    "        yield (i)\n",
    "\n",
    "even_list=[]\n",
    "odd_list=[]\n",
    "for y in func():\n",
    "    if y%2==0:\n",
    "        even_list.append(y)\n",
    "    else:\n",
    "        odd_list.append(y)\n",
    "print('Even List is:',even_list,'\\nOdd List is:',odd_list)"
   ]
  },
  {
   "cell_type": "code",
   "execution_count": 16,
   "id": "241e1ee6-c5ef-488d-9307-dd7e27de9e24",
   "metadata": {},
   "outputs": [
    {
     "name": "stdout",
     "output_type": "stream",
     "text": [
      "Hello world\n",
      "Congratulation!\n"
     ]
    },
    {
     "name": "stdin",
     "output_type": "stream",
     "text": [
      "Enter your name Abhishek\n"
     ]
    },
    {
     "name": "stdout",
     "output_type": "stream",
     "text": [
      "Congratulations Abhishek\n"
     ]
    }
   ],
   "source": [
    "def message():\n",
    "    one_message='Hello world'\n",
    "    return one_message\n",
    "\n",
    "def message1():\n",
    "    one_message=\"Congratulation!\"\n",
    "    return one_message\n",
    "\n",
    "def message2():\n",
    "    n=input('Enter your name')\n",
    "    one_message='Congratulations '+n\n",
    "    return one_message\n",
    "\n",
    "\n",
    "print(message())\n",
    "print(message1())\n",
    "print(message2())"
   ]
  },
  {
   "cell_type": "code",
   "execution_count": 17,
   "id": "c60fa623-6647-4997-9c31-9d3999c8ec91",
   "metadata": {},
   "outputs": [
    {
     "name": "stdout",
     "output_type": "stream",
     "text": [
      "Hello world\n"
     ]
    }
   ],
   "source": [
    "def message():\n",
    "    one_msg='Hello world'\n",
    "    yield one_msg\n",
    "\n",
    "    two_msg=\"Congratulations\"\n",
    "    yield two_msg\n",
    "\n",
    "    n=input('Enter your name here..')\n",
    "    three_msg=\"Congratulations \"+n\n",
    "    yield three_msg\n",
    "\n",
    "    four_msg='Hello Python'\n",
    "    yield four_msg\n",
    "\n",
    "\n",
    "result=message()\n",
    "print(next(result))"
   ]
  },
  {
   "cell_type": "code",
   "execution_count": 18,
   "id": "e8eea6e2-89ef-4ae4-b397-9ed62fa4d3d7",
   "metadata": {},
   "outputs": [
    {
     "name": "stdout",
     "output_type": "stream",
     "text": [
      "Congratulations\n"
     ]
    }
   ],
   "source": [
    "print(next(result))"
   ]
  },
  {
   "cell_type": "code",
   "execution_count": 19,
   "id": "70df80d9-15cc-40f9-a2ce-c993daf3bf0e",
   "metadata": {},
   "outputs": [
    {
     "name": "stdin",
     "output_type": "stream",
     "text": [
      "Enter your name here.. Abhishek\n"
     ]
    },
    {
     "name": "stdout",
     "output_type": "stream",
     "text": [
      "Congratulations Abhishek\n"
     ]
    }
   ],
   "source": [
    "print(next(result))"
   ]
  },
  {
   "cell_type": "code",
   "execution_count": 20,
   "id": "61c82284-dafe-4441-8d87-8e3bd045915a",
   "metadata": {},
   "outputs": [
    {
     "name": "stdout",
     "output_type": "stream",
     "text": [
      "Hello Python\n"
     ]
    }
   ],
   "source": [
    "print(next(result))"
   ]
  },
  {
   "cell_type": "code",
   "execution_count": 21,
   "id": "cf01a0ab-3425-4b2d-a6c3-d9a7a8cd6ec6",
   "metadata": {},
   "outputs": [
    {
     "ename": "StopIteration",
     "evalue": "",
     "output_type": "error",
     "traceback": [
      "\u001b[1;31m---------------------------------------------------------------------------\u001b[0m",
      "\u001b[1;31mStopIteration\u001b[0m                             Traceback (most recent call last)",
      "Cell \u001b[1;32mIn[21], line 1\u001b[0m\n\u001b[1;32m----> 1\u001b[0m \u001b[38;5;28mprint\u001b[39m(\u001b[38;5;28;43mnext\u001b[39;49m\u001b[43m(\u001b[49m\u001b[43mresult\u001b[49m\u001b[43m)\u001b[49m)\n",
      "\u001b[1;31mStopIteration\u001b[0m: "
     ]
    }
   ],
   "source": [
    "print(next(result))"
   ]
  },
  {
   "cell_type": "code",
   "execution_count": null,
   "id": "bd119a4c-0fda-490f-a153-1cb524c0f893",
   "metadata": {},
   "outputs": [],
   "source": []
  }
 ],
 "metadata": {
  "kernelspec": {
   "display_name": "Python 3 (ipykernel)",
   "language": "python",
   "name": "python3"
  },
  "language_info": {
   "codemirror_mode": {
    "name": "ipython",
    "version": 3
   },
   "file_extension": ".py",
   "mimetype": "text/x-python",
   "name": "python",
   "nbconvert_exporter": "python",
   "pygments_lexer": "ipython3",
   "version": "3.12.2"
  }
 },
 "nbformat": 4,
 "nbformat_minor": 5
}
