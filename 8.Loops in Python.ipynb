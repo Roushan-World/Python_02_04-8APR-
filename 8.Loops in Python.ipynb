{
 "cells": [
  {
   "cell_type": "markdown",
   "id": "04a891bb-d009-4c78-b286-4360afb85a1f",
   "metadata": {},
   "source": [
    "# 8. Loops in Python\n",
    "\n",
    " * __A for loop is used for iterating over a sequence (that is either a list, a tuple, a dictionary, a set or a string).__\n",
    " * __This is less like the for keyboard in other programming languages, and works more like an iterator method as found in other object-oriented programming languages.__\n",
    " * __With the for looop we can execute a set of statements, once for each item in a list, a tuple, or a set.__\n",
    " * __The for loop does not require an indexing variable to set beforehand.__\n",
    " * __With the while loop we can execute a set of statements as long as a condition is true.__\n",
    " * __Note: The while loop requires relevant variables to be ready, in this example we need to define an indexing variable,i, which we set to .__\n",
    "\n",
    "# range() functions\n",
    " * __It is helpful to think of the range object as an ordered list.__\n",
    " * __To loop through a set of code a specified number of times, we can use the range() functions.__\n",
    " * __The range() function returns a sequence of numbers, string, starting from  by default, and increments by  (by default), and ends at a specified number.__"
   ]
  },
  {
   "cell_type": "code",
   "execution_count": 1,
   "id": "91bd2288-38f0-4273-8277-da71ba171775",
   "metadata": {},
   "outputs": [
    {
     "data": {
      "text/plain": [
       "range(0, 10)"
      ]
     },
     "execution_count": 1,
     "metadata": {},
     "output_type": "execute_result"
    }
   ],
   "source": [
    "range(10)"
   ]
  },
  {
   "cell_type": "code",
   "execution_count": 2,
   "id": "c621183c-c6e4-43d0-9ac0-0ba34e075a12",
   "metadata": {},
   "outputs": [
    {
     "data": {
      "text/plain": [
       "range(0, 100)"
      ]
     },
     "execution_count": 2,
     "metadata": {},
     "output_type": "execute_result"
    }
   ],
   "source": [
    "range(100)"
   ]
  },
  {
   "cell_type": "code",
   "execution_count": 3,
   "id": "0c27ba13-de17-4a30-b079-0985f00449de",
   "metadata": {},
   "outputs": [
    {
     "data": {
      "text/plain": [
       "range(0, 1000)"
      ]
     },
     "execution_count": 3,
     "metadata": {},
     "output_type": "execute_result"
    }
   ],
   "source": [
    "range(1000)"
   ]
  },
  {
   "cell_type": "code",
   "execution_count": 4,
   "id": "d4863a1e-c7e5-4647-966b-fb200836973d",
   "metadata": {},
   "outputs": [
    {
     "data": {
      "text/plain": [
       "range(5, 10)"
      ]
     },
     "execution_count": 4,
     "metadata": {},
     "output_type": "execute_result"
    }
   ],
   "source": [
    "range(5,10)"
   ]
  },
  {
   "cell_type": "code",
   "execution_count": 5,
   "id": "defba280-3811-4522-a5f7-9ba50542d190",
   "metadata": {},
   "outputs": [
    {
     "data": {
      "text/plain": [
       "range(-10, 10)"
      ]
     },
     "execution_count": 5,
     "metadata": {},
     "output_type": "execute_result"
    }
   ],
   "source": [
    "range(-10,10)"
   ]
  },
  {
   "cell_type": "code",
   "execution_count": 8,
   "id": "e79ecc40-54ad-407a-830d-0f2f3f422c44",
   "metadata": {},
   "outputs": [
    {
     "name": "stdout",
     "output_type": "stream",
     "text": [
      "1\n",
      "2\n",
      "3\n",
      "4\n",
      "5\n",
      "6\n",
      "7\n",
      "8\n",
      "9\n"
     ]
    }
   ],
   "source": [
    "for i in range(1,10):\n",
    "    print(i)"
   ]
  },
  {
   "cell_type": "code",
   "execution_count": 9,
   "id": "78e9dad4-5361-4ff9-9179-6fb507259ef7",
   "metadata": {},
   "outputs": [
    {
     "name": "stdout",
     "output_type": "stream",
     "text": [
      "-10\n",
      "-9\n",
      "-8\n",
      "-7\n",
      "-6\n",
      "-5\n",
      "-4\n",
      "-3\n",
      "-2\n",
      "-1\n",
      "0\n",
      "1\n",
      "2\n",
      "3\n",
      "4\n",
      "5\n",
      "6\n",
      "7\n",
      "8\n",
      "9\n"
     ]
    }
   ],
   "source": [
    "for i in range(-10,10):\n",
    "    print(i)"
   ]
  },
  {
   "cell_type": "code",
   "execution_count": 10,
   "id": "3907ceba-bfe9-4531-90f8-773b60314d2e",
   "metadata": {},
   "outputs": [
    {
     "name": "stdout",
     "output_type": "stream",
     "text": [
      "0\n",
      "1\n",
      "2\n",
      "3\n",
      "4\n",
      "5\n",
      "6\n",
      "7\n",
      "8\n",
      "9\n",
      "10\n",
      "11\n",
      "12\n",
      "13\n",
      "14\n",
      "15\n",
      "16\n",
      "17\n",
      "18\n",
      "19\n",
      "20\n",
      "21\n",
      "22\n",
      "23\n",
      "24\n",
      "25\n",
      "26\n",
      "27\n",
      "28\n",
      "29\n",
      "30\n",
      "31\n",
      "32\n",
      "33\n",
      "34\n",
      "35\n",
      "36\n",
      "37\n",
      "38\n",
      "39\n",
      "40\n",
      "41\n",
      "42\n",
      "43\n",
      "44\n",
      "45\n",
      "46\n",
      "47\n",
      "48\n",
      "49\n",
      "50\n",
      "51\n",
      "52\n",
      "53\n",
      "54\n",
      "55\n",
      "56\n",
      "57\n",
      "58\n",
      "59\n",
      "60\n",
      "61\n",
      "62\n",
      "63\n",
      "64\n",
      "65\n",
      "66\n",
      "67\n",
      "68\n",
      "69\n",
      "70\n",
      "71\n",
      "72\n",
      "73\n",
      "74\n",
      "75\n",
      "76\n",
      "77\n",
      "78\n",
      "79\n",
      "80\n",
      "81\n",
      "82\n",
      "83\n",
      "84\n",
      "85\n",
      "86\n",
      "87\n",
      "88\n",
      "89\n",
      "90\n",
      "91\n",
      "92\n",
      "93\n",
      "94\n",
      "95\n",
      "96\n",
      "97\n",
      "98\n",
      "99\n"
     ]
    }
   ],
   "source": [
    "for i in range(100):\n",
    "    print(i)"
   ]
  },
  {
   "cell_type": "code",
   "execution_count": 11,
   "id": "5674432f-d83d-46ae-9bc7-f58734877c92",
   "metadata": {},
   "outputs": [
    {
     "name": "stdout",
     "output_type": "stream",
     "text": [
      "<class 'list'>\n"
     ]
    }
   ],
   "source": [
    "list_1=['Apple','Banana','Papaya','Strawberry','Cherry','Muskmilon','Watermelon','Litchi','Pineapple','Mango','Kiwi']\n",
    "\n",
    "print(type(list_1))"
   ]
  },
  {
   "cell_type": "code",
   "execution_count": 12,
   "id": "f9adb546-247f-41f3-94f0-2580d4ca48c9",
   "metadata": {},
   "outputs": [
    {
     "name": "stdout",
     "output_type": "stream",
     "text": [
      "Apple\n",
      "Banana\n",
      "Papaya\n",
      "Strawberry\n",
      "Cherry\n",
      "Muskmilon\n",
      "Watermelon\n",
      "Litchi\n",
      "Pineapple\n",
      "Mango\n",
      "Kiwi\n"
     ]
    }
   ],
   "source": [
    "for x in list_1:\n",
    "    print(x)"
   ]
  },
  {
   "cell_type": "code",
   "execution_count": 13,
   "id": "b91b5470-cd1d-4962-9eb4-faa8afe62faf",
   "metadata": {},
   "outputs": [
    {
     "name": "stdout",
     "output_type": "stream",
     "text": [
      "<class 'tuple'>\n"
     ]
    }
   ],
   "source": [
    "tuple_1=('Apple','Banana','Papaya','Strawberry','Cherry','Muskmilon','Watermelon','Litchi','Pineapple','Mango','Kiwi')\n",
    "print(type(tuple_1))"
   ]
  },
  {
   "cell_type": "code",
   "execution_count": 16,
   "id": "fd76be79-95a6-462a-9491-7a197ad2f8f5",
   "metadata": {},
   "outputs": [
    {
     "name": "stdout",
     "output_type": "stream",
     "text": [
      "Apple\n",
      "Banana\n",
      "Papaya\n",
      "Strawberry\n",
      "Cherry\n",
      "Muskmilon\n",
      "Watermelon\n",
      "Litchi\n",
      "Pineapple\n",
      "Mango\n",
      "Kiwi\n"
     ]
    }
   ],
   "source": [
    "for y in tuple_1:\n",
    "    print(y)"
   ]
  },
  {
   "cell_type": "code",
   "execution_count": 32,
   "id": "ea670045-c3c4-4ebe-8d55-9e6e0160e343",
   "metadata": {},
   "outputs": [
    {
     "data": {
      "text/plain": [
       "[6, 5, 4, 3]"
      ]
     },
     "execution_count": 32,
     "metadata": {},
     "output_type": "execute_result"
    }
   ],
   "source": [
    "# striding in for loop\n",
    "\n",
    "x= [1,2,3,4,5,6,7,8,9,10]\n",
    "\n",
    "x1=x[2:6]\n",
    "x1\n",
    "x1[::-1]"
   ]
  },
  {
   "cell_type": "code",
   "execution_count": 54,
   "id": "7bdaffdd-3710-4da8-af22-c966c10477b8",
   "metadata": {},
   "outputs": [
    {
     "name": "stdout",
     "output_type": "stream",
     "text": [
      "0 2 4 6 8 10 "
     ]
    }
   ],
   "source": [
    "# for loop\n",
    "\n",
    "\n",
    "for i in range(0,11,2):\n",
    "    print(i,end=' ')  #delimeter"
   ]
  },
  {
   "cell_type": "code",
   "execution_count": null,
   "id": "c6d4c1cf-e03d-43ec-a015-b265c745da99",
   "metadata": {},
   "outputs": [],
   "source": []
  }
 ],
 "metadata": {
  "kernelspec": {
   "display_name": "Python 3 (ipykernel)",
   "language": "python",
   "name": "python3"
  },
  "language_info": {
   "codemirror_mode": {
    "name": "ipython",
    "version": 3
   },
   "file_extension": ".py",
   "mimetype": "text/x-python",
   "name": "python",
   "nbconvert_exporter": "python",
   "pygments_lexer": "ipython3",
   "version": "3.12.2"
  }
 },
 "nbformat": 4,
 "nbformat_minor": 5
}
