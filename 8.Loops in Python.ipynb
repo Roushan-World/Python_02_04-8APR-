{
 "cells": [
  {
   "cell_type": "markdown",
   "id": "04a891bb-d009-4c78-b286-4360afb85a1f",
   "metadata": {},
   "source": [
    "# 8. Loops in Python\n",
    "\n",
    " * __A for loop is used for iterating over a sequence (that is either a list, a tuple, a dictionary, a set or a string).__\n",
    " * __This is less like the for keyboard in other programming languages, and works more like an iterator method as found in other object-oriented programming languages.__\n",
    " * __With the for looop we can execute a set of statements, once for each item in a list, a tuple, or a set.__\n",
    " * __The for loop does not require an indexing variable to set beforehand.__\n",
    " * __With the while loop we can execute a set of statements as long as a condition is true.__\n",
    " * __Note: The while loop requires relevant variables to be ready, in this example we need to define an indexing variable,i, which we set to .__\n",
    "\n",
    "# range() functions\n",
    " * __It is helpful to think of the range object as an ordered list.__\n",
    " * __To loop through a set of code a specified number of times, we can use the range() functions.__\n",
    " * __The range() function returns a sequence of numbers, string, starting from  by default, and increments by  (by default), and ends at a specified number.__"
   ]
  },
  {
   "cell_type": "code",
   "execution_count": 1,
   "id": "91bd2288-38f0-4273-8277-da71ba171775",
   "metadata": {},
   "outputs": [
    {
     "data": {
      "text/plain": [
       "range(0, 10)"
      ]
     },
     "execution_count": 1,
     "metadata": {},
     "output_type": "execute_result"
    }
   ],
   "source": [
    "range(10)"
   ]
  },
  {
   "cell_type": "code",
   "execution_count": 2,
   "id": "c621183c-c6e4-43d0-9ac0-0ba34e075a12",
   "metadata": {},
   "outputs": [
    {
     "data": {
      "text/plain": [
       "range(0, 100)"
      ]
     },
     "execution_count": 2,
     "metadata": {},
     "output_type": "execute_result"
    }
   ],
   "source": [
    "range(100)"
   ]
  },
  {
   "cell_type": "code",
   "execution_count": 3,
   "id": "0c27ba13-de17-4a30-b079-0985f00449de",
   "metadata": {},
   "outputs": [
    {
     "data": {
      "text/plain": [
       "range(0, 1000)"
      ]
     },
     "execution_count": 3,
     "metadata": {},
     "output_type": "execute_result"
    }
   ],
   "source": [
    "range(1000)"
   ]
  },
  {
   "cell_type": "code",
   "execution_count": 4,
   "id": "d4863a1e-c7e5-4647-966b-fb200836973d",
   "metadata": {},
   "outputs": [
    {
     "data": {
      "text/plain": [
       "range(5, 10)"
      ]
     },
     "execution_count": 4,
     "metadata": {},
     "output_type": "execute_result"
    }
   ],
   "source": [
    "range(5,10)"
   ]
  },
  {
   "cell_type": "code",
   "execution_count": 5,
   "id": "defba280-3811-4522-a5f7-9ba50542d190",
   "metadata": {},
   "outputs": [
    {
     "data": {
      "text/plain": [
       "range(-10, 10)"
      ]
     },
     "execution_count": 5,
     "metadata": {},
     "output_type": "execute_result"
    }
   ],
   "source": [
    "range(-10,10)"
   ]
  },
  {
   "cell_type": "code",
   "execution_count": 8,
   "id": "e79ecc40-54ad-407a-830d-0f2f3f422c44",
   "metadata": {},
   "outputs": [
    {
     "name": "stdout",
     "output_type": "stream",
     "text": [
      "1\n",
      "2\n",
      "3\n",
      "4\n",
      "5\n",
      "6\n",
      "7\n",
      "8\n",
      "9\n"
     ]
    }
   ],
   "source": [
    "for i in range(1,10):\n",
    "    print(i)"
   ]
  },
  {
   "cell_type": "code",
   "execution_count": 9,
   "id": "78e9dad4-5361-4ff9-9179-6fb507259ef7",
   "metadata": {},
   "outputs": [
    {
     "name": "stdout",
     "output_type": "stream",
     "text": [
      "-10\n",
      "-9\n",
      "-8\n",
      "-7\n",
      "-6\n",
      "-5\n",
      "-4\n",
      "-3\n",
      "-2\n",
      "-1\n",
      "0\n",
      "1\n",
      "2\n",
      "3\n",
      "4\n",
      "5\n",
      "6\n",
      "7\n",
      "8\n",
      "9\n"
     ]
    }
   ],
   "source": [
    "for i in range(-10,10):\n",
    "    print(i)"
   ]
  },
  {
   "cell_type": "code",
   "execution_count": 10,
   "id": "3907ceba-bfe9-4531-90f8-773b60314d2e",
   "metadata": {},
   "outputs": [
    {
     "name": "stdout",
     "output_type": "stream",
     "text": [
      "0\n",
      "1\n",
      "2\n",
      "3\n",
      "4\n",
      "5\n",
      "6\n",
      "7\n",
      "8\n",
      "9\n",
      "10\n",
      "11\n",
      "12\n",
      "13\n",
      "14\n",
      "15\n",
      "16\n",
      "17\n",
      "18\n",
      "19\n",
      "20\n",
      "21\n",
      "22\n",
      "23\n",
      "24\n",
      "25\n",
      "26\n",
      "27\n",
      "28\n",
      "29\n",
      "30\n",
      "31\n",
      "32\n",
      "33\n",
      "34\n",
      "35\n",
      "36\n",
      "37\n",
      "38\n",
      "39\n",
      "40\n",
      "41\n",
      "42\n",
      "43\n",
      "44\n",
      "45\n",
      "46\n",
      "47\n",
      "48\n",
      "49\n",
      "50\n",
      "51\n",
      "52\n",
      "53\n",
      "54\n",
      "55\n",
      "56\n",
      "57\n",
      "58\n",
      "59\n",
      "60\n",
      "61\n",
      "62\n",
      "63\n",
      "64\n",
      "65\n",
      "66\n",
      "67\n",
      "68\n",
      "69\n",
      "70\n",
      "71\n",
      "72\n",
      "73\n",
      "74\n",
      "75\n",
      "76\n",
      "77\n",
      "78\n",
      "79\n",
      "80\n",
      "81\n",
      "82\n",
      "83\n",
      "84\n",
      "85\n",
      "86\n",
      "87\n",
      "88\n",
      "89\n",
      "90\n",
      "91\n",
      "92\n",
      "93\n",
      "94\n",
      "95\n",
      "96\n",
      "97\n",
      "98\n",
      "99\n"
     ]
    }
   ],
   "source": [
    "for i in range(100):\n",
    "    print(i)"
   ]
  },
  {
   "cell_type": "code",
   "execution_count": 11,
   "id": "5674432f-d83d-46ae-9bc7-f58734877c92",
   "metadata": {},
   "outputs": [
    {
     "name": "stdout",
     "output_type": "stream",
     "text": [
      "<class 'list'>\n"
     ]
    }
   ],
   "source": [
    "list_1=['Apple','Banana','Papaya','Strawberry','Cherry','Muskmilon','Watermelon','Litchi','Pineapple','Mango','Kiwi']\n",
    "\n",
    "print(type(list_1))"
   ]
  },
  {
   "cell_type": "code",
   "execution_count": 12,
   "id": "f9adb546-247f-41f3-94f0-2580d4ca48c9",
   "metadata": {},
   "outputs": [
    {
     "name": "stdout",
     "output_type": "stream",
     "text": [
      "Apple\n",
      "Banana\n",
      "Papaya\n",
      "Strawberry\n",
      "Cherry\n",
      "Muskmilon\n",
      "Watermelon\n",
      "Litchi\n",
      "Pineapple\n",
      "Mango\n",
      "Kiwi\n"
     ]
    }
   ],
   "source": [
    "for x in list_1:\n",
    "    print(x)"
   ]
  },
  {
   "cell_type": "code",
   "execution_count": 13,
   "id": "b91b5470-cd1d-4962-9eb4-faa8afe62faf",
   "metadata": {},
   "outputs": [
    {
     "name": "stdout",
     "output_type": "stream",
     "text": [
      "<class 'tuple'>\n"
     ]
    }
   ],
   "source": [
    "tuple_1=('Apple','Banana','Papaya','Strawberry','Cherry','Muskmilon','Watermelon','Litchi','Pineapple','Mango','Kiwi')\n",
    "print(type(tuple_1))"
   ]
  },
  {
   "cell_type": "code",
   "execution_count": 16,
   "id": "fd76be79-95a6-462a-9491-7a197ad2f8f5",
   "metadata": {},
   "outputs": [
    {
     "name": "stdout",
     "output_type": "stream",
     "text": [
      "Apple\n",
      "Banana\n",
      "Papaya\n",
      "Strawberry\n",
      "Cherry\n",
      "Muskmilon\n",
      "Watermelon\n",
      "Litchi\n",
      "Pineapple\n",
      "Mango\n",
      "Kiwi\n"
     ]
    }
   ],
   "source": [
    "for y in tuple_1:\n",
    "    print(y)"
   ]
  },
  {
   "cell_type": "code",
   "execution_count": 32,
   "id": "ea670045-c3c4-4ebe-8d55-9e6e0160e343",
   "metadata": {},
   "outputs": [
    {
     "data": {
      "text/plain": [
       "[6, 5, 4, 3]"
      ]
     },
     "execution_count": 32,
     "metadata": {},
     "output_type": "execute_result"
    }
   ],
   "source": [
    "# striding in for loop\n",
    "\n",
    "x= [1,2,3,4,5,6,7,8,9,10]\n",
    "\n",
    "x1=x[2:6]\n",
    "x1\n",
    "x1[::-1]"
   ]
  },
  {
   "cell_type": "code",
   "execution_count": 54,
   "id": "7bdaffdd-3710-4da8-af22-c966c10477b8",
   "metadata": {},
   "outputs": [
    {
     "name": "stdout",
     "output_type": "stream",
     "text": [
      "0 2 4 6 8 10 "
     ]
    }
   ],
   "source": [
    "# for loop\n",
    "\n",
    "\n",
    "for i in range(0,11,2):\n",
    "    print(i,end=' ')  #delimeter"
   ]
  },
  {
   "cell_type": "code",
   "execution_count": 1,
   "id": "c6d4c1cf-e03d-43ec-a015-b265c745da99",
   "metadata": {},
   "outputs": [
    {
     "data": {
      "text/plain": [
       "range(0, 10)"
      ]
     },
     "execution_count": 1,
     "metadata": {},
     "output_type": "execute_result"
    }
   ],
   "source": [
    "# 1,10\n",
    "range(10)"
   ]
  },
  {
   "cell_type": "code",
   "execution_count": 2,
   "id": "153d7420-8ed2-4e46-95fc-a84acb71edf6",
   "metadata": {},
   "outputs": [
    {
     "data": {
      "text/plain": [
       "range(1, 10)"
      ]
     },
     "execution_count": 2,
     "metadata": {},
     "output_type": "execute_result"
    }
   ],
   "source": [
    "range(1,10)"
   ]
  },
  {
   "cell_type": "code",
   "execution_count": 4,
   "id": "f5d93d89-43e4-4bdb-a566-642fef87e370",
   "metadata": {},
   "outputs": [
    {
     "name": "stdout",
     "output_type": "stream",
     "text": [
      "1\n",
      "2\n",
      "3\n",
      "4\n",
      "5\n",
      "6\n",
      "7\n",
      "8\n",
      "9\n",
      "10\n"
     ]
    }
   ],
   "source": [
    "for i in range(1,11):\n",
    "    print(i)"
   ]
  },
  {
   "cell_type": "code",
   "execution_count": 7,
   "id": "6063d501-e0d1-4aa5-b1e5-b96e1c70e12a",
   "metadata": {},
   "outputs": [
    {
     "name": "stdout",
     "output_type": "stream",
     "text": [
      "1,2,3,4,5,6,7,8,9,10,"
     ]
    }
   ],
   "source": [
    "for i in range(1,11):\n",
    "    print(i,end=',')"
   ]
  },
  {
   "cell_type": "code",
   "execution_count": 9,
   "id": "5e111a47-5f07-4a1c-bed4-72662c738478",
   "metadata": {},
   "outputs": [
    {
     "name": "stdout",
     "output_type": "stream",
     "text": [
      "10 11 12 13 14 15 16 17 18 19 "
     ]
    }
   ],
   "source": [
    "# set,tuple,list,dictionary,string\n",
    "\n",
    "for abc in range(10,20):\n",
    "    print(abc,end=' ')"
   ]
  },
  {
   "cell_type": "code",
   "execution_count": 16,
   "id": "d70464a6-6fde-40e5-a637-6df70eb02c74",
   "metadata": {},
   "outputs": [
    {
     "name": "stdout",
     "output_type": "stream",
     "text": [
      "['Apple', 'Banana', 'strawberry', 'rupsberry', 'watermelon', 'Muskmelon', 'Pineapple', 'Grapes', 'Mango', 'Litchi', 'Orange']\n",
      "<class 'list'>\n"
     ]
    },
    {
     "data": {
      "text/plain": [
       "11"
      ]
     },
     "execution_count": 16,
     "metadata": {},
     "output_type": "execute_result"
    }
   ],
   "source": [
    "list1=['Apple','Banana','strawberry','rupsberry','watermelon','Muskmelon','Pineapple','Grapes','Mango','Litchi','Orange']\n",
    "print(list1)\n",
    "print(type(list1))\n",
    "\n",
    "\n",
    "len(list1)"
   ]
  },
  {
   "cell_type": "code",
   "execution_count": 15,
   "id": "4e5e4a67-2617-43d6-9793-d74e0e827520",
   "metadata": {},
   "outputs": [
    {
     "name": "stdout",
     "output_type": "stream",
     "text": [
      "Apple\n",
      "Banana\n",
      "strawberry\n",
      "rupsberry\n",
      "watermelon\n",
      "Muskmelon\n",
      "Pineapple\n",
      "Grapes\n",
      "Mango\n",
      "Litchi\n",
      "Orange\n"
     ]
    }
   ],
   "source": [
    "for fruits in list1:\n",
    "    print(fruits)"
   ]
  },
  {
   "cell_type": "code",
   "execution_count": 22,
   "id": "36593607-e367-4005-af7b-16f852d8e1e5",
   "metadata": {},
   "outputs": [
    {
     "name": "stdout",
     "output_type": "stream",
     "text": [
      "0 . Apple\n",
      "1 . Banana\n",
      "2 . strawberry\n",
      "3 . rupsberry\n",
      "4 . watermelon\n",
      "5 . Muskmelon\n",
      "6 . Pineapple\n",
      "7 . Grapes\n",
      "8 . Mango\n",
      "9 . Litchi\n",
      "10 . Orange\n"
     ]
    }
   ],
   "source": [
    "for fruits in range(len(list1)):\n",
    "    print(fruits,'.',list1[fruits])"
   ]
  },
  {
   "cell_type": "code",
   "execution_count": 25,
   "id": "5a91c2e4-f251-4bc8-bb96-1dceec946a57",
   "metadata": {},
   "outputs": [
    {
     "name": "stdout",
     "output_type": "stream",
     "text": [
      "0 Apple\n",
      "1 Banana\n",
      "2 strawberry\n",
      "3 rupsberry\n",
      "4 watermelon\n",
      "5 Muskmelon\n",
      "6 Pineapple\n",
      "7 Grapes\n",
      "8 Mango\n",
      "9 Litchi\n",
      "10 Orange\n"
     ]
    }
   ],
   "source": [
    "for x,y in enumerate(list1):\n",
    "    print(x,y)\n",
    "    "
   ]
  },
  {
   "cell_type": "code",
   "execution_count": 26,
   "id": "123e7ac3-6e92-4d48-9258-86a3ecbc1e67",
   "metadata": {},
   "outputs": [],
   "source": [
    "# write a table \n",
    "\n",
    "# 1x1=1    # 2x1=2\n",
    "# 1x2=2    # 2x2=4\n",
    "# 1x3=3    # 2x3=6\n",
    "# 1x4=4    # 2x4=8\n",
    "# 1x10=10"
   ]
  },
  {
   "cell_type": "code",
   "execution_count": 31,
   "id": "400c972f-4beb-46ed-b27b-86beb909d1fd",
   "metadata": {},
   "outputs": [
    {
     "name": "stdout",
     "output_type": "stream",
     "text": [
      "2 x 1 = 2\n",
      "2 x 2 = 4\n",
      "2 x 3 = 6\n",
      "2 x 4 = 8\n",
      "2 x 5 = 10\n",
      "2 x 6 = 12\n",
      "2 x 7 = 14\n",
      "2 x 8 = 16\n",
      "2 x 9 = 18\n",
      "2 x 10 = 20\n"
     ]
    }
   ],
   "source": [
    "number=9\n",
    "\n",
    "for i in range(1,11):\n",
    "    print(2,'x',i,'=',2*i)"
   ]
  },
  {
   "cell_type": "code",
   "execution_count": 39,
   "id": "15310d75-14bd-405a-a60a-5f8d8a16dfba",
   "metadata": {},
   "outputs": [
    {
     "name": "stdin",
     "output_type": "stream",
     "text": [
      "Enter any number: 10\n",
      "Enter any number: 12\n"
     ]
    },
    {
     "name": "stdout",
     "output_type": "stream",
     "text": [
      "10x1=10,12x1=12 \n",
      "10x2=20,12x2=24 \n",
      "10x3=30,12x3=36 \n",
      "10x4=40,12x4=48 \n",
      "10x5=50,12x5=60 \n",
      "10x6=60,12x6=72 \n",
      "10x7=70,12x7=84 \n",
      "10x8=80,12x8=96 \n",
      "10x9=90,12x9=108 \n",
      "10x10=100,12x10=120 \n"
     ]
    }
   ],
   "source": [
    "number=int(input('Enter any number:'))\n",
    "number1=int(input('Enter any number:'))\n",
    "\n",
    "for i in range(1,11):\n",
    "    print(f\"{number}x{i}={number*i},{number1}x{i}={number1*i} \")"
   ]
  },
  {
   "cell_type": "code",
   "execution_count": 42,
   "id": "2c854e3c-a7a0-4884-9267-b130195a5a82",
   "metadata": {},
   "outputs": [
    {
     "name": "stdin",
     "output_type": "stream",
     "text": [
      "Enter any number: 10\n"
     ]
    },
    {
     "name": "stdout",
     "output_type": "stream",
     "text": [
      "10x1=10\n",
      "10x2=20\n",
      "10x3=30\n",
      "10x4=40\n",
      "10x5=50\n",
      "10x6=60\n",
      "10x7=70\n",
      "10x8=80\n",
      "10x9=90\n",
      "10x10=100\n"
     ]
    }
   ],
   "source": [
    "number=int(input('Enter any number:'))\n",
    "\n",
    "for i in range(1,11):\n",
    "    print('%dx%d=%d'%(number,i,number*i))"
   ]
  },
  {
   "cell_type": "code",
   "execution_count": 58,
   "id": "63248a6f-6f5b-4457-bf78-1711726f2c04",
   "metadata": {},
   "outputs": [
    {
     "name": "stdout",
     "output_type": "stream",
     "text": [
      "Total of this list: 1532.2\n",
      "Average of this list: 153.22\n",
      "Length of this list: 10\n"
     ]
    }
   ],
   "source": [
    "# find total addition,average,length using for loop.\n",
    "\n",
    "data=[10,20,30,40,52.36,89.36,45.25,45,1000,200.23]\n",
    "count=0\n",
    "for i in data:\n",
    "    count+=i\n",
    "print('Total of this list:',count)\n",
    "print('Average of this list:',count/len(data))\n",
    "print('Length of this list:',len(data))"
   ]
  },
  {
   "cell_type": "code",
   "execution_count": 59,
   "id": "0cb168b9-9a55-4b2a-936b-3572148f8490",
   "metadata": {},
   "outputs": [
    {
     "name": "stdout",
     "output_type": "stream",
     "text": [
      "0\n",
      "1\n",
      "2\n",
      "3\n",
      "4\n",
      "5\n",
      "6\n",
      "7\n",
      "8\n",
      "9\n"
     ]
    }
   ],
   "source": [
    "for i in range(10):\n",
    "    print(i)"
   ]
  },
  {
   "cell_type": "code",
   "execution_count": 61,
   "id": "4c776a01-cecc-416c-badc-198460982b98",
   "metadata": {},
   "outputs": [
    {
     "name": "stdout",
     "output_type": "stream",
     "text": [
      "1\n",
      "2\n",
      "3\n",
      "4\n",
      "5\n"
     ]
    }
   ],
   "source": [
    "# break in for loop:\n",
    "for i in range(1,11):\n",
    "    if i==6:\n",
    "        break\n",
    "    print(i)"
   ]
  },
  {
   "cell_type": "code",
   "execution_count": 64,
   "id": "a45914ca-d832-4641-b9e0-48cf61c5a827",
   "metadata": {},
   "outputs": [
    {
     "name": "stdout",
     "output_type": "stream",
     "text": [
      "Apple Banana strawberry rupsberry "
     ]
    }
   ],
   "source": [
    "list1=['Apple','Banana','strawberry','rupsberry','watermelon','Muskmelon','Pineapple','Grapes','Mango','Litchi','Orange']\n",
    "\n",
    "for i in list1:\n",
    "    if i=='watermelon':\n",
    "        break\n",
    "    print(i,end=' ')"
   ]
  },
  {
   "cell_type": "code",
   "execution_count": 65,
   "id": "1d53ada7-0c36-4402-9da7-2244b0ad5270",
   "metadata": {},
   "outputs": [
    {
     "name": "stdout",
     "output_type": "stream",
     "text": [
      "Apple Banana strawberry rupsberry Muskmelon Pineapple Grapes Mango Litchi Orange "
     ]
    }
   ],
   "source": [
    "# continue\n",
    "\n",
    "list1=['Apple','Banana','strawberry','rupsberry','watermelon','Muskmelon','Pineapple','Grapes','Mango','Litchi','Orange']\n",
    "\n",
    "for i in list1:\n",
    "    if i=='watermelon':\n",
    "        continue\n",
    "    print(i,end=' ')"
   ]
  },
  {
   "cell_type": "code",
   "execution_count": 69,
   "id": "a6beeab1-d1e7-4c72-9395-f03ff6b8d7b1",
   "metadata": {},
   "outputs": [
    {
     "name": "stdout",
     "output_type": "stream",
     "text": [
      "Apple Banana strawberry rupsberry watermelon "
     ]
    }
   ],
   "source": [
    "# continue\n",
    "\n",
    "list1=['Apple','Banana','strawberry','rupsberry','watermelon','Muskmelon','Pineapple','Grapes','Mango','Litchi','Orange']\n",
    "\n",
    "for i in list1:\n",
    "    print(i,end=' ')\n",
    "    if i=='watermelon':\n",
    "        break "
   ]
  },
  {
   "cell_type": "code",
   "execution_count": 4,
   "id": "10f4bbed-4605-462f-9ba7-588d1d780844",
   "metadata": {},
   "outputs": [
    {
     "data": {
      "text/plain": [
       "range(1, 10)"
      ]
     },
     "execution_count": 4,
     "metadata": {},
     "output_type": "execute_result"
    }
   ],
   "source": [
    "# While loop\n",
    "range(1,10)"
   ]
  },
  {
   "cell_type": "code",
   "execution_count": 7,
   "id": "b216415c-700d-4db6-bdda-6509c098f337",
   "metadata": {},
   "outputs": [
    {
     "name": "stdout",
     "output_type": "stream",
     "text": [
      "20\n",
      "21\n",
      "22\n",
      "23\n",
      "24\n",
      "25\n",
      "26\n"
     ]
    }
   ],
   "source": [
    "i=20\n",
    "while i<27:\n",
    "    print(i)\n",
    "    i+=1"
   ]
  },
  {
   "cell_type": "code",
   "execution_count": 9,
   "id": "5bddf340-82f3-462b-b783-d7e38e3a8bb8",
   "metadata": {},
   "outputs": [
    {
     "name": "stdout",
     "output_type": "stream",
     "text": [
      "hello world\n"
     ]
    }
   ],
   "source": [
    "i=20\n",
    "while i>27:\n",
    "    print(i)\n",
    "    i+=1\n",
    "else:\n",
    "    print('hello world')"
   ]
  },
  {
   "cell_type": "code",
   "execution_count": 16,
   "id": "85f872e0-3ea6-4666-b094-2ef6dd885a3d",
   "metadata": {},
   "outputs": [
    {
     "name": "stdout",
     "output_type": "stream",
     "text": [
      "1\n",
      "2\n",
      "3\n",
      "4\n",
      "5\n",
      "6\n",
      "7\n",
      "8\n",
      "9\n",
      "10\n",
      "These are numbers from 1 to 20\n"
     ]
    }
   ],
   "source": [
    "i=1\n",
    "while i<=10:\n",
    "    print(i)\n",
    "    i+=1\n",
    "\n",
    "else:\n",
    "    print('These are numbers from 1 to 20')"
   ]
  },
  {
   "cell_type": "code",
   "execution_count": 24,
   "id": "8658b495-21ea-465d-bff3-35b9b03b16c2",
   "metadata": {},
   "outputs": [
    {
     "name": "stdin",
     "output_type": "stream",
     "text": [
      "Enter any number: 10\n"
     ]
    },
    {
     "name": "stdout",
     "output_type": "stream",
     "text": [
      "1\n",
      "2\n",
      "3\n",
      "4\n",
      "5\n",
      "6\n",
      "7\n",
      "8\n",
      "9\n",
      "10\n",
      "These are numbers from 1 to 10\n"
     ]
    }
   ],
   "source": [
    "i=1\n",
    "x=int(input('Enter any number:'))\n",
    "while i<=x:\n",
    "    print(i)\n",
    "    i+=1\n",
    "\n",
    "else:\n",
    "    print(f'These are numbers from 1 to {x}')"
   ]
  },
  {
   "cell_type": "code",
   "execution_count": 26,
   "id": "6aa6218b-25ab-4b4a-ae91-1a81d071280f",
   "metadata": {},
   "outputs": [
    {
     "name": "stdout",
     "output_type": "stream",
     "text": [
      "1\n",
      "3\n",
      "6\n",
      "10\n",
      "15\n",
      "21\n",
      "28\n",
      "36\n",
      "45\n",
      "55\n",
      "The sum of value is:55\n"
     ]
    }
   ],
   "source": [
    "# To perform addition in natural numbers\n",
    "#---------------------------------------------\n",
    "\n",
    "i=1\n",
    "sum1=0\n",
    "while i<=10:\n",
    "    sum1=sum1+i\n",
    "    print(sum1)\n",
    "    i+=1\n",
    "\n",
    "else:\n",
    "    print(f'The sum of value is:{sum1}')"
   ]
  },
  {
   "cell_type": "code",
   "execution_count": 27,
   "id": "f5f906dc-c246-4ef9-abf3-45fcecd9235a",
   "metadata": {},
   "outputs": [],
   "source": [
    "# 1 - 10 sum of even number\n",
    "# 0,2,4,6,8,10= 30 using while loop"
   ]
  },
  {
   "cell_type": "code",
   "execution_count": 30,
   "id": "3a774f0b-ccbf-48da-9eef-e8a76c50fdde",
   "metadata": {},
   "outputs": [
    {
     "name": "stdout",
     "output_type": "stream",
     "text": [
      " The sum of even numbers is : 30\n"
     ]
    }
   ],
   "source": [
    "i=1\n",
    "sum1=0\n",
    "while i<=10:\n",
    "    if i%2==0:\n",
    "        sum1=sum1+i\n",
    "    i+=1\n",
    "else:\n",
    "    print(f' The sum of even numbers is : {sum1}')"
   ]
  },
  {
   "cell_type": "code",
   "execution_count": 36,
   "id": "e02b3bfd-f3ae-4f8e-a04f-a088cb0ec8a8",
   "metadata": {},
   "outputs": [
    {
     "name": "stdout",
     "output_type": "stream",
     "text": [
      "The sum of even numbers given by the user is:30\n"
     ]
    }
   ],
   "source": [
    "# sum of natural number of given numbers.\n",
    "i=1\n",
    "s=0\n",
    "while i<=10:\n",
    "    if i%2==0:\n",
    "        s=s+i\n",
    "        # print(i)\n",
    "    i+=1\n",
    "\n",
    "else:\n",
    "    print(f'The sum of even numbers given by the user is:{s}')"
   ]
  },
  {
   "cell_type": "code",
   "execution_count": 37,
   "id": "a151beb4-0c82-474b-b05a-6be58496a872",
   "metadata": {},
   "outputs": [
    {
     "name": "stdout",
     "output_type": "stream",
     "text": [
      "Sum of odd numbers from 1 to 10 is: 25\n"
     ]
    }
   ],
   "source": [
    "# sum of odd numbers number of given number i.e 10 using while loop.\n",
    "\n",
    "x = 1\n",
    "y = 10\n",
    "sum_of_odd = 0\n",
    "\n",
    "while x <= y :\n",
    "\n",
    "    if x % 2 != 0:\n",
    "        \n",
    "        sum_of_odd += x\n",
    "        \n",
    "    x += 1\n",
    "\n",
    "print(\"Sum of odd numbers from 1 to\", y, \"is:\", sum_of_odd)"
   ]
  },
  {
   "cell_type": "code",
   "execution_count": 46,
   "id": "128a42df-48dd-46d6-9ae8-e7ae356d0f22",
   "metadata": {},
   "outputs": [
    {
     "name": "stdout",
     "output_type": "stream",
     "text": [
      "The sum of odd number is:25\n"
     ]
    }
   ],
   "source": [
    "i=0\n",
    "odd=0\n",
    "while i<=10:\n",
    "    # print(i)\n",
    "    if i%2!=0:\n",
    "        # print(i)\n",
    "        odd=odd+i\n",
    "    i+=1\n",
    "else:\n",
    "    print(f'The sum of odd number is:{odd}')"
   ]
  },
  {
   "cell_type": "code",
   "execution_count": 54,
   "id": "b1f07355-107f-4994-943c-d0de821a9f9b",
   "metadata": {},
   "outputs": [
    {
     "name": "stdin",
     "output_type": "stream",
     "text": [
      "Enter Starting range: 100\n",
      "Enter Ending range: 200\n"
     ]
    },
    {
     "name": "stdout",
     "output_type": "stream",
     "text": [
      "The sum of numbers given by the user is:15150\n"
     ]
    }
   ],
   "source": [
    "# find the sum of number given by the user. 10, 20 ==\n",
    "x=int(input('Enter Starting range:'))\n",
    "y=int(input('Enter Ending range:'))\n",
    "s1=0\n",
    "while x<=y:\n",
    "    s1=s1+x\n",
    "    x+=1\n",
    "\n",
    "else:\n",
    "    print(f'The sum of numbers given by the user is:{s1}')"
   ]
  },
  {
   "cell_type": "code",
   "execution_count": 64,
   "id": "5e012446-0f07-4421-a09d-c1dea0e56929",
   "metadata": {},
   "outputs": [
    {
     "name": "stdin",
     "output_type": "stream",
     "text": [
      "Enter starting range: 10\n",
      "Enter ending range\" 20\n"
     ]
    },
    {
     "name": "stdout",
     "output_type": "stream",
     "text": [
      "Your Generated List is:[10, 12, 14, 16, 18, 20]\n",
      "The sum of starting to ending range which contains even numbers is:90\n"
     ]
    }
   ],
   "source": [
    "# find the sum of even number given by the user. \n",
    "x=int(input('Enter starting range:'))\n",
    "y=int(input('Enter ending range\"'))\n",
    "s1=0\n",
    "list1=[]\n",
    "while x<=y:\n",
    "    if x%2==0:\n",
    "        list1.append(x)\n",
    "        s1=s1+x \n",
    "    x+=1\n",
    "else :\n",
    "    print(f'Your Generated List is:{list1}\\nThe sum of starting to ending range which contains even numbers is:{s1}')"
   ]
  },
  {
   "cell_type": "code",
   "execution_count": 65,
   "id": "a5f1f2d1-d149-4518-bae9-cd199da783b7",
   "metadata": {},
   "outputs": [
    {
     "name": "stdin",
     "output_type": "stream",
     "text": [
      "Enter the first number:  10\n",
      "Enter the second number:  30\n"
     ]
    },
    {
     "name": "stdout",
     "output_type": "stream",
     "text": [
      "Sum of even numbers from 31 to 30 is: 220\n"
     ]
    }
   ],
   "source": [
    "x = int(input('Enter the first number: '))\n",
    "y = int(input('Enter the second number: '))\n",
    "\n",
    "total_even = 0\n",
    "\n",
    "while x <= y:\n",
    "\n",
    "    if x % 2 == 0:\n",
    "        total_even += x\n",
    "    \n",
    "    x += 1\n",
    "\n",
    "print(\"Sum of even numbers from\", x, \"to\", y, \"is:\", total_even)"
   ]
  },
  {
   "cell_type": "code",
   "execution_count": 68,
   "id": "0f4dd05e-908d-4d6e-8d3a-37abe2194ea8",
   "metadata": {},
   "outputs": [
    {
     "name": "stdin",
     "output_type": "stream",
     "text": [
      "Enter starting range: 10\n",
      "Enter ending range\" 20\n"
     ]
    },
    {
     "name": "stdout",
     "output_type": "stream",
     "text": [
      "10,12,14,16,18,20,\n",
      "The sum of starting to ending range which contains even numbers is:90\n"
     ]
    }
   ],
   "source": [
    "# find the sum of even number given by the user. \n",
    "x=int(input('Enter starting range:'))\n",
    "y=int(input('Enter ending range\"'))\n",
    "s1=0\n",
    "\n",
    "while x<=y:\n",
    "    if x%2==0:\n",
    "        print(x,end=',')\n",
    "        s1=s1+x \n",
    "    x+=1\n",
    "else :\n",
    "    print(f'\\nThe sum of starting to ending range which contains even numbers is:{s1}')"
   ]
  },
  {
   "cell_type": "code",
   "execution_count": 69,
   "id": "6c02da2d-8850-443e-8afb-248005c40b25",
   "metadata": {},
   "outputs": [
    {
     "data": {
      "text/plain": [
       "[10, 12, 14, 16, 18, 20]"
      ]
     },
     "execution_count": 69,
     "metadata": {},
     "output_type": "execute_result"
    }
   ],
   "source": [
    "list1"
   ]
  },
  {
   "cell_type": "code",
   "execution_count": 4,
   "id": "684ec876-7be2-4e14-a004-75a8bdf8edb2",
   "metadata": {},
   "outputs": [
    {
     "name": "stdout",
     "output_type": "stream",
     "text": [
      "1\n",
      "2\n",
      "3\n",
      "4\n",
      "5\n"
     ]
    }
   ],
   "source": [
    "# break in while \n",
    "\n",
    "for i in range(1,10):\n",
    "    if i==6:\n",
    "        break\n",
    "    print(i)"
   ]
  },
  {
   "cell_type": "code",
   "execution_count": 8,
   "id": "5d973195-4909-49dc-be5f-e59f486dd4f5",
   "metadata": {},
   "outputs": [
    {
     "name": "stdout",
     "output_type": "stream",
     "text": [
      "1\n",
      "2\n",
      "3\n",
      "4\n",
      "5\n",
      "6\n",
      "7\n",
      "8\n",
      "9\n",
      "10\n"
     ]
    }
   ],
   "source": [
    "i=1\n",
    "while i<=10:\n",
    "    print(i)\n",
    "    i+=1"
   ]
  },
  {
   "cell_type": "code",
   "execution_count": 14,
   "id": "39061a84-23d9-489e-8345-3565220663ac",
   "metadata": {},
   "outputs": [
    {
     "name": "stdout",
     "output_type": "stream",
     "text": [
      "1\n",
      "2\n",
      "3\n",
      "4\n",
      "5\n",
      "6\n"
     ]
    }
   ],
   "source": [
    "i=1\n",
    "while i<=10:\n",
    "    \n",
    "    if i==6:\n",
    "        break\n",
    "        \n",
    "    \n",
    "    i+=1"
   ]
  },
  {
   "cell_type": "code",
   "execution_count": 3,
   "id": "3dd25c66-72d7-497c-a447-832abd8fc135",
   "metadata": {},
   "outputs": [
    {
     "name": "stdout",
     "output_type": "stream",
     "text": [
      "0\n",
      "1\n",
      "2\n",
      "3\n",
      "4\n"
     ]
    }
   ],
   "source": [
    "i=0\n",
    "while i<=10:\n",
    "    print(i)\n",
    "    i+=1\n",
    "    if i==5:\n",
    "        break\n",
    "    "
   ]
  },
  {
   "cell_type": "code",
   "execution_count": 7,
   "id": "9d709b2c-a1ca-40d3-9fab-58f9207234f2",
   "metadata": {},
   "outputs": [
    {
     "name": "stdout",
     "output_type": "stream",
     "text": [
      "0\n",
      "1\n",
      "2\n",
      "3\n",
      "4\n",
      "5\n",
      "6\n",
      "7\n",
      "8\n",
      "9\n",
      "10\n"
     ]
    }
   ],
   "source": [
    "i=0\n",
    "while i<=10:\n",
    "    print(i)\n",
    "    \n",
    "    i+=1\n",
    "    if i==5:\n",
    "        continue\n",
    "   "
   ]
  },
  {
   "cell_type": "code",
   "execution_count": 10,
   "id": "cdd9b4ce-9d95-4206-ada6-86c9939be260",
   "metadata": {},
   "outputs": [
    {
     "name": "stdout",
     "output_type": "stream",
     "text": [
      "1\n",
      "2\n",
      "3\n",
      "4\n",
      "6\n",
      "7\n",
      "8\n",
      "9\n",
      "10\n",
      "11\n"
     ]
    }
   ],
   "source": [
    "i=0\n",
    "while i<=10:\n",
    "    \n",
    "    i+=1\n",
    "    if i==5:\n",
    "        continue\n",
    "    print(i)\n",
    "    "
   ]
  },
  {
   "cell_type": "code",
   "execution_count": 14,
   "id": "11f5d344-292c-48f6-a67a-7ca4fa2065e5",
   "metadata": {},
   "outputs": [
    {
     "name": "stdout",
     "output_type": "stream",
     "text": [
      "2x1=2\n",
      "2x2=4\n",
      "2x3=6\n",
      "2x4=8\n",
      "2x5=10\n",
      "2x6=12\n",
      "2x7=14\n",
      "2x8=16\n",
      "2x9=18\n",
      "2x10=20\n"
     ]
    }
   ],
   "source": [
    "i=1\n",
    "val=2\n",
    "while i<=10:\n",
    "    print(f'{val}x{i}={val*i}')\n",
    "    i+=1"
   ]
  },
  {
   "cell_type": "code",
   "execution_count": 16,
   "id": "32befc50-5565-4f04-ba77-1bf8e54ba325",
   "metadata": {},
   "outputs": [
    {
     "name": "stdout",
     "output_type": "stream",
     "text": [
      "2x1=2\n",
      "2x2=4\n",
      "2x3=6\n",
      "2x4=8\n",
      "2x5=10\n",
      "2x6=12\n",
      "2x7=14\n",
      "2x8=16\n",
      "2x9=18\n",
      "2x10=20\n"
     ]
    }
   ],
   "source": [
    "i=1\n",
    "table=2\n",
    "\n",
    "while i<=10:\n",
    "    print('%dx%d=%d'%(table,i,table*i))\n",
    "    i+=1"
   ]
  },
  {
   "cell_type": "code",
   "execution_count": 33,
   "id": "b8630597-8238-4aec-a312-559dccb24d0f",
   "metadata": {},
   "outputs": [
    {
     "name": "stdout",
     "output_type": "stream",
     "text": [
      "The sum of the list is: 550\n"
     ]
    }
   ],
   "source": [
    "# [10,20,30,40,50,60,70,80,90,100] find their sum using while loop\n",
    "x=[10,20,30,40,50,60,70,80,90,100]\n",
    "i=0\n",
    "sum1=0\n",
    "while i<len(x):\n",
    "    sum1=sum1+x[i]\n",
    "    i=i+1\n",
    "\n",
    "else:\n",
    "    print('The sum of the list is:',sum1)"
   ]
  },
  {
   "cell_type": "code",
   "execution_count": 32,
   "id": "f555d970-1358-4d64-9364-1e41a682846e",
   "metadata": {},
   "outputs": [
    {
     "name": "stdout",
     "output_type": "stream",
     "text": [
      "The sum of total number is: 550\n"
     ]
    }
   ],
   "source": [
    "numbers = [10, 20, 30, 40, 50, 60, 70, 80, 90, 100]\n",
    "\n",
    "x = 0\n",
    "y = 0\n",
    "\n",
    "while y < len(numbers):\n",
    "    x += numbers[y]\n",
    "    y += 1\n",
    "\n",
    "print(\"The sum of total number is:\", x)"
   ]
  },
  {
   "cell_type": "code",
   "execution_count": 34,
   "id": "ef23e249-2fab-403f-8bb5-3096a78e277e",
   "metadata": {},
   "outputs": [],
   "source": [
    "# Find the 50 natural numbers.  1,2,3.............................50 using while looop\n",
    "# whole numers: Number started with 0."
   ]
  },
  {
   "cell_type": "code",
   "execution_count": 35,
   "id": "c44dba05-b7b8-49c0-814e-c3a3d4b38dee",
   "metadata": {},
   "outputs": [
    {
     "name": "stdout",
     "output_type": "stream",
     "text": [
      "The sum of the first 50 natural numbers is: 1275\n"
     ]
    }
   ],
   "source": [
    "i = 1 \n",
    "y =0\n",
    "while i <= 50:\n",
    "    y += i  \n",
    "    i += 1      \n",
    "\n",
    "print(\"The sum of the first 50 natural numbers is:\",y)"
   ]
  },
  {
   "cell_type": "code",
   "execution_count": 38,
   "id": "f01f42a8-8b81-40f9-b0d1-721bdcb59967",
   "metadata": {},
   "outputs": [
    {
     "name": "stdout",
     "output_type": "stream",
     "text": [
      "The sum of the first 50 natural numbers is: 1275\n"
     ]
    }
   ],
   "source": [
    "i=1\n",
    "sum2=0\n",
    "while i<=50:\n",
    "    sum2=sum2+i\n",
    "    i+=1\n",
    "else:\n",
    "    print('The sum of the first 50 natural numbers is:',sum2)"
   ]
  },
  {
   "cell_type": "code",
   "execution_count": 41,
   "id": "68b931ed-a860-4dc3-aea0-77de3734279e",
   "metadata": {},
   "outputs": [
    {
     "name": "stdout",
     "output_type": "stream",
     "text": [
      "the sum of natural numbers is 1275\n"
     ]
    }
   ],
   "source": [
    "i=1\n",
    "sum1=0\n",
    "while i<=50:\n",
    "    sum1=sum1+i\n",
    "    i+=1\n",
    "else:\n",
    "    print('the sum of natural numbers is',sum1)"
   ]
  },
  {
   "cell_type": "code",
   "execution_count": 48,
   "id": "dfc6279b-5cb0-4367-9eef-efe5b2df3579",
   "metadata": {},
   "outputs": [
    {
     "name": "stdout",
     "output_type": "stream",
     "text": [
      "the sum of natural numbers is\n",
      " [2, 4, 6, 8, 10, 12, 14, 16, 18, 20, 22, 24, 26, 28, 30, 32, 34, 36, 38, 40, 42, 44, 46, 48, 50] \n",
      " 650\n"
     ]
    }
   ],
   "source": [
    "# find the sum of first 50 even natural numbers.\n",
    "# 2,4,6,8,10,.......................................50.\n",
    "i=1\n",
    "even_list=[]\n",
    "sum1=0\n",
    "while i<=50:\n",
    "    if i%2==0:\n",
    "        even_list.append(i)\n",
    "        sum1=sum1+i\n",
    "    i+=1\n",
    "else:\n",
    "    print('the sum of natural numbers is\\n',even_list,'\\n',sum1)"
   ]
  },
  {
   "cell_type": "code",
   "execution_count": 67,
   "id": "33c80f8e-96e8-4c8c-b1a1-b03a0aad054f",
   "metadata": {},
   "outputs": [
    {
     "name": "stdout",
     "output_type": "stream",
     "text": [
      "625 \n",
      " [1, 3, 5, 7, 9, 11, 13, 15, 17, 19, 21, 23, 25, 27, 29, 31, 33, 35, 37, 39, 41, 43, 45, 47, 49]\n"
     ]
    }
   ],
   "source": [
    "# find the sum of first 50 odd natural using while loop.\n",
    "\n",
    "i=0\n",
    "sum1=0\n",
    "odd_num=[]\n",
    "while i<=50:\n",
    "    if i%2!=0:\n",
    "        odd_num.append(i)\n",
    "        sum1+=i\n",
    "    i+=1\n",
    "\n",
    "print(sum1,'\\n',odd_num)"
   ]
  },
  {
   "cell_type": "code",
   "execution_count": null,
   "id": "e908607f-c281-48dd-b66b-32e43722f60c",
   "metadata": {},
   "outputs": [],
   "source": []
  },
  {
   "cell_type": "code",
   "execution_count": 62,
   "id": "4070c54a-9ec9-4bf4-99a3-a99c565be042",
   "metadata": {},
   "outputs": [
    {
     "name": "stdout",
     "output_type": "stream",
     "text": [
      "the sum of 50 natural odd no.s is\n",
      " [1, 3, 5, 7, 9, 11, 13, 15, 17, 19, 21, 23, 25, 27, 29, 31, 33, 35, 37, 39, 41, 43, 45, 47, 49] \n",
      " 625\n"
     ]
    }
   ],
   "source": [
    "odd_list=[]\n",
    "sum1=0\n",
    "i=0\n",
    "while i<=50:\n",
    "    if i%2!=0:\n",
    "        odd_list.append(i)\n",
    "        sum1=sum1+i\n",
    "    i+=1\n",
    "else:\n",
    "    print('the sum of 50 natural odd no.s is\\n',odd_list,'\\n',sum1)"
   ]
  },
  {
   "cell_type": "code",
   "execution_count": null,
   "id": "bd5dd2c8-9e3f-40b7-b7b9-beb17b9f08b2",
   "metadata": {},
   "outputs": [],
   "source": [
    "# find the sum of even and odd numbers of first 50 natural numbers display their list of even and odd numbers.\n",
    "# even_num=[2,4,6,8.....................50]\n",
    "# even_number:=0\n",
    "# odd_num=[1,3,5,7....................49]\n",
    "# odd_number:-0"
   ]
  },
  {
   "cell_type": "code",
   "execution_count": 1,
   "id": "ebb084f8-950a-49bf-a9a5-4ee8fe36909c",
   "metadata": {},
   "outputs": [
    {
     "name": "stdout",
     "output_type": "stream",
     "text": [
      "Sum of even numbers: 650\n",
      "Sum of odd numbers: 625\n"
     ]
    }
   ],
   "source": [
    "even_sum = 0\n",
    "odd_sum = 0\n",
    "\n",
    "even_num = list(range(2, 51, 2))\n",
    "odd_num = list(range(1, 50, 2))\n",
    "\n",
    "even_num1 = 0\n",
    "while even_num1 < len(even_num):\n",
    "    even_sum += even_num[even_num1]\n",
    "    even_num1 += 1\n",
    "\n",
    "odd_num1 = 0\n",
    "while odd_num1 < len(odd_num):\n",
    "    odd_sum += odd_num[odd_num1]\n",
    "    odd_num1 += 1\n",
    "\n",
    "print(\"Sum of even numbers:\", even_sum)\n",
    "print(\"Sum of odd numbers:\", odd_sum)"
   ]
  },
  {
   "cell_type": "code",
   "execution_count": 9,
   "id": "bed656be-b247-4335-aff0-f88893a4995b",
   "metadata": {},
   "outputs": [
    {
     "name": "stdout",
     "output_type": "stream",
     "text": [
      "Even Number is: [0, 2, 4, 6, 8, 10, 12, 14, 16, 18, 20, 22, 24, 26, 28, 30, 32, 34, 36, 38, 40, 42, 44, 46, 48, 50] \n",
      "Total Even Sum is: 650 \n",
      "Odd Num List is: [1, 3, 5, 7, 9, 11, 13, 15, 17, 19, 21, 23, 25, 27, 29, 31, 33, 35, 37, 39, 41, 43, 45, 47, 49] \n",
      "Sum of Odd list is: 625\n"
     ]
    }
   ],
   "source": [
    "i=0\n",
    "even_list=[]\n",
    "sum_even=0\n",
    "odd_list=[]\n",
    "sum_odd=0\n",
    "while i<=50:\n",
    "    if i%2==0:\n",
    "        even_list.append(i)\n",
    "        sum_even=sum_even+i\n",
    "    else:\n",
    "        odd_list.append(i)\n",
    "        sum_odd+=i\n",
    "    i=i+1\n",
    "\n",
    "else:\n",
    "    print('Even Number is:',even_list,'\\nTotal Even Sum is:',sum_even,\"\\nOdd Num List is:\",odd_list,'\\nSum of Odd list is:',sum_odd)"
   ]
  },
  {
   "cell_type": "code",
   "execution_count": null,
   "id": "5636fe58-dfac-45cb-b977-d5937f1e094d",
   "metadata": {},
   "outputs": [],
   "source": [
    "# write numbers name ex.1-->Odd number,2--Even number ..................................20 using while loop."
   ]
  },
  {
   "cell_type": "code",
   "execution_count": 19,
   "id": "35c43d46-b40a-4ca2-9ecd-31ecd44b4f3b",
   "metadata": {},
   "outputs": [
    {
     "name": "stdin",
     "output_type": "stream",
     "text": [
      "Enter any number: 50\n"
     ]
    },
    {
     "name": "stdout",
     "output_type": "stream",
     "text": [
      "0 :Even Number\n",
      "1 :Odd Number\n",
      "2 :Even Number\n",
      "3 :Odd Number\n",
      "4 :Even Number\n",
      "5 :Odd Number\n",
      "6 :Even Number\n",
      "7 :Odd Number\n",
      "8 :Even Number\n",
      "9 :Odd Number\n",
      "10 :Even Number\n",
      "11 :Odd Number\n",
      "12 :Even Number\n",
      "13 :Odd Number\n",
      "14 :Even Number\n",
      "15 :Odd Number\n",
      "16 :Even Number\n",
      "17 :Odd Number\n",
      "18 :Even Number\n",
      "19 :Odd Number\n",
      "20 :Even Number\n",
      "21 :Odd Number\n",
      "22 :Even Number\n",
      "23 :Odd Number\n",
      "24 :Even Number\n",
      "25 :Odd Number\n",
      "26 :Even Number\n",
      "27 :Odd Number\n",
      "28 :Even Number\n",
      "29 :Odd Number\n",
      "30 :Even Number\n",
      "31 :Odd Number\n",
      "32 :Even Number\n",
      "33 :Odd Number\n",
      "34 :Even Number\n",
      "35 :Odd Number\n",
      "36 :Even Number\n",
      "37 :Odd Number\n",
      "38 :Even Number\n",
      "39 :Odd Number\n",
      "40 :Even Number\n",
      "41 :Odd Number\n",
      "42 :Even Number\n",
      "43 :Odd Number\n",
      "44 :Even Number\n",
      "45 :Odd Number\n",
      "46 :Even Number\n",
      "47 :Odd Number\n",
      "48 :Even Number\n",
      "49 :Odd Number\n",
      "50 :Even Number\n"
     ]
    }
   ],
   "source": [
    "i=0\n",
    "user1=int(input('Enter any number:'))\n",
    "while i<=user1:\n",
    "    if i%2==0:\n",
    "        print(i,':Even Number')\n",
    "    else:\n",
    "        print(i,':Odd Number')\n",
    "    i+=1"
   ]
  },
  {
   "cell_type": "code",
   "execution_count": 45,
   "id": "0f52f5ef-fa32-4724-b38b-1ba915af521d",
   "metadata": {},
   "outputs": [
    {
     "name": "stdout",
     "output_type": "stream",
     "text": [
      "Positive list is:[10, 20, 15, 47, 78, 452, 74, 325, 65, 85.36]=1171.36\n",
      "Negative List is:[-98, -100, -69, -300, -200.02, -41.89, -78.36, -45.2]=-932.47\n"
     ]
    }
   ],
   "source": [
    "#numbers:[10,20,15,47,-98,78,-100,-69,452,-300,74,325,65,-200.02,85.36,-41.89,-78.36,-45.20]\n",
    "\n",
    "# sum of positive and sum of negative value.\n",
    "numbers=[10,20,15,47,-98,78,-100,-69,452,-300,74,325,65,-200.02,85.36,-41.89,-78.36,-45.20]\n",
    "\n",
    "\n",
    "i=0\n",
    "positive_num=[]\n",
    "sum1=0\n",
    "negative_num=[]\n",
    "neg=0\n",
    "while i<len(numbers):\n",
    "    if numbers[i]>0:\n",
    "        positive_num.append(numbers[i])\n",
    "        sum1=sum1+numbers[i]\n",
    "    else:\n",
    "        negative_num.append(numbers[i])\n",
    "        neg=neg+numbers[i]\n",
    "    i+=1\n",
    "\n",
    "else:\n",
    "    print(f'Positive list is:{positive_num}={sum1}\\nNegative List is:{negative_num}={neg}')"
   ]
  },
  {
   "cell_type": "code",
   "execution_count": 1,
   "id": "1e0a3e89-6819-433a-b141-b0f37c4005d9",
   "metadata": {},
   "outputs": [],
   "source": [
    "#1. Given the list of names count the numbers having more than five characters.\n",
    "# list1=['Google',\"Yahoo\",\"Welcome\",\"John\",\"bob\",\"pritam\",\"Ruspberry\",\"Cat\",\"Animal\",\"Mahi\",\"Sonal\"]\n",
    "\n",
    "# 2.Given a list of 10 names from user input, after that filter then name which is starting the charcter of \"B\" letter.\n",
    "\n",
    "\n",
    "# 3. Write a program to print first 10 integers and their squares using while loop. EX:- [1-->1, 2-->4,3-->9........10-->100]\n",
    "\n",
    "# 4. Write while loop statement to print the following series: EX:-[10,20,30,40,50,60,70.............300]\n",
    "\n",
    "#5. Write a while loop statement to print the following series..EX:-[105,98,91,.......................7]\n",
    "\n",
    "#6. Write a while loop to print the first 10 natural number in reverse order using while loop.\n",
    "\n",
    "#7. Write a program to print sum of first 50 whole numbers.\n",
    "\n",
    "#8. Write a program to print all even numbers that falls between two numbers(exclusing both numbers) entered from the user using\n",
    "# while loop.\n",
    "\n",
    "# 9. Write a program to check whether a number is prime or not using while loop.\n",
    "\n",
    "# 10. Write a program to find the sum of the digits of a number accepted from the user."
   ]
  },
  {
   "cell_type": "code",
   "execution_count": 4,
   "id": "43bfe457-78bb-4827-b965-a6cb2be51a27",
   "metadata": {},
   "outputs": [
    {
     "name": "stdout",
     "output_type": "stream",
     "text": [
      "['google', 'welcome', 'pritam', 'raspberry', 'animal'] \n",
      " ['yahoo', 'john', 'bob', 'cat', 'mahi', 'sonal']\n"
     ]
    }
   ],
   "source": [
    "# Using for loop\n",
    "names = [\"google\", \"yahoo\", \"welcome\", \"john\", \"bob\", \"pritam\", \"raspberry\", \"cat\", \"animal\", \"mahi\", \"sonal\"]\n",
    "\n",
    "More_than_5char=[]\n",
    "Less_than_5char=[]\n",
    "for name in names:\n",
    "    if len(name) <= 5:\n",
    "        Less_than_5char.append(name)\n",
    "    else:\n",
    "        More_than_5char.append(name)\n",
    "\n",
    "\n",
    "else:\n",
    "    print(More_than_5char,\"\\n\",Less_than_5char)"
   ]
  },
  {
   "cell_type": "code",
   "execution_count": 10,
   "id": "ddf045b3-2a5b-4501-8a7d-fd1e1f9b13ae",
   "metadata": {},
   "outputs": [
    {
     "name": "stdout",
     "output_type": "stream",
     "text": [
      "Words having more than five characters are : ['Google', 'Welcome', 'Pritam', 'Raspberry', 'Animal']\n"
     ]
    }
   ],
   "source": [
    "list1 = ['Google','Yahoo','Welcome','John','Bob','Pritam','Raspberry','Cat','Animal','Mahi','Sonal']\n",
    "\n",
    "new_list = []\n",
    "for i in list1:\n",
    "    if len(i)>5:\n",
    "        new_list.append(i)\n",
    "print(\"Words having more than five characters are :\",new_list)"
   ]
  },
  {
   "cell_type": "code",
   "execution_count": 20,
   "id": "834c842f-ca14-4b1c-aafe-9c897d91b4a5",
   "metadata": {},
   "outputs": [
    {
     "name": "stdout",
     "output_type": "stream",
     "text": [
      "['Google', 'Welcome', 'Pritam', 'Raspberry', 'Animal'] \n",
      " ['Yahoo', 'John', 'Bob', 'Cat', 'Mahi', 'Sonal']\n"
     ]
    }
   ],
   "source": [
    "i=0\n",
    "list_2=[]\n",
    "list_3=[]\n",
    "while i<len(list1):\n",
    "    if len(list1[i])>5:\n",
    "       list_2.append(list1[i])\n",
    "\n",
    "    else:\n",
    "        list_3.append(list1[i])\n",
    "    i+=1\n",
    "else:\n",
    "    print(list_2,'\\n',list_3)"
   ]
  },
  {
   "cell_type": "code",
   "execution_count": 40,
   "id": "a25a52b9-d846-4532-b922-0f03c4e3172a",
   "metadata": {},
   "outputs": [
    {
     "name": "stdin",
     "output_type": "stream",
     "text": [
      "Enter name1 bablu\n",
      "Enter name2 a\n",
      "Enter name3 a\n",
      "Enter name4 a\n",
      "Enter name5 a\n",
      "Enter name6 a\n",
      "Enter name7 a\n",
      "Enter name8 a\n",
      "Enter name9 a\n",
      "Enter name10 a\n"
     ]
    },
    {
     "name": "stdout",
     "output_type": "stream",
     "text": [
      "['bablu', 'a', 'a', 'a', 'a', 'a', 'a', 'a', 'a', 'a']\n",
      "Words starting with 'b' are:  ['bablu']\n"
     ]
    }
   ],
   "source": [
    "#Given list of 10 names from user input, after that filter starting with 'b'\n",
    "\n",
    "list_1 = []\n",
    "for i in range(1,11):\n",
    "    word = input(f\"Enter name{i}\")\n",
    "    list_1.append(word)\n",
    "print(list_1)\n",
    "\n",
    "\n",
    "b_list = []\n",
    "for words in list_1:\n",
    "    if words.lower().startswith('b'):\n",
    "        b_list.append(words)\n",
    "print(\"Words starting with 'b' are: \",b_list)"
   ]
  },
  {
   "cell_type": "code",
   "execution_count": 41,
   "id": "b4b5136e-6848-4a54-ab5c-853997fad49d",
   "metadata": {},
   "outputs": [
    {
     "name": "stdin",
     "output_type": "stream",
     "text": [
      "Enter name 1 Bablu\n",
      "Enter name 2 Dablu\n",
      "Enter name 3 Babli\n",
      "Enter name 4 a\n",
      "Enter name 5 a\n",
      "Enter name 6 a\n",
      "Enter name 7 a\n",
      "Enter name 8 a\n",
      "Enter name 9 a\n",
      "Enter name 10 a\n"
     ]
    },
    {
     "name": "stdout",
     "output_type": "stream",
     "text": [
      "List of your names :  ['Bablu', 'Dablu', 'Babli', 'a', 'a', 'a', 'a', 'a', 'a', 'a']\n",
      "Starting with b words are: ['Bablu', 'Babli']\n"
     ]
    }
   ],
   "source": [
    "names = []\n",
    "b = []\n",
    "for i in range(1,11):\n",
    "    x = input(f\"Enter name {i}\")\n",
    "    names.append(x)\n",
    "print(\"List of your names : \",names)\n",
    "for y in names:\n",
    "    if y[0].lower()==\"b\":\n",
    "        b.append(y)\n",
    "print(\"Starting with b words are:\",b)"
   ]
  },
  {
   "cell_type": "code",
   "execution_count": null,
   "id": "c710e42f-227e-42bc-ae6d-b06e7ec5dffa",
   "metadata": {},
   "outputs": [],
   "source": [
    "# 3. Write a program to print first 10 integers and their squares using while loop. EX:- [1-->1, 2-->4,3-->9........10-->100]\n"
   ]
  },
  {
   "cell_type": "code",
   "execution_count": 8,
   "id": "e7281e57-1371-46e6-8131-98cc7d035b64",
   "metadata": {},
   "outputs": [
    {
     "name": "stdout",
     "output_type": "stream",
     "text": [
      "Number--Value \n",
      "--------------\n",
      "1 --> = 1\n",
      "2 --> = 4\n",
      "3 --> = 9\n",
      "4 --> = 16\n",
      "5 --> = 25\n",
      "6 --> = 36\n",
      "7 --> = 49\n",
      "8 --> = 64\n",
      "9 --> = 81\n",
      "10 --> = 100\n"
     ]
    }
   ],
   "source": [
    "# sahil\n",
    "\n",
    "num = 1\n",
    "print(\"Number--Value\",'\\n--------------')\n",
    "while num <= 10:\n",
    "    square = num ** 2\n",
    "    print(f\"{num} --> = {square}\")\n",
    "    num += 1"
   ]
  },
  {
   "cell_type": "code",
   "execution_count": 11,
   "id": "0431fe40-56f9-4b8f-a3b0-2fe06c17c8c3",
   "metadata": {},
   "outputs": [
    {
     "name": "stdout",
     "output_type": "stream",
     "text": [
      "10,20,30,40,50,60,70,80,90,100,110,120,130,140,150,160,170,180,190,200,210,220,230,240,250,260,270,280,290,300,"
     ]
    }
   ],
   "source": [
    "# 4. Write while loop statement to print the following series: EX:-[10,20,30,40,50,60,70.............300]\n",
    "\n",
    "num=10\n",
    "\n",
    "while num<=300:\n",
    "    print(num,end=',')\n",
    "\n",
    "    num+=10\n",
    "    #num=num+10"
   ]
  },
  {
   "cell_type": "code",
   "execution_count": 13,
   "id": "dfba58c8-42a7-4f42-92a5-c84becc2c2b7",
   "metadata": {},
   "outputs": [
    {
     "name": "stdout",
     "output_type": "stream",
     "text": [
      "105,98,91,84,77,70,63,56,49,42,35,28,21,14,7,"
     ]
    }
   ],
   "source": [
    "#5. Write a while loop statement to print the following series..EX:-[105,98,91,.......................7]\n",
    "\n",
    "\n",
    "num=105\n",
    "\n",
    "while num>=7:\n",
    "    print(num,end=',')\n",
    "\n",
    "    num-=7"
   ]
  },
  {
   "cell_type": "code",
   "execution_count": 17,
   "id": "6d9a6dab-6f3a-47dd-95d3-6a239ddd4dcf",
   "metadata": {},
   "outputs": [
    {
     "name": "stdout",
     "output_type": "stream",
     "text": [
      "105\n",
      "98\n",
      "91\n",
      "84\n",
      "77\n",
      "70\n",
      "63\n",
      "56\n",
      "49\n",
      "42\n",
      "35\n",
      "28\n",
      "21\n",
      "14\n"
     ]
    }
   ],
   "source": [
    "for i in range(105,7,-7):\n",
    "    print(i)"
   ]
  },
  {
   "cell_type": "code",
   "execution_count": 20,
   "id": "bef50a01-d579-436f-9af6-c39d2be6a19d",
   "metadata": {},
   "outputs": [
    {
     "name": "stdout",
     "output_type": "stream",
     "text": [
      "10\n",
      "9\n",
      "8\n",
      "7\n",
      "6\n",
      "5\n",
      "4\n",
      "3\n",
      "2\n",
      "1\n"
     ]
    }
   ],
   "source": [
    "#6. Write a while loop to print the first 10 natural number in reverse order using while loop.\n",
    "\n",
    "i=10\n",
    "while i>0:\n",
    "    print(i)\n",
    "    i-=1"
   ]
  },
  {
   "cell_type": "code",
   "execution_count": 28,
   "id": "29953122-ce1c-4dc3-866e-69243fd3b308",
   "metadata": {},
   "outputs": [
    {
     "name": "stdout",
     "output_type": "stream",
     "text": [
      "0 1 2 3 4 5 6 7 8 9 10 11 12 13 14 15 16 17 18 19 20 21 22 23 24 25 26 27 28 29 30 31 32 33 34 35 36 37 38 39 40 41 42 43 44 45 46 47 48 49 50 = 1275\n"
     ]
    }
   ],
   "source": [
    "#7. Write a program to print sum of first 50 whole numbers.\n",
    "i=0\n",
    "sum1=0\n",
    "while i<=50:\n",
    "    print(i,end=' ')\n",
    "    sum1=sum1+i\n",
    "    i+=1\n",
    "\n",
    "print('=',sum1)"
   ]
  },
  {
   "cell_type": "code",
   "execution_count": 46,
   "id": "72a48707-b13b-4ad1-b8e5-b39840003d35",
   "metadata": {},
   "outputs": [
    {
     "name": "stdin",
     "output_type": "stream",
     "text": [
      "Enter first Number: 10\n",
      "Enter Second Numberr 20\n"
     ]
    },
    {
     "name": "stdout",
     "output_type": "stream",
     "text": [
      "12\n",
      "14\n",
      "16\n",
      "18\n"
     ]
    }
   ],
   "source": [
    "#8. Write a program to print all even numbers that falls between two numbers(exclusing both numbers) entered from the user using\n",
    "# while loop.\n",
    "\n",
    "num1=int(input('Enter first Number:'))  #10 , 12,14,16,18\n",
    "num2=int(input('Enter Second Numberr'))  #20\n",
    "x=num1+1\n",
    "while x<num2:\n",
    "    if x%2==0:\n",
    "        print(x)\n",
    "    x+=1"
   ]
  },
  {
   "cell_type": "code",
   "execution_count": 47,
   "id": "2172deca-c0ae-4255-80f3-8aaee4a693e8",
   "metadata": {},
   "outputs": [
    {
     "name": "stdin",
     "output_type": "stream",
     "text": [
      "Enter the first number:  10\n",
      "Enter the second number:  20\n"
     ]
    },
    {
     "name": "stdout",
     "output_type": "stream",
     "text": [
      "Even numbers between 10 and 20 are:\n",
      "12\n",
      "14\n",
      "16\n",
      "18\n"
     ]
    }
   ],
   "source": [
    "num1 = int(input(\"Enter the first number: \"))\n",
    "num2 = int(input(\"Enter the second number: \"))\n",
    "\n",
    "if num1 >= num2:\n",
    "    print(\"Error: Starting number should be less than the ending number.\")\n",
    "else:\n",
    "    i = num1 + 1\n",
    "    print(\"Even numbers between\", num1, \"and\", num2, \"are:\")\n",
    "    while i < num2:\n",
    "        if i % 2 == 0:\n",
    "            print(i)\n",
    "        i += 1"
   ]
  },
  {
   "cell_type": "code",
   "execution_count": 59,
   "id": "2728165f-cec6-4c97-829a-19c2f9d704de",
   "metadata": {},
   "outputs": [
    {
     "name": "stdin",
     "output_type": "stream",
     "text": [
      "Enter a number: 141\n"
     ]
    },
    {
     "name": "stdout",
     "output_type": "stream",
     "text": [
      "141 :not prime number\n"
     ]
    }
   ],
   "source": [
    "# 9. Write a program to check whether a number is prime or not using while loop.\n",
    "# 0,1, prime number 2,3,5,7,11,13,17...............................and so on.\n",
    "\n",
    "num1=int(input('Enter a number:'))\n",
    "\n",
    "prime=True\n",
    "\n",
    "i=2\n",
    "\n",
    "while i<=num1 //2:\n",
    "    if num1%i ==0:\n",
    "        prime=False\n",
    "    i+=1\n",
    "\n",
    "\n",
    "if prime:\n",
    "    print(num1,':prime number')\n",
    "    \n",
    "else:\n",
    "    print(num1,':not prime number')"
   ]
  },
  {
   "cell_type": "code",
   "execution_count": null,
   "id": "14156f6f-3788-4b1d-bf37-a6541f799ded",
   "metadata": {},
   "outputs": [],
   "source": [
    "###### num = int(input(\"Enter a number: \"))\n",
    "\n",
    "x = 1 \n",
    "\n",
    "if num <= 1:\n",
    "    x = 0 \n",
    "else:\n",
    "    i = 2\n",
    "    while i <= num // 2:\n",
    "        if num % i == 0:\n",
    "            x = 0        \n",
    "        i += 1\n",
    "if x == 1:\n",
    "    print(num, \"is a prime number\")\n",
    "else:\n",
    "    print(num, \"is not a prime number\")"
   ]
  },
  {
   "cell_type": "code",
   "execution_count": 60,
   "id": "257537ee-818e-4158-b751-ef81082e39c4",
   "metadata": {},
   "outputs": [
    {
     "ename": "SyntaxError",
     "evalue": "invalid syntax (564610601.py, line 1)",
     "output_type": "error",
     "traceback": [
      "\u001b[1;36m  Cell \u001b[1;32mIn[60], line 1\u001b[1;36m\u001b[0m\n\u001b[1;33m    True,False,pass\u001b[0m\n\u001b[1;37m               ^\u001b[0m\n\u001b[1;31mSyntaxError\u001b[0m\u001b[1;31m:\u001b[0m invalid syntax\n"
     ]
    }
   ],
   "source": [
    "True,False,pass"
   ]
  },
  {
   "cell_type": "code",
   "execution_count": 61,
   "id": "2b43da50-6da2-456e-8a88-9dd0a748d699",
   "metadata": {},
   "outputs": [
    {
     "name": "stdin",
     "output_type": "stream",
     "text": [
      "Enter numbers without comma :  10256987\n"
     ]
    },
    {
     "name": "stdout",
     "output_type": "stream",
     "text": [
      "['1', '0', '2', '5', '6', '9', '8', '7']\n",
      "38\n"
     ]
    }
   ],
   "source": [
    "# 10. Write a program to find the sum of the digits of a number accepted from the user.\n",
    "\n",
    "\n",
    "n = (input(\"Enter numbers without comma : \"))\n",
    "x = []\n",
    "x.extend(n)\n",
    "print(x)\n",
    "num = 0\n",
    "while num < len(x):\n",
    "    for i in x:\n",
    "        num+=int(i)\n",
    "    print(num)"
   ]
  },
  {
   "cell_type": "code",
   "execution_count": 76,
   "id": "aa03154b-4b13-4932-b345-303551f033c6",
   "metadata": {},
   "outputs": [
    {
     "name": "stdin",
     "output_type": "stream",
     "text": [
      "Enter any number: 456632\n"
     ]
    },
    {
     "name": "stdout",
     "output_type": "stream",
     "text": [
      "['4', '5', '6', '6', '3', '2']\n",
      "Four Five Six Six Three Two "
     ]
    }
   ],
   "source": [
    "# Write a program to display the number names of the digit of a number entered by the user, for example if the number is 231 \n",
    "# then output is Two Three One.\n",
    "\n",
    "# 3256  # Three Two  Five Six\n",
    "\n",
    "# dict={0:\"Zero\",1:\"One\",2:\"Two\",3:\"Three\",....................9}\n",
    "\n",
    "\n",
    "num1=input('Enter any number:')\n",
    "\n",
    "list1=list(num1)\n",
    "print(list1)\n",
    "\n",
    "dict1={0:'Zero',1:'One',2:'Two',3:'Three',4:\"Four\",5:'Five',6:'Six',7:'Seven',8:'Eight',9:'Nine'}\n",
    "i=0\n",
    "while i<len(list1):\n",
    "    print(dict1[int(list1[i])],end=' ')\n",
    "    i+=1"
   ]
  },
  {
   "cell_type": "code",
   "execution_count": 77,
   "id": "56bcfd8a-62ad-4e29-8f79-4d09477483a9",
   "metadata": {},
   "outputs": [
    {
     "data": {
      "text/plain": [
       "['4', '5', '6', '6', '3', '2']"
      ]
     },
     "execution_count": 77,
     "metadata": {},
     "output_type": "execute_result"
    }
   ],
   "source": [
    "list1"
   ]
  },
  {
   "cell_type": "code",
   "execution_count": 1,
   "id": "f7152dda-e255-4b61-9da7-182f1589ab1f",
   "metadata": {},
   "outputs": [],
   "source": [
    "#1. Wrtie a program to display all the number which are divisible by 13 but not by 3 between 100 and 500. \n",
    "# (Exclusive both numbers.) using while loop.\n",
    "\n",
    "#2. Write  a program to print the following series till n terms. 2,22,222,2222,22222,222222..............nth term.\n",
    "\n",
    "#3. Write a program to print the folowing series till n therms. 1 4 9 16 25 ....................n terms.\n",
    "\n",
    "#4. Write a progrm to find the sum of the following series (accept valud of x and n from the user)\n",
    "# 1+x^2/2+.................X^n/n\n",
    "\n",
    "\n",
    "#5. Write a program to find the sum of ;the folowing series.\n",
    "# 1+8+27...................n term\n",
    "\n",
    "#6.Write a program ot find the sum of the following series: \n",
    "# S= 1+4-9+16-25+36-............nth term.\n",
    "\n",
    "#7. Write a program to print all the characters in the string \"PYTHON\" using while looop.\n",
    "\n",
    "#8. Write a progrm to print only odd numbers form the given list of the numbers using while loop.\n",
    "# L=[23,45,32,25,33,71,89,91,74,90,1001,1056]\n",
    "\n",
    "#9.Write a python program to get the folllowing output. Likee:- 1--49, 2--48, 3--47, 4--46................49--1 \n",
    "\n",
    "# 10. Write a python program to print all the factors of a number using while loop. Ex:- 8 Output:1,2,4,8"
   ]
  },
  {
   "cell_type": "code",
   "execution_count": 2,
   "id": "d7c425a7-da57-4eea-99a9-bcee5aeed35b",
   "metadata": {},
   "outputs": [
    {
     "name": "stdout",
     "output_type": "stream",
     "text": [
      "104\n",
      "130\n",
      "143\n",
      "169\n",
      "182\n",
      "208\n",
      "221\n",
      "247\n",
      "260\n",
      "286\n",
      "299\n",
      "325\n",
      "338\n",
      "364\n",
      "377\n",
      "403\n",
      "416\n",
      "442\n",
      "455\n",
      "481\n",
      "494\n"
     ]
    }
   ],
   "source": [
    "#1. Wrtie a program to display all the number which are divisible by 13 but not by 3 between 100 and 500. \n",
    "# (Exclusive both numbers.) using while loop.\n",
    "num = 100\n",
    "while num < 500:\n",
    "    if num % 13 == 0 and num % 3 != 0:\n",
    "        print(num)\n",
    "    num += 1"
   ]
  },
  {
   "cell_type": "code",
   "execution_count": 7,
   "id": "9b3c68f8-5440-4126-9343-171ac6a23036",
   "metadata": {},
   "outputs": [
    {
     "name": "stdout",
     "output_type": "stream",
     "text": [
      "2\n",
      "22\n",
      "222\n",
      "2222\n",
      "22222\n",
      "222222\n"
     ]
    }
   ],
   "source": [
    "#2. Write  a program to print the following series till n terms. 2,22,222,2222,22222,222222..............nth term.\n",
    "i = 1\n",
    "n = 6 \n",
    "while i <= n:\n",
    "    term = int(\"2\" * i)\n",
    "    print(term)\n",
    "    i += 1"
   ]
  },
  {
   "cell_type": "code",
   "execution_count": 5,
   "id": "634a6064-3c90-45d2-82f3-e62e88bfbecf",
   "metadata": {},
   "outputs": [
    {
     "name": "stdin",
     "output_type": "stream",
     "text": [
      "Enter Vale of n: 5\n"
     ]
    },
    {
     "name": "stdout",
     "output_type": "stream",
     "text": [
      "2,22,222,2222,22222,"
     ]
    }
   ],
   "source": [
    "#2. Write  a program to print the following series till n terms. 2,22,222,2222,22222,222222..............nth term.\n",
    "n=int(input('Enter Vale of n:'))\n",
    "string='2'\n",
    "i=0\n",
    "while (i<n):\n",
    "    print(string,end=',')\n",
    "    string=string+\"2\"\n",
    "    i+=1"
   ]
  },
  {
   "cell_type": "code",
   "execution_count": 14,
   "id": "9b32dbab-2288-40a7-aa01-cbe6ca8edb27",
   "metadata": {},
   "outputs": [
    {
     "name": "stdout",
     "output_type": "stream",
     "text": [
      "1\n",
      "4\n",
      "9\n",
      "16\n",
      "25\n"
     ]
    }
   ],
   "source": [
    "#write the program to print following series  till n terms 1 4 9 16 25............nterms using while loop.   i=1\n",
    "i=1\n",
    "n=5\n",
    "while i <= n:\n",
    "    term = i * i\n",
    "    print(term)\n",
    "    i += 1"
   ]
  },
  {
   "cell_type": "code",
   "execution_count": 16,
   "id": "0dcccc0b-4f74-4dac-ad71-04980da97a72",
   "metadata": {},
   "outputs": [
    {
     "name": "stdin",
     "output_type": "stream",
     "text": [
      "Enter any value: 36\n"
     ]
    },
    {
     "name": "stdout",
     "output_type": "stream",
     "text": [
      "1,4,9,16,25,36,49,64,81,100,121,144,169,196,225,256,289,324,361,400,441,484,529,576,625,676,729,784,841,900,961,1024,1089,1156,1225,1296,"
     ]
    }
   ],
   "source": [
    "#write the program to print following series  till n terms 1 4 9 16 25............nterms using while loop.   i=1\n",
    "n=int(input('Enter any value:'))\n",
    "\n",
    "i=1\n",
    "while i<=n:\n",
    "    print(i**2,end=',')\n",
    "    i+=1"
   ]
  },
  {
   "cell_type": "code",
   "execution_count": 17,
   "id": "d9b4e93d-22e3-4a8b-880d-941d7cde79b4",
   "metadata": {},
   "outputs": [],
   "source": [
    "#4. Write a progrm to find the sum of the following series (accept valud of x and n from the user)\n",
    "# 1+x^2/2+.................X^n/n"
   ]
  },
  {
   "cell_type": "code",
   "execution_count": 27,
   "id": "dc19731f-ee1f-414c-bbe0-59a3935af31e",
   "metadata": {},
   "outputs": [
    {
     "name": "stdin",
     "output_type": "stream",
     "text": [
      "Enter number of terms: 10\n"
     ]
    },
    {
     "name": "stdout",
     "output_type": "stream",
     "text": [
      "1 8 27 64 125 216 343 512 729 1000 \n",
      "Sum of the number is: 3025\n"
     ]
    }
   ],
   "source": [
    "#5. Write a program to find the sum of the folowing series.\n",
    "# 1+8+27...................n term\n",
    "\n",
    "n=int(input('Enter number of terms:'))\n",
    "sum1=0\n",
    "i=1\n",
    "while (i<=n):\n",
    "    pattern=i*i*i\n",
    "    sum1=sum1+i*i*i\n",
    "    print(pattern,end=' ')\n",
    "    i=i+1\n",
    "\n",
    "else:\n",
    "    print('\\nSum of the number is:',sum1)"
   ]
  },
  {
   "cell_type": "code",
   "execution_count": 40,
   "id": "192346fb-9da8-4aaa-8291-a1a55f535d9e",
   "metadata": {},
   "outputs": [
    {
     "name": "stdin",
     "output_type": "stream",
     "text": [
      "Enter number of the terms: 10\n"
     ]
    },
    {
     "name": "stdout",
     "output_type": "stream",
     "text": [
      "342 - 285 = 57\n"
     ]
    }
   ],
   "source": [
    "#6.Write a program ot find the sum of the following series: \n",
    "# S= 1+4-9+16-25+36-............nth term.\n",
    "n=int(input('Enter number of the terms:'))\n",
    "\n",
    "sp=1\n",
    "sn=0\n",
    "s=0\n",
    "i=2\n",
    "while i<=n:\n",
    "    if i%2==0:\n",
    "        sp=sp+i**2\n",
    "        i=i+1\n",
    "    else:\n",
    "        sn=sn+i**2\n",
    "        i+=1\n",
    "else:\n",
    "    print(sp+i**2,'-',sn+i**2,'=',sp-sn)"
   ]
  },
  {
   "cell_type": "code",
   "execution_count": null,
   "id": "c3cdd025-cdc0-49ae-94df-383ffb94ba75",
   "metadata": {},
   "outputs": [],
   "source": []
  }
 ],
 "metadata": {
  "kernelspec": {
   "display_name": "Python 3 (ipykernel)",
   "language": "python",
   "name": "python3"
  },
  "language_info": {
   "codemirror_mode": {
    "name": "ipython",
    "version": 3
   },
   "file_extension": ".py",
   "mimetype": "text/x-python",
   "name": "python",
   "nbconvert_exporter": "python",
   "pygments_lexer": "ipython3",
   "version": "3.12.2"
  }
 },
 "nbformat": 4,
 "nbformat_minor": 5
}
