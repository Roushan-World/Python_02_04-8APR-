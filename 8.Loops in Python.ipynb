{
 "cells": [
  {
   "cell_type": "markdown",
   "id": "04a891bb-d009-4c78-b286-4360afb85a1f",
   "metadata": {},
   "source": [
    "# 8. Loops in Python\n",
    "\n",
    " * __A for loop is used for iterating over a sequence (that is either a list, a tuple, a dictionary, a set or a string).__\n",
    " * __This is less like the for keyboard in other programming languages, and works more like an iterator method as found in other object-oriented programming languages.__\n",
    " * __With the for looop we can execute a set of statements, once for each item in a list, a tuple, or a set.__\n",
    " * __The for loop does not require an indexing variable to set beforehand.__\n",
    " * __With the while loop we can execute a set of statements as long as a condition is true.__\n",
    " * __Note: The while loop requires relevant variables to be ready, in this example we need to define an indexing variable,i, which we set to .__\n",
    "\n",
    "# range() functions\n",
    " * __It is helpful to think of the range object as an ordered list.__\n",
    " * __To loop through a set of code a specified number of times, we can use the range() functions.__\n",
    " * __The range() function returns a sequence of numbers, string, starting from  by default, and increments by  (by default), and ends at a specified number.__"
   ]
  },
  {
   "cell_type": "code",
   "execution_count": 1,
   "id": "91bd2288-38f0-4273-8277-da71ba171775",
   "metadata": {},
   "outputs": [
    {
     "data": {
      "text/plain": [
       "range(0, 10)"
      ]
     },
     "execution_count": 1,
     "metadata": {},
     "output_type": "execute_result"
    }
   ],
   "source": [
    "range(10)"
   ]
  },
  {
   "cell_type": "code",
   "execution_count": 2,
   "id": "c621183c-c6e4-43d0-9ac0-0ba34e075a12",
   "metadata": {},
   "outputs": [
    {
     "data": {
      "text/plain": [
       "range(0, 100)"
      ]
     },
     "execution_count": 2,
     "metadata": {},
     "output_type": "execute_result"
    }
   ],
   "source": [
    "range(100)"
   ]
  },
  {
   "cell_type": "code",
   "execution_count": 3,
   "id": "0c27ba13-de17-4a30-b079-0985f00449de",
   "metadata": {},
   "outputs": [
    {
     "data": {
      "text/plain": [
       "range(0, 1000)"
      ]
     },
     "execution_count": 3,
     "metadata": {},
     "output_type": "execute_result"
    }
   ],
   "source": [
    "range(1000)"
   ]
  },
  {
   "cell_type": "code",
   "execution_count": 4,
   "id": "d4863a1e-c7e5-4647-966b-fb200836973d",
   "metadata": {},
   "outputs": [
    {
     "data": {
      "text/plain": [
       "range(5, 10)"
      ]
     },
     "execution_count": 4,
     "metadata": {},
     "output_type": "execute_result"
    }
   ],
   "source": [
    "range(5,10)"
   ]
  },
  {
   "cell_type": "code",
   "execution_count": 5,
   "id": "defba280-3811-4522-a5f7-9ba50542d190",
   "metadata": {},
   "outputs": [
    {
     "data": {
      "text/plain": [
       "range(-10, 10)"
      ]
     },
     "execution_count": 5,
     "metadata": {},
     "output_type": "execute_result"
    }
   ],
   "source": [
    "range(-10,10)"
   ]
  },
  {
   "cell_type": "code",
   "execution_count": 8,
   "id": "e79ecc40-54ad-407a-830d-0f2f3f422c44",
   "metadata": {},
   "outputs": [
    {
     "name": "stdout",
     "output_type": "stream",
     "text": [
      "1\n",
      "2\n",
      "3\n",
      "4\n",
      "5\n",
      "6\n",
      "7\n",
      "8\n",
      "9\n"
     ]
    }
   ],
   "source": [
    "for i in range(1,10):\n",
    "    print(i)"
   ]
  },
  {
   "cell_type": "code",
   "execution_count": 9,
   "id": "78e9dad4-5361-4ff9-9179-6fb507259ef7",
   "metadata": {},
   "outputs": [
    {
     "name": "stdout",
     "output_type": "stream",
     "text": [
      "-10\n",
      "-9\n",
      "-8\n",
      "-7\n",
      "-6\n",
      "-5\n",
      "-4\n",
      "-3\n",
      "-2\n",
      "-1\n",
      "0\n",
      "1\n",
      "2\n",
      "3\n",
      "4\n",
      "5\n",
      "6\n",
      "7\n",
      "8\n",
      "9\n"
     ]
    }
   ],
   "source": [
    "for i in range(-10,10):\n",
    "    print(i)"
   ]
  },
  {
   "cell_type": "code",
   "execution_count": 10,
   "id": "3907ceba-bfe9-4531-90f8-773b60314d2e",
   "metadata": {},
   "outputs": [
    {
     "name": "stdout",
     "output_type": "stream",
     "text": [
      "0\n",
      "1\n",
      "2\n",
      "3\n",
      "4\n",
      "5\n",
      "6\n",
      "7\n",
      "8\n",
      "9\n",
      "10\n",
      "11\n",
      "12\n",
      "13\n",
      "14\n",
      "15\n",
      "16\n",
      "17\n",
      "18\n",
      "19\n",
      "20\n",
      "21\n",
      "22\n",
      "23\n",
      "24\n",
      "25\n",
      "26\n",
      "27\n",
      "28\n",
      "29\n",
      "30\n",
      "31\n",
      "32\n",
      "33\n",
      "34\n",
      "35\n",
      "36\n",
      "37\n",
      "38\n",
      "39\n",
      "40\n",
      "41\n",
      "42\n",
      "43\n",
      "44\n",
      "45\n",
      "46\n",
      "47\n",
      "48\n",
      "49\n",
      "50\n",
      "51\n",
      "52\n",
      "53\n",
      "54\n",
      "55\n",
      "56\n",
      "57\n",
      "58\n",
      "59\n",
      "60\n",
      "61\n",
      "62\n",
      "63\n",
      "64\n",
      "65\n",
      "66\n",
      "67\n",
      "68\n",
      "69\n",
      "70\n",
      "71\n",
      "72\n",
      "73\n",
      "74\n",
      "75\n",
      "76\n",
      "77\n",
      "78\n",
      "79\n",
      "80\n",
      "81\n",
      "82\n",
      "83\n",
      "84\n",
      "85\n",
      "86\n",
      "87\n",
      "88\n",
      "89\n",
      "90\n",
      "91\n",
      "92\n",
      "93\n",
      "94\n",
      "95\n",
      "96\n",
      "97\n",
      "98\n",
      "99\n"
     ]
    }
   ],
   "source": [
    "for i in range(100):\n",
    "    print(i)"
   ]
  },
  {
   "cell_type": "code",
   "execution_count": 11,
   "id": "5674432f-d83d-46ae-9bc7-f58734877c92",
   "metadata": {},
   "outputs": [
    {
     "name": "stdout",
     "output_type": "stream",
     "text": [
      "<class 'list'>\n"
     ]
    }
   ],
   "source": [
    "list_1=['Apple','Banana','Papaya','Strawberry','Cherry','Muskmilon','Watermelon','Litchi','Pineapple','Mango','Kiwi']\n",
    "\n",
    "print(type(list_1))"
   ]
  },
  {
   "cell_type": "code",
   "execution_count": 12,
   "id": "f9adb546-247f-41f3-94f0-2580d4ca48c9",
   "metadata": {},
   "outputs": [
    {
     "name": "stdout",
     "output_type": "stream",
     "text": [
      "Apple\n",
      "Banana\n",
      "Papaya\n",
      "Strawberry\n",
      "Cherry\n",
      "Muskmilon\n",
      "Watermelon\n",
      "Litchi\n",
      "Pineapple\n",
      "Mango\n",
      "Kiwi\n"
     ]
    }
   ],
   "source": [
    "for x in list_1:\n",
    "    print(x)"
   ]
  },
  {
   "cell_type": "code",
   "execution_count": 13,
   "id": "b91b5470-cd1d-4962-9eb4-faa8afe62faf",
   "metadata": {},
   "outputs": [
    {
     "name": "stdout",
     "output_type": "stream",
     "text": [
      "<class 'tuple'>\n"
     ]
    }
   ],
   "source": [
    "tuple_1=('Apple','Banana','Papaya','Strawberry','Cherry','Muskmilon','Watermelon','Litchi','Pineapple','Mango','Kiwi')\n",
    "print(type(tuple_1))"
   ]
  },
  {
   "cell_type": "code",
   "execution_count": 16,
   "id": "fd76be79-95a6-462a-9491-7a197ad2f8f5",
   "metadata": {},
   "outputs": [
    {
     "name": "stdout",
     "output_type": "stream",
     "text": [
      "Apple\n",
      "Banana\n",
      "Papaya\n",
      "Strawberry\n",
      "Cherry\n",
      "Muskmilon\n",
      "Watermelon\n",
      "Litchi\n",
      "Pineapple\n",
      "Mango\n",
      "Kiwi\n"
     ]
    }
   ],
   "source": [
    "for y in tuple_1:\n",
    "    print(y)"
   ]
  },
  {
   "cell_type": "code",
   "execution_count": 32,
   "id": "ea670045-c3c4-4ebe-8d55-9e6e0160e343",
   "metadata": {},
   "outputs": [
    {
     "data": {
      "text/plain": [
       "[6, 5, 4, 3]"
      ]
     },
     "execution_count": 32,
     "metadata": {},
     "output_type": "execute_result"
    }
   ],
   "source": [
    "# striding in for loop\n",
    "\n",
    "x= [1,2,3,4,5,6,7,8,9,10]\n",
    "\n",
    "x1=x[2:6]\n",
    "x1\n",
    "x1[::-1]"
   ]
  },
  {
   "cell_type": "code",
   "execution_count": 54,
   "id": "7bdaffdd-3710-4da8-af22-c966c10477b8",
   "metadata": {},
   "outputs": [
    {
     "name": "stdout",
     "output_type": "stream",
     "text": [
      "0 2 4 6 8 10 "
     ]
    }
   ],
   "source": [
    "# for loop\n",
    "\n",
    "\n",
    "for i in range(0,11,2):\n",
    "    print(i,end=' ')  #delimeter"
   ]
  },
  {
   "cell_type": "code",
   "execution_count": 1,
   "id": "c6d4c1cf-e03d-43ec-a015-b265c745da99",
   "metadata": {},
   "outputs": [
    {
     "data": {
      "text/plain": [
       "range(0, 10)"
      ]
     },
     "execution_count": 1,
     "metadata": {},
     "output_type": "execute_result"
    }
   ],
   "source": [
    "# 1,10\n",
    "range(10)"
   ]
  },
  {
   "cell_type": "code",
   "execution_count": 2,
   "id": "153d7420-8ed2-4e46-95fc-a84acb71edf6",
   "metadata": {},
   "outputs": [
    {
     "data": {
      "text/plain": [
       "range(1, 10)"
      ]
     },
     "execution_count": 2,
     "metadata": {},
     "output_type": "execute_result"
    }
   ],
   "source": [
    "range(1,10)"
   ]
  },
  {
   "cell_type": "code",
   "execution_count": 4,
   "id": "f5d93d89-43e4-4bdb-a566-642fef87e370",
   "metadata": {},
   "outputs": [
    {
     "name": "stdout",
     "output_type": "stream",
     "text": [
      "1\n",
      "2\n",
      "3\n",
      "4\n",
      "5\n",
      "6\n",
      "7\n",
      "8\n",
      "9\n",
      "10\n"
     ]
    }
   ],
   "source": [
    "for i in range(1,11):\n",
    "    print(i)"
   ]
  },
  {
   "cell_type": "code",
   "execution_count": 7,
   "id": "6063d501-e0d1-4aa5-b1e5-b96e1c70e12a",
   "metadata": {},
   "outputs": [
    {
     "name": "stdout",
     "output_type": "stream",
     "text": [
      "1,2,3,4,5,6,7,8,9,10,"
     ]
    }
   ],
   "source": [
    "for i in range(1,11):\n",
    "    print(i,end=',')"
   ]
  },
  {
   "cell_type": "code",
   "execution_count": 9,
   "id": "5e111a47-5f07-4a1c-bed4-72662c738478",
   "metadata": {},
   "outputs": [
    {
     "name": "stdout",
     "output_type": "stream",
     "text": [
      "10 11 12 13 14 15 16 17 18 19 "
     ]
    }
   ],
   "source": [
    "# set,tuple,list,dictionary,string\n",
    "\n",
    "for abc in range(10,20):\n",
    "    print(abc,end=' ')"
   ]
  },
  {
   "cell_type": "code",
   "execution_count": 16,
   "id": "d70464a6-6fde-40e5-a637-6df70eb02c74",
   "metadata": {},
   "outputs": [
    {
     "name": "stdout",
     "output_type": "stream",
     "text": [
      "['Apple', 'Banana', 'strawberry', 'rupsberry', 'watermelon', 'Muskmelon', 'Pineapple', 'Grapes', 'Mango', 'Litchi', 'Orange']\n",
      "<class 'list'>\n"
     ]
    },
    {
     "data": {
      "text/plain": [
       "11"
      ]
     },
     "execution_count": 16,
     "metadata": {},
     "output_type": "execute_result"
    }
   ],
   "source": [
    "list1=['Apple','Banana','strawberry','rupsberry','watermelon','Muskmelon','Pineapple','Grapes','Mango','Litchi','Orange']\n",
    "print(list1)\n",
    "print(type(list1))\n",
    "\n",
    "\n",
    "len(list1)"
   ]
  },
  {
   "cell_type": "code",
   "execution_count": 15,
   "id": "4e5e4a67-2617-43d6-9793-d74e0e827520",
   "metadata": {},
   "outputs": [
    {
     "name": "stdout",
     "output_type": "stream",
     "text": [
      "Apple\n",
      "Banana\n",
      "strawberry\n",
      "rupsberry\n",
      "watermelon\n",
      "Muskmelon\n",
      "Pineapple\n",
      "Grapes\n",
      "Mango\n",
      "Litchi\n",
      "Orange\n"
     ]
    }
   ],
   "source": [
    "for fruits in list1:\n",
    "    print(fruits)"
   ]
  },
  {
   "cell_type": "code",
   "execution_count": 22,
   "id": "36593607-e367-4005-af7b-16f852d8e1e5",
   "metadata": {},
   "outputs": [
    {
     "name": "stdout",
     "output_type": "stream",
     "text": [
      "0 . Apple\n",
      "1 . Banana\n",
      "2 . strawberry\n",
      "3 . rupsberry\n",
      "4 . watermelon\n",
      "5 . Muskmelon\n",
      "6 . Pineapple\n",
      "7 . Grapes\n",
      "8 . Mango\n",
      "9 . Litchi\n",
      "10 . Orange\n"
     ]
    }
   ],
   "source": [
    "for fruits in range(len(list1)):\n",
    "    print(fruits,'.',list1[fruits])"
   ]
  },
  {
   "cell_type": "code",
   "execution_count": 25,
   "id": "5a91c2e4-f251-4bc8-bb96-1dceec946a57",
   "metadata": {},
   "outputs": [
    {
     "name": "stdout",
     "output_type": "stream",
     "text": [
      "0 Apple\n",
      "1 Banana\n",
      "2 strawberry\n",
      "3 rupsberry\n",
      "4 watermelon\n",
      "5 Muskmelon\n",
      "6 Pineapple\n",
      "7 Grapes\n",
      "8 Mango\n",
      "9 Litchi\n",
      "10 Orange\n"
     ]
    }
   ],
   "source": [
    "for x,y in enumerate(list1):\n",
    "    print(x,y)\n",
    "    "
   ]
  },
  {
   "cell_type": "code",
   "execution_count": 26,
   "id": "123e7ac3-6e92-4d48-9258-86a3ecbc1e67",
   "metadata": {},
   "outputs": [],
   "source": [
    "# write a table \n",
    "\n",
    "# 1x1=1    # 2x1=2\n",
    "# 1x2=2    # 2x2=4\n",
    "# 1x3=3    # 2x3=6\n",
    "# 1x4=4    # 2x4=8\n",
    "# 1x10=10"
   ]
  },
  {
   "cell_type": "code",
   "execution_count": 31,
   "id": "400c972f-4beb-46ed-b27b-86beb909d1fd",
   "metadata": {},
   "outputs": [
    {
     "name": "stdout",
     "output_type": "stream",
     "text": [
      "2 x 1 = 2\n",
      "2 x 2 = 4\n",
      "2 x 3 = 6\n",
      "2 x 4 = 8\n",
      "2 x 5 = 10\n",
      "2 x 6 = 12\n",
      "2 x 7 = 14\n",
      "2 x 8 = 16\n",
      "2 x 9 = 18\n",
      "2 x 10 = 20\n"
     ]
    }
   ],
   "source": [
    "number=9\n",
    "\n",
    "for i in range(1,11):\n",
    "    print(2,'x',i,'=',2*i)"
   ]
  },
  {
   "cell_type": "code",
   "execution_count": 39,
   "id": "15310d75-14bd-405a-a60a-5f8d8a16dfba",
   "metadata": {},
   "outputs": [
    {
     "name": "stdin",
     "output_type": "stream",
     "text": [
      "Enter any number: 10\n",
      "Enter any number: 12\n"
     ]
    },
    {
     "name": "stdout",
     "output_type": "stream",
     "text": [
      "10x1=10,12x1=12 \n",
      "10x2=20,12x2=24 \n",
      "10x3=30,12x3=36 \n",
      "10x4=40,12x4=48 \n",
      "10x5=50,12x5=60 \n",
      "10x6=60,12x6=72 \n",
      "10x7=70,12x7=84 \n",
      "10x8=80,12x8=96 \n",
      "10x9=90,12x9=108 \n",
      "10x10=100,12x10=120 \n"
     ]
    }
   ],
   "source": [
    "number=int(input('Enter any number:'))\n",
    "number1=int(input('Enter any number:'))\n",
    "\n",
    "for i in range(1,11):\n",
    "    print(f\"{number}x{i}={number*i},{number1}x{i}={number1*i} \")"
   ]
  },
  {
   "cell_type": "code",
   "execution_count": 42,
   "id": "2c854e3c-a7a0-4884-9267-b130195a5a82",
   "metadata": {},
   "outputs": [
    {
     "name": "stdin",
     "output_type": "stream",
     "text": [
      "Enter any number: 10\n"
     ]
    },
    {
     "name": "stdout",
     "output_type": "stream",
     "text": [
      "10x1=10\n",
      "10x2=20\n",
      "10x3=30\n",
      "10x4=40\n",
      "10x5=50\n",
      "10x6=60\n",
      "10x7=70\n",
      "10x8=80\n",
      "10x9=90\n",
      "10x10=100\n"
     ]
    }
   ],
   "source": [
    "number=int(input('Enter any number:'))\n",
    "\n",
    "for i in range(1,11):\n",
    "    print('%dx%d=%d'%(number,i,number*i))"
   ]
  },
  {
   "cell_type": "code",
   "execution_count": 58,
   "id": "63248a6f-6f5b-4457-bf78-1711726f2c04",
   "metadata": {},
   "outputs": [
    {
     "name": "stdout",
     "output_type": "stream",
     "text": [
      "Total of this list: 1532.2\n",
      "Average of this list: 153.22\n",
      "Length of this list: 10\n"
     ]
    }
   ],
   "source": [
    "# find total addition,average,length using for loop.\n",
    "\n",
    "data=[10,20,30,40,52.36,89.36,45.25,45,1000,200.23]\n",
    "count=0\n",
    "for i in data:\n",
    "    count+=i\n",
    "print('Total of this list:',count)\n",
    "print('Average of this list:',count/len(data))\n",
    "print('Length of this list:',len(data))"
   ]
  },
  {
   "cell_type": "code",
   "execution_count": 59,
   "id": "0cb168b9-9a55-4b2a-936b-3572148f8490",
   "metadata": {},
   "outputs": [
    {
     "name": "stdout",
     "output_type": "stream",
     "text": [
      "0\n",
      "1\n",
      "2\n",
      "3\n",
      "4\n",
      "5\n",
      "6\n",
      "7\n",
      "8\n",
      "9\n"
     ]
    }
   ],
   "source": [
    "for i in range(10):\n",
    "    print(i)"
   ]
  },
  {
   "cell_type": "code",
   "execution_count": 61,
   "id": "4c776a01-cecc-416c-badc-198460982b98",
   "metadata": {},
   "outputs": [
    {
     "name": "stdout",
     "output_type": "stream",
     "text": [
      "1\n",
      "2\n",
      "3\n",
      "4\n",
      "5\n"
     ]
    }
   ],
   "source": [
    "# break in for loop:\n",
    "for i in range(1,11):\n",
    "    if i==6:\n",
    "        break\n",
    "    print(i)"
   ]
  },
  {
   "cell_type": "code",
   "execution_count": 64,
   "id": "a45914ca-d832-4641-b9e0-48cf61c5a827",
   "metadata": {},
   "outputs": [
    {
     "name": "stdout",
     "output_type": "stream",
     "text": [
      "Apple Banana strawberry rupsberry "
     ]
    }
   ],
   "source": [
    "list1=['Apple','Banana','strawberry','rupsberry','watermelon','Muskmelon','Pineapple','Grapes','Mango','Litchi','Orange']\n",
    "\n",
    "for i in list1:\n",
    "    if i=='watermelon':\n",
    "        break\n",
    "    print(i,end=' ')"
   ]
  },
  {
   "cell_type": "code",
   "execution_count": 65,
   "id": "1d53ada7-0c36-4402-9da7-2244b0ad5270",
   "metadata": {},
   "outputs": [
    {
     "name": "stdout",
     "output_type": "stream",
     "text": [
      "Apple Banana strawberry rupsberry Muskmelon Pineapple Grapes Mango Litchi Orange "
     ]
    }
   ],
   "source": [
    "# continue\n",
    "\n",
    "list1=['Apple','Banana','strawberry','rupsberry','watermelon','Muskmelon','Pineapple','Grapes','Mango','Litchi','Orange']\n",
    "\n",
    "for i in list1:\n",
    "    if i=='watermelon':\n",
    "        continue\n",
    "    print(i,end=' ')"
   ]
  },
  {
   "cell_type": "code",
   "execution_count": 69,
   "id": "a6beeab1-d1e7-4c72-9395-f03ff6b8d7b1",
   "metadata": {},
   "outputs": [
    {
     "name": "stdout",
     "output_type": "stream",
     "text": [
      "Apple Banana strawberry rupsberry watermelon "
     ]
    }
   ],
   "source": [
    "# continue\n",
    "\n",
    "list1=['Apple','Banana','strawberry','rupsberry','watermelon','Muskmelon','Pineapple','Grapes','Mango','Litchi','Orange']\n",
    "\n",
    "for i in list1:\n",
    "    print(i,end=' ')\n",
    "    if i=='watermelon':\n",
    "        break "
   ]
  },
  {
   "cell_type": "code",
   "execution_count": null,
   "id": "10f4bbed-4605-462f-9ba7-588d1d780844",
   "metadata": {},
   "outputs": [],
   "source": []
  }
 ],
 "metadata": {
  "kernelspec": {
   "display_name": "Python 3 (ipykernel)",
   "language": "python",
   "name": "python3"
  },
  "language_info": {
   "codemirror_mode": {
    "name": "ipython",
    "version": 3
   },
   "file_extension": ".py",
   "mimetype": "text/x-python",
   "name": "python",
   "nbconvert_exporter": "python",
   "pygments_lexer": "ipython3",
   "version": "3.12.2"
  }
 },
 "nbformat": 4,
 "nbformat_minor": 5
}
