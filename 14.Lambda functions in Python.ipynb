{
 "cells": [
  {
   "cell_type": "markdown",
   "id": "5326a337-a449-4796-8569-b538905a2bae",
   "metadata": {},
   "source": [
    "# 14. Lambda Functions in python\n",
    "\n",
    " * __A Lambda function is a small anonymous functions.__\n",
    " * __A Lambda function can take any number of arguments, but can only have one expression.__\n",
    " * __The expression is eveluated and returned.__\n",
    " * __Lambda functions can be used wherever function objects are required.__\n",
    " * __Lambda Expression(or lambda functions) are essentially blocks of code that be assigned to variable, passed as an arguments, or returned from a functins call, in Language that support high-order functions.__\n",
    " * __The main role of the Lambda is better discribed in a scenarios when we employ them anonmously inside another functions.__\n",
    " * __In Python, the Lambda function can be utilized as an arugments to their high-order functins as an argument.__\n",
    " * __Lambda function in Python__\n",
    "    * __1.Syntax__\n",
    "       * __Normal Functions__\n",
    "       * __Anonymous Functions__\n",
    "    * __2.Usages__\n",
    "       * __Lambda with filters()__\n",
    "       * __Lambda with map()__\n",
    "       * __Lambda with reduce()__\n",
    "       * __Lambda with sorted()__\n",
    "       * __Lambda with apply()__\n",
    "    * __3.Common Errors__\n",
    "       * __SyntaxError__\n",
    "       * __TypeError__"
   ]
  },
  {
   "cell_type": "code",
   "execution_count": 1,
   "id": "95f5615a-b6f0-4d1c-be7d-d32011617502",
   "metadata": {},
   "outputs": [
    {
     "data": {
      "text/plain": [
       "16"
      ]
     },
     "execution_count": 1,
     "metadata": {},
     "output_type": "execute_result"
    }
   ],
   "source": [
    "def func(x):\n",
    "    return x+6\n",
    "func(10)"
   ]
  },
  {
   "cell_type": "code",
   "execution_count": 2,
   "id": "0d2be26d-d3dc-4573-8061-d344c475cc3e",
   "metadata": {},
   "outputs": [
    {
     "data": {
      "text/plain": [
       "16"
      ]
     },
     "execution_count": 2,
     "metadata": {},
     "output_type": "execute_result"
    }
   ],
   "source": [
    "(lambda y:y+6)(10)"
   ]
  },
  {
   "cell_type": "code",
   "execution_count": 3,
   "id": "70b5ab78-017c-4756-a7b8-d7d4fd36afd8",
   "metadata": {},
   "outputs": [
    {
     "data": {
      "text/plain": [
       "8"
      ]
     },
     "execution_count": 3,
     "metadata": {},
     "output_type": "execute_result"
    }
   ],
   "source": [
    "# Exponenet (base,pow)\n",
    "# if user entered any number then it returns the exponenetial form data.\n",
    "\n",
    "def expo(x,y):\n",
    "    return x**y\n",
    "\n",
    "expo(2,3)"
   ]
  },
  {
   "cell_type": "code",
   "execution_count": 4,
   "id": "83c40bbb-a15b-4f39-8c76-e6ff1a191074",
   "metadata": {},
   "outputs": [
    {
     "data": {
      "text/plain": [
       "8"
      ]
     },
     "execution_count": 4,
     "metadata": {},
     "output_type": "execute_result"
    }
   ],
   "source": [
    "(lambda a,b:a**b)(2,3)"
   ]
  },
  {
   "cell_type": "code",
   "execution_count": 5,
   "id": "7df6d206-08ff-4228-b957-9d742413fca8",
   "metadata": {},
   "outputs": [
    {
     "name": "stdin",
     "output_type": "stream",
     "text": [
      "Enter Base of the Exponent: 2\n",
      "Enter the Power of the Exponent: 4\n"
     ]
    },
    {
     "data": {
      "text/plain": [
       "16"
      ]
     },
     "execution_count": 5,
     "metadata": {},
     "output_type": "execute_result"
    }
   ],
   "source": [
    "def func():\n",
    "    x=int(input('Enter Base of the Exponent:'))\n",
    "    y=int(input('Enter the Power of the Exponent:'))\n",
    "    z=x**y\n",
    "    return z\n",
    "\n",
    "func()"
   ]
  },
  {
   "cell_type": "code",
   "execution_count": 8,
   "id": "1f8d1c9d-936b-4373-9188-f0da5de2d30f",
   "metadata": {},
   "outputs": [
    {
     "name": "stdin",
     "output_type": "stream",
     "text": [
      "Enter Base of the Exponent: 2\n",
      "Enter Power of the Exponent: 5\n"
     ]
    },
    {
     "name": "stdout",
     "output_type": "stream",
     "text": [
      "The result will be Exponential form of two numbers: 32\n"
     ]
    }
   ],
   "source": [
    "x=int(input('Enter Base of the Exponent:'))\n",
    "y=int(input('Enter Power of the Exponent:'))\n",
    "\n",
    "z=(lambda a,b:a**b)(x,y)\n",
    "print('The result will be Exponential form of two numbers:',z)"
   ]
  },
  {
   "cell_type": "code",
   "execution_count": 11,
   "id": "7e2f3362-905f-4a50-a2b1-e6168563eb63",
   "metadata": {},
   "outputs": [
    {
     "name": "stdout",
     "output_type": "stream",
     "text": [
      "The value from list having lenght 6 are: ['Monday', 'Friday', 'Sunday']\n"
     ]
    }
   ],
   "source": [
    "#  Write a python program to filter a given list to determine if the values \n",
    "# in the list have a lenght of 6 using lambda functions.\n",
    "\n",
    "# weekdays=['Monday','Tuesday','Wednesday',\"Thursday\",'Friday','Saturday','Sunday']\n",
    "weekdays=['Monday','Tuesday','Wednesday',\"Thursday\",'Friday','Saturday','Sunday']\n",
    "\n",
    "def function1():\n",
    "    list1=[]\n",
    "    for i in weekdays:\n",
    "        if len(i) ==6:\n",
    "            list1.append(i)\n",
    "    print('The value from list having lenght 6 are:',list1)\n",
    "function1()"
   ]
  },
  {
   "cell_type": "markdown",
   "id": "3e42d304-2966-4aff-9d4a-bb7da263781e",
   "metadata": {},
   "source": [
    "# Lambda Filter()\n",
    "\n",
    " * __A high-order function__\n",
    " * __Syntax: filter(function,sequence)__\n",
    "    * __It applies function to each element of sequence and returns for which the function returns true.__\n",
    " * __Filter returns a subset of sequence__\n",
    "    * __It generate the actual list, we need apply on list()__"
   ]
  },
  {
   "cell_type": "code",
   "execution_count": 13,
   "id": "4bae050f-240d-49ec-9cd3-bc95efc439ea",
   "metadata": {},
   "outputs": [
    {
     "name": "stdout",
     "output_type": "stream",
     "text": [
      "The value from the list having length 6 are: ['Monday', 'Friday', 'Sunday']\n"
     ]
    }
   ],
   "source": [
    "weekdays=['Monday','Tuesday','Wednesday',\"Thursday\",'Friday','Saturday','Sunday']\n",
    "\n",
    "filter_list=list(filter(lambda x:len(x) ==6, weekdays))\n",
    "print('The value from the list having length 6 are:',filter_list)"
   ]
  },
  {
   "cell_type": "markdown",
   "id": "1fa2f4f0-ecca-402d-ae49-0b69678348dd",
   "metadata": {},
   "source": [
    "# Lambda with map()\n",
    "\n",
    " * __A high-order function__\n",
    " * __Syntax: map(function,sequence)__\n",
    " * __applies function to each element of sequences and return the result.__"
   ]
  },
  {
   "cell_type": "code",
   "execution_count": 19,
   "id": "663b9a04-d3c1-4434-ae33-07eddd9edc51",
   "metadata": {},
   "outputs": [
    {
     "name": "stdout",
     "output_type": "stream",
     "text": [
      "[4, 16, 25, 36]\n"
     ]
    }
   ],
   "source": [
    "def square1():\n",
    "    a=[2,4,5,6]\n",
    "    list1=[]\n",
    "    for i in a:\n",
    "        z=i**2\n",
    "        list1.append(z)\n",
    "\n",
    "    print(list1)\n",
    "\n",
    "square1()"
   ]
  },
  {
   "cell_type": "code",
   "execution_count": 21,
   "id": "15a4a3f7-3ef2-46d4-85c2-26c82b7899db",
   "metadata": {},
   "outputs": [
    {
     "data": {
      "text/plain": [
       "[4, 16, 25, 36, 49, 64, 81, 100, 144, 196, 225, 256, 324]"
      ]
     },
     "execution_count": 21,
     "metadata": {},
     "output_type": "execute_result"
    }
   ],
   "source": [
    "a=[2,4,5,6,7,8,9,10,12,14,15,16,18]\n",
    "\n",
    "list_map=list(map(lambda x:x**2,a))\n",
    "list_map"
   ]
  },
  {
   "cell_type": "code",
   "execution_count": 25,
   "id": "d5449b75-d153-4a55-9e0a-74e3f969714d",
   "metadata": {},
   "outputs": [
    {
     "name": "stdin",
     "output_type": "stream",
     "text": [
      "Enter any Number: 10\n"
     ]
    },
    {
     "data": {
      "text/plain": [
       "[100]"
      ]
     },
     "execution_count": 25,
     "metadata": {},
     "output_type": "execute_result"
    }
   ],
   "source": [
    "# from user input using map with lambda\n",
    "y=int(input('Enter any Number:'))\n",
    "y1=[]\n",
    "y1.append(y)\n",
    "z_list=list(map(lambda a:a**2,y1))\n",
    "z_list"
   ]
  },
  {
   "cell_type": "code",
   "execution_count": 29,
   "id": "2f030787-af58-4781-8188-dc15f66eb3f6",
   "metadata": {},
   "outputs": [
    {
     "name": "stdin",
     "output_type": "stream",
     "text": [
      "Enter any Number: 10\n"
     ]
    },
    {
     "data": {
      "text/plain": [
       "[0, 1, 4, 9, 16, 25, 36, 49, 64, 81, 100]"
      ]
     },
     "execution_count": 29,
     "metadata": {},
     "output_type": "execute_result"
    }
   ],
   "source": [
    "y=int(input('Enter any Number:'))\n",
    "z_list=list(map(lambda a:a**2,range(y+1)))\n",
    "z_list"
   ]
  },
  {
   "cell_type": "code",
   "execution_count": 32,
   "id": "11e3eb50-00bf-4b90-9dcf-83c6ea07defc",
   "metadata": {},
   "outputs": [
    {
     "name": "stdout",
     "output_type": "stream",
     "text": [
      "Even element of the list is: [20, 50, 58, 78, 96, 36, 10]\n",
      "Odd element of the list is: [1, 55, 69, 25, 11, 15, 33, 39]\n"
     ]
    }
   ],
   "source": [
    "# filter out the even or odd numbers using lambda function.\n",
    "a=[1,20,50,55,69,58,78,96,36,25,10,11,15,33,39]\n",
    "\n",
    "def myfunc(x):\n",
    "    list_even=[]\n",
    "    list_odd=[]\n",
    "    for i in x:\n",
    "        if i%2==0:\n",
    "           list_even.append(i)\n",
    "        else:\n",
    "            list_odd.append(i)\n",
    "    print('Even element of the list is:',list_even)\n",
    "    print('Odd element of the list is:',list_odd)\n",
    "myfunc(a)"
   ]
  },
  {
   "cell_type": "code",
   "execution_count": 34,
   "id": "553c468e-ae45-4b7a-8d37-19c73b1d3bd0",
   "metadata": {},
   "outputs": [
    {
     "name": "stdout",
     "output_type": "stream",
     "text": [
      "Even element of the list using filter is: [20, 50, 58, 78, 96, 36, 10]\n",
      "Odd element of the list using filter is: [1, 55, 69, 25, 11, 15, 33, 39]\n"
     ]
    }
   ],
   "source": [
    "a=[1,20,50,55,69,58,78,96,36,25,10,11,15,33,39]\n",
    "\n",
    "list1=list(filter(lambda x:x%2==0,a))\n",
    "list2=list(filter(lambda y:y%2!=0,a))\n",
    "print('Even element of the list using filter is:',list1)\n",
    "print('Odd element of the list using filter is:',list2)"
   ]
  },
  {
   "cell_type": "markdown",
   "id": "cd941e66-6036-4329-9b69-706432f78815",
   "metadata": {},
   "source": [
    "# reduce() function\n",
    "\n",
    " * __Required: from functools import reduce__\n",
    " * __syntax: reduce(function,sequence)__\n",
    " * __reduce,continually applies the function f(x,y) to the sequence, It return single value.__"
   ]
  },
  {
   "cell_type": "code",
   "execution_count": 4,
   "id": "9378a8ce-9f42-4f25-a554-bb4e2ae99383",
   "metadata": {},
   "outputs": [
    {
     "data": {
      "text/plain": [
       "550"
      ]
     },
     "execution_count": 4,
     "metadata": {},
     "output_type": "execute_result"
    }
   ],
   "source": [
    "from functools import reduce\n",
    "def add(x,y):\n",
    "    return x+y\n",
    "\n",
    "x=[10,20,30,40,50,60,70,80,90,100]   # list,tuple,string\n",
    "\n",
    "y=reduce(add,x)\n",
    "y"
   ]
  },
  {
   "cell_type": "code",
   "execution_count": 6,
   "id": "2f571198-3db6-4b38-9452-af6fa9f4ad66",
   "metadata": {},
   "outputs": [
    {
     "data": {
      "text/plain": [
       "163734412500"
      ]
     },
     "execution_count": 6,
     "metadata": {},
     "output_type": "execute_result"
    }
   ],
   "source": [
    "def multi(a,b):\n",
    "    return a*b\n",
    "\n",
    "list1=[10,50,15,45,69,79,89]\n",
    "\n",
    "reduce1=reduce(multi,list1)\n",
    "reduce1"
   ]
  },
  {
   "cell_type": "code",
   "execution_count": 14,
   "id": "443db521-91fc-45c5-9e13-3a8b3669d9cb",
   "metadata": {},
   "outputs": [
    {
     "data": {
      "text/plain": [
       "150"
      ]
     },
     "execution_count": 14,
     "metadata": {},
     "output_type": "execute_result"
    }
   ],
   "source": [
    "a=reduce(lambda a,b:a+b, [10,20,13,15,14,78])\n",
    "a"
   ]
  },
  {
   "cell_type": "code",
   "execution_count": 15,
   "id": "ac3ca999-b7cf-4388-90a6-d432354ee393",
   "metadata": {},
   "outputs": [
    {
     "data": {
      "text/plain": [
       "76.36"
      ]
     },
     "execution_count": 15,
     "metadata": {},
     "output_type": "execute_result"
    }
   ],
   "source": [
    "arr1=[12,13,10,14,15,12.36]\n",
    "a=reduce(lambda a,b:a+b, arr1)\n",
    "a"
   ]
  },
  {
   "cell_type": "markdown",
   "id": "5ba6f07d-d5f7-4c6f-9649-81566f7d2c6b",
   "metadata": {},
   "source": [
    "# Lambda with sorted()\n",
    "\n",
    " * __A simple ascending sort is very easy. Just call the sorted() functions. It returns a new list.__"
   ]
  },
  {
   "cell_type": "code",
   "execution_count": 25,
   "id": "34bbdf0d-cb92-435d-af03-4581dce75a1e",
   "metadata": {},
   "outputs": [
    {
     "name": "stdout",
     "output_type": "stream",
     "text": [
      "[2, 4, 5, 5, 6, 8, 9, 10, 36, 41, 52, 72]\n"
     ]
    },
    {
     "data": {
      "text/plain": [
       "[72, 52, 41, 36, 10, 9, 8, 6, 5, 5, 4, 2]"
      ]
     },
     "execution_count": 25,
     "metadata": {},
     "output_type": "execute_result"
    }
   ],
   "source": [
    "# Arrange in ascending order using sorted() function\n",
    "\n",
    "x=[5,4,2,36,9,8,72,6,52,5,41,10]   # random data.\n",
    "\n",
    "y=sorted(x)\n",
    "print(y)\n",
    "\n",
    "y1=y[::-1]\n",
    "y1"
   ]
  },
  {
   "cell_type": "code",
   "execution_count": 33,
   "id": "1a9e8112-d01a-4591-8274-9d39bf47fcea",
   "metadata": {},
   "outputs": [
    {
     "data": {
      "text/plain": [
       "[2, 4, 5, 5, 6, 8, 9, 10, 36, 41, 52, 72]"
      ]
     },
     "execution_count": 33,
     "metadata": {},
     "output_type": "execute_result"
    }
   ],
   "source": [
    "x=[5,4,2,36,9,8,72,6,52,5,41,10]\n",
    "x.sort()\n",
    "x"
   ]
  },
  {
   "cell_type": "code",
   "execution_count": 35,
   "id": "8db367fb-cf9f-4d8f-917d-08f1224d93bc",
   "metadata": {},
   "outputs": [
    {
     "name": "stdout",
     "output_type": "stream",
     "text": [
      "[5, 4, 2, 36, 9, 8, 72, 6, 52, 5, 41, 10]\n"
     ]
    },
    {
     "data": {
      "text/plain": [
       "[2, 4, 5, 5, 6, 8, 9, 10, 36, 41, 52, 72]"
      ]
     },
     "execution_count": 35,
     "metadata": {},
     "output_type": "execute_result"
    }
   ],
   "source": [
    "x=[5,4,2,36,9,8,72,6,52,5,41,10]\n",
    "print(x)\n",
    "sorted(x)"
   ]
  },
  {
   "cell_type": "code",
   "execution_count": 36,
   "id": "24de2e6a-30b8-4c22-9f27-f71a9b148e99",
   "metadata": {},
   "outputs": [
    {
     "data": {
      "text/plain": [
       "[10, 14, 20, 23, 30, 45, 45, 78, 85, 96]"
      ]
     },
     "execution_count": 36,
     "metadata": {},
     "output_type": "execute_result"
    }
   ],
   "source": [
    "tup1=(10,20,30,14,45,23,85,78,96,45)\n",
    "sorted(tup1)"
   ]
  },
  {
   "cell_type": "code",
   "execution_count": 37,
   "id": "b74e716e-909b-4b3b-8d3c-bc6b35ebe348",
   "metadata": {},
   "outputs": [
    {
     "data": {
      "text/plain": [
       "['A', 'b', 'e', 'h', 'i', 'k', 's']"
      ]
     },
     "execution_count": 37,
     "metadata": {},
     "output_type": "execute_result"
    }
   ],
   "source": [
    "x='Abhisek'\n",
    "sorted(x)"
   ]
  },
  {
   "cell_type": "code",
   "execution_count": 55,
   "id": "e5bb5302-4e69-4e27-befe-42ba6b91342e",
   "metadata": {},
   "outputs": [
    {
     "data": {
      "text/plain": [
       "[('Hrithik Roshan', 'C', 100), ('Abhishek', 'A', 15), ('Isha Deol', 'B', 12)]"
      ]
     },
     "execution_count": 55,
     "metadata": {},
     "output_type": "execute_result"
    }
   ],
   "source": [
    "# Dictionary\n",
    "\n",
    "students=[\n",
    "    ('Hrithik Roshan','C',100),\n",
    "    ('Abhishek','A',15),\n",
    "    ('Isha Deol','B',12),\n",
    "    \n",
    "]\n",
    "students"
   ]
  },
  {
   "cell_type": "code",
   "execution_count": 56,
   "id": "7a158619-060c-4065-9b0f-f03458fb9d10",
   "metadata": {},
   "outputs": [
    {
     "data": {
      "text/plain": [
       "list"
      ]
     },
     "execution_count": 56,
     "metadata": {},
     "output_type": "execute_result"
    }
   ],
   "source": [
    "type(students)"
   ]
  },
  {
   "cell_type": "code",
   "execution_count": 57,
   "id": "2304de34-cd6a-4f37-a6a9-487a38b67acc",
   "metadata": {},
   "outputs": [
    {
     "data": {
      "text/plain": [
       "tuple"
      ]
     },
     "execution_count": 57,
     "metadata": {},
     "output_type": "execute_result"
    }
   ],
   "source": [
    "type(students[0])"
   ]
  },
  {
   "cell_type": "code",
   "execution_count": 61,
   "id": "c57f4bea-eee2-405a-8e78-b6a08c409512",
   "metadata": {},
   "outputs": [
    {
     "data": {
      "text/plain": [
       "[('Abhishek', 'A', 15), ('Hrithik Roshan', 'C', 100), ('Isha Deol', 'B', 12)]"
      ]
     },
     "execution_count": 61,
     "metadata": {},
     "output_type": "execute_result"
    }
   ],
   "source": [
    "# According to name sorting performed\n",
    "sorted(students,key=lambda students:students[0])"
   ]
  },
  {
   "cell_type": "code",
   "execution_count": 62,
   "id": "130a9722-fdc8-4604-9afd-f93ef9a974e5",
   "metadata": {},
   "outputs": [
    {
     "data": {
      "text/plain": [
       "[('Abhishek', 'A', 15), ('Isha Deol', 'B', 12), ('Hrithik Roshan', 'C', 100)]"
      ]
     },
     "execution_count": 62,
     "metadata": {},
     "output_type": "execute_result"
    }
   ],
   "source": [
    "# According to Section sorting performed\n",
    "sorted(students,key=lambda students:students[1])"
   ]
  },
  {
   "cell_type": "code",
   "execution_count": 63,
   "id": "f6b68d99-9e12-44f5-84ce-cd3a61d21543",
   "metadata": {},
   "outputs": [
    {
     "data": {
      "text/plain": [
       "[('Isha Deol', 'B', 12), ('Abhishek', 'A', 15), ('Hrithik Roshan', 'C', 100)]"
      ]
     },
     "execution_count": 63,
     "metadata": {},
     "output_type": "execute_result"
    }
   ],
   "source": [
    "# According to Age sorting performed\n",
    "sorted(students,key=lambda students:students[2])"
   ]
  },
  {
   "cell_type": "code",
   "execution_count": 69,
   "id": "311a4c00-9fa8-42e2-b8b1-091e057f29b0",
   "metadata": {},
   "outputs": [
    {
     "data": {
      "text/plain": [
       "('Abhishek', 45, 'A', 'Male')"
      ]
     },
     "execution_count": 69,
     "metadata": {},
     "output_type": "execute_result"
    }
   ],
   "source": [
    "class person:\n",
    "    def __init__(self,name,age,section,gender):\n",
    "        self.name=name\n",
    "        self.age=age\n",
    "        self.section=section\n",
    "        self.gender=gender\n",
    "    def __repr__(self):\n",
    "        return repr((self.name,self.age,self.section,self.gender))\n",
    "\n",
    "obj=person('Abhishek',45,'A',\"Male\")\n",
    "obj"
   ]
  },
  {
   "cell_type": "code",
   "execution_count": 71,
   "id": "39f0947c-5252-445f-bdfe-2648a4a00f42",
   "metadata": {},
   "outputs": [
    {
     "data": {
      "text/plain": [
       "[('Aditya', 12, 'C', 'Male'),\n",
       " ('Sahil', 50, 'A', 'Male'),\n",
       " ('Shivam', 12, 'B', 'Male'),\n",
       " ('Pallavi', 40, 'D', 'Female'),\n",
       " ('Divya', 14, 'F', 'Female')]"
      ]
     },
     "execution_count": 71,
     "metadata": {},
     "output_type": "execute_result"
    }
   ],
   "source": [
    "student_obj=[\n",
    "    person('Aditya',12,'C','Male'),\n",
    "    person('Sahil',50,'A','Male'),\n",
    "    person('Shivam',12,'B','Male'),\n",
    "    person('Pallavi',40,'D','Female'),\n",
    "    person('Divya',14,'F','Female'),\n",
    "]\n",
    "student_obj"
   ]
  },
  {
   "cell_type": "code",
   "execution_count": 72,
   "id": "326499de-654a-43de-97f2-7ac659d9bd2f",
   "metadata": {},
   "outputs": [
    {
     "name": "stdout",
     "output_type": "stream",
     "text": [
      "('Aditya', 12, 'C', 'Male')\n",
      "('Sahil', 50, 'A', 'Male')\n",
      "('Shivam', 12, 'B', 'Male')\n",
      "('Pallavi', 40, 'D', 'Female')\n",
      "('Divya', 14, 'F', 'Female')\n"
     ]
    }
   ],
   "source": [
    "for i in student_obj:\n",
    "    print(i)"
   ]
  },
  {
   "cell_type": "code",
   "execution_count": 92,
   "id": "e1e13943-08d4-49e1-91a2-b54db4a23a16",
   "metadata": {},
   "outputs": [
    {
     "data": {
      "text/plain": [
       "('Shivam', 12, 'B', 'Male')"
      ]
     },
     "execution_count": 92,
     "metadata": {},
     "output_type": "execute_result"
    }
   ],
   "source": [
    "(lambda person:person[2])(student_obj)"
   ]
  },
  {
   "cell_type": "code",
   "execution_count": 97,
   "id": "c685e0e5-cd93-4235-b33b-b7ba6e8a15d4",
   "metadata": {},
   "outputs": [
    {
     "data": {
      "text/plain": [
       "[('Aditya', 12, 'C', 'Male'),\n",
       " ('Divya', 14, 'F', 'Female'),\n",
       " ('Pallavi', 40, 'D', 'Female'),\n",
       " ('Sahil', 50, 'A', 'Male'),\n",
       " ('Shivam', 12, 'B', 'Male')]"
      ]
     },
     "execution_count": 97,
     "metadata": {},
     "output_type": "execute_result"
    }
   ],
   "source": [
    "# sorting perform using name\n",
    "sorted(student_obj,key=lambda person:person.name)"
   ]
  },
  {
   "cell_type": "code",
   "execution_count": 98,
   "id": "f2f1f135-611b-41c8-9b85-bd63a0334b69",
   "metadata": {},
   "outputs": [
    {
     "data": {
      "text/plain": [
       "[('Aditya', 12, 'C', 'Male'),\n",
       " ('Shivam', 12, 'B', 'Male'),\n",
       " ('Divya', 14, 'F', 'Female'),\n",
       " ('Pallavi', 40, 'D', 'Female'),\n",
       " ('Sahil', 50, 'A', 'Male')]"
      ]
     },
     "execution_count": 98,
     "metadata": {},
     "output_type": "execute_result"
    }
   ],
   "source": [
    "# sorting perform using age\n",
    "sorted(student_obj,key=lambda person:person.age)"
   ]
  },
  {
   "cell_type": "code",
   "execution_count": 99,
   "id": "4bef9f7b-db78-4152-bd06-c0a7df66c24e",
   "metadata": {},
   "outputs": [
    {
     "data": {
      "text/plain": [
       "[('Sahil', 50, 'A', 'Male'),\n",
       " ('Shivam', 12, 'B', 'Male'),\n",
       " ('Aditya', 12, 'C', 'Male'),\n",
       " ('Pallavi', 40, 'D', 'Female'),\n",
       " ('Divya', 14, 'F', 'Female')]"
      ]
     },
     "execution_count": 99,
     "metadata": {},
     "output_type": "execute_result"
    }
   ],
   "source": [
    "# sorting perform using section\n",
    "sorted(student_obj,key=lambda person:person.section)"
   ]
  },
  {
   "cell_type": "code",
   "execution_count": 100,
   "id": "54de7882-c17d-460f-bd74-5d133c50b33e",
   "metadata": {},
   "outputs": [
    {
     "data": {
      "text/plain": [
       "[('Pallavi', 40, 'D', 'Female'),\n",
       " ('Divya', 14, 'F', 'Female'),\n",
       " ('Aditya', 12, 'C', 'Male'),\n",
       " ('Sahil', 50, 'A', 'Male'),\n",
       " ('Shivam', 12, 'B', 'Male')]"
      ]
     },
     "execution_count": 100,
     "metadata": {},
     "output_type": "execute_result"
    }
   ],
   "source": [
    "# sorting perform using gender\n",
    "sorted(student_obj,key=lambda person:person.gender)"
   ]
  },
  {
   "cell_type": "code",
   "execution_count": 102,
   "id": "e49dda32-c546-43c7-8c0a-443bafa5d59a",
   "metadata": {},
   "outputs": [
    {
     "data": {
      "text/plain": [
       "[[15, 2.5, 100],\n",
       " [20, 40.5, 50],\n",
       " [25, 78.23, 50],\n",
       " [40, 56.23, 89],\n",
       " [45, 89.3, 45]]"
      ]
     },
     "execution_count": 102,
     "metadata": {},
     "output_type": "execute_result"
    }
   ],
   "source": [
    "# Lambda with apply()\n",
    "\n",
    "value_list=[\n",
    "    [15,2.5,100],\n",
    "    [20,40.5,50],\n",
    "    [25,78.23,50],[40,56.23,89],[45,89.3,45]\n",
    "]\n",
    "value_list"
   ]
  },
  {
   "cell_type": "code",
   "execution_count": 105,
   "id": "c1608ece-0e40-41ed-841e-f8467abd768f",
   "metadata": {},
   "outputs": [
    {
     "data": {
      "text/html": [
       "<div>\n",
       "<style scoped>\n",
       "    .dataframe tbody tr th:only-of-type {\n",
       "        vertical-align: middle;\n",
       "    }\n",
       "\n",
       "    .dataframe tbody tr th {\n",
       "        vertical-align: top;\n",
       "    }\n",
       "\n",
       "    .dataframe thead th {\n",
       "        text-align: right;\n",
       "    }\n",
       "</style>\n",
       "<table border=\"1\" class=\"dataframe\">\n",
       "  <thead>\n",
       "    <tr style=\"text-align: right;\">\n",
       "      <th></th>\n",
       "      <th>Field1</th>\n",
       "      <th>Field2</th>\n",
       "      <th>Field3</th>\n",
       "    </tr>\n",
       "  </thead>\n",
       "  <tbody>\n",
       "    <tr>\n",
       "      <th>a</th>\n",
       "      <td>15</td>\n",
       "      <td>2.50</td>\n",
       "      <td>100</td>\n",
       "    </tr>\n",
       "    <tr>\n",
       "      <th>b</th>\n",
       "      <td>20</td>\n",
       "      <td>40.50</td>\n",
       "      <td>50</td>\n",
       "    </tr>\n",
       "    <tr>\n",
       "      <th>c</th>\n",
       "      <td>25</td>\n",
       "      <td>78.23</td>\n",
       "      <td>50</td>\n",
       "    </tr>\n",
       "    <tr>\n",
       "      <th>d</th>\n",
       "      <td>40</td>\n",
       "      <td>56.23</td>\n",
       "      <td>89</td>\n",
       "    </tr>\n",
       "    <tr>\n",
       "      <th>e</th>\n",
       "      <td>45</td>\n",
       "      <td>89.30</td>\n",
       "      <td>45</td>\n",
       "    </tr>\n",
       "  </tbody>\n",
       "</table>\n",
       "</div>"
      ],
      "text/plain": [
       "   Field1  Field2  Field3\n",
       "a      15    2.50     100\n",
       "b      20   40.50      50\n",
       "c      25   78.23      50\n",
       "d      40   56.23      89\n",
       "e      45   89.30      45"
      ]
     },
     "execution_count": 105,
     "metadata": {},
     "output_type": "execute_result"
    }
   ],
   "source": [
    "import pandas as pd\n",
    "\n",
    "df=pd.DataFrame(value_list,columns=['Field1','Field2','Field3'],index=['a','b','c','d','e'])\n",
    "df"
   ]
  },
  {
   "cell_type": "code",
   "execution_count": 147,
   "id": "0f8b35cc-81c4-45e2-9019-aa6119069bc6",
   "metadata": {},
   "outputs": [
    {
     "data": {
      "text/html": [
       "<div>\n",
       "<style scoped>\n",
       "    .dataframe tbody tr th:only-of-type {\n",
       "        vertical-align: middle;\n",
       "    }\n",
       "\n",
       "    .dataframe tbody tr th {\n",
       "        vertical-align: top;\n",
       "    }\n",
       "\n",
       "    .dataframe thead th {\n",
       "        text-align: right;\n",
       "    }\n",
       "</style>\n",
       "<table border=\"1\" class=\"dataframe\">\n",
       "  <thead>\n",
       "    <tr style=\"text-align: right;\">\n",
       "      <th></th>\n",
       "      <th>value1</th>\n",
       "      <th>value2</th>\n",
       "      <th>valu3</th>\n",
       "    </tr>\n",
       "  </thead>\n",
       "  <tbody>\n",
       "    <tr>\n",
       "      <th>0</th>\n",
       "      <td>15</td>\n",
       "      <td>2.50</td>\n",
       "      <td>100</td>\n",
       "    </tr>\n",
       "    <tr>\n",
       "      <th>1</th>\n",
       "      <td>20</td>\n",
       "      <td>40.50</td>\n",
       "      <td>50</td>\n",
       "    </tr>\n",
       "    <tr>\n",
       "      <th>2</th>\n",
       "      <td>25</td>\n",
       "      <td>78.23</td>\n",
       "      <td>50</td>\n",
       "    </tr>\n",
       "    <tr>\n",
       "      <th>3</th>\n",
       "      <td>40</td>\n",
       "      <td>56.23</td>\n",
       "      <td>89</td>\n",
       "    </tr>\n",
       "    <tr>\n",
       "      <th>4</th>\n",
       "      <td>45</td>\n",
       "      <td>89.30</td>\n",
       "      <td>45</td>\n",
       "    </tr>\n",
       "  </tbody>\n",
       "</table>\n",
       "</div>"
      ],
      "text/plain": [
       "   value1  value2  valu3\n",
       "0      15    2.50    100\n",
       "1      20   40.50     50\n",
       "2      25   78.23     50\n",
       "3      40   56.23     89\n",
       "4      45   89.30     45"
      ]
     },
     "execution_count": 147,
     "metadata": {},
     "output_type": "execute_result"
    }
   ],
   "source": [
    "import pandas as pd\n",
    "\n",
    "df=pd.DataFrame(value_list,columns=['value1','value2','valu3'],index=[0,1,2,3,4])\n",
    "df"
   ]
  },
  {
   "cell_type": "code",
   "execution_count": 148,
   "id": "bde0aa71-3ee1-4c01-8b40-65ff113e1a0c",
   "metadata": {},
   "outputs": [
    {
     "data": {
      "text/plain": [
       "pandas.core.frame.DataFrame"
      ]
     },
     "execution_count": 148,
     "metadata": {},
     "output_type": "execute_result"
    }
   ],
   "source": [
    "type(df)"
   ]
  },
  {
   "cell_type": "code",
   "execution_count": 149,
   "id": "d3a3f843-82db-458c-b243-85f1a77e6779",
   "metadata": {},
   "outputs": [
    {
     "name": "stdout",
     "output_type": "stream",
     "text": [
      "   value1  value2  valu3\n",
      "0      15    2.50    100\n",
      "1      20   40.50     50\n",
      "2      25   78.23     50\n",
      "3      40   56.23     89\n",
      "4      45   89.30     45\n",
      "   value1  value2  valu3\n",
      "0      20    7.50    105\n",
      "1      25   45.50     55\n",
      "2      30   83.23     55\n",
      "3      45   61.23     94\n",
      "4      50   94.30     50\n"
     ]
    }
   ],
   "source": [
    "# Adding 5 in each elements using lambda apply() function\n",
    "print(df)\n",
    "df1=df.apply(lambda x:x+5)\n",
    "print(df1)"
   ]
  },
  {
   "cell_type": "code",
   "execution_count": 150,
   "id": "85415e30-ccc9-407e-9681-8ca2925f7d70",
   "metadata": {},
   "outputs": [
    {
     "name": "stdout",
     "output_type": "stream",
     "text": [
      "   value1  value2  valu3\n",
      "0      15    2.50    100\n",
      "1      20   40.50     50\n",
      "2      25   78.23     50\n",
      "3      40   56.23     89\n",
      "4      45   89.30     45\n",
      "   value1  value2  valu3\n",
      "0      75   12.50    500\n",
      "1     100  202.50    250\n",
      "2     125  391.15    250\n",
      "3     200  281.15    445\n",
      "4     225  446.50    225\n"
     ]
    }
   ],
   "source": [
    "print(df)\n",
    "df1=df.apply(lambda x:x*5)\n",
    "print(df1)"
   ]
  },
  {
   "cell_type": "code",
   "execution_count": 151,
   "id": "c288210f-5abb-4e5a-bb57-29885bd5a6ad",
   "metadata": {},
   "outputs": [
    {
     "data": {
      "text/html": [
       "<div>\n",
       "<style scoped>\n",
       "    .dataframe tbody tr th:only-of-type {\n",
       "        vertical-align: middle;\n",
       "    }\n",
       "\n",
       "    .dataframe tbody tr th {\n",
       "        vertical-align: top;\n",
       "    }\n",
       "\n",
       "    .dataframe thead th {\n",
       "        text-align: right;\n",
       "    }\n",
       "</style>\n",
       "<table border=\"1\" class=\"dataframe\">\n",
       "  <thead>\n",
       "    <tr style=\"text-align: right;\">\n",
       "      <th></th>\n",
       "      <th>value1</th>\n",
       "      <th>value2</th>\n",
       "      <th>valu3</th>\n",
       "    </tr>\n",
       "  </thead>\n",
       "  <tbody>\n",
       "    <tr>\n",
       "      <th>0</th>\n",
       "      <td>15</td>\n",
       "      <td>2.50</td>\n",
       "      <td>100</td>\n",
       "    </tr>\n",
       "    <tr>\n",
       "      <th>1</th>\n",
       "      <td>20</td>\n",
       "      <td>40.50</td>\n",
       "      <td>50</td>\n",
       "    </tr>\n",
       "    <tr>\n",
       "      <th>2</th>\n",
       "      <td>25</td>\n",
       "      <td>78.23</td>\n",
       "      <td>50</td>\n",
       "    </tr>\n",
       "    <tr>\n",
       "      <th>3</th>\n",
       "      <td>40</td>\n",
       "      <td>56.23</td>\n",
       "      <td>89</td>\n",
       "    </tr>\n",
       "    <tr>\n",
       "      <th>4</th>\n",
       "      <td>45</td>\n",
       "      <td>89.30</td>\n",
       "      <td>45</td>\n",
       "    </tr>\n",
       "  </tbody>\n",
       "</table>\n",
       "</div>"
      ],
      "text/plain": [
       "   value1  value2  valu3\n",
       "0      15    2.50    100\n",
       "1      20   40.50     50\n",
       "2      25   78.23     50\n",
       "3      40   56.23     89\n",
       "4      45   89.30     45"
      ]
     },
     "execution_count": 151,
     "metadata": {},
     "output_type": "execute_result"
    }
   ],
   "source": [
    "df[:]"
   ]
  },
  {
   "cell_type": "code",
   "execution_count": null,
   "id": "dc6c9738-efd0-437a-803a-90eb8be180d5",
   "metadata": {},
   "outputs": [],
   "source": []
  },
  {
   "cell_type": "code",
   "execution_count": 152,
   "id": "dc4cdd37-508e-4df4-8cc6-0ac5d973b478",
   "metadata": {},
   "outputs": [
    {
     "data": {
      "text/html": [
       "<div>\n",
       "<style scoped>\n",
       "    .dataframe tbody tr th:only-of-type {\n",
       "        vertical-align: middle;\n",
       "    }\n",
       "\n",
       "    .dataframe tbody tr th {\n",
       "        vertical-align: top;\n",
       "    }\n",
       "\n",
       "    .dataframe thead th {\n",
       "        text-align: right;\n",
       "    }\n",
       "</style>\n",
       "<table border=\"1\" class=\"dataframe\">\n",
       "  <thead>\n",
       "    <tr style=\"text-align: right;\">\n",
       "      <th></th>\n",
       "      <th>value1</th>\n",
       "      <th>value2</th>\n",
       "      <th>valu3</th>\n",
       "    </tr>\n",
       "  </thead>\n",
       "  <tbody>\n",
       "    <tr>\n",
       "      <th>0</th>\n",
       "      <td>15</td>\n",
       "      <td>2.50</td>\n",
       "      <td>100</td>\n",
       "    </tr>\n",
       "    <tr>\n",
       "      <th>1</th>\n",
       "      <td>20</td>\n",
       "      <td>40.50</td>\n",
       "      <td>50</td>\n",
       "    </tr>\n",
       "    <tr>\n",
       "      <th>2</th>\n",
       "      <td>25</td>\n",
       "      <td>78.23</td>\n",
       "      <td>50</td>\n",
       "    </tr>\n",
       "    <tr>\n",
       "      <th>3</th>\n",
       "      <td>40</td>\n",
       "      <td>56.23</td>\n",
       "      <td>89</td>\n",
       "    </tr>\n",
       "    <tr>\n",
       "      <th>4</th>\n",
       "      <td>45</td>\n",
       "      <td>89.30</td>\n",
       "      <td>45</td>\n",
       "    </tr>\n",
       "  </tbody>\n",
       "</table>\n",
       "</div>"
      ],
      "text/plain": [
       "   value1  value2  valu3\n",
       "0      15    2.50    100\n",
       "1      20   40.50     50\n",
       "2      25   78.23     50\n",
       "3      40   56.23     89\n",
       "4      45   89.30     45"
      ]
     },
     "execution_count": 152,
     "metadata": {},
     "output_type": "execute_result"
    }
   ],
   "source": [
    "df"
   ]
  },
  {
   "cell_type": "code",
   "execution_count": 155,
   "id": "e149b6cb-094e-4484-9c42-13b946b63d69",
   "metadata": {},
   "outputs": [
    {
     "data": {
      "text/plain": [
       "89"
      ]
     },
     "execution_count": 155,
     "metadata": {},
     "output_type": "execute_result"
    }
   ],
   "source": [
    "df4=df.valu3[3]\n",
    "df4"
   ]
  },
  {
   "cell_type": "code",
   "execution_count": null,
   "id": "493b34d3-94f3-4406-ba56-3073932b47d3",
   "metadata": {},
   "outputs": [],
   "source": []
  },
  {
   "cell_type": "code",
   "execution_count": null,
   "id": "be4a3e73-d409-4d40-9b63-bd839b7a5ec6",
   "metadata": {},
   "outputs": [],
   "source": []
  },
  {
   "cell_type": "code",
   "execution_count": null,
   "id": "e3a85ef9-88c2-4fa5-92cb-6c37ca259785",
   "metadata": {},
   "outputs": [],
   "source": []
  }
 ],
 "metadata": {
  "kernelspec": {
   "display_name": "Python 3 (ipykernel)",
   "language": "python",
   "name": "python3"
  },
  "language_info": {
   "codemirror_mode": {
    "name": "ipython",
    "version": 3
   },
   "file_extension": ".py",
   "mimetype": "text/x-python",
   "name": "python",
   "nbconvert_exporter": "python",
   "pygments_lexer": "ipython3",
   "version": "3.12.2"
  }
 },
 "nbformat": 4,
 "nbformat_minor": 5
}
