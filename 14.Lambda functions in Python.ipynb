{
 "cells": [
  {
   "cell_type": "markdown",
   "id": "5326a337-a449-4796-8569-b538905a2bae",
   "metadata": {},
   "source": [
    "# 14. Lambda Functions in python\n",
    "\n",
    " * __A Lambda function is a small anonymous functions.__\n",
    " * __A Lambda function can take any number of arguments, but can only have one expression.__\n",
    " * __The expression is eveluated and returned.__\n",
    " * __Lambda functions can be used wherever function objects are required.__\n",
    " * __Lambda Expression(or lambda functions) are essentially blocks of code that be assigned to variable, passed as an arguments, or returned from a functins call, in Language that support high-order functions.__\n",
    " * __The main role of the Lambda is better discribed in a scenarios when we employ them anonmously inside another functions.__\n",
    " * __In Python, the Lambda function can be utilized as an arugments to their high-order functins as an argument.__\n",
    " * __Lambda function in Python__\n",
    "    * __1.Syntax__\n",
    "       * __Normal Functions__\n",
    "       * __Anonymous Functions__\n",
    "    * __2.Usages__\n",
    "       * __Lambda with filters()__\n",
    "       * __Lambda with map()__\n",
    "       * __Lambda with reduce()__\n",
    "       * __Lambda with sorted()__\n",
    "       * __Lambda with apply()__\n",
    "    * __3.Common Errors__\n",
    "       * __SyntaxError__\n",
    "       * __TypeError__"
   ]
  },
  {
   "cell_type": "code",
   "execution_count": 1,
   "id": "95f5615a-b6f0-4d1c-be7d-d32011617502",
   "metadata": {},
   "outputs": [
    {
     "data": {
      "text/plain": [
       "16"
      ]
     },
     "execution_count": 1,
     "metadata": {},
     "output_type": "execute_result"
    }
   ],
   "source": [
    "def func(x):\n",
    "    return x+6\n",
    "func(10)"
   ]
  },
  {
   "cell_type": "code",
   "execution_count": 2,
   "id": "0d2be26d-d3dc-4573-8061-d344c475cc3e",
   "metadata": {},
   "outputs": [
    {
     "data": {
      "text/plain": [
       "16"
      ]
     },
     "execution_count": 2,
     "metadata": {},
     "output_type": "execute_result"
    }
   ],
   "source": [
    "(lambda y:y+6)(10)"
   ]
  },
  {
   "cell_type": "code",
   "execution_count": 3,
   "id": "70b5ab78-017c-4756-a7b8-d7d4fd36afd8",
   "metadata": {},
   "outputs": [
    {
     "data": {
      "text/plain": [
       "8"
      ]
     },
     "execution_count": 3,
     "metadata": {},
     "output_type": "execute_result"
    }
   ],
   "source": [
    "# Exponenet (base,pow)\n",
    "# if user entered any number then it returns the exponenetial form data.\n",
    "\n",
    "def expo(x,y):\n",
    "    return x**y\n",
    "\n",
    "expo(2,3)"
   ]
  },
  {
   "cell_type": "code",
   "execution_count": 4,
   "id": "83c40bbb-a15b-4f39-8c76-e6ff1a191074",
   "metadata": {},
   "outputs": [
    {
     "data": {
      "text/plain": [
       "8"
      ]
     },
     "execution_count": 4,
     "metadata": {},
     "output_type": "execute_result"
    }
   ],
   "source": [
    "(lambda a,b:a**b)(2,3)"
   ]
  },
  {
   "cell_type": "code",
   "execution_count": 5,
   "id": "7df6d206-08ff-4228-b957-9d742413fca8",
   "metadata": {},
   "outputs": [
    {
     "name": "stdin",
     "output_type": "stream",
     "text": [
      "Enter Base of the Exponent: 2\n",
      "Enter the Power of the Exponent: 4\n"
     ]
    },
    {
     "data": {
      "text/plain": [
       "16"
      ]
     },
     "execution_count": 5,
     "metadata": {},
     "output_type": "execute_result"
    }
   ],
   "source": [
    "def func():\n",
    "    x=int(input('Enter Base of the Exponent:'))\n",
    "    y=int(input('Enter the Power of the Exponent:'))\n",
    "    z=x**y\n",
    "    return z\n",
    "\n",
    "func()"
   ]
  },
  {
   "cell_type": "code",
   "execution_count": 8,
   "id": "1f8d1c9d-936b-4373-9188-f0da5de2d30f",
   "metadata": {},
   "outputs": [
    {
     "name": "stdin",
     "output_type": "stream",
     "text": [
      "Enter Base of the Exponent: 2\n",
      "Enter Power of the Exponent: 5\n"
     ]
    },
    {
     "name": "stdout",
     "output_type": "stream",
     "text": [
      "The result will be Exponential form of two numbers: 32\n"
     ]
    }
   ],
   "source": [
    "x=int(input('Enter Base of the Exponent:'))\n",
    "y=int(input('Enter Power of the Exponent:'))\n",
    "\n",
    "z=(lambda a,b:a**b)(x,y)\n",
    "print('The result will be Exponential form of two numbers:',z)"
   ]
  },
  {
   "cell_type": "code",
   "execution_count": 11,
   "id": "7e2f3362-905f-4a50-a2b1-e6168563eb63",
   "metadata": {},
   "outputs": [
    {
     "name": "stdout",
     "output_type": "stream",
     "text": [
      "The value from list having lenght 6 are: ['Monday', 'Friday', 'Sunday']\n"
     ]
    }
   ],
   "source": [
    "#  Write a python program to filter a given list to determine if the values \n",
    "# in the list have a lenght of 6 using lambda functions.\n",
    "\n",
    "# weekdays=['Monday','Tuesday','Wednesday',\"Thursday\",'Friday','Saturday','Sunday']\n",
    "weekdays=['Monday','Tuesday','Wednesday',\"Thursday\",'Friday','Saturday','Sunday']\n",
    "\n",
    "def function1():\n",
    "    list1=[]\n",
    "    for i in weekdays:\n",
    "        if len(i) ==6:\n",
    "            list1.append(i)\n",
    "    print('The value from list having lenght 6 are:',list1)\n",
    "function1()"
   ]
  },
  {
   "cell_type": "markdown",
   "id": "3e42d304-2966-4aff-9d4a-bb7da263781e",
   "metadata": {},
   "source": [
    "# Lambda Filter()\n",
    "\n",
    " * __A high-order function__\n",
    " * __Syntax: filter(function,sequence)__\n",
    "    * __It applies function to each element of sequence and returns for which the function returns true.__\n",
    " * __Filter returns a subset of sequence__\n",
    "    * __It generate the actual list, we need apply on list()__"
   ]
  },
  {
   "cell_type": "code",
   "execution_count": 13,
   "id": "4bae050f-240d-49ec-9cd3-bc95efc439ea",
   "metadata": {},
   "outputs": [
    {
     "name": "stdout",
     "output_type": "stream",
     "text": [
      "The value from the list having length 6 are: ['Monday', 'Friday', 'Sunday']\n"
     ]
    }
   ],
   "source": [
    "weekdays=['Monday','Tuesday','Wednesday',\"Thursday\",'Friday','Saturday','Sunday']\n",
    "\n",
    "filter_list=list(filter(lambda x:len(x) ==6, weekdays))\n",
    "print('The value from the list having length 6 are:',filter_list)"
   ]
  },
  {
   "cell_type": "markdown",
   "id": "1fa2f4f0-ecca-402d-ae49-0b69678348dd",
   "metadata": {},
   "source": [
    "# Lambda with map()\n",
    "\n",
    " * __A high-order function__\n",
    " * __Syntax: map(function,sequence)__\n",
    " * __applies function to each element of sequences and return the result.__"
   ]
  },
  {
   "cell_type": "code",
   "execution_count": 19,
   "id": "663b9a04-d3c1-4434-ae33-07eddd9edc51",
   "metadata": {},
   "outputs": [
    {
     "name": "stdout",
     "output_type": "stream",
     "text": [
      "[4, 16, 25, 36]\n"
     ]
    }
   ],
   "source": [
    "def square1():\n",
    "    a=[2,4,5,6]\n",
    "    list1=[]\n",
    "    for i in a:\n",
    "        z=i**2\n",
    "        list1.append(z)\n",
    "\n",
    "    print(list1)\n",
    "\n",
    "square1()"
   ]
  },
  {
   "cell_type": "code",
   "execution_count": 21,
   "id": "15a4a3f7-3ef2-46d4-85c2-26c82b7899db",
   "metadata": {},
   "outputs": [
    {
     "data": {
      "text/plain": [
       "[4, 16, 25, 36, 49, 64, 81, 100, 144, 196, 225, 256, 324]"
      ]
     },
     "execution_count": 21,
     "metadata": {},
     "output_type": "execute_result"
    }
   ],
   "source": [
    "a=[2,4,5,6,7,8,9,10,12,14,15,16,18]\n",
    "\n",
    "list_map=list(map(lambda x:x**2,a))\n",
    "list_map"
   ]
  },
  {
   "cell_type": "code",
   "execution_count": 25,
   "id": "d5449b75-d153-4a55-9e0a-74e3f969714d",
   "metadata": {},
   "outputs": [
    {
     "name": "stdin",
     "output_type": "stream",
     "text": [
      "Enter any Number: 10\n"
     ]
    },
    {
     "data": {
      "text/plain": [
       "[100]"
      ]
     },
     "execution_count": 25,
     "metadata": {},
     "output_type": "execute_result"
    }
   ],
   "source": [
    "# from user input using map with lambda\n",
    "y=int(input('Enter any Number:'))\n",
    "y1=[]\n",
    "y1.append(y)\n",
    "z_list=list(map(lambda a:a**2,y1))\n",
    "z_list"
   ]
  },
  {
   "cell_type": "code",
   "execution_count": 29,
   "id": "2f030787-af58-4781-8188-dc15f66eb3f6",
   "metadata": {},
   "outputs": [
    {
     "name": "stdin",
     "output_type": "stream",
     "text": [
      "Enter any Number: 10\n"
     ]
    },
    {
     "data": {
      "text/plain": [
       "[0, 1, 4, 9, 16, 25, 36, 49, 64, 81, 100]"
      ]
     },
     "execution_count": 29,
     "metadata": {},
     "output_type": "execute_result"
    }
   ],
   "source": [
    "y=int(input('Enter any Number:'))\n",
    "z_list=list(map(lambda a:a**2,range(y+1)))\n",
    "z_list"
   ]
  },
  {
   "cell_type": "code",
   "execution_count": 32,
   "id": "11e3eb50-00bf-4b90-9dcf-83c6ea07defc",
   "metadata": {},
   "outputs": [
    {
     "name": "stdout",
     "output_type": "stream",
     "text": [
      "Even element of the list is: [20, 50, 58, 78, 96, 36, 10]\n",
      "Odd element of the list is: [1, 55, 69, 25, 11, 15, 33, 39]\n"
     ]
    }
   ],
   "source": [
    "# filter out the even or odd numbers using lambda function.\n",
    "a=[1,20,50,55,69,58,78,96,36,25,10,11,15,33,39]\n",
    "\n",
    "def myfunc(x):\n",
    "    list_even=[]\n",
    "    list_odd=[]\n",
    "    for i in x:\n",
    "        if i%2==0:\n",
    "           list_even.append(i)\n",
    "        else:\n",
    "            list_odd.append(i)\n",
    "    print('Even element of the list is:',list_even)\n",
    "    print('Odd element of the list is:',list_odd)\n",
    "myfunc(a)"
   ]
  },
  {
   "cell_type": "code",
   "execution_count": 34,
   "id": "553c468e-ae45-4b7a-8d37-19c73b1d3bd0",
   "metadata": {},
   "outputs": [
    {
     "name": "stdout",
     "output_type": "stream",
     "text": [
      "Even element of the list using filter is: [20, 50, 58, 78, 96, 36, 10]\n",
      "Odd element of the list using filter is: [1, 55, 69, 25, 11, 15, 33, 39]\n"
     ]
    }
   ],
   "source": [
    "a=[1,20,50,55,69,58,78,96,36,25,10,11,15,33,39]\n",
    "\n",
    "list1=list(filter(lambda x:x%2==0,a))\n",
    "list2=list(filter(lambda y:y%2!=0,a))\n",
    "print('Even element of the list using filter is:',list1)\n",
    "print('Odd element of the list using filter is:',list2)"
   ]
  },
  {
   "cell_type": "code",
   "execution_count": null,
   "id": "2bfe1b5b-bb28-434f-ba12-fdd5a3d844ee",
   "metadata": {},
   "outputs": [],
   "source": []
  }
 ],
 "metadata": {
  "kernelspec": {
   "display_name": "Python 3 (ipykernel)",
   "language": "python",
   "name": "python3"
  },
  "language_info": {
   "codemirror_mode": {
    "name": "ipython",
    "version": 3
   },
   "file_extension": ".py",
   "mimetype": "text/x-python",
   "name": "python",
   "nbconvert_exporter": "python",
   "pygments_lexer": "ipython3",
   "version": "3.12.2"
  }
 },
 "nbformat": 4,
 "nbformat_minor": 5
}
