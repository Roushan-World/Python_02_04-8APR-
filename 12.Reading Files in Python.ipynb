{
 "cells": [
  {
   "cell_type": "markdown",
   "id": "69dfd9bf-eb4b-48f1-96b3-d5b1d897f37e",
   "metadata": {},
   "source": [
    "# 12. Reading Files in Python\n",
    "\n",
    " * __To read a text file for reading in Python, follow these steps:__\n",
    " * __First,Open a text file for reading by using the open() functions.__\n",
    " * __Second, read text from the file using the file read(), readline(), readlines() method of the file object.__\n",
    " * __Third, close the file close() method. This frees up resources and ensures consistency across different python version.__\n",
    "   "
   ]
  },
  {
   "cell_type": "markdown",
   "id": "a4009a2f-ca8f-4a9f-8ba0-7b2a1b09e6cb",
   "metadata": {},
   "source": [
    "# Method and it's Description.\n",
    "\n",
    " * __writable(): Return whether the file can be written or not.__\n",
    " * __readable(): Return whether the file stream can be read or not.__\n",
    " * __read(): Returns the file content.__\n",
    " * __readline(): Returns one line from the file.__\n",
    " * __readlines(): Return a list of lines from the file.__\n",
    " * __write(): writes the specified string to the file.__\n",
    " * __writelines(): writes a list of string to the file.__\n",
    " * __close(): Close the file.__\n",
    " * __flush(): Flushed the internal buffer.__\n",
    " * __seek(): Change the file position.__\n",
    " * __tell(): Returns the current file.__\n",
    " * __truncate(): Resize the file to the specified.__"
   ]
  },
  {
   "cell_type": "code",
   "execution_count": 3,
   "id": "0bb33460-2b97-411b-a7de-a77623eba0cf",
   "metadata": {},
   "outputs": [
    {
     "data": {
      "text/plain": [
       "'Chandra Shekhar Azad\\n was born on 23 July 1906 in Jujhautiya Brahmins family of Pandit SitaramTiwar i and Jagrani Devi in the bhabara (of jhabua District)|madhy Pradesh. He spent his childhood inthe village Bhabhra when his father was serving in the erstwhile estate of Alirajpur \\nHe got\\n the natural training of a hardy and rough life along with the Bhils who inhabited the wildregion. From his Bhil friends, early in life, be learnt wrestling and swimming. He also became moreskilled with the bow and arrow. He learnt to throw the Bhala or Javelin, to shoot straight, to ride anduse the sword, in all of which he became proficient.\\nFrom\\n his childhood, he remained a devotee of\\nHanuman\\n throughout his life, and had a very strongPehelwan(wrestler)-like body.\\nHe was even called\\n Bhimsen or Bhim Dada later. After the early education in Jhabua, he was sentto theSanskrit Pathashala at Varanasi, where a near relative of the family, probably maternal unclewas then living. He returned home after a few months and he was admitted in the local school at Alirajpur. Again his father sent him to Benares for the boy exhibited a strange waywardness.\\nThis time\\n he remained there and studied properly. On the whole, he was an average student.Political Initiation From the very outset, he had a deep aversion for study which was of no real but tosimply churn out quill drivers or babus for the use of the British Raj in India. His stay at Benareshowever had a salutary effect upon his life, for he came in contact with many young men and ideas.\\nThe atmosphere\\n was such that he got the opportunity of studying many things, especially the unhappy events which were then happeningin the country. Bit by bit, his mind was being drawn to the political situation of the country. Young Chandra Shekhar was f ascinated by anddrawn to the great national upsurge of the non-violent, non-cooperation movement of 1920-21 under the leadership of Mahatma Gandhi.I\\nt is during\\n this time, when the\\nJallianwala Baag massacre\\n by British Army took place in Amritsar where hunderds (at least 2000) unarmed,peaceful and unwarned civilians were fired upon. This event had a profound effect on Indian national movement and inspired several youngIndians, like Azad, into political movement for liberation. The young mind of Chandrashekhar was wax to receive and marble to retain.\\nFrom Chandrashekhar Tewari to Chandrashekhar â€˜Azadâ€™\\nTo protest the massacre and demanding the liberation, various popular activities sprouted up throughout the country. While participating in oneof these movements, Chandra Shekhar was arrested when he was just 16 years of age.He was brought to court. The Magistrate asked him, â€œWhat is your name?\\ngoing to become very famous. He gave his name as â€˜\\nAzadâ€™,\\n his fatherâ€™s name asâ€˜Swatantraâ€™ and his place of dwelling as â€˜prison cellâ€™. Astonished was the Magistrate atthese straight and bold answers. Azad was sentenced to fifteen canes. He wasbeaten very severely. At every beat, his body turned blue and red and blood oozed outfreely. Azad was highly honored by the citizens and profusely garlanded when hecame out from jail. His photos appeared in the Press with streamlined captions.\\nFromhere on, he would be known far and wide as â€˜Azadâ€™, forever.\\n After this incident, Shri Provesh, the chief organiser of the Revolutionary Party in India,sought him and persuaded him to join it. Azad proved to be a restless worker. He issuedsecretly and silently, many leaflets and bulletins to drive away the misconceptionsentertained by the people of the country. He proved a master propagandist. In physicalstrength, none equaled him and he was called Bhim Dada. Other eminent members of the party working along with Azad were Shri Yogesh Chatterji, Shri Sachin Sanyal andShri Rabindranath Kar. Men in the party learned all the arts of modern warfare. The mainproblem was finance. Finances! From where could the money be had? This was themajor issue before the party. To ask openly was impossible and to obtain it secretly was amuch more difficult task.'"
      ]
     },
     "execution_count": 3,
     "metadata": {},
     "output_type": "execute_result"
    }
   ],
   "source": [
    "x=\"C:\\\\Users\\\\Admin\\\\Downloads\\\\Chandra_Shekhar_Azad.txt\"\n",
    "\n",
    "file=open(x,'r')\n",
    "file_content=file.read()\n",
    "file_content"
   ]
  },
  {
   "cell_type": "code",
   "execution_count": 4,
   "id": "8df2a21f-6a77-4f1b-9bd6-3d81906d3f34",
   "metadata": {},
   "outputs": [
    {
     "name": "stdout",
     "output_type": "stream",
     "text": [
      "Chandra Shekhar Azad\n",
      " was born on 23 July 1906 in Jujhautiya Brahmins family of Pandit SitaramTiwar i and Jagrani Devi in the bhabara (of jhabua District)|madhy Pradesh. He spent his childhood inthe village Bhabhra when his father was serving in the erstwhile estate of Alirajpur \n",
      "He got\n",
      " the natural training of a hardy and rough life along with the Bhils who inhabited the wildregion. From his Bhil friends, early in life, be learnt wrestling and swimming. He also became moreskilled with the bow and arrow. He learnt to throw the Bhala or Javelin, to shoot straight, to ride anduse the sword, in all of which he became proficient.\n",
      "From\n",
      " his childhood, he remained a devotee of\n",
      "Hanuman\n",
      " throughout his life, and had a very strongPehelwan(wrestler)-like body.\n",
      "He was even called\n",
      " Bhimsen or Bhim Dada later. After the early education in Jhabua, he was sentto theSanskrit Pathashala at Varanasi, where a near relative of the family, probably maternal unclewas then living. He returned home after a few months and he was admitted in the local school at Alirajpur. Again his father sent him to Benares for the boy exhibited a strange waywardness.\n",
      "This time\n",
      " he remained there and studied properly. On the whole, he was an average student.Political Initiation From the very outset, he had a deep aversion for study which was of no real but tosimply churn out quill drivers or babus for the use of the British Raj in India. His stay at Benareshowever had a salutary effect upon his life, for he came in contact with many young men and ideas.\n",
      "The atmosphere\n",
      " was such that he got the opportunity of studying many things, especially the unhappy events which were then happeningin the country. Bit by bit, his mind was being drawn to the political situation of the country. Young Chandra Shekhar was f ascinated by anddrawn to the great national upsurge of the non-violent, non-cooperation movement of 1920-21 under the leadership of Mahatma Gandhi.I\n",
      "t is during\n",
      " this time, when the\n",
      "Jallianwala Baag massacre\n",
      " by British Army took place in Amritsar where hunderds (at least 2000) unarmed,peaceful and unwarned civilians were fired upon. This event had a profound effect on Indian national movement and inspired several youngIndians, like Azad, into political movement for liberation. The young mind of Chandrashekhar was wax to receive and marble to retain.\n",
      "From Chandrashekhar Tewari to Chandrashekhar â€˜Azadâ€™\n",
      "To protest the massacre and demanding the liberation, various popular activities sprouted up throughout the country. While participating in oneof these movements, Chandra Shekhar was arrested when he was just 16 years of age.He was brought to court. The Magistrate asked him, â€œWhat is your name?\n",
      "going to become very famous. He gave his name as â€˜\n",
      "Azadâ€™,\n",
      " his fatherâ€™s name asâ€˜Swatantraâ€™ and his place of dwelling as â€˜prison cellâ€™. Astonished was the Magistrate atthese straight and bold answers. Azad was sentenced to fifteen canes. He wasbeaten very severely. At every beat, his body turned blue and red and blood oozed outfreely. Azad was highly honored by the citizens and profusely garlanded when hecame out from jail. His photos appeared in the Press with streamlined captions.\n",
      "Fromhere on, he would be known far and wide as â€˜Azadâ€™, forever.\n",
      " After this incident, Shri Provesh, the chief organiser of the Revolutionary Party in India,sought him and persuaded him to join it. Azad proved to be a restless worker. He issuedsecretly and silently, many leaflets and bulletins to drive away the misconceptionsentertained by the people of the country. He proved a master propagandist. In physicalstrength, none equaled him and he was called Bhim Dada. Other eminent members of the party working along with Azad were Shri Yogesh Chatterji, Shri Sachin Sanyal andShri Rabindranath Kar. Men in the party learned all the arts of modern warfare. The mainproblem was finance. Finances! From where could the money be had? This was themajor issue before the party. To ask openly was impossible and to obtain it secretly was amuch more difficult task.\n"
     ]
    }
   ],
   "source": [
    "print(file_content)"
   ]
  },
  {
   "cell_type": "code",
   "execution_count": 5,
   "id": "3e07a47c-b284-461f-bc08-2cc357636162",
   "metadata": {},
   "outputs": [
    {
     "name": "stdout",
     "output_type": "stream",
     "text": [
      "4069\n"
     ]
    }
   ],
   "source": [
    "# how to count the total lenght of the file.\n",
    "print(len(file_content))"
   ]
  },
  {
   "cell_type": "code",
   "execution_count": 6,
   "id": "739b9a43-92e0-49f9-be6a-39f548831996",
   "metadata": {},
   "outputs": [
    {
     "name": "stdout",
     "output_type": "stream",
     "text": [
      "Chandra Shekhar Azad\n",
      " was born on 23 July 1906 in Jujhautiya Brahmins family of Pandit SitaramTiwar i and Jagrani Devi in the bhabara (of jhabua District)|madhy Pradesh. He spent his childhood inthe village Bhabhra when his father was serving in the erstwhile estate of Alirajpur \n",
      "He got\n",
      " the natural training of a hardy and rough life along with the Bhils who inhabited the wildregion. From his Bhil friends, early in life, be learnt wrestling and swimming. He also became moreskilled with the bow and arrow. He learnt to throw the Bhala or Javelin, to shoot straight, to ride anduse the sword, in all of which he became proficient.\n",
      "From\n",
      " his childhood, he remained a devotee of\n",
      "Hanuman\n",
      " throughout his life, and had a very strongPehelwan(wrestler)-like body.\n",
      "He was even called\n",
      " Bhimsen or Bhim Dada later. After the early education in Jhabua, he was sentto theSanskrit Pathashala at Varanasi, where a near relative of the family, probably maternal unclewas then living. He returned home after a few months and he was admitted in the local school at Alirajpur. Again his father sent him to Benares for the boy exhibited a strange waywardness.\n",
      "This time\n",
      " he remained there and studied properly. On the whole, he was an average student.Political Initiation From the very outset, he had a deep aversion for study which was of no real but tosimply churn out quill drivers or babus for the use of the British Raj in India. His stay at Benareshowever had a salutary effect upon his life, for he came in contact with many young men and ideas.\n",
      "The atmosphere\n",
      " was such that he got the opportunity of studying many things, especially the unhappy events which were then happeningin the country. Bit by bit, his mind was being drawn to the political situation of the country. Young Chandra Shekhar was f ascinated by anddrawn to the great national upsurge of the non-violent, non-cooperation movement of 1920-21 under the leadership of Mahatma Gandhi.I\n",
      "t is during\n",
      " this time, when the\n",
      "Jallianwala Baag massacre\n",
      " by British Army took place in Amritsar where hunderds (at least 2000) unarmed,peaceful and unwarned civilians were fired upon. This event had a profound effect on Indian national movement and inspired several youngIndians, like Azad, into political movement for liberation. The young mind of Chandrashekhar was wax to receive and marble to retain.\n",
      "From Chandrashekhar Tewari to Chandrashekhar â€˜Azadâ€™\n",
      "To protest the massacre and demanding the liberation, various popular activities sprouted up throughout the country. While participating in oneof these movements, Chandra Shekhar was arrested when he was just 16 years of age.He was brought to court. The Magistrate asked him, â€œWhat is your name?\n",
      "going to become very famous. He gave his name as â€˜\n",
      "Azadâ€™,\n",
      " his fatherâ€™s name asâ€˜Swatantraâ€™ and his place of dwelling as â€˜prison cellâ€™. Astonished was the Magistrate atthese straight and bold answers. Azad was sentenced to fifteen canes. He wasbeaten very severely. At every beat, his body turned blue and red and blood oozed outfreely. Azad was highly honored by the citizens and profusely garlanded when hecame out from jail. His photos appeared in the Press with streamlined captions.\n",
      "Fromhere on, he would be known far and wide as â€˜Azadâ€™, forever.\n",
      " After this incident, Shri Provesh, the chief organiser of the Revolutionary Party in India,sought him and persuaded him to join it. Azad proved to be a restless worker. He issuedsecretly and silently, many leaflets and bulletins to drive away the misconceptionsentertained by the people of the country. He proved a master propagandist. In physicalstrength, none equaled him and he was called Bhim Dada. Other eminent members of the party working along with Azad were Shri Yogesh Chatterji, Shri Sachin Sanyal andShri Rabindranath Kar. Men in the party learned all the arts of modern warfare. The mainproblem was finance. Finances! From where could the money be had? This was themajor issue before the party. To ask openly was impossible and to obtain it secretly was amuch more difficult task.\n"
     ]
    }
   ],
   "source": [
    "# another method to open the file\n",
    "y1=\"C:\\\\Users\\\\Admin\\\\Downloads\\\\Chandra_Shekhar_Azad.txt\"\n",
    "with open(y1,'r') as f:\n",
    "    new_variable=f.read()\n",
    "    print(new_variable)"
   ]
  },
  {
   "cell_type": "code",
   "execution_count": 12,
   "id": "5dc856ee-ccbf-430f-bb83-e814449d9fff",
   "metadata": {},
   "outputs": [
    {
     "name": "stdout",
     "output_type": "stream",
     "text": [
      "Chandra Shekhar Azad\n",
      " was born on 23 July 1906 in Jujhautiya Brahmins family of Pandit SitaramTiwar i and Jagrani Devi in the bhabara (of jhabua District)|madhy Pradesh. He spent his childhood inthe village Bhabhra when his father was serving in the erstwhile estate of Alirajpur \n",
      "He got\n",
      " the natural training of a hardy and rough life along with the Bhils who inhabited the wildregion. From his Bhil friends, early in life, be learnt wrestling and swimming. He also became moreskilled with the bow and arrow. He learnt to throw the Bhala or Javelin, to shoot straight, to ride anduse the sword, in all of which he became proficient.\n",
      "From\n",
      " his childhood, he remained a devotee of\n",
      "Hanuman\n",
      " throughout his life, and had a very strongPehelwan(wrestler)-like body.\n",
      "He was even called\n",
      " Bhimsen or Bhim Dada later. After the early education in Jhabua, he was sentto theSanskrit Pathashala at Varanasi, wher\n",
      "e a near relative of the family, probably maternal unclewas then living. He returned home after a few months and he was admitted in the local school at Alirajpur. Again his father sent him to Benares for the boy exhibited a strange waywardness.\n",
      "This time\n",
      " he remained there and studied properly. On the whole, he was an average student.Political Initiation From the very outset, he had a deep aversion for study which was of no real but tosimply churn out quill drivers or babus for the use of the British Raj in India. His stay at Benareshowever had a salutary effect upon his life, for he came in contact with many young men and ideas.\n",
      "The atmosphere\n",
      " was such that he got the opportunity of studying many things, especially the unhappy events which were then happeningin the country. Bit by bit, his mind was being drawn to the political situation of the country. Young Chandra Shekhar was f ascinated by anddrawn to the great national upsurge of the non-violent, non-cooperation movement of 1920-\n"
     ]
    }
   ],
   "source": [
    "y1=\"C:\\\\Users\\\\Admin\\\\Downloads\\\\Chandra_Shekhar_Azad.txt\"\n",
    "with open(y1,'r') as f:\n",
    "    print(f.read(900))     # 10 characters\n",
    "    print(f.read(1000))"
   ]
  },
  {
   "cell_type": "code",
   "execution_count": 17,
   "id": "dc490651-0865-49a7-baac-a5e52b99cb1b",
   "metadata": {},
   "outputs": [
    {
     "name": "stdout",
     "output_type": "stream",
     "text": [
      "Chandra Shekhar Azad\n",
      "\n",
      " was born on 23 July 1906 in Jujhautiya Brahmins family of Pandit SitaramTiwar i and Jagrani Devi in the bhabara (of jhabua District)|madhy Pradesh. He spent his childhood inthe village Bhabhra when his father was serving in the erstwhile estate of Alirajpur \n",
      "\n",
      "He got\n",
      "\n",
      " the natural training of a hardy and rough life along with the Bhils who inhabited the wildregion. From his Bhil friends, early in life, be learnt wrestling and swimming. He also became moreskilled with the bow and arrow. He learnt to throw the Bhala or Javelin, to shoot straight, to ride anduse the sword, in all of which he became proficient.\n",
      "\n"
     ]
    }
   ],
   "source": [
    "# readlines\n",
    "\n",
    "y1=\"C:\\\\Users\\\\Admin\\\\Downloads\\\\Chandra_Shekhar_Azad.txt\"\n",
    "with open(y1,'r') as f:\n",
    "    print(f.readline())\n",
    "    print(f.readline())\n",
    "    print(f.readline())\n",
    "    print(f.readline())"
   ]
  },
  {
   "cell_type": "code",
   "execution_count": 20,
   "id": "a3ce3c21-7829-4e30-9797-f10893a15534",
   "metadata": {},
   "outputs": [
    {
     "name": "stdout",
     "output_type": "stream",
     "text": [
      "['Chandra Shekhar Azad\\n', ' was born on 23 July 1906 in Jujhautiya Brahmins family of Pandit SitaramTiwar i and Jagrani Devi in the bhabara (of jhabua District)|madhy Pradesh. He spent his childhood inthe village Bhabhra when his father was serving in the erstwhile estate of Alirajpur \\n', 'He got\\n', ' the natural training of a hardy and rough life along with the Bhils who inhabited the wildregion. From his Bhil friends, early in life, be learnt wrestling and swimming. He also became moreskilled with the bow and arrow. He learnt to throw the Bhala or Javelin, to shoot straight, to ride anduse the sword, in all of which he became proficient.\\n', 'From\\n', ' his childhood, he remained a devotee of\\n', 'Hanuman\\n', ' throughout his life, and had a very strongPehelwan(wrestler)-like body.\\n', 'He was even called\\n', ' Bhimsen or Bhim Dada later. After the early education in Jhabua, he was sentto theSanskrit Pathashala at Varanasi, where a near relative of the family, probably maternal unclewas then living. He returned home after a few months and he was admitted in the local school at Alirajpur. Again his father sent him to Benares for the boy exhibited a strange waywardness.\\n', 'This time\\n', ' he remained there and studied properly. On the whole, he was an average student.Political Initiation From the very outset, he had a deep aversion for study which was of no real but tosimply churn out quill drivers or babus for the use of the British Raj in India. His stay at Benareshowever had a salutary effect upon his life, for he came in contact with many young men and ideas.\\n', 'The atmosphere\\n', ' was such that he got the opportunity of studying many things, especially the unhappy events which were then happeningin the country. Bit by bit, his mind was being drawn to the political situation of the country. Young Chandra Shekhar was f ascinated by anddrawn to the great national upsurge of the non-violent, non-cooperation movement of 1920-21 under the leadership of Mahatma Gandhi.I\\n', 't is during\\n', ' this time, when the\\n', 'Jallianwala Baag massacre\\n', ' by British Army took place in Amritsar where hunderds (at least 2000) unarmed,peaceful and unwarned civilians were fired upon. This event had a profound effect on Indian national movement and inspired several youngIndians, like Azad, into political movement for liberation. The young mind of Chandrashekhar was wax to receive and marble to retain.\\n', 'From Chandrashekhar Tewari to Chandrashekhar â€˜Azadâ€™\\n', 'To protest the massacre and demanding the liberation, various popular activities sprouted up throughout the country. While participating in oneof these movements, Chandra Shekhar was arrested when he was just 16 years of age.He was brought to court. The Magistrate asked him, â€œWhat is your name?\\n', 'going to become very famous. He gave his name as â€˜\\n', 'Azadâ€™,\\n', ' his fatherâ€™s name asâ€˜Swatantraâ€™ and his place of dwelling as â€˜prison cellâ€™. Astonished was the Magistrate atthese straight and bold answers. Azad was sentenced to fifteen canes. He wasbeaten very severely. At every beat, his body turned blue and red and blood oozed outfreely. Azad was highly honored by the citizens and profusely garlanded when hecame out from jail. His photos appeared in the Press with streamlined captions.\\n', 'Fromhere on, he would be known far and wide as â€˜Azadâ€™, forever.\\n', ' After this incident, Shri Provesh, the chief organiser of the Revolutionary Party in India,sought him and persuaded him to join it. Azad proved to be a restless worker. He issuedsecretly and silently, many leaflets and bulletins to drive away the misconceptionsentertained by the people of the country. He proved a master propagandist. In physicalstrength, none equaled him and he was called Bhim Dada. Other eminent members of the party working along with Azad were Shri Yogesh Chatterji, Shri Sachin Sanyal andShri Rabindranath Kar. Men in the party learned all the arts of modern warfare. The mainproblem was finance. Finances! From where could the money be had? This was themajor issue before the party. To ask openly was impossible and to obtain it secretly was amuch more difficult task.']\n",
      "<class 'list'>\n"
     ]
    }
   ],
   "source": [
    "y1=\"C:\\\\Users\\\\Admin\\\\Downloads\\\\Chandra_Shekhar_Azad.txt\"\n",
    "with open(y1,'r') as f:\n",
    "    d=f.readlines()\n",
    "    print(d)\n",
    "    print(type(d))"
   ]
  },
  {
   "cell_type": "code",
   "execution_count": 29,
   "id": "756cd3c8-aa4c-4b28-9ee3-9b05badf2216",
   "metadata": {},
   "outputs": [
    {
     "name": "stdout",
     "output_type": "stream",
     "text": [
      "['Chandra Shekhar Azad\\n']\n",
      "[' was born on 23 July 1906 in Jujhautiya Brahmins family of Pandit SitaramTiwar i and Jagrani Devi in the bhabara (of jhabua District)|madhy Pradesh. He spent his childhood inthe village Bhabhra when his father was serving in the erstwhile estate of Alirajpur \\n']\n",
      "['He got\\n']\n",
      "[' the natural training of a hardy and rough life along with the Bhils who inhabited the wildregion. From his Bhil friends, early in life, be learnt wrestling and swimming. He also became moreskilled with the bow and arrow. He learnt to throw the Bhala or Javelin, to shoot straight, to ride anduse the sword, in all of which he became proficient.\\n']\n"
     ]
    }
   ],
   "source": [
    "y1=\"C:\\\\Users\\\\Admin\\\\Downloads\\\\Chandra_Shekhar_Azad.txt\"\n",
    "with open(y1,'r') as f:\n",
    "    print(f.readlines(1))\n",
    "    print(f.readlines(2))\n",
    "    print(f.readlines(3))\n",
    "    print(f.readlines(4))"
   ]
  },
  {
   "cell_type": "code",
   "execution_count": 69,
   "id": "1bcdf84f-2a54-4415-8374-37ba7caefaa1",
   "metadata": {},
   "outputs": [
    {
     "name": "stdout",
     "output_type": "stream",
     "text": [
      "Chandra Shekhar Azad\n",
      " was born on 23 July 1906 in Jujhautiya Brahmins family of Pandit SitaramTiwar i and Jagrani Devi in the bhabara (of jhabua District)|madhy Pradesh. He spent his childhood inthe village Bhabhra when his father was serving in the erstwhile estate of Alirajpur \n",
      "He got\n",
      " the natural training of a hardy and rough life along with the Bhils who inhabited the wildregion. From his Bhil friends, early in life, be learnt wrestling and swimming. He also became moreskilled with the bow and arrow. He learnt to throw the Bhala or Javelin, to shoot straight, to ride anduse the sword, in all of which he became proficient.\n",
      "From\n",
      " his childhood, he remained a devotee of\n",
      "Hanuman\n",
      " throughout his life, and had a very strongPehelwan(wrestler)-like body.\n",
      "He was even called\n",
      " Bhimsen or Bhim Dada later. After the early education in Jhabua, he was sentto theSanskrit Pathashala at Varanasi, where a near relative of the family, probably maternal unclewas then living. He returned home after a few months and he was admitted in the local school at Alirajpur. Again his father sent him to Benares for the boy exhibited a strange waywardness.\n",
      "This time\n",
      " he remained there and studied properly. On the whole, he was an average student.Political Initiation From the very outset, he had a deep aversion for study which was of no real but tosimply churn out quill drivers or babus for the use of the British Raj in India. His stay at Benareshowever had a salutary effect upon his life, for he came in contact with many young men and ideas.\n",
      "The atmosphere\n",
      " was such that he got the opportunity of studying many things, especially the unhappy events which were then happeningin the country. Bit by bit, his mind was being drawn to the political situation of the country. Young Chandra Shekhar was f ascinated by anddrawn to the great national upsurge of the non-violent, non-cooperation movement of 1920-21 under the leadership of Mahatma Gandhi.I\n",
      "t is during\n",
      " this time, when the\n",
      "Jallianwala Baag massacre\n",
      " by British Army took place in Amritsar where hunderds (at least 2000) unarmed,peaceful and unwarned civilians were fired upon. This event had a profound effect on Indian national movement and inspired several youngIndians, like Azad, into political movement for liberation. The young mind of Chandrashekhar was wax to receive and marble to retain.\n",
      "From Chandrashekhar Tewari to Chandrashekhar â€˜Azadâ€™\n",
      "To protest the massacre and demanding the liberation, various popular activities sprouted up throughout the country. While participating in oneof these movements, Chandra Shekhar was arrested when he was just 16 years of age.He was brought to court. The Magistrate asked him, â€œWhat is your name?\n",
      "going to become very famous. He gave his name as â€˜\n",
      "Azadâ€™,\n",
      " his fatherâ€™s name asâ€˜Swatantraâ€™ and his place of dwelling as â€˜prison cellâ€™. Astonished was the Magistrate atthese straight and bold answers. Azad was sentenced to fifteen canes. He wasbeaten very severely. At every beat, his body turned blue and red and blood oozed outfreely. Azad was highly honored by the citizens and profusely garlanded when hecame out from jail. His photos appeared in the Press with streamlined captions.\n",
      "Fromhere on, he would be known far and wide as â€˜Azadâ€™, forever.\n",
      " After this incident, Shri Provesh, the chief organiser of the Revolutionary Party in India,sought him and persuaded him to join it. Azad proved to be a restless worker. He issuedsecretly and silently, many leaflets and bulletins to drive away the misconceptionsentertained by the people of the country. He proved a master propagandist. In physicalstrength, none equaled him and he was called Bhim Dada. Other eminent members of the party working along with Azad were Shri Yogesh Chatterji, Shri Sachin Sanyal andShri Rabindranath Kar. Men in the party learned all the arts of modern warfare. The mainproblem was finance. Finances! From where could the money be had? This was themajor issue before the party. To ask openly was impossible and to obtain it secretly was amuch more difficult task."
     ]
    }
   ],
   "source": [
    "# file content printing using for loop and while loop:\n",
    "\n",
    "y1=\"C:\\\\Users\\\\Admin\\\\Downloads\\\\Chandra_Shekhar_Azad.txt\"\n",
    "file=open(y1,'r')\n",
    "x=file.read()\n",
    "i=0\n",
    "while i<len(x):\n",
    "    print(x[i],end='')\n",
    "    i+=1\n",
    "    "
   ]
  },
  {
   "cell_type": "code",
   "execution_count": 55,
   "id": "87f11056-5664-4756-aa41-d5c510b6416d",
   "metadata": {},
   "outputs": [
    {
     "name": "stdout",
     "output_type": "stream",
     "text": [
      "Chandra Shekhar Azad\n",
      "\n",
      " was born on 23 July 1906 in Jujhautiya Brahmins family of Pandit SitaramTiwar i and Jagrani Devi in the bhabara (of jhabua District)|madhy Pradesh. He spent his childhood inthe village Bhabhra when his father was serving in the erstwhile estate of Alirajpur \n",
      "\n",
      "He got\n",
      "\n",
      " the natural training of a hardy and rough life along with the Bhils who inhabited the wildregion. From his Bhil friends, early in life, be learnt wrestling and swimming. He also became moreskilled with the bow and arrow. He learnt to throw the Bhala or Javelin, to shoot straight, to ride anduse the sword, in all of which he became proficient.\n",
      "\n",
      "From\n",
      "\n",
      " his childhood, he remained a devotee of\n",
      "\n",
      "Hanuman\n",
      "\n",
      " throughout his life, and had a very strongPehelwan(wrestler)-like body.\n",
      "\n",
      "He was even called\n",
      "\n",
      " Bhimsen or Bhim Dada later. After the early education in Jhabua, he was sentto theSanskrit Pathashala at Varanasi, where a near relative of the family, probably maternal unclewas then living. He returned home after a few months and he was admitted in the local school at Alirajpur. Again his father sent him to Benares for the boy exhibited a strange waywardness.\n",
      "\n",
      "This time\n",
      "\n",
      " he remained there and studied properly. On the whole, he was an average student.Political Initiation From the very outset, he had a deep aversion for study which was of no real but tosimply churn out quill drivers or babus for the use of the British Raj in India. His stay at Benareshowever had a salutary effect upon his life, for he came in contact with many young men and ideas.\n",
      "\n",
      "The atmosphere\n",
      "\n",
      " was such that he got the opportunity of studying many things, especially the unhappy events which were then happeningin the country. Bit by bit, his mind was being drawn to the political situation of the country. Young Chandra Shekhar was f ascinated by anddrawn to the great national upsurge of the non-violent, non-cooperation movement of 1920-21 under the leadership of Mahatma Gandhi.I\n",
      "\n",
      "t is during\n",
      "\n",
      " this time, when the\n",
      "\n",
      "Jallianwala Baag massacre\n",
      "\n",
      " by British Army took place in Amritsar where hunderds (at least 2000) unarmed,peaceful and unwarned civilians were fired upon. This event had a profound effect on Indian national movement and inspired several youngIndians, like Azad, into political movement for liberation. The young mind of Chandrashekhar was wax to receive and marble to retain.\n",
      "\n",
      "From Chandrashekhar Tewari to Chandrashekhar â€˜Azadâ€™\n",
      "\n",
      "To protest the massacre and demanding the liberation, various popular activities sprouted up throughout the country. While participating in oneof these movements, Chandra Shekhar was arrested when he was just 16 years of age.He was brought to court. The Magistrate asked him, â€œWhat is your name?\n",
      "\n",
      "going to become very famous. He gave his name as â€˜\n",
      "\n",
      "Azadâ€™,\n",
      "\n",
      " his fatherâ€™s name asâ€˜Swatantraâ€™ and his place of dwelling as â€˜prison cellâ€™. Astonished was the Magistrate atthese straight and bold answers. Azad was sentenced to fifteen canes. He wasbeaten very severely. At every beat, his body turned blue and red and blood oozed outfreely. Azad was highly honored by the citizens and profusely garlanded when hecame out from jail. His photos appeared in the Press with streamlined captions.\n",
      "\n",
      "Fromhere on, he would be known far and wide as â€˜Azadâ€™, forever.\n",
      "\n",
      " After this incident, Shri Provesh, the chief organiser of the Revolutionary Party in India,sought him and persuaded him to join it. Azad proved to be a restless worker. He issuedsecretly and silently, many leaflets and bulletins to drive away the misconceptionsentertained by the people of the country. He proved a master propagandist. In physicalstrength, none equaled him and he was called Bhim Dada. Other eminent members of the party working along with Azad were Shri Yogesh Chatterji, Shri Sachin Sanyal andShri Rabindranath Kar. Men in the party learned all the arts of modern warfare. The mainproblem was finance. Finances! From where could the money be had? This was themajor issue before the party. To ask openly was impossible and to obtain it secretly was amuch more difficult task.\n"
     ]
    }
   ],
   "source": [
    "y1 = \"C:\\\\Users\\\\Admin\\\\Downloads\\\\Chandra_Shekhar_Azad.txt\"\n",
    "\n",
    "with open(y1, 'r') as f:\n",
    "    x = f.readlines()\n",
    "    f = len(x)      \n",
    "    i = 0\n",
    "    while i < f:\n",
    "        print(x[i])\n",
    "        i += 1"
   ]
  },
  {
   "cell_type": "code",
   "execution_count": 40,
   "id": "aaec0ae9-9dd9-4bd8-8d87-7e6e2e973d10",
   "metadata": {},
   "outputs": [
    {
     "name": "stdout",
     "output_type": "stream",
     "text": [
      "Chandra Shekhar Azad\n",
      " was born on 23 July 1906 in Jujhautiya Brahmins family of Pandit SitaramTiwar i and Jagrani Devi in the bhabara (of jhabua District)|madhy Pradesh. He spent his childhood inthe village Bhabhra when his father was serving in the erstwhile estate of Alirajpur \n",
      "He got\n",
      " the natural training of a hardy and rough life along with the Bhils who inhabited the wildregion. From his Bhil friends, early in life, be learnt wrestling and swimming. He also became moreskilled with the bow and arrow. He learnt to throw the Bhala or Javelin, to shoot straight, to ride anduse the sword, in all of which he became proficient.\n",
      "From\n",
      " his childhood, he remained a devotee of\n",
      "Hanuman\n",
      " throughout his life, and had a very strongPehelwan(wrestler)-like body.\n",
      "He was even called\n",
      " Bhimsen or Bhim Dada later. After the early education in Jhabua, he was sentto theSanskrit Pathashala at Varanasi, where a near relative of the family, probably maternal unclewas then living. He returned home after a few months and he was admitted in the local school at Alirajpur. Again his father sent him to Benares for the boy exhibited a strange waywardness.\n",
      "This time\n",
      " he remained there and studied properly. On the whole, he was an average student.Political Initiation From the very outset, he had a deep aversion for study which was of no real but tosimply churn out quill drivers or babus for the use of the British Raj in India. His stay at Benareshowever had a salutary effect upon his life, for he came in contact with many young men and ideas.\n",
      "The atmosphere\n",
      " was such that he got the opportunity of studying many things, especially the unhappy events which were then happeningin the country. Bit by bit, his mind was being drawn to the political situation of the country. Young Chandra Shekhar was f ascinated by anddrawn to the great national upsurge of the non-violent, non-cooperation movement of 1920-21 under the leadership of Mahatma Gandhi.I\n",
      "t is during\n",
      " this time, when the\n",
      "Jallianwala Baag massacre\n",
      " by British Army took place in Amritsar where hunderds (at least 2000) unarmed,peaceful and unwarned civilians were fired upon. This event had a profound effect on Indian national movement and inspired several youngIndians, like Azad, into political movement for liberation. The young mind of Chandrashekhar was wax to receive and marble to retain.\n",
      "From Chandrashekhar Tewari to Chandrashekhar â€˜Azadâ€™\n",
      "To protest the massacre and demanding the liberation, various popular activities sprouted up throughout the country. While participating in oneof these movements, Chandra Shekhar was arrested when he was just 16 years of age.He was brought to court. The Magistrate asked him, â€œWhat is your name?\n",
      "going to become very famous. He gave his name as â€˜\n",
      "Azadâ€™,\n",
      " his fatherâ€™s name asâ€˜Swatantraâ€™ and his place of dwelling as â€˜prison cellâ€™. Astonished was the Magistrate atthese straight and bold answers. Azad was sentenced to fifteen canes. He wasbeaten very severely. At every beat, his body turned blue and red and blood oozed outfreely. Azad was highly honored by the citizens and profusely garlanded when hecame out from jail. His photos appeared in the Press with streamlined captions.\n",
      "Fromhere on, he would be known far and wide as â€˜Azadâ€™, forever.\n",
      " After this incident, Shri Provesh, the chief organiser of the Revolutionary Party in India,sought him and persuaded him to join it. Azad proved to be a restless worker. He issuedsecretly and silently, many leaflets and bulletins to drive away the misconceptionsentertained by the people of the country. He proved a master propagandist. In physicalstrength, none equaled him and he was called Bhim Dada. Other eminent members of the party working along with Azad were Shri Yogesh Chatterji, Shri Sachin Sanyal andShri Rabindranath Kar. Men in the party learned all the arts of modern warfare. The mainproblem was finance. Finances! From where could the money be had? This was themajor issue before the party. To ask openly was impossible and to obtain it secretly was amuch more difficult task.\n",
      "DONE\n"
     ]
    }
   ],
   "source": [
    "with open(y1,'r',errors=\"ignore\") as f:\n",
    "    while True:\n",
    "        content = f.read()\n",
    "        print(content)\n",
    "        print(\"DONE\")\n",
    "        break"
   ]
  },
  {
   "cell_type": "code",
   "execution_count": 71,
   "id": "52634e51-e95d-4433-95bd-51c91a5d694e",
   "metadata": {},
   "outputs": [
    {
     "name": "stdout",
     "output_type": "stream",
     "text": [
      "Chandra Shekhar Azad\n",
      "\n",
      " was born on 23 July 1906 in Jujhautiya Brahmins family of Pandit SitaramTiwar i and Jagrani Devi in the bhabara (of jhabua District)|madhy Pradesh. He spent his childhood inthe village Bhabhra when his father was serving in the erstwhile estate of Alirajpur \n",
      "\n",
      "He got\n",
      "\n",
      " the natural training of a hardy and rough life along with the Bhils who inhabited the wildregion. From his Bhil friends, early in life, be learnt wrestling and swimming. He also became moreskilled with the bow and arrow. He learnt to throw the Bhala or Javelin, to shoot straight, to ride anduse the sword, in all of which he became proficient.\n",
      "\n",
      "From\n",
      "\n",
      " his childhood, he remained a devotee of\n",
      "\n",
      "Hanuman\n",
      "\n",
      " throughout his life, and had a very strongPehelwan(wrestler)-like body.\n",
      "\n",
      "He was even called\n",
      "\n",
      " Bhimsen or Bhim Dada later. After the early education in Jhabua, he was sentto theSanskrit Pathashala at Varanasi, where a near relative of the family, probably maternal unclewas then living. He returned home after a few months and he was admitted in the local school at Alirajpur. Again his father sent him to Benares for the boy exhibited a strange waywardness.\n",
      "\n",
      "This time\n",
      "\n",
      " he remained there and studied properly. On the whole, he was an average student.Political Initiation From the very outset, he had a deep aversion for study which was of no real but tosimply churn out quill drivers or babus for the use of the British Raj in India. His stay at Benareshowever had a salutary effect upon his life, for he came in contact with many young men and ideas.\n",
      "\n",
      "The atmosphere\n",
      "\n",
      " was such that he got the opportunity of studying many things, especially the unhappy events which were then happeningin the country. Bit by bit, his mind was being drawn to the political situation of the country. Young Chandra Shekhar was f ascinated by anddrawn to the great national upsurge of the non-violent, non-cooperation movement of 1920-21 under the leadership of Mahatma Gandhi.I\n",
      "\n",
      "t is during\n",
      "\n",
      " this time, when the\n",
      "\n",
      "Jallianwala Baag massacre\n",
      "\n",
      " by British Army took place in Amritsar where hunderds (at least 2000) unarmed,peaceful and unwarned civilians were fired upon. This event had a profound effect on Indian national movement and inspired several youngIndians, like Azad, into political movement for liberation. The young mind of Chandrashekhar was wax to receive and marble to retain.\n",
      "\n",
      "From Chandrashekhar Tewari to Chandrashekhar â€˜Azadâ€™\n",
      "\n",
      "To protest the massacre and demanding the liberation, various popular activities sprouted up throughout the country. While participating in oneof these movements, Chandra Shekhar was arrested when he was just 16 years of age.He was brought to court. The Magistrate asked him, â€œWhat is your name?\n",
      "\n",
      "going to become very famous. He gave his name as â€˜\n",
      "\n",
      "Azadâ€™,\n",
      "\n",
      " his fatherâ€™s name asâ€˜Swatantraâ€™ and his place of dwelling as â€˜prison cellâ€™. Astonished was the Magistrate atthese straight and bold answers. Azad was sentenced to fifteen canes. He wasbeaten very severely. At every beat, his body turned blue and red and blood oozed outfreely. Azad was highly honored by the citizens and profusely garlanded when hecame out from jail. His photos appeared in the Press with streamlined captions.\n",
      "\n",
      "Fromhere on, he would be known far and wide as â€˜Azadâ€™, forever.\n",
      "\n",
      " After this incident, Shri Provesh, the chief organiser of the Revolutionary Party in India,sought him and persuaded him to join it. Azad proved to be a restless worker. He issuedsecretly and silently, many leaflets and bulletins to drive away the misconceptionsentertained by the people of the country. He proved a master propagandist. In physicalstrength, none equaled him and he was called Bhim Dada. Other eminent members of the party working along with Azad were Shri Yogesh Chatterji, Shri Sachin Sanyal andShri Rabindranath Kar. Men in the party learned all the arts of modern warfare. The mainproblem was finance. Finances! From where could the money be had? This was themajor issue before the party. To ask openly was impossible and to obtain it secretly was amuch more difficult task.\n"
     ]
    }
   ],
   "source": [
    "with open(y1,'r',errors=\"ignore\") as f:\n",
    "    for i in f:\n",
    "        print(i)"
   ]
  },
  {
   "cell_type": "code",
   "execution_count": 72,
   "id": "1f8d6790-f3eb-4aad-83c5-b7edd957675e",
   "metadata": {},
   "outputs": [
    {
     "name": "stdout",
     "output_type": "stream",
     "text": [
      "Chandra Shekhar Azad\n",
      "\n",
      " was born on 23 July 1906 in Jujhautiya Brahmins family of Pandit SitaramTiwar i and Jagrani Devi in the bhabara (of jhabua District)|madhy Pradesh. He spent his childhood inthe village Bhabhra when his father was serving in the erstwhile estate of Alirajpur \n",
      "\n",
      "He got\n",
      "\n",
      " the natural training of a hardy and rough life along with the Bhils who inhabited the wildregion. From his Bhil friends, early in life, be learnt wrestling and swimming. He also became moreskilled with the bow and arrow. He learnt to throw the Bhala or Javelin, to shoot straight, to ride anduse the sword, in all of which he became proficient.\n",
      "\n",
      "From\n",
      "\n",
      " his childhood, he remained a devotee of\n",
      "\n",
      "Hanuman\n",
      "\n",
      " throughout his life, and had a very strongPehelwan(wrestler)-like body.\n",
      "\n",
      "He was even called\n",
      "\n",
      " Bhimsen or Bhim Dada later. After the early education in Jhabua, he was sentto theSanskrit Pathashala at Varanasi, where a near relative of the family, probably maternal unclewas then living. He returned home after a few months and he was admitted in the local school at Alirajpur. Again his father sent him to Benares for the boy exhibited a strange waywardness.\n",
      "\n",
      "This time\n",
      "\n",
      " he remained there and studied properly. On the whole, he was an average student.Political Initiation From the very outset, he had a deep aversion for study which was of no real but tosimply churn out quill drivers or babus for the use of the British Raj in India. His stay at Benareshowever had a salutary effect upon his life, for he came in contact with many young men and ideas.\n",
      "\n",
      "The atmosphere\n",
      "\n",
      " was such that he got the opportunity of studying many things, especially the unhappy events which were then happeningin the country. Bit by bit, his mind was being drawn to the political situation of the country. Young Chandra Shekhar was f ascinated by anddrawn to the great national upsurge of the non-violent, non-cooperation movement of 1920-21 under the leadership of Mahatma Gandhi.I\n",
      "\n",
      "t is during\n",
      "\n",
      " this time, when the\n",
      "\n",
      "Jallianwala Baag massacre\n",
      "\n",
      " by British Army took place in Amritsar where hunderds (at least 2000) unarmed,peaceful and unwarned civilians were fired upon. This event had a profound effect on Indian national movement and inspired several youngIndians, like Azad, into political movement for liberation. The young mind of Chandrashekhar was wax to receive and marble to retain.\n",
      "\n",
      "From Chandrashekhar Tewari to Chandrashekhar â€˜Azadâ€™\n",
      "\n",
      "To protest the massacre and demanding the liberation, various popular activities sprouted up throughout the country. While participating in oneof these movements, Chandra Shekhar was arrested when he was just 16 years of age.He was brought to court. The Magistrate asked him, â€œWhat is your name?\n",
      "\n",
      "going to become very famous. He gave his name as â€˜\n",
      "\n",
      "Azadâ€™,\n",
      "\n",
      " his fatherâ€™s name asâ€˜Swatantraâ€™ and his place of dwelling as â€˜prison cellâ€™. Astonished was the Magistrate atthese straight and bold answers. Azad was sentenced to fifteen canes. He wasbeaten very severely. At every beat, his body turned blue and red and blood oozed outfreely. Azad was highly honored by the citizens and profusely garlanded when hecame out from jail. His photos appeared in the Press with streamlined captions.\n",
      "\n",
      "Fromhere on, he would be known far and wide as â€˜Azadâ€™, forever.\n",
      "\n",
      " After this incident, Shri Provesh, the chief organiser of the Revolutionary Party in India,sought him and persuaded him to join it. Azad proved to be a restless worker. He issuedsecretly and silently, many leaflets and bulletins to drive away the misconceptionsentertained by the people of the country. He proved a master propagandist. In physicalstrength, none equaled him and he was called Bhim Dada. Other eminent members of the party working along with Azad were Shri Yogesh Chatterji, Shri Sachin Sanyal andShri Rabindranath Kar. Men in the party learned all the arts of modern warfare. The mainproblem was finance. Finances! From where could the money be had? This was themajor issue before the party. To ask openly was impossible and to obtain it secretly was amuch more difficult task.\n"
     ]
    }
   ],
   "source": [
    "y1 = \"C:\\\\Users\\\\Admin\\\\Downloads\\\\Chandra_Shekhar_Azad.txt\"\n",
    "with open(y1, 'r') as file:\n",
    "    for f in file:\n",
    "        print(f)"
   ]
  },
  {
   "cell_type": "code",
   "execution_count": 73,
   "id": "d606366d-7b88-4c21-ba7d-32959d40f3e1",
   "metadata": {},
   "outputs": [
    {
     "name": "stdout",
     "output_type": "stream",
     "text": [
      "para 1 : Chandra Shekhar Azad\n",
      "\n",
      "para 2 :  was born on 23 July 1906 in Jujhautiya Brahmins family of Pandit SitaramTiwar i and Jagrani Devi in the bhabara (of jhabua District)|madhy Pradesh. He spent his childhood inthe village Bhabhra when his father was serving in the erstwhile estate of Alirajpur \n",
      "\n",
      "para 3 : He got\n",
      "\n",
      "para 4 :  the natural training of a hardy and rough life along with the Bhils who inhabited the wildregion. From his Bhil friends, early in life, be learnt wrestling and swimming. He also became moreskilled with the bow and arrow. He learnt to throw the Bhala or Javelin, to shoot straight, to ride anduse the sword, in all of which he became proficient.\n",
      "\n",
      "para 5 : From\n",
      "\n",
      "para 6 :  his childhood, he remained a devotee of\n",
      "\n",
      "para 7 : Hanuman\n",
      "\n",
      "para 8 :  throughout his life, and had a very strongPehelwan(wrestler)-like body.\n",
      "\n",
      "para 9 : He was even called\n",
      "\n",
      "para 10 :  Bhimsen or Bhim Dada later. After the early education in Jhabua, he was sentto theSanskrit Pathashala at Varanasi, where a near relative of the family, probably maternal unclewas then living. He returned home after a few months and he was admitted in the local school at Alirajpur. Again his father sent him to Benares for the boy exhibited a strange waywardness.\n",
      "\n",
      "para 11 : This time\n",
      "\n",
      "para 12 :  he remained there and studied properly. On the whole, he was an average student.Political Initiation From the very outset, he had a deep aversion for study which was of no real but tosimply churn out quill drivers or babus for the use of the British Raj in India. His stay at Benareshowever had a salutary effect upon his life, for he came in contact with many young men and ideas.\n",
      "\n",
      "para 13 : The atmosphere\n",
      "\n",
      "para 14 :  was such that he got the opportunity of studying many things, especially the unhappy events which were then happeningin the country. Bit by bit, his mind was being drawn to the political situation of the country. Young Chandra Shekhar was f ascinated by anddrawn to the great national upsurge of the non-violent, non-cooperation movement of 1920-21 under the leadership of Mahatma Gandhi.I\n",
      "\n",
      "para 15 : t is during\n",
      "\n",
      "para 16 :  this time, when the\n",
      "\n",
      "para 17 : Jallianwala Baag massacre\n",
      "\n",
      "para 18 :  by British Army took place in Amritsar where hunderds (at least 2000) unarmed,peaceful and unwarned civilians were fired upon. This event had a profound effect on Indian national movement and inspired several youngIndians, like Azad, into political movement for liberation. The young mind of Chandrashekhar was wax to receive and marble to retain.\n",
      "\n",
      "para 19 : From Chandrashekhar Tewari to Chandrashekhar â€˜Azadâ€™\n",
      "\n",
      "para 20 : To protest the massacre and demanding the liberation, various popular activities sprouted up throughout the country. While participating in oneof these movements, Chandra Shekhar was arrested when he was just 16 years of age.He was brought to court. The Magistrate asked him, â€œWhat is your name?\n",
      "\n",
      "para 21 : going to become very famous. He gave his name as â€˜\n",
      "\n",
      "para 22 : Azadâ€™,\n",
      "\n",
      "para 23 :  his fatherâ€™s name asâ€˜Swatantraâ€™ and his place of dwelling as â€˜prison cellâ€™. Astonished was the Magistrate atthese straight and bold answers. Azad was sentenced to fifteen canes. He wasbeaten very severely. At every beat, his body turned blue and red and blood oozed outfreely. Azad was highly honored by the citizens and profusely garlanded when hecame out from jail. His photos appeared in the Press with streamlined captions.\n",
      "\n",
      "para 24 : Fromhere on, he would be known far and wide as â€˜Azadâ€™, forever.\n",
      "\n",
      "para 25 :  After this incident, Shri Provesh, the chief organiser of the Revolutionary Party in India,sought him and persuaded him to join it. Azad proved to be a restless worker. He issuedsecretly and silently, many leaflets and bulletins to drive away the misconceptionsentertained by the people of the country. He proved a master propagandist. In physicalstrength, none equaled him and he was called Bhim Dada. Other eminent members of the party working along with Azad were Shri Yogesh Chatterji, Shri Sachin Sanyal andShri Rabindranath Kar. Men in the party learned all the arts of modern warfare. The mainproblem was finance. Finances! From where could the money be had? This was themajor issue before the party. To ask openly was impossible and to obtain it secretly was amuch more difficult task.\n"
     ]
    }
   ],
   "source": [
    "# Total count the paragraph of your file.\n",
    "\n",
    "with open(y1, 'r') as f:\n",
    "    paragraph=1\n",
    "    for i in f:\n",
    "        print(\"para\",paragraph,\":\",i)\n",
    "        paragraph+=1"
   ]
  },
  {
   "cell_type": "code",
   "execution_count": 75,
   "id": "3f8d4634-3648-4941-8fe1-55cf15217419",
   "metadata": {},
   "outputs": [
    {
     "name": "stdout",
     "output_type": "stream",
     "text": [
      "Paragraph  1  is :->> Chandra Shekhar Azad\n",
      "\n",
      "Paragraph  2  is :->>  was born on 23 July 1906 in Jujhautiya Brahmins family of Pandit SitaramTiwar i and Jagrani Devi in the bhabara (of jhabua District)|madhy Pradesh. He spent his childhood inthe village Bhabhra when his father was serving in the erstwhile estate of Alirajpur \n",
      "\n",
      "Paragraph  3  is :->> He got\n",
      "\n",
      "Paragraph  4  is :->>  the natural training of a hardy and rough life along with the Bhils who inhabited the wildregion. From his Bhil friends, early in life, be learnt wrestling and swimming. He also became moreskilled with the bow and arrow. He learnt to throw the Bhala or Javelin, to shoot straight, to ride anduse the sword, in all of which he became proficient.\n",
      "\n",
      "Paragraph  5  is :->> From\n",
      "\n",
      "Paragraph  6  is :->>  his childhood, he remained a devotee of\n",
      "\n",
      "Paragraph  7  is :->> Hanuman\n",
      "\n",
      "Paragraph  8  is :->>  throughout his life, and had a very strongPehelwan(wrestler)-like body.\n",
      "\n",
      "Paragraph  9  is :->> He was even called\n",
      "\n",
      "Paragraph  10  is :->>  Bhimsen or Bhim Dada later. After the early education in Jhabua, he was sentto theSanskrit Pathashala at Varanasi, where a near relative of the family, probably maternal unclewas then living. He returned home after a few months and he was admitted in the local school at Alirajpur. Again his father sent him to Benares for the boy exhibited a strange waywardness.\n",
      "\n",
      "Paragraph  11  is :->> This time\n",
      "\n",
      "Paragraph  12  is :->>  he remained there and studied properly. On the whole, he was an average student.Political Initiation From the very outset, he had a deep aversion for study which was of no real but tosimply churn out quill drivers or babus for the use of the British Raj in India. His stay at Benareshowever had a salutary effect upon his life, for he came in contact with many young men and ideas.\n",
      "\n",
      "Paragraph  13  is :->> The atmosphere\n",
      "\n",
      "Paragraph  14  is :->>  was such that he got the opportunity of studying many things, especially the unhappy events which were then happeningin the country. Bit by bit, his mind was being drawn to the political situation of the country. Young Chandra Shekhar was f ascinated by anddrawn to the great national upsurge of the non-violent, non-cooperation movement of 1920-21 under the leadership of Mahatma Gandhi.I\n",
      "\n",
      "Paragraph  15  is :->> t is during\n",
      "\n",
      "Paragraph  16  is :->>  this time, when the\n",
      "\n",
      "Paragraph  17  is :->> Jallianwala Baag massacre\n",
      "\n",
      "Paragraph  18  is :->>  by British Army took place in Amritsar where hunderds (at least 2000) unarmed,peaceful and unwarned civilians were fired upon. This event had a profound effect on Indian national movement and inspired several youngIndians, like Azad, into political movement for liberation. The young mind of Chandrashekhar was wax to receive and marble to retain.\n",
      "\n",
      "Paragraph  19  is :->> From Chandrashekhar Tewari to Chandrashekhar â€˜Azadâ€™\n",
      "\n",
      "Paragraph  20  is :->> To protest the massacre and demanding the liberation, various popular activities sprouted up throughout the country. While participating in oneof these movements, Chandra Shekhar was arrested when he was just 16 years of age.He was brought to court. The Magistrate asked him, â€œWhat is your name?\n",
      "\n",
      "Paragraph  21  is :->> going to become very famous. He gave his name as â€˜\n",
      "\n",
      "Paragraph  22  is :->> Azadâ€™,\n",
      "\n",
      "Paragraph  23  is :->>  his fatherâ€™s name asâ€˜Swatantraâ€™ and his place of dwelling as â€˜prison cellâ€™. Astonished was the Magistrate atthese straight and bold answers. Azad was sentenced to fifteen canes. He wasbeaten very severely. At every beat, his body turned blue and red and blood oozed outfreely. Azad was highly honored by the citizens and profusely garlanded when hecame out from jail. His photos appeared in the Press with streamlined captions.\n",
      "\n",
      "Paragraph  24  is :->> Fromhere on, he would be known far and wide as â€˜Azadâ€™, forever.\n",
      "\n",
      "Paragraph  25  is :->>  After this incident, Shri Provesh, the chief organiser of the Revolutionary Party in India,sought him and persuaded him to join it. Azad proved to be a restless worker. He issuedsecretly and silently, many leaflets and bulletins to drive away the misconceptionsentertained by the people of the country. He proved a master propagandist. In physicalstrength, none equaled him and he was called Bhim Dada. Other eminent members of the party working along with Azad were Shri Yogesh Chatterji, Shri Sachin Sanyal andShri Rabindranath Kar. Men in the party learned all the arts of modern warfare. The mainproblem was finance. Finances! From where could the money be had? This was themajor issue before the party. To ask openly was impossible and to obtain it secretly was amuch more difficult task.\n"
     ]
    }
   ],
   "source": [
    "# file open with for loop  with paragraph number\n",
    "\n",
    "with open(y1,'r',errors=\"ignore\") as f:\n",
    "    line = 1\n",
    "    for i in f:\n",
    "        print(\"Paragraph \",line,\" is :->>\",i)\n",
    "        line += 1"
   ]
  },
  {
   "cell_type": "code",
   "execution_count": 79,
   "id": "a3394f2f-78b9-4b81-9693-3baf534ee918",
   "metadata": {},
   "outputs": [
    {
     "name": "stdin",
     "output_type": "stream",
     "text": [
      "Enter your file path /n Chandra_Shekhar_azad\n"
     ]
    },
    {
     "name": "stdout",
     "output_type": "stream",
     "text": [
      "\n",
      "Your file content is as follow:\n",
      "\n",
      "Chandra Shekhar Azad\n",
      " was born on 23 July 1906 in Jujhautiya Brahmins family of Pandit SitaramTiwar i and Jagrani Devi in the bhabara (of jhabua District)|madhy Pradesh. He spent his childhood inthe village Bhabhra when his father was serving in the erstwhile estate of Alirajpur \n",
      "He got\n",
      " the natural training of a hardy and rough life along with the Bhils who inhabited the wildregion. From his Bhil friends, early in life, be learnt wrestling and swimming. He also became moreskilled with the bow and arrow. He learnt to throw the Bhala or Javelin, to shoot straight, to ride anduse the sword, in all of which he became proficient.\n",
      "From\n",
      " his childhood, he remained a devotee of\n",
      "Hanuman\n",
      " throughout his life, and had a very strongPehelwan(wrestler)-like body.\n",
      "He was even called\n",
      " Bhimsen or Bhim Dada later. After the early education in Jhabua, he was sentto theSanskrit Pathashala at Varanasi, where a near relative of the family, probably maternal unclewas then living. He returned home after a few months and he was admitted in the local school at Alirajpur. Again his father sent him to Benares for the boy exhibited a strange waywardness.\n",
      "This time\n",
      " he remained there and studied properly. On the whole, he was an average student.Political Initiation From the very outset, he had a deep aversion for study which was of no real but tosimply churn out quill drivers or babus for the use of the British Raj in India. His stay at Benareshowever had a salutary effect upon his life, for he came in contact with many young men and ideas.\n",
      "The atmosphere\n",
      " was such that he got the opportunity of studying many things, especially the unhappy events which were then happeningin the country. Bit by bit, his mind was being drawn to the political situation of the country. Young Chandra Shekhar was f ascinated by anddrawn to the great national upsurge of the non-violent, non-cooperation movement of 1920-21 under the leadership of Mahatma Gandhi.I\n",
      "t is during\n",
      " this time, when the\n",
      "Jallianwala Baag massacre\n",
      " by British Army took place in Amritsar where hunderds (at least 2000) unarmed,peaceful and unwarned civilians were fired upon. This event had a profound effect on Indian national movement and inspired several youngIndians, like Azad, into political movement for liberation. The young mind of Chandrashekhar was wax to receive and marble to retain.\n",
      "From Chandrashekhar Tewari to Chandrashekhar â€˜Azadâ€™\n",
      "To protest the massacre and demanding the liberation, various popular activities sprouted up throughout the country. While participating in oneof these movements, Chandra Shekhar was arrested when he was just 16 years of age.He was brought to court. The Magistrate asked him, â€œWhat is your name?\n",
      "going to become very famous. He gave his name as â€˜\n",
      "Azadâ€™,\n",
      " his fatherâ€™s name asâ€˜Swatantraâ€™ and his place of dwelling as â€˜prison cellâ€™. Astonished was the Magistrate atthese straight and bold answers. Azad was sentenced to fifteen canes. He wasbeaten very severely. At every beat, his body turned blue and red and blood oozed outfreely. Azad was highly honored by the citizens and profusely garlanded when hecame out from jail. His photos appeared in the Press with streamlined captions.\n",
      "Fromhere on, he would be known far and wide as â€˜Azadâ€™, forever.\n",
      " After this incident, Shri Provesh, the chief organiser of the Revolutionary Party in India,sought him and persuaded him to join it. Azad proved to be a restless worker. He issuedsecretly and silently, many leaflets and bulletins to drive away the misconceptionsentertained by the people of the country. He proved a master propagandist. In physicalstrength, none equaled him and he was called Bhim Dada. Other eminent members of the party working along with Azad were Shri Yogesh Chatterji, Shri Sachin Sanyal andShri Rabindranath Kar. Men in the party learned all the arts of modern warfare. The mainproblem was finance. Finances! From where could the money be had? This was themajor issue before the party. To ask openly was impossible and to obtain it secretly was amuch more difficult task.\n"
     ]
    }
   ],
   "source": [
    "# open your file using funtion with user input\n",
    "\n",
    "#Reading file using function but drive name already defined and concatinating with user input file name\n",
    "def file(x):\n",
    "    drive = \"C:\\\\Users\\\\Admin\\\\Downloads\\\\\"\n",
    "    file_name = drive+x\n",
    "    file = open(file_name,'r',errors=\"ignore\")\n",
    "    ContenFile=file.read()\n",
    "    print(\"\\nYour file content is as follow:\\n\")\n",
    "    print(ContenFile)\n",
    "    \n",
    "user = input(\"Enter your file path /n\")\n",
    "z=user+'.txt'\n",
    "file(z)"
   ]
  },
  {
   "cell_type": "code",
   "execution_count": 86,
   "id": "f1709d77-04a7-46b3-9ba1-86cbe6fcb754",
   "metadata": {},
   "outputs": [
    {
     "data": {
      "text/plain": [
       "4069"
      ]
     },
     "execution_count": 86,
     "metadata": {},
     "output_type": "execute_result"
    }
   ],
   "source": [
    "# count total number of characters using function. remove the white space.\n",
    "len(file_content)"
   ]
  },
  {
   "cell_type": "code",
   "execution_count": 87,
   "id": "765528fb-851b-44d8-a2c1-c36ffaf4ec4f",
   "metadata": {},
   "outputs": [],
   "source": [
    "# take input from the user as filename if file is found then open your file from class and object\n",
    "# choose your options.\n",
    "# button 1= take input from user as filename [file found or file not found]\n",
    "# button 2 = open your file. [return total content of file]\n",
    "# button 3= search file again [] = [file found or file not found]\n",
    "# button 4= exit."
   ]
  },
  {
   "cell_type": "code",
   "execution_count": 89,
   "id": "cf43592b-7795-4b1e-a5cf-6bb99cfc5ffe",
   "metadata": {},
   "outputs": [
    {
     "name": "stdin",
     "output_type": "stream",
     "text": [
      "Enter your file path /n Chandra_Shekhar_azad\n"
     ]
    },
    {
     "name": "stdout",
     "output_type": "stream",
     "text": [
      "\n",
      "Your file content is as follow:\n",
      "\n",
      "Chandra Shekhar Azad\n",
      " was born on 23 July 1906 in Jujhautiya Brahmins family of Pandit SitaramTiwar i and Jagrani Devi in the bhabara (of jhabua District)|madhy Pradesh. He spent his childhood inthe village Bhabhra when his father was serving in the erstwhile estate of Alirajpur \n",
      "He got\n",
      " the natural training of a hardy and rough life along with the Bhils who inhabited the wildregion. From his Bhil friends, early in life, be learnt wrestling and swimming. He also became moreskilled with the bow and arrow. He learnt to throw the Bhala or Javelin, to shoot straight, to ride anduse the sword, in all of which he became proficient.\n",
      "From\n",
      " his childhood, he remained a devotee of\n",
      "Hanuman\n",
      " throughout his life, and had a very strongPehelwan(wrestler)-like body.\n",
      "He was even called\n",
      " Bhimsen or Bhim Dada later. After the early education in Jhabua, he was sentto theSanskrit Pathashala at Varanasi, where a near relative of the family, probably maternal unclewas then living. He returned home after a few months and he was admitted in the local school at Alirajpur. Again his father sent him to Benares for the boy exhibited a strange waywardness.\n",
      "This time\n",
      " he remained there and studied properly. On the whole, he was an average student.Political Initiation From the very outset, he had a deep aversion for study which was of no real but tosimply churn out quill drivers or babus for the use of the British Raj in India. His stay at Benareshowever had a salutary effect upon his life, for he came in contact with many young men and ideas.\n",
      "The atmosphere\n",
      " was such that he got the opportunity of studying many things, especially the unhappy events which were then happeningin the country. Bit by bit, his mind was being drawn to the political situation of the country. Young Chandra Shekhar was f ascinated by anddrawn to the great national upsurge of the non-violent, non-cooperation movement of 1920-21 under the leadership of Mahatma Gandhi.I\n",
      "t is during\n",
      " this time, when the\n",
      "Jallianwala Baag massacre\n",
      " by British Army took place in Amritsar where hunderds (at least 2000) unarmed,peaceful and unwarned civilians were fired upon. This event had a profound effect on Indian national movement and inspired several youngIndians, like Azad, into political movement for liberation. The young mind of Chandrashekhar was wax to receive and marble to retain.\n",
      "From Chandrashekhar Tewari to Chandrashekhar â€˜Azadâ€™\n",
      "To protest the massacre and demanding the liberation, various popular activities sprouted up throughout the country. While participating in oneof these movements, Chandra Shekhar was arrested when he was just 16 years of age.He was brought to court. The Magistrate asked him, â€œWhat is your name?\n",
      "going to become very famous. He gave his name as â€˜\n",
      "Azadâ€™,\n",
      " his fatherâ€™s name asâ€˜Swatantraâ€™ and his place of dwelling as â€˜prison cellâ€™. Astonished was the Magistrate atthese straight and bold answers. Azad was sentenced to fifteen canes. He wasbeaten very severely. At every beat, his body turned blue and red and blood oozed outfreely. Azad was highly honored by the citizens and profusely garlanded when hecame out from jail. His photos appeared in the Press with streamlined captions.\n",
      "Fromhere on, he would be known far and wide as â€˜Azadâ€™, forever.\n",
      " After this incident, Shri Provesh, the chief organiser of the Revolutionary Party in India,sought him and persuaded him to join it. Azad proved to be a restless worker. He issuedsecretly and silently, many leaflets and bulletins to drive away the misconceptionsentertained by the people of the country. He proved a master propagandist. In physicalstrength, none equaled him and he was called Bhim Dada. Other eminent members of the party working along with Azad were Shri Yogesh Chatterji, Shri Sachin Sanyal andShri Rabindranath Kar. Men in the party learned all the arts of modern warfare. The mainproblem was finance. Finances! From where could the money be had? This was themajor issue before the party. To ask openly was impossible and to obtain it secretly was amuch more difficult task.\n",
      "\n",
      "Your file length\n",
      ":\n",
      "File length with spaces 4069\n",
      "File without spaces 3420\n"
     ]
    }
   ],
   "source": [
    "#Reading file using function but drive name already defined and concatinating with user input file name\n",
    "def file(x):\n",
    "    drive = \"C:\\\\Users\\\\Admin\\\\Downloads\\\\\"\n",
    "    file_name = drive+x\n",
    "    file = open(file_name,'r',errors=\"ignore\")\n",
    "    ContenFile=file.read()\n",
    "    print(\"\\nYour file content is as follow:\\n\")\n",
    "    print(ContenFile)\n",
    "    print(\"\\nYour file length\\n:\")\n",
    "    WithSpace = len(ContenFile)\n",
    "    print(\"File length with spaces\",WithSpace)\n",
    "    WithoutSpace = ContenFile.count(' ')\n",
    "    Total = WithSpace-WithoutSpace\n",
    "    print(\"File without spaces\",Total)\n",
    "    \n",
    " \n",
    "user = input(\"Enter your file path /n\")\n",
    "withtxt = user+'.txt'\n",
    "file(withtxt)"
   ]
  },
  {
   "cell_type": "code",
   "execution_count": null,
   "id": "495057ed-dc2d-4c65-a485-57756214cda5",
   "metadata": {},
   "outputs": [],
   "source": []
  }
 ],
 "metadata": {
  "kernelspec": {
   "display_name": "Python 3 (ipykernel)",
   "language": "python",
   "name": "python3"
  },
  "language_info": {
   "codemirror_mode": {
    "name": "ipython",
    "version": 3
   },
   "file_extension": ".py",
   "mimetype": "text/x-python",
   "name": "python",
   "nbconvert_exporter": "python",
   "pygments_lexer": "ipython3",
   "version": "3.12.2"
  }
 },
 "nbformat": 4,
 "nbformat_minor": 5
}
